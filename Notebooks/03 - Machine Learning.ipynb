{
 "cells": [
  {
   "cell_type": "markdown",
   "metadata": {},
   "source": [
    "# Artigo de Pós-Graduação PUCRS"
   ]
  },
  {
   "cell_type": "markdown",
   "metadata": {},
   "source": [
    "### Machine Learning."
   ]
  },
  {
   "cell_type": "code",
   "execution_count": 1,
   "metadata": {},
   "outputs": [],
   "source": [
    "import pandas as pd\n",
    "import datetime\n",
    "import glob\n",
    "from minio import Minio\n",
    "import numpy as np\n",
    "import matplotlib.pyplot as plt"
   ]
  },
  {
   "cell_type": "code",
   "execution_count": 2,
   "metadata": {},
   "outputs": [],
   "source": [
    "client = Minio(\n",
    "        \"localhost:9000\",\n",
    "        access_key=\"minioadmin\",\n",
    "        secret_key=\"minioadmin\",\n",
    "        secure=False\n",
    "    )"
   ]
  },
  {
   "cell_type": "markdown",
   "metadata": {},
   "source": [
    "### Baixando o Dataset do Data Lake."
   ]
  },
  {
   "cell_type": "code",
   "execution_count": 16,
   "metadata": {},
   "outputs": [
    {
     "data": {
      "text/html": [
       "<div>\n",
       "<style scoped>\n",
       "    .dataframe tbody tr th:only-of-type {\n",
       "        vertical-align: middle;\n",
       "    }\n",
       "\n",
       "    .dataframe tbody tr th {\n",
       "        vertical-align: top;\n",
       "    }\n",
       "\n",
       "    .dataframe thead th {\n",
       "        text-align: right;\n",
       "    }\n",
       "</style>\n",
       "<table border=\"1\" class=\"dataframe\">\n",
       "  <thead>\n",
       "    <tr style=\"text-align: right;\">\n",
       "      <th></th>\n",
       "      <th>Department</th>\n",
       "      <th>DaysLateLast30</th>\n",
       "      <th>Absences</th>\n",
       "      <th>EmpSatisfaction</th>\n",
       "      <th>EngagementSurvey</th>\n",
       "      <th>PerformanceScore</th>\n",
       "      <th>Termd</th>\n",
       "      <th>SalaryLevel</th>\n",
       "      <th>TimeInCompany</th>\n",
       "      <th>SpecialProjectsCount</th>\n",
       "      <th>perfScoreSatisfaction</th>\n",
       "    </tr>\n",
       "  </thead>\n",
       "  <tbody>\n",
       "    <tr>\n",
       "      <th>0</th>\n",
       "      <td>Production</td>\n",
       "      <td>0</td>\n",
       "      <td>1</td>\n",
       "      <td>5</td>\n",
       "      <td>4.60</td>\n",
       "      <td>Exceeds</td>\n",
       "      <td>0</td>\n",
       "      <td>medium</td>\n",
       "      <td>8</td>\n",
       "      <td>0</td>\n",
       "      <td>False</td>\n",
       "    </tr>\n",
       "    <tr>\n",
       "      <th>1</th>\n",
       "      <td>IT/IS</td>\n",
       "      <td>0</td>\n",
       "      <td>17</td>\n",
       "      <td>3</td>\n",
       "      <td>4.96</td>\n",
       "      <td>Fully Meets</td>\n",
       "      <td>1</td>\n",
       "      <td>high</td>\n",
       "      <td>2</td>\n",
       "      <td>6</td>\n",
       "      <td>False</td>\n",
       "    </tr>\n",
       "    <tr>\n",
       "      <th>2</th>\n",
       "      <td>Production</td>\n",
       "      <td>0</td>\n",
       "      <td>3</td>\n",
       "      <td>3</td>\n",
       "      <td>3.02</td>\n",
       "      <td>Fully Meets</td>\n",
       "      <td>1</td>\n",
       "      <td>medium</td>\n",
       "      <td>2</td>\n",
       "      <td>0</td>\n",
       "      <td>False</td>\n",
       "    </tr>\n",
       "    <tr>\n",
       "      <th>3</th>\n",
       "      <td>Production</td>\n",
       "      <td>0</td>\n",
       "      <td>15</td>\n",
       "      <td>5</td>\n",
       "      <td>4.84</td>\n",
       "      <td>Fully Meets</td>\n",
       "      <td>0</td>\n",
       "      <td>medium</td>\n",
       "      <td>11</td>\n",
       "      <td>0</td>\n",
       "      <td>True</td>\n",
       "    </tr>\n",
       "    <tr>\n",
       "      <th>4</th>\n",
       "      <td>Production</td>\n",
       "      <td>0</td>\n",
       "      <td>2</td>\n",
       "      <td>4</td>\n",
       "      <td>5.00</td>\n",
       "      <td>Fully Meets</td>\n",
       "      <td>1</td>\n",
       "      <td>low</td>\n",
       "      <td>6</td>\n",
       "      <td>0</td>\n",
       "      <td>False</td>\n",
       "    </tr>\n",
       "    <tr>\n",
       "      <th>...</th>\n",
       "      <td>...</td>\n",
       "      <td>...</td>\n",
       "      <td>...</td>\n",
       "      <td>...</td>\n",
       "      <td>...</td>\n",
       "      <td>...</td>\n",
       "      <td>...</td>\n",
       "      <td>...</td>\n",
       "      <td>...</td>\n",
       "      <td>...</td>\n",
       "      <td>...</td>\n",
       "    </tr>\n",
       "    <tr>\n",
       "      <th>306</th>\n",
       "      <td>Production</td>\n",
       "      <td>0</td>\n",
       "      <td>13</td>\n",
       "      <td>4</td>\n",
       "      <td>4.07</td>\n",
       "      <td>Fully Meets</td>\n",
       "      <td>0</td>\n",
       "      <td>medium</td>\n",
       "      <td>5</td>\n",
       "      <td>0</td>\n",
       "      <td>True</td>\n",
       "    </tr>\n",
       "    <tr>\n",
       "      <th>307</th>\n",
       "      <td>Production</td>\n",
       "      <td>5</td>\n",
       "      <td>4</td>\n",
       "      <td>2</td>\n",
       "      <td>3.20</td>\n",
       "      <td>PIP</td>\n",
       "      <td>1</td>\n",
       "      <td>low</td>\n",
       "      <td>8</td>\n",
       "      <td>0</td>\n",
       "      <td>False</td>\n",
       "    </tr>\n",
       "    <tr>\n",
       "      <th>308</th>\n",
       "      <td>IT/IS</td>\n",
       "      <td>0</td>\n",
       "      <td>16</td>\n",
       "      <td>5</td>\n",
       "      <td>4.60</td>\n",
       "      <td>Exceeds</td>\n",
       "      <td>0</td>\n",
       "      <td>high</td>\n",
       "      <td>9</td>\n",
       "      <td>6</td>\n",
       "      <td>False</td>\n",
       "    </tr>\n",
       "    <tr>\n",
       "      <th>309</th>\n",
       "      <td>IT/IS</td>\n",
       "      <td>0</td>\n",
       "      <td>11</td>\n",
       "      <td>3</td>\n",
       "      <td>5.00</td>\n",
       "      <td>Fully Meets</td>\n",
       "      <td>0</td>\n",
       "      <td>high</td>\n",
       "      <td>4</td>\n",
       "      <td>5</td>\n",
       "      <td>True</td>\n",
       "    </tr>\n",
       "    <tr>\n",
       "      <th>310</th>\n",
       "      <td>Production</td>\n",
       "      <td>0</td>\n",
       "      <td>2</td>\n",
       "      <td>5</td>\n",
       "      <td>4.50</td>\n",
       "      <td>Fully Meets</td>\n",
       "      <td>0</td>\n",
       "      <td>low</td>\n",
       "      <td>5</td>\n",
       "      <td>0</td>\n",
       "      <td>True</td>\n",
       "    </tr>\n",
       "  </tbody>\n",
       "</table>\n",
       "<p>311 rows × 11 columns</p>\n",
       "</div>"
      ],
      "text/plain": [
       "            Department  DaysLateLast30  Absences  EmpSatisfaction  \\\n",
       "0    Production                      0         1                5   \n",
       "1                IT/IS               0        17                3   \n",
       "2    Production                      0         3                3   \n",
       "3    Production                      0        15                5   \n",
       "4    Production                      0         2                4   \n",
       "..                 ...             ...       ...              ...   \n",
       "306  Production                      0        13                4   \n",
       "307  Production                      5         4                2   \n",
       "308              IT/IS               0        16                5   \n",
       "309              IT/IS               0        11                3   \n",
       "310  Production                      0         2                5   \n",
       "\n",
       "     EngagementSurvey PerformanceScore  Termd SalaryLevel  TimeInCompany  \\\n",
       "0                4.60          Exceeds      0      medium              8   \n",
       "1                4.96      Fully Meets      1        high              2   \n",
       "2                3.02      Fully Meets      1      medium              2   \n",
       "3                4.84      Fully Meets      0      medium             11   \n",
       "4                5.00      Fully Meets      1         low              6   \n",
       "..                ...              ...    ...         ...            ...   \n",
       "306              4.07      Fully Meets      0      medium              5   \n",
       "307              3.20              PIP      1         low              8   \n",
       "308              4.60          Exceeds      0        high              9   \n",
       "309              5.00      Fully Meets      0        high              4   \n",
       "310              4.50      Fully Meets      0         low              5   \n",
       "\n",
       "     SpecialProjectsCount  perfScoreSatisfaction  \n",
       "0                       0                  False  \n",
       "1                       6                  False  \n",
       "2                       0                  False  \n",
       "3                       0                   True  \n",
       "4                       0                  False  \n",
       "..                    ...                    ...  \n",
       "306                     0                   True  \n",
       "307                     0                  False  \n",
       "308                     6                  False  \n",
       "309                     5                   True  \n",
       "310                     0                   True  \n",
       "\n",
       "[311 rows x 11 columns]"
      ]
     },
     "execution_count": 16,
     "metadata": {},
     "output_type": "execute_result"
    }
   ],
   "source": [
    "client.fget_object(\n",
    "            \"processing\",\n",
    "            \"employeesDataset.parquet\",\n",
    "            \"temp_.parquet\",\n",
    ")\n",
    "df = pd.read_parquet(\"temp_.parquet\")\n",
    "df = df[['Department', 'DaysLateLast30', 'Absences',\n",
    "       'EmpSatisfaction', 'EngagementSurvey', 'PerformanceScore',\n",
    "       'Termd']]\n",
    "\n",
    "client.fget_object(\n",
    "            \"processing\",\n",
    "            \"departmentSalaryTermd.parquet\",\n",
    "            \"temp_.parquet\",\n",
    ")\n",
    "dfSalary = pd.read_parquet(\"temp_.parquet\")\n",
    "dfSalary = dfSalary[['SalaryLevel']]\n",
    "\n",
    "client.fget_object(\n",
    "            \"processing\",\n",
    "            \"timeInCompany.parquet\",\n",
    "            \"temp_.parquet\",\n",
    ")\n",
    "dftimeInCompany = pd.read_parquet(\"temp_.parquet\")\n",
    "dftimeInCompany = dftimeInCompany[['TimeInCompany']]\n",
    "\n",
    "client.fget_object(\n",
    "            \"processing\",\n",
    "            \"numberSpecialProjects.parquet\",\n",
    "            \"temp_.parquet\",\n",
    ")\n",
    "dfNumberSpecialProjects = pd.read_parquet(\"temp_.parquet\")\n",
    "dfNumberSpecialProjects = dfNumberSpecialProjects[['SpecialProjectsCount']]\n",
    "\n",
    "client.fget_object(\n",
    "            \"processing\",\n",
    "            \"employeePerformanceEvaluation.parquet\",\n",
    "            \"temp_.parquet\",\n",
    ")\n",
    "dfPerfScoreFullyMeets = pd.read_parquet(\"temp_.parquet\")\n",
    "dfPerfScoreFullyMeets = dfPerfScoreFullyMeets[['perfScoreSatisfaction']]\n",
    "\n",
    "\n",
    "df = pd.concat([df, dfSalary, dftimeInCompany, dfNumberSpecialProjects, dfPerfScoreFullyMeets], axis=1, join=\"inner\")\n",
    "df\n"
   ]
  },
  {
   "cell_type": "code",
   "execution_count": 4,
   "metadata": {},
   "outputs": [
    {
     "data": {
      "text/plain": [
       "perfScoreSatisfaction\n",
       "False    143\n",
       "True     168\n",
       "Name: perfScoreSatisfaction, dtype: int64"
      ]
     },
     "execution_count": 4,
     "metadata": {},
     "output_type": "execute_result"
    }
   ],
   "source": [
    "df.groupby([\"perfScoreSatisfaction\"])[\"perfScoreSatisfaction\"].count()"
   ]
  },
  {
   "cell_type": "markdown",
   "metadata": {},
   "source": [
    "#### Verificando os registros missing."
   ]
  },
  {
   "cell_type": "code",
   "execution_count": 5,
   "metadata": {},
   "outputs": [
    {
     "data": {
      "text/plain": [
       "Department               0\n",
       "DaysLateLast30           0\n",
       "Absences                 0\n",
       "EmpSatisfaction          0\n",
       "EngagementSurvey         0\n",
       "PerformanceScore         0\n",
       "Termd                    0\n",
       "SalaryLevel              0\n",
       "TimeInCompany            0\n",
       "SpecialProjectsCount     0\n",
       "perfScoreSatisfaction    0\n",
       "dtype: int64"
      ]
     },
     "execution_count": 5,
     "metadata": {},
     "output_type": "execute_result"
    }
   ],
   "source": [
    "df.isnull().sum()"
   ]
  },
  {
   "cell_type": "code",
   "execution_count": 6,
   "metadata": {},
   "outputs": [
    {
     "data": {
      "text/html": [
       "<div>\n",
       "<style scoped>\n",
       "    .dataframe tbody tr th:only-of-type {\n",
       "        vertical-align: middle;\n",
       "    }\n",
       "\n",
       "    .dataframe tbody tr th {\n",
       "        vertical-align: top;\n",
       "    }\n",
       "\n",
       "    .dataframe thead th {\n",
       "        text-align: right;\n",
       "    }\n",
       "</style>\n",
       "<table border=\"1\" class=\"dataframe\">\n",
       "  <thead>\n",
       "    <tr style=\"text-align: right;\">\n",
       "      <th></th>\n",
       "      <th>Department</th>\n",
       "      <th>DaysLateLast30</th>\n",
       "      <th>Absences</th>\n",
       "      <th>EmpSatisfaction</th>\n",
       "      <th>EngagementSurvey</th>\n",
       "      <th>PerformanceScore</th>\n",
       "      <th>Termd</th>\n",
       "      <th>SalaryLevel</th>\n",
       "      <th>TimeInCompany</th>\n",
       "      <th>SpecialProjectsCount</th>\n",
       "      <th>perfScoreSatisfaction</th>\n",
       "    </tr>\n",
       "  </thead>\n",
       "  <tbody>\n",
       "    <tr>\n",
       "      <th>0</th>\n",
       "      <td>Production</td>\n",
       "      <td>0</td>\n",
       "      <td>1</td>\n",
       "      <td>5</td>\n",
       "      <td>4.60</td>\n",
       "      <td>Exceeds</td>\n",
       "      <td>0</td>\n",
       "      <td>medium</td>\n",
       "      <td>8</td>\n",
       "      <td>0</td>\n",
       "      <td>False</td>\n",
       "    </tr>\n",
       "    <tr>\n",
       "      <th>1</th>\n",
       "      <td>IT/IS</td>\n",
       "      <td>0</td>\n",
       "      <td>17</td>\n",
       "      <td>3</td>\n",
       "      <td>4.96</td>\n",
       "      <td>Fully Meets</td>\n",
       "      <td>1</td>\n",
       "      <td>high</td>\n",
       "      <td>2</td>\n",
       "      <td>6</td>\n",
       "      <td>False</td>\n",
       "    </tr>\n",
       "    <tr>\n",
       "      <th>2</th>\n",
       "      <td>Production</td>\n",
       "      <td>0</td>\n",
       "      <td>3</td>\n",
       "      <td>3</td>\n",
       "      <td>3.02</td>\n",
       "      <td>Fully Meets</td>\n",
       "      <td>1</td>\n",
       "      <td>medium</td>\n",
       "      <td>2</td>\n",
       "      <td>0</td>\n",
       "      <td>False</td>\n",
       "    </tr>\n",
       "    <tr>\n",
       "      <th>3</th>\n",
       "      <td>Production</td>\n",
       "      <td>0</td>\n",
       "      <td>15</td>\n",
       "      <td>5</td>\n",
       "      <td>4.84</td>\n",
       "      <td>Fully Meets</td>\n",
       "      <td>0</td>\n",
       "      <td>medium</td>\n",
       "      <td>11</td>\n",
       "      <td>0</td>\n",
       "      <td>True</td>\n",
       "    </tr>\n",
       "    <tr>\n",
       "      <th>4</th>\n",
       "      <td>Production</td>\n",
       "      <td>0</td>\n",
       "      <td>2</td>\n",
       "      <td>4</td>\n",
       "      <td>5.00</td>\n",
       "      <td>Fully Meets</td>\n",
       "      <td>1</td>\n",
       "      <td>low</td>\n",
       "      <td>6</td>\n",
       "      <td>0</td>\n",
       "      <td>False</td>\n",
       "    </tr>\n",
       "    <tr>\n",
       "      <th>...</th>\n",
       "      <td>...</td>\n",
       "      <td>...</td>\n",
       "      <td>...</td>\n",
       "      <td>...</td>\n",
       "      <td>...</td>\n",
       "      <td>...</td>\n",
       "      <td>...</td>\n",
       "      <td>...</td>\n",
       "      <td>...</td>\n",
       "      <td>...</td>\n",
       "      <td>...</td>\n",
       "    </tr>\n",
       "    <tr>\n",
       "      <th>306</th>\n",
       "      <td>Production</td>\n",
       "      <td>0</td>\n",
       "      <td>13</td>\n",
       "      <td>4</td>\n",
       "      <td>4.07</td>\n",
       "      <td>Fully Meets</td>\n",
       "      <td>0</td>\n",
       "      <td>medium</td>\n",
       "      <td>5</td>\n",
       "      <td>0</td>\n",
       "      <td>True</td>\n",
       "    </tr>\n",
       "    <tr>\n",
       "      <th>307</th>\n",
       "      <td>Production</td>\n",
       "      <td>5</td>\n",
       "      <td>4</td>\n",
       "      <td>2</td>\n",
       "      <td>3.20</td>\n",
       "      <td>PIP</td>\n",
       "      <td>1</td>\n",
       "      <td>low</td>\n",
       "      <td>8</td>\n",
       "      <td>0</td>\n",
       "      <td>False</td>\n",
       "    </tr>\n",
       "    <tr>\n",
       "      <th>308</th>\n",
       "      <td>IT/IS</td>\n",
       "      <td>0</td>\n",
       "      <td>16</td>\n",
       "      <td>5</td>\n",
       "      <td>4.60</td>\n",
       "      <td>Exceeds</td>\n",
       "      <td>0</td>\n",
       "      <td>high</td>\n",
       "      <td>9</td>\n",
       "      <td>6</td>\n",
       "      <td>False</td>\n",
       "    </tr>\n",
       "    <tr>\n",
       "      <th>309</th>\n",
       "      <td>IT/IS</td>\n",
       "      <td>0</td>\n",
       "      <td>11</td>\n",
       "      <td>3</td>\n",
       "      <td>5.00</td>\n",
       "      <td>Fully Meets</td>\n",
       "      <td>0</td>\n",
       "      <td>high</td>\n",
       "      <td>4</td>\n",
       "      <td>5</td>\n",
       "      <td>True</td>\n",
       "    </tr>\n",
       "    <tr>\n",
       "      <th>310</th>\n",
       "      <td>Production</td>\n",
       "      <td>0</td>\n",
       "      <td>2</td>\n",
       "      <td>5</td>\n",
       "      <td>4.50</td>\n",
       "      <td>Fully Meets</td>\n",
       "      <td>0</td>\n",
       "      <td>low</td>\n",
       "      <td>5</td>\n",
       "      <td>0</td>\n",
       "      <td>True</td>\n",
       "    </tr>\n",
       "  </tbody>\n",
       "</table>\n",
       "<p>311 rows × 11 columns</p>\n",
       "</div>"
      ],
      "text/plain": [
       "            Department  DaysLateLast30  Absences  EmpSatisfaction  \\\n",
       "0    Production                      0         1                5   \n",
       "1                IT/IS               0        17                3   \n",
       "2    Production                      0         3                3   \n",
       "3    Production                      0        15                5   \n",
       "4    Production                      0         2                4   \n",
       "..                 ...             ...       ...              ...   \n",
       "306  Production                      0        13                4   \n",
       "307  Production                      5         4                2   \n",
       "308              IT/IS               0        16                5   \n",
       "309              IT/IS               0        11                3   \n",
       "310  Production                      0         2                5   \n",
       "\n",
       "     EngagementSurvey PerformanceScore  Termd SalaryLevel  TimeInCompany  \\\n",
       "0                4.60          Exceeds      0      medium              8   \n",
       "1                4.96      Fully Meets      1        high              2   \n",
       "2                3.02      Fully Meets      1      medium              2   \n",
       "3                4.84      Fully Meets      0      medium             11   \n",
       "4                5.00      Fully Meets      1         low              6   \n",
       "..                ...              ...    ...         ...            ...   \n",
       "306              4.07      Fully Meets      0      medium              5   \n",
       "307              3.20              PIP      1         low              8   \n",
       "308              4.60          Exceeds      0        high              9   \n",
       "309              5.00      Fully Meets      0        high              4   \n",
       "310              4.50      Fully Meets      0         low              5   \n",
       "\n",
       "     SpecialProjectsCount  perfScoreSatisfaction  \n",
       "0                       0                  False  \n",
       "1                       6                  False  \n",
       "2                       0                  False  \n",
       "3                       0                   True  \n",
       "4                       0                  False  \n",
       "..                    ...                    ...  \n",
       "306                     0                   True  \n",
       "307                     0                  False  \n",
       "308                     6                  False  \n",
       "309                     5                   True  \n",
       "310                     0                   True  \n",
       "\n",
       "[311 rows x 11 columns]"
      ]
     },
     "execution_count": 6,
     "metadata": {},
     "output_type": "execute_result"
    }
   ],
   "source": [
    "df[df.notnull()]"
   ]
  },
  {
   "cell_type": "code",
   "execution_count": 7,
   "metadata": {},
   "outputs": [
    {
     "name": "stdout",
     "output_type": "stream",
     "text": [
      "<class 'pandas.core.frame.DataFrame'>\n",
      "RangeIndex: 311 entries, 0 to 310\n",
      "Data columns (total 11 columns):\n",
      " #   Column                 Non-Null Count  Dtype  \n",
      "---  ------                 --------------  -----  \n",
      " 0   Department             311 non-null    object \n",
      " 1   DaysLateLast30         311 non-null    int64  \n",
      " 2   Absences               311 non-null    int64  \n",
      " 3   EmpSatisfaction        311 non-null    int64  \n",
      " 4   EngagementSurvey       311 non-null    float64\n",
      " 5   PerformanceScore       311 non-null    object \n",
      " 6   Termd                  311 non-null    int64  \n",
      " 7   SalaryLevel            311 non-null    object \n",
      " 8   TimeInCompany          311 non-null    int64  \n",
      " 9   SpecialProjectsCount   311 non-null    int64  \n",
      " 10  perfScoreSatisfaction  311 non-null    bool   \n",
      "dtypes: bool(1), float64(1), int64(6), object(3)\n",
      "memory usage: 24.7+ KB\n"
     ]
    }
   ],
   "source": [
    "df.info()"
   ]
  },
  {
   "cell_type": "markdown",
   "metadata": {},
   "source": [
    "###  Importancia de Features"
   ]
  },
  {
   "cell_type": "code",
   "execution_count": 8,
   "metadata": {},
   "outputs": [
    {
     "data": {
      "text/html": [
       "<div>\n",
       "<style scoped>\n",
       "    .dataframe tbody tr th:only-of-type {\n",
       "        vertical-align: middle;\n",
       "    }\n",
       "\n",
       "    .dataframe tbody tr th {\n",
       "        vertical-align: top;\n",
       "    }\n",
       "\n",
       "    .dataframe thead th {\n",
       "        text-align: right;\n",
       "    }\n",
       "</style>\n",
       "<table border=\"1\" class=\"dataframe\">\n",
       "  <thead>\n",
       "    <tr style=\"text-align: right;\">\n",
       "      <th></th>\n",
       "      <th>Department</th>\n",
       "      <th>DaysLateLast30</th>\n",
       "      <th>Absences</th>\n",
       "      <th>EmpSatisfaction</th>\n",
       "      <th>EngagementSurvey</th>\n",
       "      <th>PerformanceScore</th>\n",
       "      <th>Termd</th>\n",
       "      <th>SalaryLevel</th>\n",
       "      <th>TimeInCompany</th>\n",
       "      <th>SpecialProjectsCount</th>\n",
       "      <th>perfScoreSatisfaction</th>\n",
       "    </tr>\n",
       "  </thead>\n",
       "  <tbody>\n",
       "    <tr>\n",
       "      <th>0</th>\n",
       "      <td>Production</td>\n",
       "      <td>0</td>\n",
       "      <td>1</td>\n",
       "      <td>5</td>\n",
       "      <td>4.60</td>\n",
       "      <td>Exceeds</td>\n",
       "      <td>0</td>\n",
       "      <td>medium</td>\n",
       "      <td>8</td>\n",
       "      <td>0</td>\n",
       "      <td>False</td>\n",
       "    </tr>\n",
       "    <tr>\n",
       "      <th>1</th>\n",
       "      <td>IT/IS</td>\n",
       "      <td>0</td>\n",
       "      <td>17</td>\n",
       "      <td>3</td>\n",
       "      <td>4.96</td>\n",
       "      <td>Fully Meets</td>\n",
       "      <td>1</td>\n",
       "      <td>high</td>\n",
       "      <td>2</td>\n",
       "      <td>6</td>\n",
       "      <td>False</td>\n",
       "    </tr>\n",
       "    <tr>\n",
       "      <th>2</th>\n",
       "      <td>Production</td>\n",
       "      <td>0</td>\n",
       "      <td>3</td>\n",
       "      <td>3</td>\n",
       "      <td>3.02</td>\n",
       "      <td>Fully Meets</td>\n",
       "      <td>1</td>\n",
       "      <td>medium</td>\n",
       "      <td>2</td>\n",
       "      <td>0</td>\n",
       "      <td>False</td>\n",
       "    </tr>\n",
       "    <tr>\n",
       "      <th>3</th>\n",
       "      <td>Production</td>\n",
       "      <td>0</td>\n",
       "      <td>15</td>\n",
       "      <td>5</td>\n",
       "      <td>4.84</td>\n",
       "      <td>Fully Meets</td>\n",
       "      <td>0</td>\n",
       "      <td>medium</td>\n",
       "      <td>11</td>\n",
       "      <td>0</td>\n",
       "      <td>True</td>\n",
       "    </tr>\n",
       "    <tr>\n",
       "      <th>4</th>\n",
       "      <td>Production</td>\n",
       "      <td>0</td>\n",
       "      <td>2</td>\n",
       "      <td>4</td>\n",
       "      <td>5.00</td>\n",
       "      <td>Fully Meets</td>\n",
       "      <td>1</td>\n",
       "      <td>low</td>\n",
       "      <td>6</td>\n",
       "      <td>0</td>\n",
       "      <td>False</td>\n",
       "    </tr>\n",
       "  </tbody>\n",
       "</table>\n",
       "</div>"
      ],
      "text/plain": [
       "          Department  DaysLateLast30  Absences  EmpSatisfaction  \\\n",
       "0  Production                      0         1                5   \n",
       "1              IT/IS               0        17                3   \n",
       "2  Production                      0         3                3   \n",
       "3  Production                      0        15                5   \n",
       "4  Production                      0         2                4   \n",
       "\n",
       "   EngagementSurvey PerformanceScore  Termd SalaryLevel  TimeInCompany  \\\n",
       "0              4.60          Exceeds      0      medium              8   \n",
       "1              4.96      Fully Meets      1        high              2   \n",
       "2              3.02      Fully Meets      1      medium              2   \n",
       "3              4.84      Fully Meets      0      medium             11   \n",
       "4              5.00      Fully Meets      1         low              6   \n",
       "\n",
       "   SpecialProjectsCount  perfScoreSatisfaction  \n",
       "0                     0                  False  \n",
       "1                     6                  False  \n",
       "2                     0                  False  \n",
       "3                     0                   True  \n",
       "4                     0                  False  "
      ]
     },
     "execution_count": 8,
     "metadata": {},
     "output_type": "execute_result"
    }
   ],
   "source": [
    "df.head()"
   ]
  },
  {
   "cell_type": "markdown",
   "metadata": {},
   "source": [
    "vamos desenvolver um modelo que use a classe perfScoreSatisfaction que posie valor do tipo discreto, onde sabemos se o funcionário está satisfeito com a empresa e é engajado, nos conduz a um problema do tipo classificação supervisionada. Ou seja, tempos um atributo para passar para o modelo.\n"
   ]
  },
  {
   "cell_type": "markdown",
   "metadata": {},
   "source": [
    "# Preprocessamento de dados"
   ]
  },
  {
   "cell_type": "markdown",
   "metadata": {},
   "source": [
    "#### Converte os atributos categoricos em númericos.\n",
    "\n",
    "Aplicamos uma tecnica simples de transformação dos dados, transformando dados categoricos em numericos por duas razoes: A maioria dos modelos que usamos em ciências de dados tem como entrada valores numericos, não sendo preparados para trabalhar com valores catégoricos; Os atributos categoricos tem pouca cardinalidade, tendo poucos registros unicos"
   ]
  },
  {
   "cell_type": "code",
   "execution_count": 17,
   "metadata": {},
   "outputs": [
    {
     "name": "stdout",
     "output_type": "stream",
     "text": [
      "<class 'pandas.core.frame.DataFrame'>\n",
      "RangeIndex: 311 entries, 0 to 310\n",
      "Data columns (total 11 columns):\n",
      " #   Column                 Non-Null Count  Dtype  \n",
      "---  ------                 --------------  -----  \n",
      " 0   Department             311 non-null    int8   \n",
      " 1   DaysLateLast30         311 non-null    int64  \n",
      " 2   Absences               311 non-null    int64  \n",
      " 3   EmpSatisfaction        311 non-null    int64  \n",
      " 4   EngagementSurvey       311 non-null    float64\n",
      " 5   PerformanceScore       311 non-null    int8   \n",
      " 6   Termd                  311 non-null    int64  \n",
      " 7   SalaryLevel            311 non-null    int8   \n",
      " 8   TimeInCompany          311 non-null    int64  \n",
      " 9   SpecialProjectsCount   311 non-null    int64  \n",
      " 10  perfScoreSatisfaction  311 non-null    int8   \n",
      "dtypes: float64(1), int64(6), int8(4)\n",
      "memory usage: 18.3 KB\n"
     ]
    }
   ],
   "source": [
    "df[\"Department\"] = df[\"Department\"].astype('category').cat.codes\n",
    "df[\"SalaryLevel\"] = df[\"SalaryLevel\"].astype('category').cat.codes\n",
    "df[\"PerformanceScore\"] = df[\"PerformanceScore\"].astype('category').cat.codes\n",
    "df[\"perfScoreSatisfaction\"] = df[\"perfScoreSatisfaction\"].astype('category').cat.codes\n",
    "\n",
    "df.info()"
   ]
  },
  {
   "cell_type": "code",
   "execution_count": 18,
   "metadata": {},
   "outputs": [
    {
     "data": {
      "text/html": [
       "<div>\n",
       "<style scoped>\n",
       "    .dataframe tbody tr th:only-of-type {\n",
       "        vertical-align: middle;\n",
       "    }\n",
       "\n",
       "    .dataframe tbody tr th {\n",
       "        vertical-align: top;\n",
       "    }\n",
       "\n",
       "    .dataframe thead th {\n",
       "        text-align: right;\n",
       "    }\n",
       "</style>\n",
       "<table border=\"1\" class=\"dataframe\">\n",
       "  <thead>\n",
       "    <tr style=\"text-align: right;\">\n",
       "      <th></th>\n",
       "      <th>Department</th>\n",
       "      <th>DaysLateLast30</th>\n",
       "      <th>Absences</th>\n",
       "      <th>EmpSatisfaction</th>\n",
       "      <th>EngagementSurvey</th>\n",
       "      <th>PerformanceScore</th>\n",
       "      <th>Termd</th>\n",
       "      <th>SalaryLevel</th>\n",
       "      <th>TimeInCompany</th>\n",
       "      <th>SpecialProjectsCount</th>\n",
       "      <th>perfScoreSatisfaction</th>\n",
       "    </tr>\n",
       "  </thead>\n",
       "  <tbody>\n",
       "    <tr>\n",
       "      <th>0</th>\n",
       "      <td>3</td>\n",
       "      <td>0</td>\n",
       "      <td>1</td>\n",
       "      <td>5</td>\n",
       "      <td>4.60</td>\n",
       "      <td>0</td>\n",
       "      <td>0</td>\n",
       "      <td>2</td>\n",
       "      <td>8</td>\n",
       "      <td>0</td>\n",
       "      <td>0</td>\n",
       "    </tr>\n",
       "    <tr>\n",
       "      <th>1</th>\n",
       "      <td>2</td>\n",
       "      <td>0</td>\n",
       "      <td>17</td>\n",
       "      <td>3</td>\n",
       "      <td>4.96</td>\n",
       "      <td>1</td>\n",
       "      <td>1</td>\n",
       "      <td>0</td>\n",
       "      <td>2</td>\n",
       "      <td>6</td>\n",
       "      <td>0</td>\n",
       "    </tr>\n",
       "    <tr>\n",
       "      <th>2</th>\n",
       "      <td>3</td>\n",
       "      <td>0</td>\n",
       "      <td>3</td>\n",
       "      <td>3</td>\n",
       "      <td>3.02</td>\n",
       "      <td>1</td>\n",
       "      <td>1</td>\n",
       "      <td>2</td>\n",
       "      <td>2</td>\n",
       "      <td>0</td>\n",
       "      <td>0</td>\n",
       "    </tr>\n",
       "    <tr>\n",
       "      <th>3</th>\n",
       "      <td>3</td>\n",
       "      <td>0</td>\n",
       "      <td>15</td>\n",
       "      <td>5</td>\n",
       "      <td>4.84</td>\n",
       "      <td>1</td>\n",
       "      <td>0</td>\n",
       "      <td>2</td>\n",
       "      <td>11</td>\n",
       "      <td>0</td>\n",
       "      <td>1</td>\n",
       "    </tr>\n",
       "    <tr>\n",
       "      <th>4</th>\n",
       "      <td>3</td>\n",
       "      <td>0</td>\n",
       "      <td>2</td>\n",
       "      <td>4</td>\n",
       "      <td>5.00</td>\n",
       "      <td>1</td>\n",
       "      <td>1</td>\n",
       "      <td>1</td>\n",
       "      <td>6</td>\n",
       "      <td>0</td>\n",
       "      <td>0</td>\n",
       "    </tr>\n",
       "  </tbody>\n",
       "</table>\n",
       "</div>"
      ],
      "text/plain": [
       "   Department  DaysLateLast30  Absences  EmpSatisfaction  EngagementSurvey  \\\n",
       "0           3               0         1                5              4.60   \n",
       "1           2               0        17                3              4.96   \n",
       "2           3               0         3                3              3.02   \n",
       "3           3               0        15                5              4.84   \n",
       "4           3               0         2                4              5.00   \n",
       "\n",
       "   PerformanceScore  Termd  SalaryLevel  TimeInCompany  SpecialProjectsCount  \\\n",
       "0                 0      0            2              8                     0   \n",
       "1                 1      1            0              2                     6   \n",
       "2                 1      1            2              2                     0   \n",
       "3                 1      0            2             11                     0   \n",
       "4                 1      1            1              6                     0   \n",
       "\n",
       "   perfScoreSatisfaction  \n",
       "0                      0  \n",
       "1                      0  \n",
       "2                      0  \n",
       "3                      1  \n",
       "4                      0  "
      ]
     },
     "execution_count": 18,
     "metadata": {},
     "output_type": "execute_result"
    }
   ],
   "source": [
    "df.head()"
   ]
  },
  {
   "cell_type": "markdown",
   "metadata": {},
   "source": [
    "#### Separando os conjuntos de dados."
   ]
  },
  {
   "cell_type": "code",
   "execution_count": 22,
   "metadata": {},
   "outputs": [],
   "source": [
    "#perfScoreSatisfaction\n",
    "targetName = 'perfScoreSatisfaction'\n",
    "X = df.drop('perfScoreSatisfaction', axis=1)\n",
    "y = df[targetName]"
   ]
  },
  {
   "cell_type": "markdown",
   "metadata": {},
   "source": [
    "#### Transformando os dados.\n",
    "Vamos transformar os valores dos atibutos em uma mesma escala. Uma vez que temos varios atributos em diferentes escalas, com o MimMaxScaler do sklearn vamos garantir a mesma escala para os atributos.\n",
    "\n",
    "Isso é importante no processo de convergencia do algoritmo, nos calculos internos que o algoritmo faz para gerar o modelo os calculos de valores na mesma escala ajuda o medelo a ter uma peformace melhor, a convergir com mais velocidade, principalmente em cenários complexo como nos uso de deep learning. "
   ]
  },
  {
   "cell_type": "code",
   "execution_count": 25,
   "metadata": {},
   "outputs": [
    {
     "data": {
      "text/plain": [
       "array([[0.6       , 0.        , 0.        , ..., 1.        , 0.58333333,\n",
       "        0.        ],\n",
       "       [0.4       , 0.        , 0.84210526, ..., 0.        , 0.08333333,\n",
       "        0.75      ],\n",
       "       [0.6       , 0.        , 0.10526316, ..., 1.        , 0.08333333,\n",
       "        0.        ],\n",
       "       ...,\n",
       "       [0.4       , 0.        , 0.78947368, ..., 0.        , 0.66666667,\n",
       "        0.75      ],\n",
       "       [0.4       , 0.        , 0.52631579, ..., 0.        , 0.25      ,\n",
       "        0.625     ],\n",
       "       [0.6       , 0.        , 0.05263158, ..., 0.5       , 0.33333333,\n",
       "        0.        ]])"
      ]
     },
     "execution_count": 25,
     "metadata": {},
     "output_type": "execute_result"
    }
   ],
   "source": [
    "from sklearn.preprocessing import MinMaxScaler\n",
    "scaler = MinMaxScaler()\n",
    "X = scaler.fit_transform(X)\n",
    "X"
   ]
  },
  {
   "cell_type": "markdown",
   "metadata": {},
   "source": [
    "#### Separando os conjuntos."
   ]
  },
  {
   "cell_type": "markdown",
   "metadata": {},
   "source": [
    "Definindo nosso modelo como preditivo e para dar uma garantia que o modelo é integro, é importante particionar os dados em dois conjunto, um para treinar e outro para testar o modelo"
   ]
  },
  {
   "cell_type": "markdown",
   "metadata": {},
   "source": [
    "Apesar do dataset ter a classe target perfScoreSatisfaction muito balanceada, o dataset tambem tem outras classes desbalanceadas. Respeitando a distribuição de classes com uma amostra que reúne clases mais ou menos homogêneas entre si, usamos o parametro stratify."
   ]
  },
  {
   "cell_type": "code",
   "execution_count": 26,
   "metadata": {},
   "outputs": [],
   "source": [
    "from sklearn.model_selection import train_test_split\n",
    "\n",
    "X_train, X_test, y_train, y_test = train_test_split(\n",
    "        X\n",
    "       ,y\n",
    "       ,test_size = 0.3\n",
    "       ,random_state = 33\n",
    "       ,stratify = y\n",
    ")"
   ]
  },
  {
   "cell_type": "markdown",
   "metadata": {},
   "source": [
    "#### Treinando o algoritmo de arvore de decisão."
   ]
  },
  {
   "cell_type": "code",
   "execution_count": 27,
   "metadata": {},
   "outputs": [],
   "source": [
    "from sklearn.tree import DecisionTreeClassifier\n",
    "\n",
    "dtree = DecisionTreeClassifier()\n",
    "dtree = dtree.fit(X_train,y_train)\n",
    "\n",
    "importances = dtree.feature_importances_\n",
    "feat_names = df.drop(['perfScoreSatisfaction'],axis=1).columns"
   ]
  },
  {
   "cell_type": "markdown",
   "metadata": {},
   "source": [
    "filtragem de features importantes mara o modelo escolhi usar as funcionalidades de feature_importances_ dos classificadores. Treinamos o modelos e verificamos quais as feactures mais importantes para o modelo criado, que por sua vez retorna uma listagem de features importantes.\n",
    "Em ambiente de produção é necessário mais experimentos com outros algoritmos para selecionar as features importantes"
   ]
  },
  {
   "cell_type": "code",
   "execution_count": 28,
   "metadata": {},
   "outputs": [
    {
     "data": {
      "image/png": "[encoded data removed]",
      "text/plain": [
       "<Figure size 864x288 with 1 Axes>"
      ]
     },
     "metadata": {
      "needs_background": "light"
     },
     "output_type": "display_data"
    }
   ],
   "source": [
    "indices = np.argsort(importances)[::-1]\n",
    "plt.figure(figsize=(12,4))\n",
    "plt.title(\"Feature importances by DecisionTreeClassifier\")\n",
    "plt.bar(range(len(indices)), importances[indices], color='lightblue',  align=\"center\")\n",
    "plt.xticks(range(len(indices)), feat_names[indices], rotation='vertical',fontsize=14)\n",
    "plt.xlim([-1, len(indices)])\n",
    "plt.show()"
   ]
  },
  {
   "cell_type": "markdown",
   "metadata": {},
   "source": [
    "Com modelo de arvore de decisão as features mais relevantes são Termd e PerfomanceScore com uma indicação pequena para EmpSatisfaction"
   ]
  },
  {
   "cell_type": "markdown",
   "metadata": {},
   "source": [
    "#### Filtrando apenas os atributos relevantes."
   ]
  },
  {
   "cell_type": "code",
   "execution_count": 29,
   "metadata": {},
   "outputs": [
    {
     "data": {
      "text/plain": [
       "Index(['Department', 'DaysLateLast30', 'Absences', 'EmpSatisfaction',\n",
       "       'EngagementSurvey', 'PerformanceScore', 'Termd', 'SalaryLevel',\n",
       "       'TimeInCompany', 'SpecialProjectsCount', 'perfScoreSatisfaction'],\n",
       "      dtype='object')"
      ]
     },
     "execution_count": 29,
     "metadata": {},
     "output_type": "execute_result"
    }
   ],
   "source": [
    "df.columns"
   ]
  },
  {
   "cell_type": "code",
   "execution_count": 30,
   "metadata": {},
   "outputs": [],
   "source": [
    "X = df[[\"Termd\",\"PerformanceScore\",\"EmpSatisfaction\"]]"
   ]
  },
  {
   "cell_type": "markdown",
   "metadata": {},
   "source": [
    "#### Separando os conjuntos de dados."
   ]
  },
  {
   "cell_type": "code",
   "execution_count": 31,
   "metadata": {},
   "outputs": [
    {
     "data": {
      "text/plain": [
       "array([[1.        , 0.33333333, 1.        ],\n",
       "       [1.        , 0.33333333, 0.75      ],\n",
       "       [0.        , 0.        , 0.5       ],\n",
       "       [1.        , 0.33333333, 0.5       ],\n",
       "       [0.        , 0.33333333, 0.5       ],\n",
       "       [1.        , 0.33333333, 1.        ],\n",
       "       [0.        , 0.33333333, 0.5       ],\n",
       "       [1.        , 0.33333333, 1.        ],\n",
       "       [0.        , 0.        , 0.75      ],\n",
       "       [1.        , 0.33333333, 1.        ],\n",
       "       [0.        , 0.33333333, 0.75      ],\n",
       "       [0.        , 0.33333333, 1.        ],\n",
       "       [0.        , 0.33333333, 0.75      ],\n",
       "       [1.        , 0.66666667, 0.75      ],\n",
       "       [1.        , 0.33333333, 0.75      ],\n",
       "       [1.        , 0.33333333, 0.75      ],\n",
       "       [0.        , 0.33333333, 1.        ],\n",
       "       [1.        , 0.66666667, 1.        ],\n",
       "       [1.        , 0.33333333, 0.5       ],\n",
       "       [0.        , 0.33333333, 0.5       ],\n",
       "       [0.        , 0.33333333, 1.        ],\n",
       "       [1.        , 0.33333333, 0.75      ],\n",
       "       [0.        , 1.        , 0.25      ],\n",
       "       [0.        , 0.33333333, 0.5       ],\n",
       "       [0.        , 0.33333333, 1.        ],\n",
       "       [1.        , 0.33333333, 0.5       ],\n",
       "       [0.        , 0.        , 0.75      ],\n",
       "       [1.        , 0.33333333, 0.5       ],\n",
       "       [1.        , 0.33333333, 0.75      ],\n",
       "       [0.        , 0.33333333, 1.        ],\n",
       "       [1.        , 0.33333333, 1.        ],\n",
       "       [1.        , 0.33333333, 0.5       ],\n",
       "       [0.        , 0.33333333, 0.5       ],\n",
       "       [0.        , 0.33333333, 1.        ],\n",
       "       [0.        , 0.        , 0.5       ],\n",
       "       [1.        , 0.33333333, 0.75      ],\n",
       "       [0.        , 0.33333333, 1.        ],\n",
       "       [1.        , 0.33333333, 0.75      ],\n",
       "       [1.        , 0.66666667, 0.5       ],\n",
       "       [0.        , 0.33333333, 0.5       ],\n",
       "       [0.        , 0.33333333, 0.75      ],\n",
       "       [0.        , 0.33333333, 0.5       ],\n",
       "       [0.        , 0.33333333, 1.        ],\n",
       "       [0.        , 0.33333333, 1.        ],\n",
       "       [0.        , 0.33333333, 1.        ],\n",
       "       [0.        , 0.33333333, 0.5       ],\n",
       "       [0.        , 0.33333333, 0.75      ],\n",
       "       [1.        , 0.33333333, 0.5       ],\n",
       "       [0.        , 1.        , 0.5       ],\n",
       "       [0.        , 0.33333333, 1.        ],\n",
       "       [0.        , 0.33333333, 1.        ],\n",
       "       [0.        , 0.        , 0.5       ],\n",
       "       [0.        , 1.        , 0.        ],\n",
       "       [1.        , 0.33333333, 0.75      ],\n",
       "       [0.        , 0.66666667, 0.75      ],\n",
       "       [1.        , 1.        , 0.5       ],\n",
       "       [0.        , 0.33333333, 0.75      ],\n",
       "       [0.        , 0.33333333, 0.5       ],\n",
       "       [0.        , 0.33333333, 0.75      ],\n",
       "       [0.        , 0.33333333, 1.        ],\n",
       "       [0.        , 0.33333333, 0.75      ],\n",
       "       [0.        , 0.33333333, 0.5       ],\n",
       "       [0.        , 0.33333333, 0.5       ],\n",
       "       [0.        , 0.        , 1.        ],\n",
       "       [0.        , 0.33333333, 1.        ],\n",
       "       [1.        , 0.33333333, 0.75      ],\n",
       "       [0.        , 1.        , 0.25      ],\n",
       "       [0.        , 0.33333333, 1.        ],\n",
       "       [0.        , 0.33333333, 0.75      ],\n",
       "       [0.        , 0.        , 1.        ],\n",
       "       [0.        , 0.33333333, 1.        ],\n",
       "       [1.        , 0.33333333, 0.5       ],\n",
       "       [1.        , 0.33333333, 1.        ],\n",
       "       [1.        , 0.33333333, 0.75      ],\n",
       "       [0.        , 0.33333333, 0.75      ],\n",
       "       [0.        , 0.33333333, 0.5       ],\n",
       "       [0.        , 0.33333333, 0.5       ],\n",
       "       [0.        , 0.33333333, 1.        ],\n",
       "       [1.        , 0.33333333, 1.        ],\n",
       "       [0.        , 0.33333333, 1.        ],\n",
       "       [0.        , 0.33333333, 1.        ],\n",
       "       [0.        , 0.        , 0.5       ],\n",
       "       [0.        , 0.33333333, 1.        ],\n",
       "       [0.        , 0.33333333, 0.5       ],\n",
       "       [1.        , 0.66666667, 1.        ],\n",
       "       [0.        , 0.33333333, 1.        ],\n",
       "       [1.        , 0.66666667, 1.        ],\n",
       "       [1.        , 0.33333333, 1.        ],\n",
       "       [1.        , 1.        , 1.        ],\n",
       "       [0.        , 0.        , 0.5       ],\n",
       "       [1.        , 0.33333333, 1.        ],\n",
       "       [0.        , 0.33333333, 0.75      ],\n",
       "       [0.        , 0.33333333, 1.        ],\n",
       "       [0.        , 0.33333333, 0.5       ],\n",
       "       [1.        , 0.33333333, 0.5       ],\n",
       "       [0.        , 0.33333333, 0.5       ],\n",
       "       [1.        , 0.33333333, 0.5       ],\n",
       "       [0.        , 0.33333333, 0.5       ],\n",
       "       [0.        , 0.33333333, 1.        ],\n",
       "       [0.        , 0.33333333, 0.75      ],\n",
       "       [1.        , 0.33333333, 0.75      ],\n",
       "       [1.        , 1.        , 0.25      ],\n",
       "       [0.        , 0.33333333, 0.75      ],\n",
       "       [0.        , 0.66666667, 0.75      ],\n",
       "       [1.        , 0.66666667, 0.25      ],\n",
       "       [1.        , 0.33333333, 0.5       ],\n",
       "       [0.        , 0.33333333, 0.75      ],\n",
       "       [0.        , 0.33333333, 0.5       ],\n",
       "       [0.        , 0.        , 1.        ],\n",
       "       [1.        , 0.33333333, 0.5       ],\n",
       "       [0.        , 0.33333333, 0.5       ],\n",
       "       [0.        , 0.66666667, 0.5       ],\n",
       "       [0.        , 0.33333333, 0.75      ],\n",
       "       [1.        , 0.33333333, 0.75      ],\n",
       "       [0.        , 0.33333333, 0.5       ],\n",
       "       [0.        , 0.33333333, 0.75      ],\n",
       "       [0.        , 0.33333333, 1.        ],\n",
       "       [0.        , 0.33333333, 0.5       ],\n",
       "       [0.        , 0.66666667, 0.5       ],\n",
       "       [1.        , 0.66666667, 0.5       ],\n",
       "       [0.        , 0.33333333, 0.75      ],\n",
       "       [1.        , 0.33333333, 0.5       ],\n",
       "       [0.        , 0.33333333, 1.        ],\n",
       "       [0.        , 0.33333333, 0.5       ],\n",
       "       [0.        , 0.33333333, 1.        ],\n",
       "       [0.        , 0.33333333, 1.        ],\n",
       "       [0.        , 0.33333333, 0.75      ],\n",
       "       [0.        , 0.33333333, 0.5       ],\n",
       "       [0.        , 0.33333333, 1.        ],\n",
       "       [0.        , 0.33333333, 1.        ],\n",
       "       [0.        , 1.        , 0.5       ],\n",
       "       [0.        , 0.33333333, 0.75      ],\n",
       "       [0.        , 0.33333333, 1.        ],\n",
       "       [0.        , 0.33333333, 0.5       ],\n",
       "       [0.        , 0.33333333, 0.75      ],\n",
       "       [0.        , 0.33333333, 0.75      ],\n",
       "       [0.        , 0.33333333, 0.5       ],\n",
       "       [0.        , 0.66666667, 1.        ],\n",
       "       [0.        , 0.33333333, 1.        ],\n",
       "       [0.        , 0.33333333, 0.5       ],\n",
       "       [1.        , 0.33333333, 1.        ],\n",
       "       [0.        , 0.33333333, 0.75      ],\n",
       "       [1.        , 0.33333333, 0.75      ],\n",
       "       [1.        , 0.33333333, 0.75      ],\n",
       "       [1.        , 0.33333333, 1.        ],\n",
       "       [0.        , 0.33333333, 0.5       ],\n",
       "       [1.        , 0.33333333, 0.5       ],\n",
       "       [1.        , 0.        , 1.        ],\n",
       "       [1.        , 1.        , 0.25      ],\n",
       "       [1.        , 0.33333333, 0.75      ],\n",
       "       [0.        , 0.33333333, 0.5       ],\n",
       "       [0.        , 0.33333333, 0.75      ],\n",
       "       [0.        , 0.33333333, 0.5       ],\n",
       "       [0.        , 0.        , 0.75      ],\n",
       "       [1.        , 0.33333333, 0.75      ],\n",
       "       [0.        , 0.33333333, 1.        ],\n",
       "       [0.        , 1.        , 1.        ],\n",
       "       [1.        , 0.33333333, 1.        ],\n",
       "       [0.        , 0.        , 1.        ],\n",
       "       [0.        , 0.        , 1.        ],\n",
       "       [0.        , 0.33333333, 0.5       ],\n",
       "       [0.        , 0.33333333, 1.        ],\n",
       "       [0.        , 0.33333333, 0.75      ],\n",
       "       [1.        , 0.33333333, 1.        ],\n",
       "       [0.        , 0.33333333, 0.75      ],\n",
       "       [1.        , 0.33333333, 1.        ],\n",
       "       [0.        , 0.33333333, 0.5       ],\n",
       "       [0.        , 0.33333333, 0.5       ],\n",
       "       [1.        , 0.33333333, 0.5       ],\n",
       "       [1.        , 0.66666667, 0.5       ],\n",
       "       [1.        , 0.33333333, 1.        ],\n",
       "       [0.        , 0.33333333, 0.75      ],\n",
       "       [0.        , 0.33333333, 0.75      ],\n",
       "       [0.        , 0.33333333, 1.        ],\n",
       "       [0.        , 0.33333333, 0.75      ],\n",
       "       [0.        , 0.33333333, 0.5       ],\n",
       "       [0.        , 0.33333333, 0.5       ],\n",
       "       [0.        , 0.33333333, 1.        ],\n",
       "       [0.        , 0.        , 1.        ],\n",
       "       [0.        , 0.        , 0.5       ],\n",
       "       [1.        , 0.33333333, 0.75      ],\n",
       "       [0.        , 0.33333333, 0.75      ],\n",
       "       [0.        , 0.33333333, 1.        ],\n",
       "       [1.        , 0.33333333, 0.75      ],\n",
       "       [1.        , 0.33333333, 1.        ],\n",
       "       [1.        , 0.33333333, 0.5       ],\n",
       "       [0.        , 0.33333333, 0.75      ],\n",
       "       [1.        , 0.33333333, 0.75      ],\n",
       "       [1.        , 0.        , 0.5       ],\n",
       "       [0.        , 0.33333333, 0.5       ],\n",
       "       [0.        , 0.33333333, 0.5       ],\n",
       "       [1.        , 0.33333333, 0.5       ],\n",
       "       [0.        , 0.        , 1.        ],\n",
       "       [0.        , 0.33333333, 0.5       ],\n",
       "       [0.        , 0.33333333, 1.        ],\n",
       "       [1.        , 0.        , 0.75      ],\n",
       "       [0.        , 0.33333333, 0.75      ],\n",
       "       [0.        , 0.33333333, 0.75      ],\n",
       "       [0.        , 0.33333333, 1.        ],\n",
       "       [1.        , 0.33333333, 0.5       ],\n",
       "       [0.        , 0.        , 0.75      ],\n",
       "       [0.        , 0.33333333, 1.        ],\n",
       "       [0.        , 0.33333333, 1.        ],\n",
       "       [1.        , 0.33333333, 1.        ],\n",
       "       [1.        , 0.33333333, 0.75      ],\n",
       "       [1.        , 0.33333333, 0.75      ],\n",
       "       [0.        , 0.33333333, 0.5       ],\n",
       "       [0.        , 0.33333333, 0.5       ],\n",
       "       [1.        , 0.33333333, 0.75      ],\n",
       "       [0.        , 0.33333333, 0.5       ],\n",
       "       [0.        , 0.33333333, 0.75      ],\n",
       "       [0.        , 0.33333333, 1.        ],\n",
       "       [1.        , 0.33333333, 0.5       ],\n",
       "       [0.        , 0.33333333, 1.        ],\n",
       "       [0.        , 0.        , 1.        ],\n",
       "       [1.        , 0.33333333, 0.5       ],\n",
       "       [1.        , 0.33333333, 0.75      ],\n",
       "       [0.        , 0.66666667, 0.75      ],\n",
       "       [1.        , 0.33333333, 0.5       ],\n",
       "       [1.        , 0.33333333, 1.        ],\n",
       "       [0.        , 0.        , 0.5       ],\n",
       "       [0.        , 0.33333333, 1.        ],\n",
       "       [1.        , 0.33333333, 0.5       ],\n",
       "       [1.        , 0.        , 0.75      ],\n",
       "       [0.        , 0.33333333, 1.        ],\n",
       "       [0.        , 0.33333333, 0.5       ],\n",
       "       [0.        , 0.33333333, 0.75      ],\n",
       "       [0.        , 0.33333333, 0.5       ],\n",
       "       [1.        , 0.33333333, 0.75      ],\n",
       "       [0.        , 0.        , 1.        ],\n",
       "       [0.        , 0.33333333, 0.75      ],\n",
       "       [0.        , 0.        , 0.75      ],\n",
       "       [0.        , 0.33333333, 0.5       ],\n",
       "       [0.        , 0.33333333, 0.75      ],\n",
       "       [1.        , 0.33333333, 0.5       ],\n",
       "       [0.        , 0.33333333, 1.        ],\n",
       "       [0.        , 0.        , 0.5       ],\n",
       "       [0.        , 0.33333333, 0.5       ],\n",
       "       [0.        , 0.33333333, 0.5       ],\n",
       "       [0.        , 0.33333333, 0.75      ],\n",
       "       [0.        , 0.33333333, 0.5       ],\n",
       "       [1.        , 0.33333333, 0.5       ],\n",
       "       [0.        , 1.        , 0.25      ],\n",
       "       [0.        , 0.33333333, 0.5       ],\n",
       "       [0.        , 0.        , 0.75      ],\n",
       "       [0.        , 1.        , 0.        ],\n",
       "       [1.        , 0.33333333, 0.75      ],\n",
       "       [0.        , 0.        , 0.75      ]])"
      ]
     },
     "execution_count": 31,
     "metadata": {},
     "output_type": "execute_result"
    }
   ],
   "source": [
    "scaler = MinMaxScaler()\n",
    "X = scaler.fit_transform(X)\n",
    "\n",
    "X_train, X_test, y_train, y_test = train_test_split(\n",
    "        X\n",
    "       ,y\n",
    "       ,test_size = 0.2\n",
    "       ,random_state = 123\n",
    "       ,stratify = y\n",
    ")\n",
    "\n",
    "X_train"
   ]
  },
  {
   "cell_type": "markdown",
   "metadata": {},
   "source": [
    "#### Função do modelo de base."
   ]
  },
  {
   "cell_type": "markdown",
   "metadata": {},
   "source": [
    "Pensando na satisfação e engajamento do funcionario, vamos preparar testes para features relevantes para outros algoritmos.\n",
    "\n",
    "Para isso estabelecer qual a metrica, o que levar em consideração para decidir se o algoritmo é eficiente.\n",
    "\n",
    "Começamos criando um modelo base line para que os modelos a serem esperimentados cheguem proximos do resultado do base line. Se ele não tiver com os resultados proximos da baseline, não faz sentido investir tempo nesse modelo. Além disso, a função da baseline é importante para conseguir explicar o resultado do modelo de forma intuitiva para pessoas que não entende ML. Por exemplo, gerei um modelo de previsão de engajamento e satisfação que é superior a média, a média chegamos no resultado x enquanto que nosso modelo atingiu x+y. Os interessados conseguem entender que o modelo ganha de algo simples que já é usado, como a média."
   ]
  },
  {
   "cell_type": "markdown",
   "metadata": {},
   "source": [
    "por causa dos dados despalenceados, essa função sempre vai retornar zero para a probabilidade da maior ocorrencia do meu conjunto de dados\n"
   ]
  },
  {
   "cell_type": "code",
   "execution_count": 32,
   "metadata": {},
   "outputs": [],
   "source": [
    "def baseRateModel(X) :\n",
    "    y = np.zeros(X.shape[0])\n",
    "    return y aquiiiiiiiii 1:08"
   ]
  },
  {
   "cell_type": "markdown",
   "metadata": {},
   "source": [
    "#### Importando métodos de métrica de avaliação."
   ]
  },
  {
   "cell_type": "code",
   "execution_count": 33,
   "metadata": {},
   "outputs": [],
   "source": [
    "from sklearn.metrics import roc_auc_score\n",
    "from sklearn.metrics import accuracy_score\n",
    "from sklearn.metrics import classification_report"
   ]
  },
  {
   "cell_type": "code",
   "execution_count": 34,
   "metadata": {},
   "outputs": [],
   "source": [
    "def accuracy_result(y_test,y_predict):\n",
    "    acc = accuracy_score(y_test, y_predict)\n",
    "    print (\"Accuracy = %2.2f\" % acc)"
   ]
  },
  {
   "cell_type": "code",
   "execution_count": 35,
   "metadata": {},
   "outputs": [],
   "source": [
    "def roc_classification_report_results(model,y_test,y_predict):\n",
    "    roc_ = roc_auc_score(y_test, y_predict)\n",
    "    classfication_report = classification_report(y_test, y_predict)\n",
    "    \n",
    "    print (\"\\n{} AUC = {}\\n\".format(model, roc_))\n",
    "    print(classfication_report)"
   ]
  },
  {
   "cell_type": "markdown",
   "metadata": {},
   "source": [
    "#### Análise do modelo de baseline"
   ]
  },
  {
   "cell_type": "code",
   "execution_count": 36,
   "metadata": {},
   "outputs": [
    {
     "name": "stdout",
     "output_type": "stream",
     "text": [
      "Accuracy = 0.46\n"
     ]
    }
   ],
   "source": [
    "y_predict = baseRateModel(X_test)\n",
    "\n",
    "accuracy_result(y_test, y_predict)"
   ]
  },
  {
   "cell_type": "code",
   "execution_count": 37,
   "metadata": {},
   "outputs": [
    {
     "name": "stdout",
     "output_type": "stream",
     "text": [
      "\n",
      "Base Model AUC = 0.5\n",
      "\n",
      "              precision    recall  f1-score   support\n",
      "\n",
      "           0       0.46      1.00      0.63        29\n",
      "           1       0.00      0.00      0.00        34\n",
      "\n",
      "    accuracy                           0.46        63\n",
      "   macro avg       0.23      0.50      0.32        63\n",
      "weighted avg       0.21      0.46      0.29        63\n",
      "\n"
     ]
    },
    {
     "name": "stderr",
     "output_type": "stream",
     "text": [
      "/Users/san/Documents/GitHub/Artigo_PUCRS_CD_IA/venv/lib/python3.8/site-packages/sklearn/metrics/_classification.py:1327: UndefinedMetricWarning: Precision and F-score are ill-defined and being set to 0.0 in labels with no predicted samples. Use `zero_division` parameter to control this behavior.\n",
      "  _warn_prf(average, modifier, msg_start, len(result))\n",
      "/Users/san/Documents/GitHub/Artigo_PUCRS_CD_IA/venv/lib/python3.8/site-packages/sklearn/metrics/_classification.py:1327: UndefinedMetricWarning: Precision and F-score are ill-defined and being set to 0.0 in labels with no predicted samples. Use `zero_division` parameter to control this behavior.\n",
      "  _warn_prf(average, modifier, msg_start, len(result))\n",
      "/Users/san/Documents/GitHub/Artigo_PUCRS_CD_IA/venv/lib/python3.8/site-packages/sklearn/metrics/_classification.py:1327: UndefinedMetricWarning: Precision and F-score are ill-defined and being set to 0.0 in labels with no predicted samples. Use `zero_division` parameter to control this behavior.\n",
      "  _warn_prf(average, modifier, msg_start, len(result))\n"
     ]
    }
   ],
   "source": [
    "roc_classification_report_results(\"Base Model\", y_test, y_predict)"
   ]
  },
  {
   "cell_type": "markdown",
   "metadata": {},
   "source": [
    "### Modelo de Regressão Logística."
   ]
  },
  {
   "cell_type": "markdown",
   "metadata": {},
   "source": [
    "#### Instânciando o algoritmo."
   ]
  },
  {
   "cell_type": "code",
   "execution_count": 38,
   "metadata": {},
   "outputs": [],
   "source": [
    "from sklearn.linear_model import LogisticRegression\n",
    "logis = LogisticRegression()"
   ]
  },
  {
   "cell_type": "markdown",
   "metadata": {},
   "source": [
    "#### Realizando o treinamento."
   ]
  },
  {
   "cell_type": "code",
   "execution_count": 39,
   "metadata": {},
   "outputs": [
    {
     "data": {
      "text/html": [
       "<style>#sk-container-id-1 {color: black;background-color: white;}#sk-container-id-1 pre{padding: 0;}#sk-container-id-1 div.sk-toggleable {background-color: white;}#sk-container-id-1 label.sk-toggleable__label {cursor: pointer;display: block;width: 100%;margin-bottom: 0;padding: 0.3em;box-sizing: border-box;text-align: center;}#sk-container-id-1 label.sk-toggleable__label-arrow:before {content: \"▸\";float: left;margin-right: 0.25em;color: #696969;}#sk-container-id-1 label.sk-toggleable__label-arrow:hover:before {color: black;}#sk-container-id-1 div.sk-estimator:hover label.sk-toggleable__label-arrow:before {color: black;}#sk-container-id-1 div.sk-toggleable__content {max-height: 0;max-width: 0;overflow: hidden;text-align: left;background-color: #f0f8ff;}#sk-container-id-1 div.sk-toggleable__content pre {margin: 0.2em;color: black;border-radius: 0.25em;background-color: #f0f8ff;}#sk-container-id-1 input.sk-toggleable__control:checked~div.sk-toggleable__content {max-height: 200px;max-width: 100%;overflow: auto;}#sk-container-id-1 input.sk-toggleable__control:checked~label.sk-toggleable__label-arrow:before {content: \"▾\";}#sk-container-id-1 div.sk-estimator input.sk-toggleable__control:checked~label.sk-toggleable__label {background-color: #d4ebff;}#sk-container-id-1 div.sk-label input.sk-toggleable__control:checked~label.sk-toggleable__label {background-color: #d4ebff;}#sk-container-id-1 input.sk-hidden--visually {border: 0;clip: rect(1px 1px 1px 1px);clip: rect(1px, 1px, 1px, 1px);height: 1px;margin: -1px;overflow: hidden;padding: 0;position: absolute;width: 1px;}#sk-container-id-1 div.sk-estimator {font-family: monospace;background-color: #f0f8ff;border: 1px dotted black;border-radius: 0.25em;box-sizing: border-box;margin-bottom: 0.5em;}#sk-container-id-1 div.sk-estimator:hover {background-color: #d4ebff;}#sk-container-id-1 div.sk-parallel-item::after {content: \"\";width: 100%;border-bottom: 1px solid gray;flex-grow: 1;}#sk-container-id-1 div.sk-label:hover label.sk-toggleable__label {background-color: #d4ebff;}#sk-container-id-1 div.sk-serial::before {content: \"\";position: absolute;border-left: 1px solid gray;box-sizing: border-box;top: 0;bottom: 0;left: 50%;z-index: 0;}#sk-container-id-1 div.sk-serial {display: flex;flex-direction: column;align-items: center;background-color: white;padding-right: 0.2em;padding-left: 0.2em;position: relative;}#sk-container-id-1 div.sk-item {position: relative;z-index: 1;}#sk-container-id-1 div.sk-parallel {display: flex;align-items: stretch;justify-content: center;background-color: white;position: relative;}#sk-container-id-1 div.sk-item::before, #sk-container-id-1 div.sk-parallel-item::before {content: \"\";position: absolute;border-left: 1px solid gray;box-sizing: border-box;top: 0;bottom: 0;left: 50%;z-index: -1;}#sk-container-id-1 div.sk-parallel-item {display: flex;flex-direction: column;z-index: 1;position: relative;background-color: white;}#sk-container-id-1 div.sk-parallel-item:first-child::after {align-self: flex-end;width: 50%;}#sk-container-id-1 div.sk-parallel-item:last-child::after {align-self: flex-start;width: 50%;}#sk-container-id-1 div.sk-parallel-item:only-child::after {width: 0;}#sk-container-id-1 div.sk-dashed-wrapped {border: 1px dashed gray;margin: 0 0.4em 0.5em 0.4em;box-sizing: border-box;padding-bottom: 0.4em;background-color: white;}#sk-container-id-1 div.sk-label label {font-family: monospace;font-weight: bold;display: inline-block;line-height: 1.2em;}#sk-container-id-1 div.sk-label-container {text-align: center;}#sk-container-id-1 div.sk-container {/* jupyter's `normalize.less` sets `[hidden] { display: none; }` but bootstrap.min.css set `[hidden] { display: none !important; }` so we also need the `!important` here to be able to override the default hidden behavior on the sphinx rendered scikit-learn.org. See: https://github.com/scikit-learn/scikit-learn/issues/21755 */display: inline-block !important;position: relative;}#sk-container-id-1 div.sk-text-repr-fallback {display: none;}</style><div id=\"sk-container-id-1\" class=\"sk-top-container\"><div class=\"sk-text-repr-fallback\"><pre>LogisticRegression()</pre><b>In a Jupyter environment, please rerun this cell to show the HTML representation or trust the notebook. <br />On GitHub, the HTML representation is unable to render, please try loading this page with nbviewer.org.</b></div><div class=\"sk-container\" hidden><div class=\"sk-item\"><div class=\"sk-estimator sk-toggleable\"><input class=\"sk-toggleable__control sk-hidden--visually\" id=\"sk-estimator-id-1\" type=\"checkbox\" checked><label for=\"sk-estimator-id-1\" class=\"sk-toggleable__label sk-toggleable__label-arrow\">LogisticRegression</label><div class=\"sk-toggleable__content\"><pre>LogisticRegression()</pre></div></div></div></div></div>"
      ],
      "text/plain": [
       "LogisticRegression()"
      ]
     },
     "execution_count": 39,
     "metadata": {},
     "output_type": "execute_result"
    }
   ],
   "source": [
    "logis.fit(X_train, y_train)"
   ]
  },
  {
   "cell_type": "markdown",
   "metadata": {},
   "source": [
    "#### Calculando as predições."
   ]
  },
  {
   "cell_type": "code",
   "execution_count": 40,
   "metadata": {},
   "outputs": [],
   "source": [
    "y_predict = logis.predict(X_test)"
   ]
  },
  {
   "cell_type": "markdown",
   "metadata": {},
   "source": [
    "#### Avaliando o resultado."
   ]
  },
  {
   "cell_type": "code",
   "execution_count": 41,
   "metadata": {},
   "outputs": [
    {
     "name": "stdout",
     "output_type": "stream",
     "text": [
      "Accuracy = 0.89\n"
     ]
    }
   ],
   "source": [
    "accuracy_result(y_test, y_predict)"
   ]
  },
  {
   "cell_type": "code",
   "execution_count": 42,
   "metadata": {},
   "outputs": [
    {
     "name": "stdout",
     "output_type": "stream",
     "text": [
      "\n",
      "Logistic Regression AUC = 0.8793103448275862\n",
      "\n",
      "              precision    recall  f1-score   support\n",
      "\n",
      "           0       1.00      0.76      0.86        29\n",
      "           1       0.83      1.00      0.91        34\n",
      "\n",
      "    accuracy                           0.89        63\n",
      "   macro avg       0.91      0.88      0.88        63\n",
      "weighted avg       0.91      0.89      0.89        63\n",
      "\n"
     ]
    }
   ],
   "source": [
    "roc_classification_report_results(\"Logistic Regression\", y_test, y_predict)"
   ]
  },
  {
   "cell_type": "markdown",
   "metadata": {},
   "source": [
    "### Modelo de Arvore de decisão."
   ]
  },
  {
   "cell_type": "markdown",
   "metadata": {},
   "source": [
    "#### Instânciando o algoritmo."
   ]
  },
  {
   "cell_type": "code",
   "execution_count": 43,
   "metadata": {},
   "outputs": [],
   "source": [
    "from sklearn.tree import DecisionTreeClassifier\n",
    "dtree = DecisionTreeClassifier()"
   ]
  },
  {
   "cell_type": "markdown",
   "metadata": {},
   "source": [
    "#### Realizando o treinamento."
   ]
  },
  {
   "cell_type": "code",
   "execution_count": 44,
   "metadata": {},
   "outputs": [],
   "source": [
    "dtree = dtree.fit(X_train,y_train)"
   ]
  },
  {
   "cell_type": "markdown",
   "metadata": {},
   "source": [
    "#### Calculando as predições."
   ]
  },
  {
   "cell_type": "code",
   "execution_count": 45,
   "metadata": {},
   "outputs": [],
   "source": [
    "y_predict = dtree.predict(X_test)"
   ]
  },
  {
   "cell_type": "markdown",
   "metadata": {},
   "source": [
    "#### Avaliando o resultado."
   ]
  },
  {
   "cell_type": "code",
   "execution_count": 46,
   "metadata": {},
   "outputs": [
    {
     "name": "stdout",
     "output_type": "stream",
     "text": [
      "Accuracy = 0.97\n"
     ]
    }
   ],
   "source": [
    "accuracy_result(y_test, y_predict)"
   ]
  },
  {
   "cell_type": "code",
   "execution_count": 47,
   "metadata": {},
   "outputs": [
    {
     "name": "stdout",
     "output_type": "stream",
     "text": [
      "\n",
      "Decision Tree AUC = 0.9655172413793103\n",
      "\n",
      "              precision    recall  f1-score   support\n",
      "\n",
      "           0       1.00      0.93      0.96        29\n",
      "           1       0.94      1.00      0.97        34\n",
      "\n",
      "    accuracy                           0.97        63\n",
      "   macro avg       0.97      0.97      0.97        63\n",
      "weighted avg       0.97      0.97      0.97        63\n",
      "\n"
     ]
    }
   ],
   "source": [
    "roc_classification_report_results(\"Decision Tree\", y_test, y_predict)"
   ]
  },
  {
   "cell_type": "markdown",
   "metadata": {},
   "source": [
    "### Modelo de Arvore Aleatória (Random Forest)"
   ]
  },
  {
   "cell_type": "markdown",
   "metadata": {},
   "source": [
    "#### Instânciando o algoritmo."
   ]
  },
  {
   "cell_type": "code",
   "execution_count": 48,
   "metadata": {},
   "outputs": [],
   "source": [
    "from sklearn.ensemble import RandomForestClassifier\n",
    "\n",
    "rf = RandomForestClassifier()"
   ]
  },
  {
   "cell_type": "markdown",
   "metadata": {},
   "source": [
    "#### Realizando o treinamento."
   ]
  },
  {
   "cell_type": "code",
   "execution_count": 49,
   "metadata": {},
   "outputs": [],
   "source": [
    "rf = rf.fit(X_train,y_train)"
   ]
  },
  {
   "cell_type": "markdown",
   "metadata": {},
   "source": [
    "#### Calculando as predições."
   ]
  },
  {
   "cell_type": "code",
   "execution_count": 50,
   "metadata": {},
   "outputs": [],
   "source": [
    "y_predict = rf.predict(X_test)"
   ]
  },
  {
   "cell_type": "markdown",
   "metadata": {},
   "source": [
    "#### Avaliando o resultado."
   ]
  },
  {
   "cell_type": "code",
   "execution_count": 51,
   "metadata": {},
   "outputs": [
    {
     "name": "stdout",
     "output_type": "stream",
     "text": [
      "Accuracy = 1.00\n"
     ]
    }
   ],
   "source": [
    "accuracy_result(y_test, y_predict)"
   ]
  },
  {
   "cell_type": "code",
   "execution_count": 52,
   "metadata": {},
   "outputs": [
    {
     "name": "stdout",
     "output_type": "stream",
     "text": [
      "\n",
      "Random Forest AUC = 1.0\n",
      "\n",
      "              precision    recall  f1-score   support\n",
      "\n",
      "           0       1.00      1.00      1.00        29\n",
      "           1       1.00      1.00      1.00        34\n",
      "\n",
      "    accuracy                           1.00        63\n",
      "   macro avg       1.00      1.00      1.00        63\n",
      "weighted avg       1.00      1.00      1.00        63\n",
      "\n"
     ]
    }
   ],
   "source": [
    "roc_classification_report_results(\"Random Forest\", y_test, y_predict)"
   ]
  },
  {
   "cell_type": "markdown",
   "metadata": {},
   "source": [
    "### Pycaret"
   ]
  },
  {
   "cell_type": "markdown",
   "metadata": {},
   "source": [
    "#### Importando os métodos."
   ]
  },
  {
   "cell_type": "code",
   "execution_count": 53,
   "metadata": {},
   "outputs": [],
   "source": [
    "from pycaret.classification import *"
   ]
  },
  {
   "cell_type": "code",
   "execution_count": 54,
   "metadata": {},
   "outputs": [
    {
     "data": {
      "text/html": [
       "<div>\n",
       "<style scoped>\n",
       "    .dataframe tbody tr th:only-of-type {\n",
       "        vertical-align: middle;\n",
       "    }\n",
       "\n",
       "    .dataframe tbody tr th {\n",
       "        vertical-align: top;\n",
       "    }\n",
       "\n",
       "    .dataframe thead th {\n",
       "        text-align: right;\n",
       "    }\n",
       "</style>\n",
       "<table border=\"1\" class=\"dataframe\">\n",
       "  <thead>\n",
       "    <tr style=\"text-align: right;\">\n",
       "      <th></th>\n",
       "      <th>Department</th>\n",
       "      <th>DaysLateLast30</th>\n",
       "      <th>Absences</th>\n",
       "      <th>EmpSatisfaction</th>\n",
       "      <th>EngagementSurvey</th>\n",
       "      <th>PerformanceScore</th>\n",
       "      <th>Termd</th>\n",
       "      <th>SalaryLevel</th>\n",
       "      <th>TimeInCompany</th>\n",
       "      <th>SpecialProjectsCount</th>\n",
       "      <th>perfScoreSatisfaction</th>\n",
       "    </tr>\n",
       "  </thead>\n",
       "  <tbody>\n",
       "    <tr>\n",
       "      <th>0</th>\n",
       "      <td>3</td>\n",
       "      <td>0</td>\n",
       "      <td>1</td>\n",
       "      <td>5</td>\n",
       "      <td>4.60</td>\n",
       "      <td>0</td>\n",
       "      <td>0</td>\n",
       "      <td>2</td>\n",
       "      <td>8</td>\n",
       "      <td>0</td>\n",
       "      <td>0</td>\n",
       "    </tr>\n",
       "    <tr>\n",
       "      <th>1</th>\n",
       "      <td>2</td>\n",
       "      <td>0</td>\n",
       "      <td>17</td>\n",
       "      <td>3</td>\n",
       "      <td>4.96</td>\n",
       "      <td>1</td>\n",
       "      <td>1</td>\n",
       "      <td>0</td>\n",
       "      <td>2</td>\n",
       "      <td>6</td>\n",
       "      <td>0</td>\n",
       "    </tr>\n",
       "    <tr>\n",
       "      <th>2</th>\n",
       "      <td>3</td>\n",
       "      <td>0</td>\n",
       "      <td>3</td>\n",
       "      <td>3</td>\n",
       "      <td>3.02</td>\n",
       "      <td>1</td>\n",
       "      <td>1</td>\n",
       "      <td>2</td>\n",
       "      <td>2</td>\n",
       "      <td>0</td>\n",
       "      <td>0</td>\n",
       "    </tr>\n",
       "    <tr>\n",
       "      <th>3</th>\n",
       "      <td>3</td>\n",
       "      <td>0</td>\n",
       "      <td>15</td>\n",
       "      <td>5</td>\n",
       "      <td>4.84</td>\n",
       "      <td>1</td>\n",
       "      <td>0</td>\n",
       "      <td>2</td>\n",
       "      <td>11</td>\n",
       "      <td>0</td>\n",
       "      <td>1</td>\n",
       "    </tr>\n",
       "    <tr>\n",
       "      <th>4</th>\n",
       "      <td>3</td>\n",
       "      <td>0</td>\n",
       "      <td>2</td>\n",
       "      <td>4</td>\n",
       "      <td>5.00</td>\n",
       "      <td>1</td>\n",
       "      <td>1</td>\n",
       "      <td>1</td>\n",
       "      <td>6</td>\n",
       "      <td>0</td>\n",
       "      <td>0</td>\n",
       "    </tr>\n",
       "  </tbody>\n",
       "</table>\n",
       "</div>"
      ],
      "text/plain": [
       "   Department  DaysLateLast30  Absences  EmpSatisfaction  EngagementSurvey  \\\n",
       "0           3               0         1                5              4.60   \n",
       "1           2               0        17                3              4.96   \n",
       "2           3               0         3                3              3.02   \n",
       "3           3               0        15                5              4.84   \n",
       "4           3               0         2                4              5.00   \n",
       "\n",
       "   PerformanceScore  Termd  SalaryLevel  TimeInCompany  SpecialProjectsCount  \\\n",
       "0                 0      0            2              8                     0   \n",
       "1                 1      1            0              2                     6   \n",
       "2                 1      1            2              2                     0   \n",
       "3                 1      0            2             11                     0   \n",
       "4                 1      1            1              6                     0   \n",
       "\n",
       "   perfScoreSatisfaction  \n",
       "0                      0  \n",
       "1                      0  \n",
       "2                      0  \n",
       "3                      1  \n",
       "4                      0  "
      ]
     },
     "execution_count": 54,
     "metadata": {},
     "output_type": "execute_result"
    }
   ],
   "source": [
    "df.head()"
   ]
  },
  {
   "cell_type": "markdown",
   "metadata": {},
   "source": [
    "#### Definindo o Setup."
   ]
  },
  {
   "cell_type": "code",
   "execution_count": 55,
   "metadata": {},
   "outputs": [
    {
     "data": {
      "text/html": [
       "<style type=\"text/css\">\n",
       "#T_ad7c8_row8_col1, #T_ad7c8_row13_col1, #T_ad7c8_row15_col1 {\n",
       "  background-color: lightgreen;\n",
       "}\n",
       "</style>\n",
       "<table id=\"T_ad7c8\">\n",
       "  <thead>\n",
       "    <tr>\n",
       "      <th class=\"blank level0\" >&nbsp;</th>\n",
       "      <th id=\"T_ad7c8_level0_col0\" class=\"col_heading level0 col0\" >Description</th>\n",
       "      <th id=\"T_ad7c8_level0_col1\" class=\"col_heading level0 col1\" >Value</th>\n",
       "    </tr>\n",
       "  </thead>\n",
       "  <tbody>\n",
       "    <tr>\n",
       "      <th id=\"T_ad7c8_level0_row0\" class=\"row_heading level0 row0\" >0</th>\n",
       "      <td id=\"T_ad7c8_row0_col0\" class=\"data row0 col0\" >Session id</td>\n",
       "      <td id=\"T_ad7c8_row0_col1\" class=\"data row0 col1\" >1295</td>\n",
       "    </tr>\n",
       "    <tr>\n",
       "      <th id=\"T_ad7c8_level0_row1\" class=\"row_heading level0 row1\" >1</th>\n",
       "      <td id=\"T_ad7c8_row1_col0\" class=\"data row1 col0\" >Target</td>\n",
       "      <td id=\"T_ad7c8_row1_col1\" class=\"data row1 col1\" >PerformanceScore</td>\n",
       "    </tr>\n",
       "    <tr>\n",
       "      <th id=\"T_ad7c8_level0_row2\" class=\"row_heading level0 row2\" >2</th>\n",
       "      <td id=\"T_ad7c8_row2_col0\" class=\"data row2 col0\" >Target type</td>\n",
       "      <td id=\"T_ad7c8_row2_col1\" class=\"data row2 col1\" >Multiclass</td>\n",
       "    </tr>\n",
       "    <tr>\n",
       "      <th id=\"T_ad7c8_level0_row3\" class=\"row_heading level0 row3\" >3</th>\n",
       "      <td id=\"T_ad7c8_row3_col0\" class=\"data row3 col0\" >Original data shape</td>\n",
       "      <td id=\"T_ad7c8_row3_col1\" class=\"data row3 col1\" >(311, 10)</td>\n",
       "    </tr>\n",
       "    <tr>\n",
       "      <th id=\"T_ad7c8_level0_row4\" class=\"row_heading level0 row4\" >4</th>\n",
       "      <td id=\"T_ad7c8_row4_col0\" class=\"data row4 col0\" >Transformed data shape</td>\n",
       "      <td id=\"T_ad7c8_row4_col1\" class=\"data row4 col1\" >(770, 10)</td>\n",
       "    </tr>\n",
       "    <tr>\n",
       "      <th id=\"T_ad7c8_level0_row5\" class=\"row_heading level0 row5\" >5</th>\n",
       "      <td id=\"T_ad7c8_row5_col0\" class=\"data row5 col0\" >Transformed train set shape</td>\n",
       "      <td id=\"T_ad7c8_row5_col1\" class=\"data row5 col1\" >(676, 10)</td>\n",
       "    </tr>\n",
       "    <tr>\n",
       "      <th id=\"T_ad7c8_level0_row6\" class=\"row_heading level0 row6\" >6</th>\n",
       "      <td id=\"T_ad7c8_row6_col0\" class=\"data row6 col0\" >Transformed test set shape</td>\n",
       "      <td id=\"T_ad7c8_row6_col1\" class=\"data row6 col1\" >(94, 10)</td>\n",
       "    </tr>\n",
       "    <tr>\n",
       "      <th id=\"T_ad7c8_level0_row7\" class=\"row_heading level0 row7\" >7</th>\n",
       "      <td id=\"T_ad7c8_row7_col0\" class=\"data row7 col0\" >Numeric features</td>\n",
       "      <td id=\"T_ad7c8_row7_col1\" class=\"data row7 col1\" >1</td>\n",
       "    </tr>\n",
       "    <tr>\n",
       "      <th id=\"T_ad7c8_level0_row8\" class=\"row_heading level0 row8\" >8</th>\n",
       "      <td id=\"T_ad7c8_row8_col0\" class=\"data row8 col0\" >Preprocess</td>\n",
       "      <td id=\"T_ad7c8_row8_col1\" class=\"data row8 col1\" >True</td>\n",
       "    </tr>\n",
       "    <tr>\n",
       "      <th id=\"T_ad7c8_level0_row9\" class=\"row_heading level0 row9\" >9</th>\n",
       "      <td id=\"T_ad7c8_row9_col0\" class=\"data row9 col0\" >Imputation type</td>\n",
       "      <td id=\"T_ad7c8_row9_col1\" class=\"data row9 col1\" >simple</td>\n",
       "    </tr>\n",
       "    <tr>\n",
       "      <th id=\"T_ad7c8_level0_row10\" class=\"row_heading level0 row10\" >10</th>\n",
       "      <td id=\"T_ad7c8_row10_col0\" class=\"data row10 col0\" >Numeric imputation</td>\n",
       "      <td id=\"T_ad7c8_row10_col1\" class=\"data row10 col1\" >mean</td>\n",
       "    </tr>\n",
       "    <tr>\n",
       "      <th id=\"T_ad7c8_level0_row11\" class=\"row_heading level0 row11\" >11</th>\n",
       "      <td id=\"T_ad7c8_row11_col0\" class=\"data row11 col0\" >Categorical imputation</td>\n",
       "      <td id=\"T_ad7c8_row11_col1\" class=\"data row11 col1\" >constant</td>\n",
       "    </tr>\n",
       "    <tr>\n",
       "      <th id=\"T_ad7c8_level0_row12\" class=\"row_heading level0 row12\" >12</th>\n",
       "      <td id=\"T_ad7c8_row12_col0\" class=\"data row12 col0\" >Low variance threshold</td>\n",
       "      <td id=\"T_ad7c8_row12_col1\" class=\"data row12 col1\" >0</td>\n",
       "    </tr>\n",
       "    <tr>\n",
       "      <th id=\"T_ad7c8_level0_row13\" class=\"row_heading level0 row13\" >13</th>\n",
       "      <td id=\"T_ad7c8_row13_col0\" class=\"data row13 col0\" >Fix imbalance</td>\n",
       "      <td id=\"T_ad7c8_row13_col1\" class=\"data row13 col1\" >True</td>\n",
       "    </tr>\n",
       "    <tr>\n",
       "      <th id=\"T_ad7c8_level0_row14\" class=\"row_heading level0 row14\" >14</th>\n",
       "      <td id=\"T_ad7c8_row14_col0\" class=\"data row14 col0\" >Fix imbalance method</td>\n",
       "      <td id=\"T_ad7c8_row14_col1\" class=\"data row14 col1\" >None</td>\n",
       "    </tr>\n",
       "    <tr>\n",
       "      <th id=\"T_ad7c8_level0_row15\" class=\"row_heading level0 row15\" >15</th>\n",
       "      <td id=\"T_ad7c8_row15_col0\" class=\"data row15 col0\" >Normalize</td>\n",
       "      <td id=\"T_ad7c8_row15_col1\" class=\"data row15 col1\" >True</td>\n",
       "    </tr>\n",
       "    <tr>\n",
       "      <th id=\"T_ad7c8_level0_row16\" class=\"row_heading level0 row16\" >16</th>\n",
       "      <td id=\"T_ad7c8_row16_col0\" class=\"data row16 col0\" >Normalize method</td>\n",
       "      <td id=\"T_ad7c8_row16_col1\" class=\"data row16 col1\" >minmax</td>\n",
       "    </tr>\n",
       "    <tr>\n",
       "      <th id=\"T_ad7c8_level0_row17\" class=\"row_heading level0 row17\" >17</th>\n",
       "      <td id=\"T_ad7c8_row17_col0\" class=\"data row17 col0\" >Fold Generator</td>\n",
       "      <td id=\"T_ad7c8_row17_col1\" class=\"data row17 col1\" >StratifiedKFold</td>\n",
       "    </tr>\n",
       "    <tr>\n",
       "      <th id=\"T_ad7c8_level0_row18\" class=\"row_heading level0 row18\" >18</th>\n",
       "      <td id=\"T_ad7c8_row18_col0\" class=\"data row18 col0\" >Fold Number</td>\n",
       "      <td id=\"T_ad7c8_row18_col1\" class=\"data row18 col1\" >10</td>\n",
       "    </tr>\n",
       "    <tr>\n",
       "      <th id=\"T_ad7c8_level0_row19\" class=\"row_heading level0 row19\" >19</th>\n",
       "      <td id=\"T_ad7c8_row19_col0\" class=\"data row19 col0\" >CPU Jobs</td>\n",
       "      <td id=\"T_ad7c8_row19_col1\" class=\"data row19 col1\" >-1</td>\n",
       "    </tr>\n",
       "    <tr>\n",
       "      <th id=\"T_ad7c8_level0_row20\" class=\"row_heading level0 row20\" >20</th>\n",
       "      <td id=\"T_ad7c8_row20_col0\" class=\"data row20 col0\" >Use GPU</td>\n",
       "      <td id=\"T_ad7c8_row20_col1\" class=\"data row20 col1\" >False</td>\n",
       "    </tr>\n",
       "    <tr>\n",
       "      <th id=\"T_ad7c8_level0_row21\" class=\"row_heading level0 row21\" >21</th>\n",
       "      <td id=\"T_ad7c8_row21_col0\" class=\"data row21 col0\" >Log Experiment</td>\n",
       "      <td id=\"T_ad7c8_row21_col1\" class=\"data row21 col1\" >False</td>\n",
       "    </tr>\n",
       "    <tr>\n",
       "      <th id=\"T_ad7c8_level0_row22\" class=\"row_heading level0 row22\" >22</th>\n",
       "      <td id=\"T_ad7c8_row22_col0\" class=\"data row22 col0\" >Experiment Name</td>\n",
       "      <td id=\"T_ad7c8_row22_col1\" class=\"data row22 col1\" >clf-default-name</td>\n",
       "    </tr>\n",
       "    <tr>\n",
       "      <th id=\"T_ad7c8_level0_row23\" class=\"row_heading level0 row23\" >23</th>\n",
       "      <td id=\"T_ad7c8_row23_col0\" class=\"data row23 col0\" >USI</td>\n",
       "      <td id=\"T_ad7c8_row23_col1\" class=\"data row23 col1\" >c654</td>\n",
       "    </tr>\n",
       "  </tbody>\n",
       "</table>\n"
      ],
      "text/plain": [
       "<pandas.io.formats.style.Styler at 0x15f9db2b0>"
      ]
     },
     "metadata": {},
     "output_type": "display_data"
    }
   ],
   "source": [
    "s = setup( df[['Department', 'DaysLateLast30', 'Absences', 'EmpSatisfaction',\n",
    "       'EngagementSurvey', 'PerformanceScore', 'Termd', 'SalaryLevel',\n",
    "       'TimeInCompany', 'SpecialProjectsCount']]\n",
    "          ,target = \"PerformanceScore\"\n",
    "          ,numeric_features = [\"TimeInCompany\"]\n",
    "          ,normalize = True\n",
    "          ,normalize_method = \"minmax\"\n",
    "          ,data_split_stratify = True\n",
    "          ,fix_imbalance = True,\n",
    "         )"
   ]
  },
  {
   "cell_type": "markdown",
   "metadata": {},
   "source": [
    "#### Comparando diferentes modelos."
   ]
  },
  {
   "cell_type": "code",
   "execution_count": 56,
   "metadata": {},
   "outputs": [
    {
     "data": {
      "text/html": [],
      "text/plain": [
       "<IPython.core.display.HTML object>"
      ]
     },
     "metadata": {},
     "output_type": "display_data"
    },
    {
     "data": {
      "text/html": [
       "<style type=\"text/css\">\n",
       "#T_9df6e th {\n",
       "  text-align: left;\n",
       "}\n",
       "#T_9df6e_row0_col0, #T_9df6e_row0_col1, #T_9df6e_row0_col3, #T_9df6e_row0_col4, #T_9df6e_row0_col5, #T_9df6e_row0_col6, #T_9df6e_row0_col7, #T_9df6e_row1_col0, #T_9df6e_row1_col1, #T_9df6e_row1_col2, #T_9df6e_row1_col3, #T_9df6e_row1_col4, #T_9df6e_row1_col5, #T_9df6e_row1_col6, #T_9df6e_row1_col7, #T_9df6e_row2_col0, #T_9df6e_row2_col1, #T_9df6e_row2_col2, #T_9df6e_row2_col3, #T_9df6e_row2_col4, #T_9df6e_row2_col5, #T_9df6e_row2_col6, #T_9df6e_row2_col7, #T_9df6e_row3_col0, #T_9df6e_row3_col1, #T_9df6e_row3_col2, #T_9df6e_row3_col3, #T_9df6e_row3_col4, #T_9df6e_row3_col5, #T_9df6e_row3_col6, #T_9df6e_row3_col7, #T_9df6e_row4_col0, #T_9df6e_row4_col1, #T_9df6e_row4_col2, #T_9df6e_row4_col3, #T_9df6e_row4_col4, #T_9df6e_row4_col5, #T_9df6e_row4_col6, #T_9df6e_row4_col7, #T_9df6e_row5_col0, #T_9df6e_row5_col1, #T_9df6e_row5_col2, #T_9df6e_row5_col3, #T_9df6e_row5_col4, #T_9df6e_row5_col5, #T_9df6e_row5_col6, #T_9df6e_row5_col7, #T_9df6e_row6_col0, #T_9df6e_row6_col1, #T_9df6e_row6_col2, #T_9df6e_row6_col3, #T_9df6e_row6_col4, #T_9df6e_row6_col5, #T_9df6e_row6_col6, #T_9df6e_row6_col7, #T_9df6e_row7_col0, #T_9df6e_row7_col1, #T_9df6e_row7_col2, #T_9df6e_row7_col3, #T_9df6e_row7_col4, #T_9df6e_row7_col5, #T_9df6e_row7_col6, #T_9df6e_row7_col7, #T_9df6e_row8_col0, #T_9df6e_row8_col1, #T_9df6e_row8_col2, #T_9df6e_row8_col3, #T_9df6e_row8_col4, #T_9df6e_row8_col5, #T_9df6e_row8_col6, #T_9df6e_row8_col7, #T_9df6e_row9_col0, #T_9df6e_row9_col2, #T_9df6e_row9_col4, #T_9df6e_row10_col0, #T_9df6e_row10_col1, #T_9df6e_row10_col2, #T_9df6e_row10_col3, #T_9df6e_row10_col4, #T_9df6e_row10_col5, #T_9df6e_row10_col6, #T_9df6e_row10_col7, #T_9df6e_row11_col0, #T_9df6e_row11_col1, #T_9df6e_row11_col2, #T_9df6e_row11_col3, #T_9df6e_row11_col4, #T_9df6e_row11_col5, #T_9df6e_row11_col6, #T_9df6e_row11_col7, #T_9df6e_row12_col0, #T_9df6e_row12_col1, #T_9df6e_row12_col2, #T_9df6e_row12_col3, #T_9df6e_row12_col4, #T_9df6e_row12_col5, #T_9df6e_row12_col6, #T_9df6e_row12_col7, #T_9df6e_row13_col0, #T_9df6e_row13_col1, #T_9df6e_row13_col2, #T_9df6e_row13_col3, #T_9df6e_row13_col5, #T_9df6e_row13_col6, #T_9df6e_row13_col7 {\n",
       "  text-align: left;\n",
       "}\n",
       "#T_9df6e_row0_col2, #T_9df6e_row9_col1, #T_9df6e_row9_col3, #T_9df6e_row9_col5, #T_9df6e_row9_col6, #T_9df6e_row9_col7, #T_9df6e_row13_col4 {\n",
       "  text-align: left;\n",
       "  background-color: yellow;\n",
       "}\n",
       "#T_9df6e_row0_col8, #T_9df6e_row1_col8, #T_9df6e_row3_col8, #T_9df6e_row4_col8, #T_9df6e_row5_col8, #T_9df6e_row6_col8, #T_9df6e_row7_col8, #T_9df6e_row8_col8, #T_9df6e_row9_col8, #T_9df6e_row11_col8, #T_9df6e_row12_col8 {\n",
       "  text-align: left;\n",
       "  background-color: lightgrey;\n",
       "}\n",
       "#T_9df6e_row2_col8, #T_9df6e_row10_col8, #T_9df6e_row13_col8 {\n",
       "  text-align: left;\n",
       "  background-color: yellow;\n",
       "  background-color: lightgrey;\n",
       "}\n",
       "</style>\n",
       "<table id=\"T_9df6e\">\n",
       "  <thead>\n",
       "    <tr>\n",
       "      <th class=\"blank level0\" >&nbsp;</th>\n",
       "      <th id=\"T_9df6e_level0_col0\" class=\"col_heading level0 col0\" >Model</th>\n",
       "      <th id=\"T_9df6e_level0_col1\" class=\"col_heading level0 col1\" >Accuracy</th>\n",
       "      <th id=\"T_9df6e_level0_col2\" class=\"col_heading level0 col2\" >AUC</th>\n",
       "      <th id=\"T_9df6e_level0_col3\" class=\"col_heading level0 col3\" >Recall</th>\n",
       "      <th id=\"T_9df6e_level0_col4\" class=\"col_heading level0 col4\" >Prec.</th>\n",
       "      <th id=\"T_9df6e_level0_col5\" class=\"col_heading level0 col5\" >F1</th>\n",
       "      <th id=\"T_9df6e_level0_col6\" class=\"col_heading level0 col6\" >Kappa</th>\n",
       "      <th id=\"T_9df6e_level0_col7\" class=\"col_heading level0 col7\" >MCC</th>\n",
       "      <th id=\"T_9df6e_level0_col8\" class=\"col_heading level0 col8\" >TT (Sec)</th>\n",
       "    </tr>\n",
       "  </thead>\n",
       "  <tbody>\n",
       "    <tr>\n",
       "      <th id=\"T_9df6e_level0_row0\" class=\"row_heading level0 row0\" >lr</th>\n",
       "      <td id=\"T_9df6e_row0_col0\" class=\"data row0 col0\" >Logistic Regression</td>\n",
       "      <td id=\"T_9df6e_row0_col1\" class=\"data row0 col1\" >0.6358</td>\n",
       "      <td id=\"T_9df6e_row0_col2\" class=\"data row0 col2\" >0.8217</td>\n",
       "      <td id=\"T_9df6e_row0_col3\" class=\"data row0 col3\" >0.6358</td>\n",
       "      <td id=\"T_9df6e_row0_col4\" class=\"data row0 col4\" >0.8137</td>\n",
       "      <td id=\"T_9df6e_row0_col5\" class=\"data row0 col5\" >0.6865</td>\n",
       "      <td id=\"T_9df6e_row0_col6\" class=\"data row0 col6\" >0.3116</td>\n",
       "      <td id=\"T_9df6e_row0_col7\" class=\"data row0 col7\" >0.3601</td>\n",
       "      <td id=\"T_9df6e_row0_col8\" class=\"data row0 col8\" >0.5320</td>\n",
       "    </tr>\n",
       "    <tr>\n",
       "      <th id=\"T_9df6e_level0_row1\" class=\"row_heading level0 row1\" >lda</th>\n",
       "      <td id=\"T_9df6e_row1_col0\" class=\"data row1 col0\" >Linear Discriminant Analysis</td>\n",
       "      <td id=\"T_9df6e_row1_col1\" class=\"data row1 col1\" >0.6219</td>\n",
       "      <td id=\"T_9df6e_row1_col2\" class=\"data row1 col2\" >0.8202</td>\n",
       "      <td id=\"T_9df6e_row1_col3\" class=\"data row1 col3\" >0.6219</td>\n",
       "      <td id=\"T_9df6e_row1_col4\" class=\"data row1 col4\" >0.8098</td>\n",
       "      <td id=\"T_9df6e_row1_col5\" class=\"data row1 col5\" >0.6718</td>\n",
       "      <td id=\"T_9df6e_row1_col6\" class=\"data row1 col6\" >0.3083</td>\n",
       "      <td id=\"T_9df6e_row1_col7\" class=\"data row1 col7\" >0.3627</td>\n",
       "      <td id=\"T_9df6e_row1_col8\" class=\"data row1 col8\" >0.0100</td>\n",
       "    </tr>\n",
       "    <tr>\n",
       "      <th id=\"T_9df6e_level0_row2\" class=\"row_heading level0 row2\" >nb</th>\n",
       "      <td id=\"T_9df6e_row2_col0\" class=\"data row2 col0\" >Naive Bayes</td>\n",
       "      <td id=\"T_9df6e_row2_col1\" class=\"data row2 col1\" >0.3464</td>\n",
       "      <td id=\"T_9df6e_row2_col2\" class=\"data row2 col2\" >0.7406</td>\n",
       "      <td id=\"T_9df6e_row2_col3\" class=\"data row2 col3\" >0.3464</td>\n",
       "      <td id=\"T_9df6e_row2_col4\" class=\"data row2 col4\" >0.7392</td>\n",
       "      <td id=\"T_9df6e_row2_col5\" class=\"data row2 col5\" >0.3697</td>\n",
       "      <td id=\"T_9df6e_row2_col6\" class=\"data row2 col6\" >0.1185</td>\n",
       "      <td id=\"T_9df6e_row2_col7\" class=\"data row2 col7\" >0.2002</td>\n",
       "      <td id=\"T_9df6e_row2_col8\" class=\"data row2 col8\" >0.0080</td>\n",
       "    </tr>\n",
       "    <tr>\n",
       "      <th id=\"T_9df6e_level0_row3\" class=\"row_heading level0 row3\" >et</th>\n",
       "      <td id=\"T_9df6e_row3_col0\" class=\"data row3 col0\" >Extra Trees Classifier</td>\n",
       "      <td id=\"T_9df6e_row3_col1\" class=\"data row3 col1\" >0.7742</td>\n",
       "      <td id=\"T_9df6e_row3_col2\" class=\"data row3 col2\" >0.7384</td>\n",
       "      <td id=\"T_9df6e_row3_col3\" class=\"data row3 col3\" >0.7742</td>\n",
       "      <td id=\"T_9df6e_row3_col4\" class=\"data row3 col4\" >0.7530</td>\n",
       "      <td id=\"T_9df6e_row3_col5\" class=\"data row3 col5\" >0.7590</td>\n",
       "      <td id=\"T_9df6e_row3_col6\" class=\"data row3 col6\" >0.3512</td>\n",
       "      <td id=\"T_9df6e_row3_col7\" class=\"data row3 col7\" >0.3547</td>\n",
       "      <td id=\"T_9df6e_row3_col8\" class=\"data row3 col8\" >0.0300</td>\n",
       "    </tr>\n",
       "    <tr>\n",
       "      <th id=\"T_9df6e_level0_row4\" class=\"row_heading level0 row4\" >knn</th>\n",
       "      <td id=\"T_9df6e_row4_col0\" class=\"data row4 col0\" >K Neighbors Classifier</td>\n",
       "      <td id=\"T_9df6e_row4_col1\" class=\"data row4 col1\" >0.6129</td>\n",
       "      <td id=\"T_9df6e_row4_col2\" class=\"data row4 col2\" >0.7325</td>\n",
       "      <td id=\"T_9df6e_row4_col3\" class=\"data row4 col3\" >0.6129</td>\n",
       "      <td id=\"T_9df6e_row4_col4\" class=\"data row4 col4\" >0.7595</td>\n",
       "      <td id=\"T_9df6e_row4_col5\" class=\"data row4 col5\" >0.6624</td>\n",
       "      <td id=\"T_9df6e_row4_col6\" class=\"data row4 col6\" >0.2269</td>\n",
       "      <td id=\"T_9df6e_row4_col7\" class=\"data row4 col7\" >0.2489</td>\n",
       "      <td id=\"T_9df6e_row4_col8\" class=\"data row4 col8\" >0.1460</td>\n",
       "    </tr>\n",
       "    <tr>\n",
       "      <th id=\"T_9df6e_level0_row5\" class=\"row_heading level0 row5\" >rf</th>\n",
       "      <td id=\"T_9df6e_row5_col0\" class=\"data row5 col0\" >Random Forest Classifier</td>\n",
       "      <td id=\"T_9df6e_row5_col1\" class=\"data row5 col1\" >0.7925</td>\n",
       "      <td id=\"T_9df6e_row5_col2\" class=\"data row5 col2\" >0.7171</td>\n",
       "      <td id=\"T_9df6e_row5_col3\" class=\"data row5 col3\" >0.7925</td>\n",
       "      <td id=\"T_9df6e_row5_col4\" class=\"data row5 col4\" >0.7535</td>\n",
       "      <td id=\"T_9df6e_row5_col5\" class=\"data row5 col5\" >0.7685</td>\n",
       "      <td id=\"T_9df6e_row5_col6\" class=\"data row5 col6\" >0.3921</td>\n",
       "      <td id=\"T_9df6e_row5_col7\" class=\"data row5 col7\" >0.4038</td>\n",
       "      <td id=\"T_9df6e_row5_col8\" class=\"data row5 col8\" >0.0360</td>\n",
       "    </tr>\n",
       "    <tr>\n",
       "      <th id=\"T_9df6e_level0_row6\" class=\"row_heading level0 row6\" >lightgbm</th>\n",
       "      <td id=\"T_9df6e_row6_col0\" class=\"data row6 col0\" >Light Gradient Boosting Machine</td>\n",
       "      <td id=\"T_9df6e_row6_col1\" class=\"data row6 col1\" >0.7879</td>\n",
       "      <td id=\"T_9df6e_row6_col2\" class=\"data row6 col2\" >0.7120</td>\n",
       "      <td id=\"T_9df6e_row6_col3\" class=\"data row6 col3\" >0.7879</td>\n",
       "      <td id=\"T_9df6e_row6_col4\" class=\"data row6 col4\" >0.7600</td>\n",
       "      <td id=\"T_9df6e_row6_col5\" class=\"data row6 col5\" >0.7698</td>\n",
       "      <td id=\"T_9df6e_row6_col6\" class=\"data row6 col6\" >0.3860</td>\n",
       "      <td id=\"T_9df6e_row6_col7\" class=\"data row6 col7\" >0.3943</td>\n",
       "      <td id=\"T_9df6e_row6_col8\" class=\"data row6 col8\" >0.0320</td>\n",
       "    </tr>\n",
       "    <tr>\n",
       "      <th id=\"T_9df6e_level0_row7\" class=\"row_heading level0 row7\" >gbc</th>\n",
       "      <td id=\"T_9df6e_row7_col0\" class=\"data row7 col0\" >Gradient Boosting Classifier</td>\n",
       "      <td id=\"T_9df6e_row7_col1\" class=\"data row7 col1\" >0.7559</td>\n",
       "      <td id=\"T_9df6e_row7_col2\" class=\"data row7 col2\" >0.6834</td>\n",
       "      <td id=\"T_9df6e_row7_col3\" class=\"data row7 col3\" >0.7559</td>\n",
       "      <td id=\"T_9df6e_row7_col4\" class=\"data row7 col4\" >0.7454</td>\n",
       "      <td id=\"T_9df6e_row7_col5\" class=\"data row7 col5\" >0.7434</td>\n",
       "      <td id=\"T_9df6e_row7_col6\" class=\"data row7 col6\" >0.3007</td>\n",
       "      <td id=\"T_9df6e_row7_col7\" class=\"data row7 col7\" >0.3052</td>\n",
       "      <td id=\"T_9df6e_row7_col8\" class=\"data row7 col8\" >0.0720</td>\n",
       "    </tr>\n",
       "    <tr>\n",
       "      <th id=\"T_9df6e_level0_row8\" class=\"row_heading level0 row8\" >dt</th>\n",
       "      <td id=\"T_9df6e_row8_col0\" class=\"data row8 col0\" >Decision Tree Classifier</td>\n",
       "      <td id=\"T_9df6e_row8_col1\" class=\"data row8 col1\" >0.7144</td>\n",
       "      <td id=\"T_9df6e_row8_col2\" class=\"data row8 col2\" >0.6678</td>\n",
       "      <td id=\"T_9df6e_row8_col3\" class=\"data row8 col3\" >0.7144</td>\n",
       "      <td id=\"T_9df6e_row8_col4\" class=\"data row8 col4\" >0.7599</td>\n",
       "      <td id=\"T_9df6e_row8_col5\" class=\"data row8 col5\" >0.7290</td>\n",
       "      <td id=\"T_9df6e_row8_col6\" class=\"data row8 col6\" >0.2985</td>\n",
       "      <td id=\"T_9df6e_row8_col7\" class=\"data row8 col7\" >0.3026</td>\n",
       "      <td id=\"T_9df6e_row8_col8\" class=\"data row8 col8\" >0.0100</td>\n",
       "    </tr>\n",
       "    <tr>\n",
       "      <th id=\"T_9df6e_level0_row9\" class=\"row_heading level0 row9\" >ada</th>\n",
       "      <td id=\"T_9df6e_row9_col0\" class=\"data row9 col0\" >Ada Boost Classifier</td>\n",
       "      <td id=\"T_9df6e_row9_col1\" class=\"data row9 col1\" >0.8297</td>\n",
       "      <td id=\"T_9df6e_row9_col2\" class=\"data row9 col2\" >0.6657</td>\n",
       "      <td id=\"T_9df6e_row9_col3\" class=\"data row9 col3\" >0.8297</td>\n",
       "      <td id=\"T_9df6e_row9_col4\" class=\"data row9 col4\" >0.7237</td>\n",
       "      <td id=\"T_9df6e_row9_col5\" class=\"data row9 col5\" >0.7725</td>\n",
       "      <td id=\"T_9df6e_row9_col6\" class=\"data row9 col6\" >0.4275</td>\n",
       "      <td id=\"T_9df6e_row9_col7\" class=\"data row9 col7\" >0.4771</td>\n",
       "      <td id=\"T_9df6e_row9_col8\" class=\"data row9 col8\" >0.0160</td>\n",
       "    </tr>\n",
       "    <tr>\n",
       "      <th id=\"T_9df6e_level0_row10\" class=\"row_heading level0 row10\" >dummy</th>\n",
       "      <td id=\"T_9df6e_row10_col0\" class=\"data row10 col0\" >Dummy Classifier</td>\n",
       "      <td id=\"T_9df6e_row10_col1\" class=\"data row10 col1\" >0.1199</td>\n",
       "      <td id=\"T_9df6e_row10_col2\" class=\"data row10 col2\" >0.5000</td>\n",
       "      <td id=\"T_9df6e_row10_col3\" class=\"data row10 col3\" >0.1199</td>\n",
       "      <td id=\"T_9df6e_row10_col4\" class=\"data row10 col4\" >0.0145</td>\n",
       "      <td id=\"T_9df6e_row10_col5\" class=\"data row10 col5\" >0.0258</td>\n",
       "      <td id=\"T_9df6e_row10_col6\" class=\"data row10 col6\" >0.0000</td>\n",
       "      <td id=\"T_9df6e_row10_col7\" class=\"data row10 col7\" >0.0000</td>\n",
       "      <td id=\"T_9df6e_row10_col8\" class=\"data row10 col8\" >0.0080</td>\n",
       "    </tr>\n",
       "    <tr>\n",
       "      <th id=\"T_9df6e_level0_row11\" class=\"row_heading level0 row11\" >qda</th>\n",
       "      <td id=\"T_9df6e_row11_col0\" class=\"data row11 col0\" >Quadratic Discriminant Analysis</td>\n",
       "      <td id=\"T_9df6e_row11_col1\" class=\"data row11 col1\" >0.6104</td>\n",
       "      <td id=\"T_9df6e_row11_col2\" class=\"data row11 col2\" >0.4966</td>\n",
       "      <td id=\"T_9df6e_row11_col3\" class=\"data row11 col3\" >0.6104</td>\n",
       "      <td id=\"T_9df6e_row11_col4\" class=\"data row11 col4\" >0.5701</td>\n",
       "      <td id=\"T_9df6e_row11_col5\" class=\"data row11 col5\" >0.5787</td>\n",
       "      <td id=\"T_9df6e_row11_col6\" class=\"data row11 col6\" >0.2453</td>\n",
       "      <td id=\"T_9df6e_row11_col7\" class=\"data row11 col7\" >0.2778</td>\n",
       "      <td id=\"T_9df6e_row11_col8\" class=\"data row11 col8\" >0.0100</td>\n",
       "    </tr>\n",
       "    <tr>\n",
       "      <th id=\"T_9df6e_level0_row12\" class=\"row_heading level0 row12\" >svm</th>\n",
       "      <td id=\"T_9df6e_row12_col0\" class=\"data row12 col0\" >SVM - Linear Kernel</td>\n",
       "      <td id=\"T_9df6e_row12_col1\" class=\"data row12 col1\" >0.5576</td>\n",
       "      <td id=\"T_9df6e_row12_col2\" class=\"data row12 col2\" >0.0000</td>\n",
       "      <td id=\"T_9df6e_row12_col3\" class=\"data row12 col3\" >0.5576</td>\n",
       "      <td id=\"T_9df6e_row12_col4\" class=\"data row12 col4\" >0.8151</td>\n",
       "      <td id=\"T_9df6e_row12_col5\" class=\"data row12 col5\" >0.6051</td>\n",
       "      <td id=\"T_9df6e_row12_col6\" class=\"data row12 col6\" >0.2707</td>\n",
       "      <td id=\"T_9df6e_row12_col7\" class=\"data row12 col7\" >0.3478</td>\n",
       "      <td id=\"T_9df6e_row12_col8\" class=\"data row12 col8\" >0.0140</td>\n",
       "    </tr>\n",
       "    <tr>\n",
       "      <th id=\"T_9df6e_level0_row13\" class=\"row_heading level0 row13\" >ridge</th>\n",
       "      <td id=\"T_9df6e_row13_col0\" class=\"data row13 col0\" >Ridge Classifier</td>\n",
       "      <td id=\"T_9df6e_row13_col1\" class=\"data row13 col1\" >0.6265</td>\n",
       "      <td id=\"T_9df6e_row13_col2\" class=\"data row13 col2\" >0.0000</td>\n",
       "      <td id=\"T_9df6e_row13_col3\" class=\"data row13 col3\" >0.6265</td>\n",
       "      <td id=\"T_9df6e_row13_col4\" class=\"data row13 col4\" >0.8189</td>\n",
       "      <td id=\"T_9df6e_row13_col5\" class=\"data row13 col5\" >0.6813</td>\n",
       "      <td id=\"T_9df6e_row13_col6\" class=\"data row13 col6\" >0.3200</td>\n",
       "      <td id=\"T_9df6e_row13_col7\" class=\"data row13 col7\" >0.3758</td>\n",
       "      <td id=\"T_9df6e_row13_col8\" class=\"data row13 col8\" >0.0080</td>\n",
       "    </tr>\n",
       "  </tbody>\n",
       "</table>\n"
      ],
      "text/plain": [
       "<pandas.io.formats.style.Styler at 0x163e9f100>"
      ]
     },
     "metadata": {},
     "output_type": "display_data"
    },
    {
     "data": {
      "application/vnd.jupyter.widget-view+json": {
       "model_id": "4462c36b2cdc4f76adf08b14b70d4cfa",
       "version_major": 2,
       "version_minor": 0
      },
      "text/plain": [
       "Processing:   0%|          | 0/61 [00:00<?, ?it/s]"
      ]
     },
     "metadata": {},
     "output_type": "display_data"
    }
   ],
   "source": [
    "best = compare_models(fold = 5,sort = 'AUC',)"
   ]
  },
  {
   "cell_type": "markdown",
   "metadata": {},
   "source": [
    "#### Criando o modelo."
   ]
  },
  {
   "cell_type": "code",
   "execution_count": 57,
   "metadata": {},
   "outputs": [
    {
     "data": {
      "text/html": [],
      "text/plain": [
       "<IPython.core.display.HTML object>"
      ]
     },
     "metadata": {},
     "output_type": "display_data"
    },
    {
     "data": {
      "text/html": [
       "<style type=\"text/css\">\n",
       "#T_b7dd2_row5_col0, #T_b7dd2_row5_col1, #T_b7dd2_row5_col2, #T_b7dd2_row5_col3, #T_b7dd2_row5_col4, #T_b7dd2_row5_col5, #T_b7dd2_row5_col6 {\n",
       "  background: yellow;\n",
       "}\n",
       "</style>\n",
       "<table id=\"T_b7dd2\">\n",
       "  <thead>\n",
       "    <tr>\n",
       "      <th class=\"blank level0\" >&nbsp;</th>\n",
       "      <th id=\"T_b7dd2_level0_col0\" class=\"col_heading level0 col0\" >Accuracy</th>\n",
       "      <th id=\"T_b7dd2_level0_col1\" class=\"col_heading level0 col1\" >AUC</th>\n",
       "      <th id=\"T_b7dd2_level0_col2\" class=\"col_heading level0 col2\" >Recall</th>\n",
       "      <th id=\"T_b7dd2_level0_col3\" class=\"col_heading level0 col3\" >Prec.</th>\n",
       "      <th id=\"T_b7dd2_level0_col4\" class=\"col_heading level0 col4\" >F1</th>\n",
       "      <th id=\"T_b7dd2_level0_col5\" class=\"col_heading level0 col5\" >Kappa</th>\n",
       "      <th id=\"T_b7dd2_level0_col6\" class=\"col_heading level0 col6\" >MCC</th>\n",
       "    </tr>\n",
       "    <tr>\n",
       "      <th class=\"index_name level0\" >Fold</th>\n",
       "      <th class=\"blank col0\" >&nbsp;</th>\n",
       "      <th class=\"blank col1\" >&nbsp;</th>\n",
       "      <th class=\"blank col2\" >&nbsp;</th>\n",
       "      <th class=\"blank col3\" >&nbsp;</th>\n",
       "      <th class=\"blank col4\" >&nbsp;</th>\n",
       "      <th class=\"blank col5\" >&nbsp;</th>\n",
       "      <th class=\"blank col6\" >&nbsp;</th>\n",
       "    </tr>\n",
       "  </thead>\n",
       "  <tbody>\n",
       "    <tr>\n",
       "      <th id=\"T_b7dd2_level0_row0\" class=\"row_heading level0 row0\" >0</th>\n",
       "      <td id=\"T_b7dd2_row0_col0\" class=\"data row0 col0\" >0.7045</td>\n",
       "      <td id=\"T_b7dd2_row0_col1\" class=\"data row0 col1\" >0.6799</td>\n",
       "      <td id=\"T_b7dd2_row0_col2\" class=\"data row0 col2\" >0.7045</td>\n",
       "      <td id=\"T_b7dd2_row0_col3\" class=\"data row0 col3\" >0.6971</td>\n",
       "      <td id=\"T_b7dd2_row0_col4\" class=\"data row0 col4\" >0.6995</td>\n",
       "      <td id=\"T_b7dd2_row0_col5\" class=\"data row0 col5\" >0.1955</td>\n",
       "      <td id=\"T_b7dd2_row0_col6\" class=\"data row0 col6\" >0.1960</td>\n",
       "    </tr>\n",
       "    <tr>\n",
       "      <th id=\"T_b7dd2_level0_row1\" class=\"row_heading level0 row1\" >1</th>\n",
       "      <td id=\"T_b7dd2_row1_col0\" class=\"data row1 col0\" >0.7727</td>\n",
       "      <td id=\"T_b7dd2_row1_col1\" class=\"data row1 col1\" >0.7505</td>\n",
       "      <td id=\"T_b7dd2_row1_col2\" class=\"data row1 col2\" >0.7727</td>\n",
       "      <td id=\"T_b7dd2_row1_col3\" class=\"data row1 col3\" >0.7608</td>\n",
       "      <td id=\"T_b7dd2_row1_col4\" class=\"data row1 col4\" >0.7628</td>\n",
       "      <td id=\"T_b7dd2_row1_col5\" class=\"data row1 col5\" >0.3838</td>\n",
       "      <td id=\"T_b7dd2_row1_col6\" class=\"data row1 col6\" >0.3852</td>\n",
       "    </tr>\n",
       "    <tr>\n",
       "      <th id=\"T_b7dd2_level0_row2\" class=\"row_heading level0 row2\" >2</th>\n",
       "      <td id=\"T_b7dd2_row2_col0\" class=\"data row2 col0\" >0.7209</td>\n",
       "      <td id=\"T_b7dd2_row2_col1\" class=\"data row2 col1\" >0.6612</td>\n",
       "      <td id=\"T_b7dd2_row2_col2\" class=\"data row2 col2\" >0.7209</td>\n",
       "      <td id=\"T_b7dd2_row2_col3\" class=\"data row2 col3\" >0.7519</td>\n",
       "      <td id=\"T_b7dd2_row2_col4\" class=\"data row2 col4\" >0.7209</td>\n",
       "      <td id=\"T_b7dd2_row2_col5\" class=\"data row2 col5\" >0.2205</td>\n",
       "      <td id=\"T_b7dd2_row2_col6\" class=\"data row2 col6\" >0.2219</td>\n",
       "    </tr>\n",
       "    <tr>\n",
       "      <th id=\"T_b7dd2_level0_row3\" class=\"row_heading level0 row3\" >3</th>\n",
       "      <td id=\"T_b7dd2_row3_col0\" class=\"data row3 col0\" >0.7674</td>\n",
       "      <td id=\"T_b7dd2_row3_col1\" class=\"data row3 col1\" >0.5905</td>\n",
       "      <td id=\"T_b7dd2_row3_col2\" class=\"data row3 col2\" >0.7674</td>\n",
       "      <td id=\"T_b7dd2_row3_col3\" class=\"data row3 col3\" >0.7322</td>\n",
       "      <td id=\"T_b7dd2_row3_col4\" class=\"data row3 col4\" >0.7447</td>\n",
       "      <td id=\"T_b7dd2_row3_col5\" class=\"data row3 col5\" >0.2456</td>\n",
       "      <td id=\"T_b7dd2_row3_col6\" class=\"data row3 col6\" >0.2524</td>\n",
       "    </tr>\n",
       "    <tr>\n",
       "      <th id=\"T_b7dd2_level0_row4\" class=\"row_heading level0 row4\" >4</th>\n",
       "      <td id=\"T_b7dd2_row4_col0\" class=\"data row4 col0\" >0.8140</td>\n",
       "      <td id=\"T_b7dd2_row4_col1\" class=\"data row4 col1\" >0.7348</td>\n",
       "      <td id=\"T_b7dd2_row4_col2\" class=\"data row4 col2\" >0.8140</td>\n",
       "      <td id=\"T_b7dd2_row4_col3\" class=\"data row4 col3\" >0.7849</td>\n",
       "      <td id=\"T_b7dd2_row4_col4\" class=\"data row4 col4\" >0.7888</td>\n",
       "      <td id=\"T_b7dd2_row4_col5\" class=\"data row4 col5\" >0.4583</td>\n",
       "      <td id=\"T_b7dd2_row4_col6\" class=\"data row4 col6\" >0.4706</td>\n",
       "    </tr>\n",
       "    <tr>\n",
       "      <th id=\"T_b7dd2_level0_row5\" class=\"row_heading level0 row5\" >Mean</th>\n",
       "      <td id=\"T_b7dd2_row5_col0\" class=\"data row5 col0\" >0.7559</td>\n",
       "      <td id=\"T_b7dd2_row5_col1\" class=\"data row5 col1\" >0.6834</td>\n",
       "      <td id=\"T_b7dd2_row5_col2\" class=\"data row5 col2\" >0.7559</td>\n",
       "      <td id=\"T_b7dd2_row5_col3\" class=\"data row5 col3\" >0.7454</td>\n",
       "      <td id=\"T_b7dd2_row5_col4\" class=\"data row5 col4\" >0.7434</td>\n",
       "      <td id=\"T_b7dd2_row5_col5\" class=\"data row5 col5\" >0.3007</td>\n",
       "      <td id=\"T_b7dd2_row5_col6\" class=\"data row5 col6\" >0.3052</td>\n",
       "    </tr>\n",
       "    <tr>\n",
       "      <th id=\"T_b7dd2_level0_row6\" class=\"row_heading level0 row6\" >Std</th>\n",
       "      <td id=\"T_b7dd2_row6_col0\" class=\"data row6 col0\" >0.0391</td>\n",
       "      <td id=\"T_b7dd2_row6_col1\" class=\"data row6 col1\" >0.0571</td>\n",
       "      <td id=\"T_b7dd2_row6_col2\" class=\"data row6 col2\" >0.0391</td>\n",
       "      <td id=\"T_b7dd2_row6_col3\" class=\"data row6 col3\" >0.0295</td>\n",
       "      <td id=\"T_b7dd2_row6_col4\" class=\"data row6 col4\" >0.0312</td>\n",
       "      <td id=\"T_b7dd2_row6_col5\" class=\"data row6 col5\" >0.1022</td>\n",
       "      <td id=\"T_b7dd2_row6_col6\" class=\"data row6 col6\" >0.1053</td>\n",
       "    </tr>\n",
       "  </tbody>\n",
       "</table>\n"
      ],
      "text/plain": [
       "<pandas.io.formats.style.Styler at 0x15f8d5e50>"
      ]
     },
     "metadata": {},
     "output_type": "display_data"
    },
    {
     "data": {
      "application/vnd.jupyter.widget-view+json": {
       "model_id": "b471b828438144fca10e1e33b628dda7",
       "version_major": 2,
       "version_minor": 0
      },
      "text/plain": [
       "Processing:   0%|          | 0/4 [00:00<?, ?it/s]"
      ]
     },
     "metadata": {},
     "output_type": "display_data"
    }
   ],
   "source": [
    "gbc = create_model('gbc', fold = 5)"
   ]
  },
  {
   "cell_type": "markdown",
   "metadata": {},
   "source": [
    "#### Realizando o tunning do modelo."
   ]
  },
  {
   "cell_type": "code",
   "execution_count": 58,
   "metadata": {},
   "outputs": [
    {
     "data": {
      "text/html": [],
      "text/plain": [
       "<IPython.core.display.HTML object>"
      ]
     },
     "metadata": {},
     "output_type": "display_data"
    },
    {
     "data": {
      "text/html": [
       "<style type=\"text/css\">\n",
       "#T_0bbe1_row5_col0, #T_0bbe1_row5_col1, #T_0bbe1_row5_col2, #T_0bbe1_row5_col3, #T_0bbe1_row5_col4, #T_0bbe1_row5_col5, #T_0bbe1_row5_col6 {\n",
       "  background: yellow;\n",
       "}\n",
       "</style>\n",
       "<table id=\"T_0bbe1\">\n",
       "  <thead>\n",
       "    <tr>\n",
       "      <th class=\"blank level0\" >&nbsp;</th>\n",
       "      <th id=\"T_0bbe1_level0_col0\" class=\"col_heading level0 col0\" >Accuracy</th>\n",
       "      <th id=\"T_0bbe1_level0_col1\" class=\"col_heading level0 col1\" >AUC</th>\n",
       "      <th id=\"T_0bbe1_level0_col2\" class=\"col_heading level0 col2\" >Recall</th>\n",
       "      <th id=\"T_0bbe1_level0_col3\" class=\"col_heading level0 col3\" >Prec.</th>\n",
       "      <th id=\"T_0bbe1_level0_col4\" class=\"col_heading level0 col4\" >F1</th>\n",
       "      <th id=\"T_0bbe1_level0_col5\" class=\"col_heading level0 col5\" >Kappa</th>\n",
       "      <th id=\"T_0bbe1_level0_col6\" class=\"col_heading level0 col6\" >MCC</th>\n",
       "    </tr>\n",
       "    <tr>\n",
       "      <th class=\"index_name level0\" >Fold</th>\n",
       "      <th class=\"blank col0\" >&nbsp;</th>\n",
       "      <th class=\"blank col1\" >&nbsp;</th>\n",
       "      <th class=\"blank col2\" >&nbsp;</th>\n",
       "      <th class=\"blank col3\" >&nbsp;</th>\n",
       "      <th class=\"blank col4\" >&nbsp;</th>\n",
       "      <th class=\"blank col5\" >&nbsp;</th>\n",
       "      <th class=\"blank col6\" >&nbsp;</th>\n",
       "    </tr>\n",
       "  </thead>\n",
       "  <tbody>\n",
       "    <tr>\n",
       "      <th id=\"T_0bbe1_level0_row0\" class=\"row_heading level0 row0\" >0</th>\n",
       "      <td id=\"T_0bbe1_row0_col0\" class=\"data row0 col0\" >0.7955</td>\n",
       "      <td id=\"T_0bbe1_row0_col1\" class=\"data row0 col1\" >0.8723</td>\n",
       "      <td id=\"T_0bbe1_row0_col2\" class=\"data row0 col2\" >0.7955</td>\n",
       "      <td id=\"T_0bbe1_row0_col3\" class=\"data row0 col3\" >0.8048</td>\n",
       "      <td id=\"T_0bbe1_row0_col4\" class=\"data row0 col4\" >0.7991</td>\n",
       "      <td id=\"T_0bbe1_row0_col5\" class=\"data row0 col5\" >0.4877</td>\n",
       "      <td id=\"T_0bbe1_row0_col6\" class=\"data row0 col6\" >0.4887</td>\n",
       "    </tr>\n",
       "    <tr>\n",
       "      <th id=\"T_0bbe1_level0_row1\" class=\"row_heading level0 row1\" >1</th>\n",
       "      <td id=\"T_0bbe1_row1_col0\" class=\"data row1 col0\" >0.8409</td>\n",
       "      <td id=\"T_0bbe1_row1_col1\" class=\"data row1 col1\" >0.8299</td>\n",
       "      <td id=\"T_0bbe1_row1_col2\" class=\"data row1 col2\" >0.8409</td>\n",
       "      <td id=\"T_0bbe1_row1_col3\" class=\"data row1 col3\" >0.8485</td>\n",
       "      <td id=\"T_0bbe1_row1_col4\" class=\"data row1 col4\" >0.8409</td>\n",
       "      <td id=\"T_0bbe1_row1_col5\" class=\"data row1 col5\" >0.5855</td>\n",
       "      <td id=\"T_0bbe1_row1_col6\" class=\"data row1 col6\" >0.5863</td>\n",
       "    </tr>\n",
       "    <tr>\n",
       "      <th id=\"T_0bbe1_level0_row2\" class=\"row_heading level0 row2\" >2</th>\n",
       "      <td id=\"T_0bbe1_row2_col0\" class=\"data row2 col0\" >0.7907</td>\n",
       "      <td id=\"T_0bbe1_row2_col1\" class=\"data row2 col1\" >0.6996</td>\n",
       "      <td id=\"T_0bbe1_row2_col2\" class=\"data row2 col2\" >0.7907</td>\n",
       "      <td id=\"T_0bbe1_row2_col3\" class=\"data row2 col3\" >0.7623</td>\n",
       "      <td id=\"T_0bbe1_row2_col4\" class=\"data row2 col4\" >0.7717</td>\n",
       "      <td id=\"T_0bbe1_row2_col5\" class=\"data row2 col5\" >0.3571</td>\n",
       "      <td id=\"T_0bbe1_row2_col6\" class=\"data row2 col6\" >0.3620</td>\n",
       "    </tr>\n",
       "    <tr>\n",
       "      <th id=\"T_0bbe1_level0_row3\" class=\"row_heading level0 row3\" >3</th>\n",
       "      <td id=\"T_0bbe1_row3_col0\" class=\"data row3 col0\" >0.8372</td>\n",
       "      <td id=\"T_0bbe1_row3_col1\" class=\"data row3 col1\" >0.6703</td>\n",
       "      <td id=\"T_0bbe1_row3_col2\" class=\"data row3 col2\" >0.8372</td>\n",
       "      <td id=\"T_0bbe1_row3_col3\" class=\"data row3 col3\" >0.7419</td>\n",
       "      <td id=\"T_0bbe1_row3_col4\" class=\"data row3 col4\" >0.7809</td>\n",
       "      <td id=\"T_0bbe1_row3_col5\" class=\"data row3 col5\" >0.3768</td>\n",
       "      <td id=\"T_0bbe1_row3_col6\" class=\"data row3 col6\" >0.4535</td>\n",
       "    </tr>\n",
       "    <tr>\n",
       "      <th id=\"T_0bbe1_level0_row4\" class=\"row_heading level0 row4\" >4</th>\n",
       "      <td id=\"T_0bbe1_row4_col0\" class=\"data row4 col0\" >0.7674</td>\n",
       "      <td id=\"T_0bbe1_row4_col1\" class=\"data row4 col1\" >0.6875</td>\n",
       "      <td id=\"T_0bbe1_row4_col2\" class=\"data row4 col2\" >0.7674</td>\n",
       "      <td id=\"T_0bbe1_row4_col3\" class=\"data row4 col3\" >0.7171</td>\n",
       "      <td id=\"T_0bbe1_row4_col4\" class=\"data row4 col4\" >0.7356</td>\n",
       "      <td id=\"T_0bbe1_row4_col5\" class=\"data row4 col5\" >0.3228</td>\n",
       "      <td id=\"T_0bbe1_row4_col6\" class=\"data row4 col6\" >0.3315</td>\n",
       "    </tr>\n",
       "    <tr>\n",
       "      <th id=\"T_0bbe1_level0_row5\" class=\"row_heading level0 row5\" >Mean</th>\n",
       "      <td id=\"T_0bbe1_row5_col0\" class=\"data row5 col0\" >0.8063</td>\n",
       "      <td id=\"T_0bbe1_row5_col1\" class=\"data row5 col1\" >0.7519</td>\n",
       "      <td id=\"T_0bbe1_row5_col2\" class=\"data row5 col2\" >0.8063</td>\n",
       "      <td id=\"T_0bbe1_row5_col3\" class=\"data row5 col3\" >0.7749</td>\n",
       "      <td id=\"T_0bbe1_row5_col4\" class=\"data row5 col4\" >0.7856</td>\n",
       "      <td id=\"T_0bbe1_row5_col5\" class=\"data row5 col5\" >0.4260</td>\n",
       "      <td id=\"T_0bbe1_row5_col6\" class=\"data row5 col6\" >0.4444</td>\n",
       "    </tr>\n",
       "    <tr>\n",
       "      <th id=\"T_0bbe1_level0_row6\" class=\"row_heading level0 row6\" >Std</th>\n",
       "      <td id=\"T_0bbe1_row6_col0\" class=\"data row6 col0\" >0.0284</td>\n",
       "      <td id=\"T_0bbe1_row6_col1\" class=\"data row6 col1\" >0.0826</td>\n",
       "      <td id=\"T_0bbe1_row6_col2\" class=\"data row6 col2\" >0.0284</td>\n",
       "      <td id=\"T_0bbe1_row6_col3\" class=\"data row6 col3\" >0.0467</td>\n",
       "      <td id=\"T_0bbe1_row6_col4\" class=\"data row6 col4\" >0.0345</td>\n",
       "      <td id=\"T_0bbe1_row6_col5\" class=\"data row6 col5\" >0.0970</td>\n",
       "      <td id=\"T_0bbe1_row6_col6\" class=\"data row6 col6\" >0.0913</td>\n",
       "    </tr>\n",
       "  </tbody>\n",
       "</table>\n"
      ],
      "text/plain": [
       "<pandas.io.formats.style.Styler at 0x15d829e50>"
      ]
     },
     "metadata": {},
     "output_type": "display_data"
    },
    {
     "data": {
      "application/vnd.jupyter.widget-view+json": {
       "model_id": "4e3ecd4a25c54e338d1e1ede5c6edac1",
       "version_major": 2,
       "version_minor": 0
      },
      "text/plain": [
       "Processing:   0%|          | 0/7 [00:00<?, ?it/s]"
      ]
     },
     "metadata": {},
     "output_type": "display_data"
    },
    {
     "name": "stdout",
     "output_type": "stream",
     "text": [
      "Fitting 5 folds for each of 10 candidates, totalling 50 fits\n"
     ]
    }
   ],
   "source": [
    "perfScoreSatisfactionGbc = tune_model(gbc\n",
    "                      ,fold = 5\n",
    "                      ,custom_grid = {\"learning_rate\":[0.1,0.2,0.5]\n",
    "                                     ,\"n_estimators\":[100,500,1000]\n",
    "                                     ,\"min_samples_split\":[1,2,5,10]\n",
    "                                     ,\"max_depth\":[1,3,9]\n",
    "                                     }\n",
    "                      ,optimize = 'AUC')"
   ]
  },
  {
   "cell_type": "markdown",
   "metadata": {},
   "source": [
    "#### Finalizando o modelo."
   ]
  },
  {
   "cell_type": "code",
   "execution_count": 59,
   "metadata": {},
   "outputs": [
    {
     "name": "stdout",
     "output_type": "stream",
     "text": [
      "Transformation Pipeline and Model Successfully Saved\n"
     ]
    },
    {
     "data": {
      "text/plain": [
       "(Pipeline(memory=Memory(location=/var/folders/mj/jgp1syh15f353pj12fcfnzyc0000gn/T/joblib),\n",
       "          steps=[('numerical_imputer',\n",
       "                  TransformerWrapper(exclude=None, include=['TimeInCompany'],\n",
       "                                     transformer=SimpleImputer(add_indicator=False,\n",
       "                                                               copy=True,\n",
       "                                                               fill_value=None,\n",
       "                                                               missing_values=nan,\n",
       "                                                               strategy='mean',\n",
       "                                                               verbose='deprecated'))),\n",
       "                 ('categorical_imputer',\n",
       "                  TransformerWrapper(ex...\n",
       "                                             criterion='friedman_mse', init=None,\n",
       "                                             learning_rate=0.1, loss='log_loss',\n",
       "                                             max_depth=1, max_features=None,\n",
       "                                             max_leaf_nodes=None,\n",
       "                                             min_impurity_decrease=0.0,\n",
       "                                             min_samples_leaf=1,\n",
       "                                             min_samples_split=10,\n",
       "                                             min_weight_fraction_leaf=0.0,\n",
       "                                             n_estimators=500,\n",
       "                                             n_iter_no_change=None,\n",
       "                                             random_state=1295, subsample=1.0,\n",
       "                                             tol=0.0001, validation_fraction=0.1,\n",
       "                                             verbose=0, warm_start=False))],\n",
       "          verbose=False),\n",
       " 'model.pkl')"
      ]
     },
     "execution_count": 59,
     "metadata": {},
     "output_type": "execute_result"
    }
   ],
   "source": [
    "final_model = finalize_model(perfScoreSatisfactionGbc)\n",
    "save_model(final_model,'model')"
   ]
  },
  {
   "cell_type": "markdown",
   "metadata": {},
   "source": [
    "#### Transferindo os arquivos para o Data Lake."
   ]
  },
  {
   "cell_type": "markdown",
   "metadata": {},
   "source": [
    "#### Modelo de Classificação."
   ]
  },
  {
   "cell_type": "code",
   "execution_count": 60,
   "metadata": {},
   "outputs": [
    {
     "data": {
      "text/plain": [
       "<minio.helpers.ObjectWriteResult at 0x111b8c160>"
      ]
     },
     "execution_count": 60,
     "metadata": {},
     "output_type": "execute_result"
    }
   ],
   "source": [
    "client.fput_object(\n",
    "    \"curated\",\n",
    "    \"model.pkl\",\n",
    "    \"model.pkl\"\n",
    ")"
   ]
  },
  {
   "cell_type": "markdown",
   "metadata": {},
   "source": [
    "#### Exportando o conjunto de dados para o disco."
   ]
  },
  {
   "cell_type": "code",
   "execution_count": 61,
   "metadata": {},
   "outputs": [],
   "source": [
    "df.to_csv(\"dataset.csv\",index=False)"
   ]
  },
  {
   "cell_type": "code",
   "execution_count": 62,
   "metadata": {},
   "outputs": [
    {
     "data": {
      "text/plain": [
       "<minio.helpers.ObjectWriteResult at 0x1590c0940>"
      ]
     },
     "execution_count": 62,
     "metadata": {},
     "output_type": "execute_result"
    }
   ],
   "source": [
    "client.fput_object(\n",
    "    \"curated\",\n",
    "    \"dataset.csv\",\n",
    "    \"dataset.csv\"\n",
    ")"
   ]
  }
 ],
 "metadata": {
  "kernelspec": {
   "display_name": "Python 3.10.5 ('venv': venv)",
   "language": "python",
   "name": "python3"
  },
  "language_info": {
   "codemirror_mode": {
    "name": "ipython",
    "version": 3
   },
   "file_extension": ".py",
   "mimetype": "text/x-python",
   "name": "python",
   "nbconvert_exporter": "python",
   "pygments_lexer": "ipython3",
   "version": "3.8.9"
  },
  "orig_nbformat": 4,
  "vscode": {
   "interpreter": {
    "hash": "213dc7abf8916a38e7369365bff7d668a1af186af7030f9ee7c4ea583ab64441"
   }
  }
 },
 "nbformat": 4,
 "nbformat_minor": 2
}
