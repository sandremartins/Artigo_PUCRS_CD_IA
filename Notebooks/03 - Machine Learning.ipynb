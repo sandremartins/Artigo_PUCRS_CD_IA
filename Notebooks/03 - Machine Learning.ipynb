{
 "cells": [
  {
   "cell_type": "markdown",
   "metadata": {},
   "source": [
    "# Artigo de Pós-Graduação PUCRS"
   ]
  },
  {
   "cell_type": "markdown",
   "metadata": {},
   "source": [
    "### Machine Learning."
   ]
  },
  {
   "cell_type": "code",
   "execution_count": 4,
   "metadata": {},
   "outputs": [],
   "source": [
    "import pandas as pd\n",
    "import datetime\n",
    "import glob\n",
    "from minio import Minio\n",
    "import numpy as np\n",
    "import matplotlib.pyplot as plt\n",
    "import joblib\n",
    "from sklearn.model_selection import cross_val_predict, cross_val_score, train_test_split\n",
    "from sklearn.metrics import accuracy_score, classification_report, confusion_matrix\n",
    "from sklearn.ensemble import RandomForestClassifier\n",
    "from sklearn.tree import DecisionTreeClassifier\n",
    "from sklearn.metrics import roc_auc_score\n",
    "from sklearn.linear_model import LogisticRegression\n",
    "from sklearn.preprocessing import MinMaxScaler\n",
    "from pycaret.classification import *"
   ]
  },
  {
   "cell_type": "code",
   "execution_count": 5,
   "metadata": {},
   "outputs": [],
   "source": [
    "client = Minio(\n",
    "        \"localhost:9000\",\n",
    "        access_key=\"minioadmin\",\n",
    "        secret_key=\"minioadmin\",\n",
    "        secure=False\n",
    "    )"
   ]
  },
  {
   "cell_type": "markdown",
   "metadata": {},
   "source": [
    "### Baixando o Dataset do Data Lake."
   ]
  },
  {
   "cell_type": "code",
   "execution_count": 6,
   "metadata": {},
   "outputs": [
    {
     "data": {
      "text/html": [
       "<div>\n",
       "<style scoped>\n",
       "    .dataframe tbody tr th:only-of-type {\n",
       "        vertical-align: middle;\n",
       "    }\n",
       "\n",
       "    .dataframe tbody tr th {\n",
       "        vertical-align: top;\n",
       "    }\n",
       "\n",
       "    .dataframe thead th {\n",
       "        text-align: right;\n",
       "    }\n",
       "</style>\n",
       "<table border=\"1\" class=\"dataframe\">\n",
       "  <thead>\n",
       "    <tr style=\"text-align: right;\">\n",
       "      <th></th>\n",
       "      <th>Department</th>\n",
       "      <th>DaysLateLast30</th>\n",
       "      <th>Absences</th>\n",
       "      <th>EmpSatisfaction</th>\n",
       "      <th>EngagementSurvey</th>\n",
       "      <th>PerformanceScore</th>\n",
       "      <th>Termd</th>\n",
       "      <th>SalaryLevel</th>\n",
       "      <th>TimeInCompany</th>\n",
       "      <th>SpecialProjectsCount</th>\n",
       "      <th>perfScoreSatisfaction</th>\n",
       "    </tr>\n",
       "  </thead>\n",
       "  <tbody>\n",
       "    <tr>\n",
       "      <th>0</th>\n",
       "      <td>Production</td>\n",
       "      <td>0</td>\n",
       "      <td>1</td>\n",
       "      <td>5</td>\n",
       "      <td>4.60</td>\n",
       "      <td>Exceeds</td>\n",
       "      <td>0</td>\n",
       "      <td>medium</td>\n",
       "      <td>8</td>\n",
       "      <td>0</td>\n",
       "      <td>False</td>\n",
       "    </tr>\n",
       "    <tr>\n",
       "      <th>1</th>\n",
       "      <td>IT/IS</td>\n",
       "      <td>0</td>\n",
       "      <td>17</td>\n",
       "      <td>3</td>\n",
       "      <td>4.96</td>\n",
       "      <td>Fully Meets</td>\n",
       "      <td>1</td>\n",
       "      <td>high</td>\n",
       "      <td>2</td>\n",
       "      <td>6</td>\n",
       "      <td>False</td>\n",
       "    </tr>\n",
       "    <tr>\n",
       "      <th>2</th>\n",
       "      <td>Production</td>\n",
       "      <td>0</td>\n",
       "      <td>3</td>\n",
       "      <td>3</td>\n",
       "      <td>3.02</td>\n",
       "      <td>Fully Meets</td>\n",
       "      <td>1</td>\n",
       "      <td>medium</td>\n",
       "      <td>2</td>\n",
       "      <td>0</td>\n",
       "      <td>False</td>\n",
       "    </tr>\n",
       "    <tr>\n",
       "      <th>3</th>\n",
       "      <td>Production</td>\n",
       "      <td>0</td>\n",
       "      <td>15</td>\n",
       "      <td>5</td>\n",
       "      <td>4.84</td>\n",
       "      <td>Fully Meets</td>\n",
       "      <td>0</td>\n",
       "      <td>medium</td>\n",
       "      <td>11</td>\n",
       "      <td>0</td>\n",
       "      <td>True</td>\n",
       "    </tr>\n",
       "    <tr>\n",
       "      <th>4</th>\n",
       "      <td>Production</td>\n",
       "      <td>0</td>\n",
       "      <td>2</td>\n",
       "      <td>4</td>\n",
       "      <td>5.00</td>\n",
       "      <td>Fully Meets</td>\n",
       "      <td>1</td>\n",
       "      <td>low</td>\n",
       "      <td>6</td>\n",
       "      <td>0</td>\n",
       "      <td>False</td>\n",
       "    </tr>\n",
       "    <tr>\n",
       "      <th>...</th>\n",
       "      <td>...</td>\n",
       "      <td>...</td>\n",
       "      <td>...</td>\n",
       "      <td>...</td>\n",
       "      <td>...</td>\n",
       "      <td>...</td>\n",
       "      <td>...</td>\n",
       "      <td>...</td>\n",
       "      <td>...</td>\n",
       "      <td>...</td>\n",
       "      <td>...</td>\n",
       "    </tr>\n",
       "    <tr>\n",
       "      <th>306</th>\n",
       "      <td>Production</td>\n",
       "      <td>0</td>\n",
       "      <td>13</td>\n",
       "      <td>4</td>\n",
       "      <td>4.07</td>\n",
       "      <td>Fully Meets</td>\n",
       "      <td>0</td>\n",
       "      <td>medium</td>\n",
       "      <td>5</td>\n",
       "      <td>0</td>\n",
       "      <td>True</td>\n",
       "    </tr>\n",
       "    <tr>\n",
       "      <th>307</th>\n",
       "      <td>Production</td>\n",
       "      <td>5</td>\n",
       "      <td>4</td>\n",
       "      <td>2</td>\n",
       "      <td>3.20</td>\n",
       "      <td>PIP</td>\n",
       "      <td>1</td>\n",
       "      <td>low</td>\n",
       "      <td>8</td>\n",
       "      <td>0</td>\n",
       "      <td>False</td>\n",
       "    </tr>\n",
       "    <tr>\n",
       "      <th>308</th>\n",
       "      <td>IT/IS</td>\n",
       "      <td>0</td>\n",
       "      <td>16</td>\n",
       "      <td>5</td>\n",
       "      <td>4.60</td>\n",
       "      <td>Exceeds</td>\n",
       "      <td>0</td>\n",
       "      <td>high</td>\n",
       "      <td>9</td>\n",
       "      <td>6</td>\n",
       "      <td>False</td>\n",
       "    </tr>\n",
       "    <tr>\n",
       "      <th>309</th>\n",
       "      <td>IT/IS</td>\n",
       "      <td>0</td>\n",
       "      <td>11</td>\n",
       "      <td>3</td>\n",
       "      <td>5.00</td>\n",
       "      <td>Fully Meets</td>\n",
       "      <td>0</td>\n",
       "      <td>high</td>\n",
       "      <td>4</td>\n",
       "      <td>5</td>\n",
       "      <td>True</td>\n",
       "    </tr>\n",
       "    <tr>\n",
       "      <th>310</th>\n",
       "      <td>Production</td>\n",
       "      <td>0</td>\n",
       "      <td>2</td>\n",
       "      <td>5</td>\n",
       "      <td>4.50</td>\n",
       "      <td>Fully Meets</td>\n",
       "      <td>0</td>\n",
       "      <td>low</td>\n",
       "      <td>5</td>\n",
       "      <td>0</td>\n",
       "      <td>True</td>\n",
       "    </tr>\n",
       "  </tbody>\n",
       "</table>\n",
       "<p>311 rows × 11 columns</p>\n",
       "</div>"
      ],
      "text/plain": [
       "            Department  DaysLateLast30  Absences  EmpSatisfaction  \\\n",
       "0    Production                      0         1                5   \n",
       "1                IT/IS               0        17                3   \n",
       "2    Production                      0         3                3   \n",
       "3    Production                      0        15                5   \n",
       "4    Production                      0         2                4   \n",
       "..                 ...             ...       ...              ...   \n",
       "306  Production                      0        13                4   \n",
       "307  Production                      5         4                2   \n",
       "308              IT/IS               0        16                5   \n",
       "309              IT/IS               0        11                3   \n",
       "310  Production                      0         2                5   \n",
       "\n",
       "     EngagementSurvey PerformanceScore  Termd SalaryLevel  TimeInCompany  \\\n",
       "0                4.60          Exceeds      0      medium              8   \n",
       "1                4.96      Fully Meets      1        high              2   \n",
       "2                3.02      Fully Meets      1      medium              2   \n",
       "3                4.84      Fully Meets      0      medium             11   \n",
       "4                5.00      Fully Meets      1         low              6   \n",
       "..                ...              ...    ...         ...            ...   \n",
       "306              4.07      Fully Meets      0      medium              5   \n",
       "307              3.20              PIP      1         low              8   \n",
       "308              4.60          Exceeds      0        high              9   \n",
       "309              5.00      Fully Meets      0        high              4   \n",
       "310              4.50      Fully Meets      0         low              5   \n",
       "\n",
       "     SpecialProjectsCount  perfScoreSatisfaction  \n",
       "0                       0                  False  \n",
       "1                       6                  False  \n",
       "2                       0                  False  \n",
       "3                       0                   True  \n",
       "4                       0                  False  \n",
       "..                    ...                    ...  \n",
       "306                     0                   True  \n",
       "307                     0                  False  \n",
       "308                     6                  False  \n",
       "309                     5                   True  \n",
       "310                     0                   True  \n",
       "\n",
       "[311 rows x 11 columns]"
      ]
     },
     "execution_count": 6,
     "metadata": {},
     "output_type": "execute_result"
    }
   ],
   "source": [
    "client.fget_object(\n",
    "            \"processing\",\n",
    "            \"employeesDataset.parquet\",\n",
    "            \"temp_.parquet\",\n",
    ")\n",
    "df = pd.read_parquet(\"temp_.parquet\")\n",
    "df = df[['Department', 'DaysLateLast30', 'Absences',\n",
    "       'EmpSatisfaction', 'EngagementSurvey', 'PerformanceScore',\n",
    "       'Termd']]\n",
    "\n",
    "client.fget_object(\n",
    "            \"processing\",\n",
    "            \"departmentSalaryTermd.parquet\",\n",
    "            \"temp_.parquet\",\n",
    ")\n",
    "dfSalary = pd.read_parquet(\"temp_.parquet\")\n",
    "dfSalary = dfSalary[['SalaryLevel']]\n",
    "\n",
    "client.fget_object(\n",
    "            \"processing\",\n",
    "            \"timeInCompany.parquet\",\n",
    "            \"temp_.parquet\",\n",
    ")\n",
    "dftimeInCompany = pd.read_parquet(\"temp_.parquet\")\n",
    "dftimeInCompany = dftimeInCompany[['TimeInCompany']]\n",
    "\n",
    "client.fget_object(\n",
    "            \"processing\",\n",
    "            \"numberSpecialProjects.parquet\",\n",
    "            \"temp_.parquet\",\n",
    ")\n",
    "dfNumberSpecialProjects = pd.read_parquet(\"temp_.parquet\")\n",
    "dfNumberSpecialProjects = dfNumberSpecialProjects[['SpecialProjectsCount']]\n",
    "\n",
    "client.fget_object(\n",
    "            \"processing\",\n",
    "            \"employeePerformanceEvaluation.parquet\",\n",
    "            \"temp_.parquet\",\n",
    ")\n",
    "dfPerfScoreFullyMeets = pd.read_parquet(\"temp_.parquet\")\n",
    "dfPerfScoreFullyMeets = dfPerfScoreFullyMeets[['perfScoreSatisfaction']]\n",
    "\n",
    "\n",
    "df = pd.concat([df, dfSalary, dftimeInCompany, dfNumberSpecialProjects, dfPerfScoreFullyMeets], axis=1, join=\"inner\")\n",
    "df\n"
   ]
  },
  {
   "cell_type": "code",
   "execution_count": 7,
   "metadata": {},
   "outputs": [
    {
     "data": {
      "text/plain": [
       "perfScoreSatisfaction\n",
       "False    143\n",
       "True     168\n",
       "Name: perfScoreSatisfaction, dtype: int64"
      ]
     },
     "execution_count": 7,
     "metadata": {},
     "output_type": "execute_result"
    }
   ],
   "source": [
    "df.groupby([\"perfScoreSatisfaction\"])[\"perfScoreSatisfaction\"].count()"
   ]
  },
  {
   "cell_type": "markdown",
   "metadata": {},
   "source": [
    "#### Verificando os registros missing."
   ]
  },
  {
   "cell_type": "code",
   "execution_count": 8,
   "metadata": {},
   "outputs": [
    {
     "data": {
      "text/plain": [
       "Department               0\n",
       "DaysLateLast30           0\n",
       "Absences                 0\n",
       "EmpSatisfaction          0\n",
       "EngagementSurvey         0\n",
       "PerformanceScore         0\n",
       "Termd                    0\n",
       "SalaryLevel              0\n",
       "TimeInCompany            0\n",
       "SpecialProjectsCount     0\n",
       "perfScoreSatisfaction    0\n",
       "dtype: int64"
      ]
     },
     "execution_count": 8,
     "metadata": {},
     "output_type": "execute_result"
    }
   ],
   "source": [
    "df.isnull().sum()"
   ]
  },
  {
   "cell_type": "code",
   "execution_count": 9,
   "metadata": {},
   "outputs": [
    {
     "data": {
      "text/html": [
       "<div>\n",
       "<style scoped>\n",
       "    .dataframe tbody tr th:only-of-type {\n",
       "        vertical-align: middle;\n",
       "    }\n",
       "\n",
       "    .dataframe tbody tr th {\n",
       "        vertical-align: top;\n",
       "    }\n",
       "\n",
       "    .dataframe thead th {\n",
       "        text-align: right;\n",
       "    }\n",
       "</style>\n",
       "<table border=\"1\" class=\"dataframe\">\n",
       "  <thead>\n",
       "    <tr style=\"text-align: right;\">\n",
       "      <th></th>\n",
       "      <th>Department</th>\n",
       "      <th>DaysLateLast30</th>\n",
       "      <th>Absences</th>\n",
       "      <th>EmpSatisfaction</th>\n",
       "      <th>EngagementSurvey</th>\n",
       "      <th>PerformanceScore</th>\n",
       "      <th>Termd</th>\n",
       "      <th>SalaryLevel</th>\n",
       "      <th>TimeInCompany</th>\n",
       "      <th>SpecialProjectsCount</th>\n",
       "      <th>perfScoreSatisfaction</th>\n",
       "    </tr>\n",
       "  </thead>\n",
       "  <tbody>\n",
       "    <tr>\n",
       "      <th>0</th>\n",
       "      <td>Production</td>\n",
       "      <td>0</td>\n",
       "      <td>1</td>\n",
       "      <td>5</td>\n",
       "      <td>4.60</td>\n",
       "      <td>Exceeds</td>\n",
       "      <td>0</td>\n",
       "      <td>medium</td>\n",
       "      <td>8</td>\n",
       "      <td>0</td>\n",
       "      <td>False</td>\n",
       "    </tr>\n",
       "    <tr>\n",
       "      <th>1</th>\n",
       "      <td>IT/IS</td>\n",
       "      <td>0</td>\n",
       "      <td>17</td>\n",
       "      <td>3</td>\n",
       "      <td>4.96</td>\n",
       "      <td>Fully Meets</td>\n",
       "      <td>1</td>\n",
       "      <td>high</td>\n",
       "      <td>2</td>\n",
       "      <td>6</td>\n",
       "      <td>False</td>\n",
       "    </tr>\n",
       "    <tr>\n",
       "      <th>2</th>\n",
       "      <td>Production</td>\n",
       "      <td>0</td>\n",
       "      <td>3</td>\n",
       "      <td>3</td>\n",
       "      <td>3.02</td>\n",
       "      <td>Fully Meets</td>\n",
       "      <td>1</td>\n",
       "      <td>medium</td>\n",
       "      <td>2</td>\n",
       "      <td>0</td>\n",
       "      <td>False</td>\n",
       "    </tr>\n",
       "    <tr>\n",
       "      <th>3</th>\n",
       "      <td>Production</td>\n",
       "      <td>0</td>\n",
       "      <td>15</td>\n",
       "      <td>5</td>\n",
       "      <td>4.84</td>\n",
       "      <td>Fully Meets</td>\n",
       "      <td>0</td>\n",
       "      <td>medium</td>\n",
       "      <td>11</td>\n",
       "      <td>0</td>\n",
       "      <td>True</td>\n",
       "    </tr>\n",
       "    <tr>\n",
       "      <th>4</th>\n",
       "      <td>Production</td>\n",
       "      <td>0</td>\n",
       "      <td>2</td>\n",
       "      <td>4</td>\n",
       "      <td>5.00</td>\n",
       "      <td>Fully Meets</td>\n",
       "      <td>1</td>\n",
       "      <td>low</td>\n",
       "      <td>6</td>\n",
       "      <td>0</td>\n",
       "      <td>False</td>\n",
       "    </tr>\n",
       "    <tr>\n",
       "      <th>...</th>\n",
       "      <td>...</td>\n",
       "      <td>...</td>\n",
       "      <td>...</td>\n",
       "      <td>...</td>\n",
       "      <td>...</td>\n",
       "      <td>...</td>\n",
       "      <td>...</td>\n",
       "      <td>...</td>\n",
       "      <td>...</td>\n",
       "      <td>...</td>\n",
       "      <td>...</td>\n",
       "    </tr>\n",
       "    <tr>\n",
       "      <th>306</th>\n",
       "      <td>Production</td>\n",
       "      <td>0</td>\n",
       "      <td>13</td>\n",
       "      <td>4</td>\n",
       "      <td>4.07</td>\n",
       "      <td>Fully Meets</td>\n",
       "      <td>0</td>\n",
       "      <td>medium</td>\n",
       "      <td>5</td>\n",
       "      <td>0</td>\n",
       "      <td>True</td>\n",
       "    </tr>\n",
       "    <tr>\n",
       "      <th>307</th>\n",
       "      <td>Production</td>\n",
       "      <td>5</td>\n",
       "      <td>4</td>\n",
       "      <td>2</td>\n",
       "      <td>3.20</td>\n",
       "      <td>PIP</td>\n",
       "      <td>1</td>\n",
       "      <td>low</td>\n",
       "      <td>8</td>\n",
       "      <td>0</td>\n",
       "      <td>False</td>\n",
       "    </tr>\n",
       "    <tr>\n",
       "      <th>308</th>\n",
       "      <td>IT/IS</td>\n",
       "      <td>0</td>\n",
       "      <td>16</td>\n",
       "      <td>5</td>\n",
       "      <td>4.60</td>\n",
       "      <td>Exceeds</td>\n",
       "      <td>0</td>\n",
       "      <td>high</td>\n",
       "      <td>9</td>\n",
       "      <td>6</td>\n",
       "      <td>False</td>\n",
       "    </tr>\n",
       "    <tr>\n",
       "      <th>309</th>\n",
       "      <td>IT/IS</td>\n",
       "      <td>0</td>\n",
       "      <td>11</td>\n",
       "      <td>3</td>\n",
       "      <td>5.00</td>\n",
       "      <td>Fully Meets</td>\n",
       "      <td>0</td>\n",
       "      <td>high</td>\n",
       "      <td>4</td>\n",
       "      <td>5</td>\n",
       "      <td>True</td>\n",
       "    </tr>\n",
       "    <tr>\n",
       "      <th>310</th>\n",
       "      <td>Production</td>\n",
       "      <td>0</td>\n",
       "      <td>2</td>\n",
       "      <td>5</td>\n",
       "      <td>4.50</td>\n",
       "      <td>Fully Meets</td>\n",
       "      <td>0</td>\n",
       "      <td>low</td>\n",
       "      <td>5</td>\n",
       "      <td>0</td>\n",
       "      <td>True</td>\n",
       "    </tr>\n",
       "  </tbody>\n",
       "</table>\n",
       "<p>311 rows × 11 columns</p>\n",
       "</div>"
      ],
      "text/plain": [
       "            Department  DaysLateLast30  Absences  EmpSatisfaction  \\\n",
       "0    Production                      0         1                5   \n",
       "1                IT/IS               0        17                3   \n",
       "2    Production                      0         3                3   \n",
       "3    Production                      0        15                5   \n",
       "4    Production                      0         2                4   \n",
       "..                 ...             ...       ...              ...   \n",
       "306  Production                      0        13                4   \n",
       "307  Production                      5         4                2   \n",
       "308              IT/IS               0        16                5   \n",
       "309              IT/IS               0        11                3   \n",
       "310  Production                      0         2                5   \n",
       "\n",
       "     EngagementSurvey PerformanceScore  Termd SalaryLevel  TimeInCompany  \\\n",
       "0                4.60          Exceeds      0      medium              8   \n",
       "1                4.96      Fully Meets      1        high              2   \n",
       "2                3.02      Fully Meets      1      medium              2   \n",
       "3                4.84      Fully Meets      0      medium             11   \n",
       "4                5.00      Fully Meets      1         low              6   \n",
       "..                ...              ...    ...         ...            ...   \n",
       "306              4.07      Fully Meets      0      medium              5   \n",
       "307              3.20              PIP      1         low              8   \n",
       "308              4.60          Exceeds      0        high              9   \n",
       "309              5.00      Fully Meets      0        high              4   \n",
       "310              4.50      Fully Meets      0         low              5   \n",
       "\n",
       "     SpecialProjectsCount  perfScoreSatisfaction  \n",
       "0                       0                  False  \n",
       "1                       6                  False  \n",
       "2                       0                  False  \n",
       "3                       0                   True  \n",
       "4                       0                  False  \n",
       "..                    ...                    ...  \n",
       "306                     0                   True  \n",
       "307                     0                  False  \n",
       "308                     6                  False  \n",
       "309                     5                   True  \n",
       "310                     0                   True  \n",
       "\n",
       "[311 rows x 11 columns]"
      ]
     },
     "execution_count": 9,
     "metadata": {},
     "output_type": "execute_result"
    }
   ],
   "source": [
    "df[df.notnull()]"
   ]
  },
  {
   "cell_type": "code",
   "execution_count": 10,
   "metadata": {},
   "outputs": [
    {
     "name": "stdout",
     "output_type": "stream",
     "text": [
      "<class 'pandas.core.frame.DataFrame'>\n",
      "RangeIndex: 311 entries, 0 to 310\n",
      "Data columns (total 11 columns):\n",
      " #   Column                 Non-Null Count  Dtype  \n",
      "---  ------                 --------------  -----  \n",
      " 0   Department             311 non-null    object \n",
      " 1   DaysLateLast30         311 non-null    int64  \n",
      " 2   Absences               311 non-null    int64  \n",
      " 3   EmpSatisfaction        311 non-null    int64  \n",
      " 4   EngagementSurvey       311 non-null    float64\n",
      " 5   PerformanceScore       311 non-null    object \n",
      " 6   Termd                  311 non-null    int64  \n",
      " 7   SalaryLevel            311 non-null    object \n",
      " 8   TimeInCompany          311 non-null    int64  \n",
      " 9   SpecialProjectsCount   311 non-null    int64  \n",
      " 10  perfScoreSatisfaction  311 non-null    bool   \n",
      "dtypes: bool(1), float64(1), int64(6), object(3)\n",
      "memory usage: 24.7+ KB\n"
     ]
    }
   ],
   "source": [
    "df.info()"
   ]
  },
  {
   "cell_type": "markdown",
   "metadata": {},
   "source": [
    "###  Importancia de Features"
   ]
  },
  {
   "cell_type": "code",
   "execution_count": 11,
   "metadata": {},
   "outputs": [
    {
     "data": {
      "text/html": [
       "<div>\n",
       "<style scoped>\n",
       "    .dataframe tbody tr th:only-of-type {\n",
       "        vertical-align: middle;\n",
       "    }\n",
       "\n",
       "    .dataframe tbody tr th {\n",
       "        vertical-align: top;\n",
       "    }\n",
       "\n",
       "    .dataframe thead th {\n",
       "        text-align: right;\n",
       "    }\n",
       "</style>\n",
       "<table border=\"1\" class=\"dataframe\">\n",
       "  <thead>\n",
       "    <tr style=\"text-align: right;\">\n",
       "      <th></th>\n",
       "      <th>Department</th>\n",
       "      <th>DaysLateLast30</th>\n",
       "      <th>Absences</th>\n",
       "      <th>EmpSatisfaction</th>\n",
       "      <th>EngagementSurvey</th>\n",
       "      <th>PerformanceScore</th>\n",
       "      <th>Termd</th>\n",
       "      <th>SalaryLevel</th>\n",
       "      <th>TimeInCompany</th>\n",
       "      <th>SpecialProjectsCount</th>\n",
       "      <th>perfScoreSatisfaction</th>\n",
       "    </tr>\n",
       "  </thead>\n",
       "  <tbody>\n",
       "    <tr>\n",
       "      <th>0</th>\n",
       "      <td>Production</td>\n",
       "      <td>0</td>\n",
       "      <td>1</td>\n",
       "      <td>5</td>\n",
       "      <td>4.60</td>\n",
       "      <td>Exceeds</td>\n",
       "      <td>0</td>\n",
       "      <td>medium</td>\n",
       "      <td>8</td>\n",
       "      <td>0</td>\n",
       "      <td>False</td>\n",
       "    </tr>\n",
       "    <tr>\n",
       "      <th>1</th>\n",
       "      <td>IT/IS</td>\n",
       "      <td>0</td>\n",
       "      <td>17</td>\n",
       "      <td>3</td>\n",
       "      <td>4.96</td>\n",
       "      <td>Fully Meets</td>\n",
       "      <td>1</td>\n",
       "      <td>high</td>\n",
       "      <td>2</td>\n",
       "      <td>6</td>\n",
       "      <td>False</td>\n",
       "    </tr>\n",
       "    <tr>\n",
       "      <th>2</th>\n",
       "      <td>Production</td>\n",
       "      <td>0</td>\n",
       "      <td>3</td>\n",
       "      <td>3</td>\n",
       "      <td>3.02</td>\n",
       "      <td>Fully Meets</td>\n",
       "      <td>1</td>\n",
       "      <td>medium</td>\n",
       "      <td>2</td>\n",
       "      <td>0</td>\n",
       "      <td>False</td>\n",
       "    </tr>\n",
       "    <tr>\n",
       "      <th>3</th>\n",
       "      <td>Production</td>\n",
       "      <td>0</td>\n",
       "      <td>15</td>\n",
       "      <td>5</td>\n",
       "      <td>4.84</td>\n",
       "      <td>Fully Meets</td>\n",
       "      <td>0</td>\n",
       "      <td>medium</td>\n",
       "      <td>11</td>\n",
       "      <td>0</td>\n",
       "      <td>True</td>\n",
       "    </tr>\n",
       "    <tr>\n",
       "      <th>4</th>\n",
       "      <td>Production</td>\n",
       "      <td>0</td>\n",
       "      <td>2</td>\n",
       "      <td>4</td>\n",
       "      <td>5.00</td>\n",
       "      <td>Fully Meets</td>\n",
       "      <td>1</td>\n",
       "      <td>low</td>\n",
       "      <td>6</td>\n",
       "      <td>0</td>\n",
       "      <td>False</td>\n",
       "    </tr>\n",
       "  </tbody>\n",
       "</table>\n",
       "</div>"
      ],
      "text/plain": [
       "          Department  DaysLateLast30  Absences  EmpSatisfaction  \\\n",
       "0  Production                      0         1                5   \n",
       "1              IT/IS               0        17                3   \n",
       "2  Production                      0         3                3   \n",
       "3  Production                      0        15                5   \n",
       "4  Production                      0         2                4   \n",
       "\n",
       "   EngagementSurvey PerformanceScore  Termd SalaryLevel  TimeInCompany  \\\n",
       "0              4.60          Exceeds      0      medium              8   \n",
       "1              4.96      Fully Meets      1        high              2   \n",
       "2              3.02      Fully Meets      1      medium              2   \n",
       "3              4.84      Fully Meets      0      medium             11   \n",
       "4              5.00      Fully Meets      1         low              6   \n",
       "\n",
       "   SpecialProjectsCount  perfScoreSatisfaction  \n",
       "0                     0                  False  \n",
       "1                     6                  False  \n",
       "2                     0                  False  \n",
       "3                     0                   True  \n",
       "4                     0                  False  "
      ]
     },
     "execution_count": 11,
     "metadata": {},
     "output_type": "execute_result"
    }
   ],
   "source": [
    "df.head()"
   ]
  },
  {
   "cell_type": "markdown",
   "metadata": {},
   "source": [
    "vamos desenvolver um modelo que use a classe perfScoreSatisfaction que posie valor do tipo discreto, onde sabemos se o funcionário está satisfeito com a empresa e é engajado, nos conduz a um problema do tipo classificação supervisionada. Ou seja, tempos um atributo para passar para o modelo.\n"
   ]
  },
  {
   "cell_type": "markdown",
   "metadata": {},
   "source": [
    "# Preprocessamento de dados"
   ]
  },
  {
   "cell_type": "markdown",
   "metadata": {},
   "source": [
    "#### Converte os atributos categoricos em númericos.\n",
    "\n",
    "Aplicamos uma tecnica simples de transformação dos dados, transformando dados categoricos em numericos por duas razoes: A maioria dos modelos que usamos em ciências de dados tem como entrada valores numericos, não sendo preparados para trabalhar com valores catégoricos; Os atributos categoricos tem pouca cardinalidade, tendo poucos registros unicos"
   ]
  },
  {
   "cell_type": "code",
   "execution_count": 12,
   "metadata": {},
   "outputs": [
    {
     "name": "stdout",
     "output_type": "stream",
     "text": [
      "<class 'pandas.core.frame.DataFrame'>\n",
      "RangeIndex: 311 entries, 0 to 310\n",
      "Data columns (total 11 columns):\n",
      " #   Column                 Non-Null Count  Dtype  \n",
      "---  ------                 --------------  -----  \n",
      " 0   Department             311 non-null    int8   \n",
      " 1   DaysLateLast30         311 non-null    int64  \n",
      " 2   Absences               311 non-null    int64  \n",
      " 3   EmpSatisfaction        311 non-null    int64  \n",
      " 4   EngagementSurvey       311 non-null    float64\n",
      " 5   PerformanceScore       311 non-null    int8   \n",
      " 6   Termd                  311 non-null    int64  \n",
      " 7   SalaryLevel            311 non-null    int8   \n",
      " 8   TimeInCompany          311 non-null    int64  \n",
      " 9   SpecialProjectsCount   311 non-null    int64  \n",
      " 10  perfScoreSatisfaction  311 non-null    int8   \n",
      "dtypes: float64(1), int64(6), int8(4)\n",
      "memory usage: 18.3 KB\n"
     ]
    }
   ],
   "source": [
    "df[\"Department\"] = df[\"Department\"].astype('category').cat.codes\n",
    "df[\"SalaryLevel\"] = df[\"SalaryLevel\"].astype('category').cat.codes\n",
    "df[\"PerformanceScore\"] = df[\"PerformanceScore\"].astype('category').cat.codes\n",
    "df[\"perfScoreSatisfaction\"] = df[\"perfScoreSatisfaction\"].astype('category').cat.codes\n",
    "\n",
    "df.info()"
   ]
  },
  {
   "cell_type": "code",
   "execution_count": 13,
   "metadata": {},
   "outputs": [
    {
     "data": {
      "text/html": [
       "<div>\n",
       "<style scoped>\n",
       "    .dataframe tbody tr th:only-of-type {\n",
       "        vertical-align: middle;\n",
       "    }\n",
       "\n",
       "    .dataframe tbody tr th {\n",
       "        vertical-align: top;\n",
       "    }\n",
       "\n",
       "    .dataframe thead th {\n",
       "        text-align: right;\n",
       "    }\n",
       "</style>\n",
       "<table border=\"1\" class=\"dataframe\">\n",
       "  <thead>\n",
       "    <tr style=\"text-align: right;\">\n",
       "      <th></th>\n",
       "      <th>Department</th>\n",
       "      <th>DaysLateLast30</th>\n",
       "      <th>Absences</th>\n",
       "      <th>EmpSatisfaction</th>\n",
       "      <th>EngagementSurvey</th>\n",
       "      <th>PerformanceScore</th>\n",
       "      <th>Termd</th>\n",
       "      <th>SalaryLevel</th>\n",
       "      <th>TimeInCompany</th>\n",
       "      <th>SpecialProjectsCount</th>\n",
       "      <th>perfScoreSatisfaction</th>\n",
       "    </tr>\n",
       "  </thead>\n",
       "  <tbody>\n",
       "    <tr>\n",
       "      <th>0</th>\n",
       "      <td>3</td>\n",
       "      <td>0</td>\n",
       "      <td>1</td>\n",
       "      <td>5</td>\n",
       "      <td>4.60</td>\n",
       "      <td>0</td>\n",
       "      <td>0</td>\n",
       "      <td>2</td>\n",
       "      <td>8</td>\n",
       "      <td>0</td>\n",
       "      <td>0</td>\n",
       "    </tr>\n",
       "    <tr>\n",
       "      <th>1</th>\n",
       "      <td>2</td>\n",
       "      <td>0</td>\n",
       "      <td>17</td>\n",
       "      <td>3</td>\n",
       "      <td>4.96</td>\n",
       "      <td>1</td>\n",
       "      <td>1</td>\n",
       "      <td>0</td>\n",
       "      <td>2</td>\n",
       "      <td>6</td>\n",
       "      <td>0</td>\n",
       "    </tr>\n",
       "    <tr>\n",
       "      <th>2</th>\n",
       "      <td>3</td>\n",
       "      <td>0</td>\n",
       "      <td>3</td>\n",
       "      <td>3</td>\n",
       "      <td>3.02</td>\n",
       "      <td>1</td>\n",
       "      <td>1</td>\n",
       "      <td>2</td>\n",
       "      <td>2</td>\n",
       "      <td>0</td>\n",
       "      <td>0</td>\n",
       "    </tr>\n",
       "    <tr>\n",
       "      <th>3</th>\n",
       "      <td>3</td>\n",
       "      <td>0</td>\n",
       "      <td>15</td>\n",
       "      <td>5</td>\n",
       "      <td>4.84</td>\n",
       "      <td>1</td>\n",
       "      <td>0</td>\n",
       "      <td>2</td>\n",
       "      <td>11</td>\n",
       "      <td>0</td>\n",
       "      <td>1</td>\n",
       "    </tr>\n",
       "    <tr>\n",
       "      <th>4</th>\n",
       "      <td>3</td>\n",
       "      <td>0</td>\n",
       "      <td>2</td>\n",
       "      <td>4</td>\n",
       "      <td>5.00</td>\n",
       "      <td>1</td>\n",
       "      <td>1</td>\n",
       "      <td>1</td>\n",
       "      <td>6</td>\n",
       "      <td>0</td>\n",
       "      <td>0</td>\n",
       "    </tr>\n",
       "  </tbody>\n",
       "</table>\n",
       "</div>"
      ],
      "text/plain": [
       "   Department  DaysLateLast30  Absences  EmpSatisfaction  EngagementSurvey  \\\n",
       "0           3               0         1                5              4.60   \n",
       "1           2               0        17                3              4.96   \n",
       "2           3               0         3                3              3.02   \n",
       "3           3               0        15                5              4.84   \n",
       "4           3               0         2                4              5.00   \n",
       "\n",
       "   PerformanceScore  Termd  SalaryLevel  TimeInCompany  SpecialProjectsCount  \\\n",
       "0                 0      0            2              8                     0   \n",
       "1                 1      1            0              2                     6   \n",
       "2                 1      1            2              2                     0   \n",
       "3                 1      0            2             11                     0   \n",
       "4                 1      1            1              6                     0   \n",
       "\n",
       "   perfScoreSatisfaction  \n",
       "0                      0  \n",
       "1                      0  \n",
       "2                      0  \n",
       "3                      1  \n",
       "4                      0  "
      ]
     },
     "execution_count": 13,
     "metadata": {},
     "output_type": "execute_result"
    }
   ],
   "source": [
    "df.head()"
   ]
  },
  {
   "cell_type": "markdown",
   "metadata": {},
   "source": [
    "#### Separando os conjuntos de dados."
   ]
  },
  {
   "cell_type": "code",
   "execution_count": 14,
   "metadata": {},
   "outputs": [],
   "source": [
    "#perfScoreSatisfaction\n",
    "targetName = 'perfScoreSatisfaction'\n",
    "X = df.drop('perfScoreSatisfaction', axis=1)\n",
    "y = df[targetName]"
   ]
  },
  {
   "cell_type": "markdown",
   "metadata": {},
   "source": [
    "#### Transformando os dados.\n",
    "Vamos transformar os valores dos atibutos em uma mesma escala. Uma vez que temos varios atributos em diferentes escalas, com o MimMaxScaler do sklearn vamos garantir a mesma escala para os atributos.\n",
    "\n",
    "Isso é importante no processo de convergencia do algoritmo, nos calculos internos que o algoritmo faz para gerar o modelo os calculos de valores na mesma escala ajuda o medelo a ter uma peformace melhor, a convergir com mais velocidade, principalmente em cenários complexo como nos uso de deep learning. "
   ]
  },
  {
   "cell_type": "code",
   "execution_count": 15,
   "metadata": {},
   "outputs": [
    {
     "data": {
      "text/plain": [
       "array([[0.6       , 0.        , 0.        , ..., 1.        , 0.58333333,\n",
       "        0.        ],\n",
       "       [0.4       , 0.        , 0.84210526, ..., 0.        , 0.08333333,\n",
       "        0.75      ],\n",
       "       [0.6       , 0.        , 0.10526316, ..., 1.        , 0.08333333,\n",
       "        0.        ],\n",
       "       ...,\n",
       "       [0.4       , 0.        , 0.78947368, ..., 0.        , 0.66666667,\n",
       "        0.75      ],\n",
       "       [0.4       , 0.        , 0.52631579, ..., 0.        , 0.25      ,\n",
       "        0.625     ],\n",
       "       [0.6       , 0.        , 0.05263158, ..., 0.5       , 0.33333333,\n",
       "        0.        ]])"
      ]
     },
     "execution_count": 15,
     "metadata": {},
     "output_type": "execute_result"
    }
   ],
   "source": [
    "scaler = MinMaxScaler()\n",
    "X = scaler.fit_transform(X)\n",
    "X"
   ]
  },
  {
   "cell_type": "markdown",
   "metadata": {},
   "source": [
    "#### Separando os conjuntos."
   ]
  },
  {
   "cell_type": "markdown",
   "metadata": {},
   "source": [
    "Definindo nosso modelo como preditivo e para dar uma garantia que o modelo é integro, é importante particionar os dados em dois conjunto, um para treinar e outro para testar o modelo"
   ]
  },
  {
   "cell_type": "markdown",
   "metadata": {},
   "source": [
    "Apesar do dataset ter a classe target perfScoreSatisfaction muito balanceada, o dataset tambem tem outras classes desbalanceadas. Respeitando a distribuição de classes com uma amostra que reúne clases mais ou menos homogêneas entre si, usamos o parametro stratify."
   ]
  },
  {
   "cell_type": "code",
   "execution_count": 16,
   "metadata": {},
   "outputs": [],
   "source": [
    "X_train, X_test, y_train, y_test = train_test_split(\n",
    "        X\n",
    "       ,y\n",
    "       ,test_size = 0.3\n",
    "       ,random_state = 33\n",
    "       ,stratify = y\n",
    ")"
   ]
  },
  {
   "cell_type": "markdown",
   "metadata": {},
   "source": [
    "#### Treinando o algoritmo de arvore de decisão."
   ]
  },
  {
   "cell_type": "code",
   "execution_count": 17,
   "metadata": {},
   "outputs": [],
   "source": [
    "dtree = DecisionTreeClassifier()\n",
    "dtree = dtree.fit(X_train,y_train)\n",
    "\n",
    "importances = dtree.feature_importances_\n",
    "feat_names = df.drop(['perfScoreSatisfaction'],axis=1).columns"
   ]
  },
  {
   "cell_type": "markdown",
   "metadata": {},
   "source": [
    "filtragem de features importantes mara o modelo escolhi usar as funcionalidades de feature_importances_ dos classificadores. Treinamos o modelos e verificamos quais as feactures mais importantes para o modelo criado, que por sua vez retorna uma listagem de features importantes.\n",
    "Em ambiente de produção é necessário mais experimentos com outros algoritmos para selecionar as features importantes"
   ]
  },
  {
   "cell_type": "code",
   "execution_count": 18,
   "metadata": {},
   "outputs": [
    {
     "data": {
      "image/png": "[encoded data removed]",
      "text/plain": [
       "<Figure size 864x288 with 1 Axes>"
      ]
     },
     "metadata": {
      "needs_background": "light"
     },
     "output_type": "display_data"
    }
   ],
   "source": [
    "indices = np.argsort(importances)[::-1]\n",
    "plt.figure(figsize=(12,4))\n",
    "plt.title(\"Feature importances by DecisionTreeClassifier\")\n",
    "plt.bar(range(len(indices)), importances[indices], color='lightblue',  align=\"center\")\n",
    "plt.xticks(range(len(indices)), feat_names[indices], rotation='vertical',fontsize=14)\n",
    "plt.xlim([-1, len(indices)])\n",
    "plt.show()"
   ]
  },
  {
   "cell_type": "markdown",
   "metadata": {},
   "source": [
    "Com modelo de arvore de decisão as features mais relevantes são Termd e PerfomanceScore com uma indicação pequena para EmpSatisfaction"
   ]
  },
  {
   "cell_type": "markdown",
   "metadata": {},
   "source": [
    "#### Filtrando apenas os atributos relevantes."
   ]
  },
  {
   "cell_type": "code",
   "execution_count": 19,
   "metadata": {},
   "outputs": [
    {
     "data": {
      "text/plain": [
       "Index(['Department', 'DaysLateLast30', 'Absences', 'EmpSatisfaction',\n",
       "       'EngagementSurvey', 'PerformanceScore', 'Termd', 'SalaryLevel',\n",
       "       'TimeInCompany', 'SpecialProjectsCount', 'perfScoreSatisfaction'],\n",
       "      dtype='object')"
      ]
     },
     "execution_count": 19,
     "metadata": {},
     "output_type": "execute_result"
    }
   ],
   "source": [
    "df.columns"
   ]
  },
  {
   "cell_type": "code",
   "execution_count": 20,
   "metadata": {},
   "outputs": [],
   "source": [
    "X = df[[\"Termd\",\"PerformanceScore\",\"EmpSatisfaction\"]]"
   ]
  },
  {
   "cell_type": "markdown",
   "metadata": {},
   "source": [
    "#### Separando os conjuntos de dados."
   ]
  },
  {
   "cell_type": "code",
   "execution_count": 21,
   "metadata": {},
   "outputs": [],
   "source": [
    "X = df[['DaysLateLast30', 'Absences', 'EmpSatisfaction',\n",
    "       'EngagementSurvey', 'PerformanceScore', 'Termd', 'SalaryLevel',\n",
    "       'TimeInCompany', 'SpecialProjectsCount', 'perfScoreSatisfaction']]"
   ]
  },
  {
   "cell_type": "code",
   "execution_count": 22,
   "metadata": {},
   "outputs": [
    {
     "data": {
      "text/plain": [
       "array([[0.        , 1.        , 1.        , ..., 0.16666667, 0.        ,\n",
       "        0.        ],\n",
       "       [0.        , 0.47368421, 0.75      , ..., 0.        , 0.5       ,\n",
       "        0.        ],\n",
       "       [0.        , 0.78947368, 0.5       , ..., 0.16666667, 0.        ,\n",
       "        0.        ],\n",
       "       ...,\n",
       "       [0.33333333, 0.21052632, 0.        , ..., 0.33333333, 0.        ,\n",
       "        0.        ],\n",
       "       [0.        , 0.68421053, 0.75      , ..., 0.41666667, 0.        ,\n",
       "        0.        ],\n",
       "       [0.        , 0.21052632, 0.75      , ..., 0.16666667, 0.        ,\n",
       "        0.        ]])"
      ]
     },
     "execution_count": 22,
     "metadata": {},
     "output_type": "execute_result"
    }
   ],
   "source": [
    "scaler = MinMaxScaler()\n",
    "X = scaler.fit_transform(X)\n",
    "\n",
    "X_train, X_test, y_train, y_test = train_test_split(\n",
    "        X\n",
    "       ,y\n",
    "       ,test_size = 0.2\n",
    "       ,random_state = 123\n",
    "       ,stratify = y\n",
    ")\n",
    "\n",
    "X_train"
   ]
  },
  {
   "cell_type": "markdown",
   "metadata": {},
   "source": [
    "#### Função do modelo de base."
   ]
  },
  {
   "cell_type": "markdown",
   "metadata": {},
   "source": [
    "Pensando na satisfação e engajamento do funcionario, vamos preparar testes para features relevantes para outros algoritmos.\n",
    "\n",
    "Para isso estabelecer qual a metrica, o que levar em consideração para decidir se o algoritmo é eficiente.\n",
    "\n",
    "Começamos criando um modelo base line para que os modelos a serem esperimentados cheguem proximos do resultado do base line. Se ele não tiver com os resultados proximos da baseline, não faz sentido investir tempo nesse modelo. Além disso, a função da baseline é importante para conseguir explicar o resultado do modelo de forma intuitiva para pessoas que não entende ML. Por exemplo, gerei um modelo de previsão de engajamento e satisfação que é superior a média, a média chegamos no resultado x enquanto que nosso modelo atingiu x+y. Os interessados conseguem entender que o modelo ganha de algo simples que já é usado, como a média."
   ]
  },
  {
   "cell_type": "markdown",
   "metadata": {},
   "source": [
    "por causa dos dados despalenceados, essa função sempre vai retornar zero para a probabilidade da maior ocorrencia do meu conjunto de dados\n"
   ]
  },
  {
   "cell_type": "code",
   "execution_count": 23,
   "metadata": {},
   "outputs": [],
   "source": [
    "def baseRateModel(X) :\n",
    "    y = np.ones(X.shape[0])\n",
    "    return y"
   ]
  },
  {
   "cell_type": "code",
   "execution_count": 24,
   "metadata": {},
   "outputs": [
    {
     "data": {
      "text/plain": [
       "63"
      ]
     },
     "execution_count": 24,
     "metadata": {},
     "output_type": "execute_result"
    }
   ],
   "source": [
    "X_test.shape[0]"
   ]
  },
  {
   "cell_type": "markdown",
   "metadata": {},
   "source": [
    "#### Importando métodos de métrica de avaliação."
   ]
  },
  {
   "cell_type": "markdown",
   "metadata": {},
   "source": [
    "curva roc, acuracia e "
   ]
  },
  {
   "cell_type": "code",
   "execution_count": null,
   "metadata": {},
   "outputs": [],
   "source": []
  },
  {
   "cell_type": "code",
   "execution_count": 25,
   "metadata": {},
   "outputs": [],
   "source": [
    "def accuracyResult(y_test,y_predict):\n",
    "    acc = accuracy_score(y_test, y_predict)\n",
    "    print (\"Accuracy = %2.2f\" % acc)"
   ]
  },
  {
   "cell_type": "code",
   "execution_count": 26,
   "metadata": {},
   "outputs": [],
   "source": [
    "def rocClassificationReportResults(model,y_test,y_predict):\n",
    "    roc_ = roc_auc_score(y_test, y_predict)\n",
    "    classfication_report = classification_report(y_test, y_predict)\n",
    "    \n",
    "    print (\"\\n{} AUC = {}\\n\".format(model, roc_))\n",
    "    print(classfication_report)"
   ]
  },
  {
   "cell_type": "markdown",
   "metadata": {},
   "source": [
    "#### Análise do modelo de baseline"
   ]
  },
  {
   "cell_type": "code",
   "execution_count": 27,
   "metadata": {},
   "outputs": [],
   "source": [
    "y_predict = baseRateModel(X_test)"
   ]
  },
  {
   "cell_type": "code",
   "execution_count": 28,
   "metadata": {},
   "outputs": [
    {
     "name": "stdout",
     "output_type": "stream",
     "text": [
      "\n",
      "Base Model AUC = 0.5\n",
      "\n",
      "              precision    recall  f1-score   support\n",
      "\n",
      "           0       0.00      0.00      0.00        29\n",
      "           1       0.54      1.00      0.70        34\n",
      "\n",
      "    accuracy                           0.54        63\n",
      "   macro avg       0.27      0.50      0.35        63\n",
      "weighted avg       0.29      0.54      0.38        63\n",
      "\n"
     ]
    }
   ],
   "source": [
    "rocClassificationReportResults(\"Base Model\", y_test, y_predict)"
   ]
  },
  {
   "cell_type": "markdown",
   "metadata": {},
   "source": [
    "- Acuracia de 0.54, o baseline não acertou muito ou só acertou somente os funcionários satisfeitos e engajados.\n",
    "- O classification reporte detalha mais mais confirmando que o modelo baseline realmente não está tão bem.\n",
    "- Para a classe 1 o baseline tem uma precisão de 54% que é exatamente a probabilidade de funcionários engajados e satisfeitos na empresa.\n",
    "- A clase 0, nao acertou nada.\n",
    "- A baseline só acerta a classe 1\n",
    "- O Base Model AUC deu 50%, pois só acerta uma das duas classes. A area sobre a curva considera todas as classes"
   ]
  },
  {
   "cell_type": "code",
   "execution_count": 29,
   "metadata": {},
   "outputs": [
    {
     "name": "stdout",
     "output_type": "stream",
     "text": [
      "\n",
      "Base Model AUC = 0.5\n",
      "\n",
      "              precision    recall  f1-score   support\n",
      "\n",
      "           0       0.00      0.00      0.00        29\n",
      "           1       0.54      1.00      0.70        34\n",
      "\n",
      "    accuracy                           0.54        63\n",
      "   macro avg       0.27      0.50      0.35        63\n",
      "weighted avg       0.29      0.54      0.38        63\n",
      "\n"
     ]
    }
   ],
   "source": [
    "rocClassificationReportResults(\"Base Model\", y_test, y_predict)"
   ]
  },
  {
   "cell_type": "code",
   "execution_count": 30,
   "metadata": {},
   "outputs": [
    {
     "name": "stdout",
     "output_type": "stream",
     "text": [
      "Test Result:\n",
      "------------\n",
      "Confusion Matrix: \n",
      " [[ 0 29]\n",
      " [ 0 34]]\n",
      "\n",
      "accuracy score: 0.54\n",
      "\n"
     ]
    }
   ],
   "source": [
    "print(\"Test Result:\")\n",
    "print(\"------------\")\n",
    "print(\"Confusion Matrix: \\n {}\\n\".format(confusion_matrix(y_test, y_predict)))\n",
    "print(\"accuracy score: {0:.2f}\\n\".format(accuracy_score(y_test, y_predict)))"
   ]
  },
  {
   "cell_type": "markdown",
   "metadata": {},
   "source": [
    "### Modelo de Regressão Logística."
   ]
  },
  {
   "cell_type": "markdown",
   "metadata": {},
   "source": [
    "#### Instânciando o algoritmo."
   ]
  },
  {
   "cell_type": "code",
   "execution_count": 31,
   "metadata": {},
   "outputs": [
    {
     "data": {
      "image/png": "[encoded data removed]",
      "text/plain": [
       "<Figure size 864x288 with 1 Axes>"
      ]
     },
     "metadata": {
      "needs_background": "light"
     },
     "output_type": "display_data"
    }
   ],
   "source": [
    "logis = LogisticRegression()\n",
    "logis.fit(X_train, y_train)\n",
    "\n",
    "importances = logis.coef_[0]\n",
    "feat_names = df.drop(['perfScoreSatisfaction'],axis=1).columns\n",
    "\n",
    "indices = np.argsort(importances)[::-1]\n",
    "plt.figure(figsize=(12,4))\n",
    "plt.title(\"Feature importances by LogisticRegression\")\n",
    "plt.bar(range(len(indices)), importances[indices], color='lightblue',  align=\"center\")\n",
    "plt.xticks(range(len(indices)), feat_names[indices], rotation='vertical',fontsize=14)\n",
    "plt.xlim([-1, len(indices)])\n",
    "plt.show()"
   ]
  },
  {
   "cell_type": "code",
   "execution_count": 32,
   "metadata": {},
   "outputs": [
    {
     "data": {
      "text/plain": [
       "Index(['Department', 'DaysLateLast30', 'Absences', 'EmpSatisfaction',\n",
       "       'EngagementSurvey', 'PerformanceScore', 'Termd', 'SalaryLevel',\n",
       "       'TimeInCompany', 'SpecialProjectsCount', 'perfScoreSatisfaction'],\n",
       "      dtype='object')"
      ]
     },
     "execution_count": 32,
     "metadata": {},
     "output_type": "execute_result"
    }
   ],
   "source": [
    "df.columns"
   ]
  },
  {
   "cell_type": "code",
   "execution_count": 33,
   "metadata": {},
   "outputs": [
    {
     "data": {
      "text/plain": [
       "array([[0.        , 1.        , 0.8       ],\n",
       "       [0.        , 0.47368421, 0.4       ],\n",
       "       [0.        , 0.78947368, 0.6       ],\n",
       "       [0.        , 0.52631579, 0.4       ],\n",
       "       [0.        , 0.78947368, 0.8       ],\n",
       "       [0.16666667, 0.94736842, 0.8       ],\n",
       "       [0.        , 0.94736842, 0.6       ],\n",
       "       [0.        , 0.15789474, 0.6       ],\n",
       "       [0.        , 0.21052632, 0.6       ],\n",
       "       [0.        , 0.78947368, 0.6       ],\n",
       "       [0.        , 0.73684211, 0.6       ],\n",
       "       [0.        , 0.89473684, 0.8       ],\n",
       "       [0.        , 0.84210526, 0.4       ],\n",
       "       [0.5       , 0.73684211, 0.6       ],\n",
       "       [0.        , 0.21052632, 0.6       ],\n",
       "       [0.        , 0.26315789, 0.6       ],\n",
       "       [0.        , 1.        , 0.8       ],\n",
       "       [0.66666667, 0.73684211, 0.6       ],\n",
       "       [0.        , 0.52631579, 0.6       ],\n",
       "       [0.        , 0.15789474, 1.        ],\n",
       "       [0.        , 0.10526316, 0.6       ],\n",
       "       [0.        , 0.89473684, 0.6       ],\n",
       "       [0.66666667, 0.42105263, 0.6       ],\n",
       "       [0.33333333, 0.31578947, 0.8       ],\n",
       "       [0.        , 0.63157895, 0.6       ],\n",
       "       [0.        , 0.21052632, 0.6       ],\n",
       "       [0.        , 0.94736842, 0.6       ],\n",
       "       [0.        , 0.26315789, 0.        ],\n",
       "       [0.        , 0.        , 0.6       ],\n",
       "       [0.        , 0.42105263, 0.6       ],\n",
       "       [0.        , 0.63157895, 0.6       ],\n",
       "       [0.        , 0.05263158, 0.4       ],\n",
       "       [0.        , 0.31578947, 0.6       ],\n",
       "       [0.        , 0.15789474, 0.6       ],\n",
       "       [0.        , 0.        , 0.6       ],\n",
       "       [0.        , 0.94736842, 0.4       ],\n",
       "       [0.        , 0.21052632, 0.6       ],\n",
       "       [0.        , 0.42105263, 0.6       ],\n",
       "       [0.83333333, 0.78947368, 0.6       ],\n",
       "       [0.        , 0.21052632, 0.6       ],\n",
       "       [0.        , 0.57894737, 0.6       ],\n",
       "       [0.        , 0.52631579, 0.6       ],\n",
       "       [0.        , 0.73684211, 0.6       ],\n",
       "       [0.        , 0.15789474, 0.6       ],\n",
       "       [0.        , 0.15789474, 0.4       ],\n",
       "       [0.        , 1.        , 0.6       ],\n",
       "       [0.33333333, 0.05263158, 0.6       ],\n",
       "       [0.        , 0.84210526, 0.6       ],\n",
       "       [0.5       , 0.05263158, 0.4       ],\n",
       "       [0.        , 0.31578947, 0.4       ],\n",
       "       [0.        , 0.73684211, 0.6       ],\n",
       "       [0.        , 0.68421053, 0.6       ],\n",
       "       [0.33333333, 0.84210526, 0.8       ],\n",
       "       [0.        , 0.31578947, 0.6       ],\n",
       "       [0.        , 0.26315789, 0.6       ],\n",
       "       [0.5       , 0.47368421, 0.6       ],\n",
       "       [0.        , 0.10526316, 0.6       ],\n",
       "       [0.        , 0.31578947, 0.4       ],\n",
       "       [0.        , 0.31578947, 0.8       ],\n",
       "       [0.        , 0.31578947, 0.6       ],\n",
       "       [0.        , 0.15789474, 0.6       ],\n",
       "       [0.        , 0.05263158, 0.        ],\n",
       "       [0.        , 0.26315789, 0.4       ],\n",
       "       [0.        , 0.        , 0.6       ],\n",
       "       [0.        , 0.52631579, 0.6       ],\n",
       "       [0.        , 0.15789474, 0.6       ],\n",
       "       [1.        , 1.        , 0.6       ],\n",
       "       [0.        , 0.73684211, 0.6       ],\n",
       "       [0.        , 0.94736842, 0.6       ],\n",
       "       [0.        , 0.78947368, 0.4       ],\n",
       "       [0.        , 0.36842105, 0.4       ],\n",
       "       [0.        , 0.21052632, 0.6       ],\n",
       "       [0.        , 0.42105263, 0.6       ],\n",
       "       [0.        , 0.84210526, 0.        ],\n",
       "       [0.        , 0.36842105, 0.6       ],\n",
       "       [0.        , 0.05263158, 1.        ],\n",
       "       [0.        , 0.52631579, 0.4       ],\n",
       "       [0.        , 0.47368421, 0.6       ],\n",
       "       [0.        , 0.94736842, 0.6       ],\n",
       "       [0.        , 0.42105263, 0.8       ],\n",
       "       [0.        , 0.10526316, 0.6       ],\n",
       "       [0.        , 0.15789474, 0.6       ],\n",
       "       [0.        , 0.78947368, 0.4       ],\n",
       "       [0.        , 0.21052632, 0.4       ],\n",
       "       [0.66666667, 0.94736842, 1.        ],\n",
       "       [0.        , 0.10526316, 0.6       ],\n",
       "       [0.83333333, 0.05263158, 0.6       ],\n",
       "       [0.        , 0.84210526, 0.6       ],\n",
       "       [0.66666667, 0.31578947, 0.8       ],\n",
       "       [0.        , 0.26315789, 0.8       ],\n",
       "       [0.        , 0.21052632, 0.6       ],\n",
       "       [0.        , 0.78947368, 0.4       ],\n",
       "       [0.        , 0.05263158, 0.4       ],\n",
       "       [0.        , 0.26315789, 0.6       ],\n",
       "       [0.        , 0.26315789, 0.6       ],\n",
       "       [0.        , 0.26315789, 0.6       ],\n",
       "       [0.        , 0.84210526, 0.4       ],\n",
       "       [0.        , 0.68421053, 0.6       ],\n",
       "       [0.        , 0.73684211, 0.6       ],\n",
       "       [0.        , 0.31578947, 0.6       ],\n",
       "       [0.        , 0.36842105, 0.4       ],\n",
       "       [1.        , 0.10526316, 0.6       ],\n",
       "       [0.        , 0.89473684, 0.6       ],\n",
       "       [0.83333333, 0.15789474, 0.6       ],\n",
       "       [0.5       , 0.15789474, 0.6       ],\n",
       "       [0.        , 1.        , 0.6       ],\n",
       "       [0.        , 0.63157895, 0.4       ],\n",
       "       [0.        , 0.26315789, 0.6       ],\n",
       "       [0.        , 0.15789474, 0.6       ],\n",
       "       [0.        , 0.84210526, 0.6       ],\n",
       "       [0.        , 0.15789474, 0.8       ],\n",
       "       [0.66666667, 0.63157895, 0.4       ],\n",
       "       [0.        , 0.52631579, 0.6       ],\n",
       "       [0.        , 0.68421053, 0.6       ],\n",
       "       [0.        , 0.42105263, 0.6       ],\n",
       "       [0.        , 0.36842105, 0.8       ],\n",
       "       [0.        , 0.84210526, 0.8       ],\n",
       "       [0.        , 0.05263158, 0.4       ],\n",
       "       [0.33333333, 0.10526316, 0.6       ],\n",
       "       [1.        , 0.63157895, 0.6       ],\n",
       "       [0.        , 0.31578947, 0.6       ],\n",
       "       [0.        , 1.        , 0.6       ],\n",
       "       [0.        , 0.52631579, 0.6       ],\n",
       "       [0.        , 1.        , 0.6       ],\n",
       "       [0.        , 0.26315789, 0.6       ],\n",
       "       [0.        , 1.        , 0.8       ],\n",
       "       [0.        , 1.        , 0.        ],\n",
       "       [0.        , 0.89473684, 0.8       ],\n",
       "       [0.        , 0.31578947, 0.6       ],\n",
       "       [0.        , 0.57894737, 0.6       ],\n",
       "       [1.        , 0.21052632, 0.8       ],\n",
       "       [0.        , 0.15789474, 0.        ],\n",
       "       [0.        , 0.84210526, 0.6       ],\n",
       "       [0.        , 0.        , 0.6       ],\n",
       "       [0.        , 0.47368421, 0.4       ],\n",
       "       [0.        , 0.52631579, 0.4       ],\n",
       "       [0.        , 0.        , 0.8       ],\n",
       "       [0.66666667, 0.89473684, 0.6       ],\n",
       "       [0.        , 0.63157895, 0.8       ],\n",
       "       [0.        , 0.78947368, 0.4       ],\n",
       "       [0.        , 0.42105263, 0.6       ],\n",
       "       [0.        , 0.10526316, 0.        ],\n",
       "       [0.        , 0.78947368, 0.6       ],\n",
       "       [0.        , 0.26315789, 0.6       ],\n",
       "       [0.        , 0.26315789, 0.6       ],\n",
       "       [0.        , 0.68421053, 0.4       ],\n",
       "       [0.        , 0.89473684, 0.6       ],\n",
       "       [0.        , 0.63157895, 1.        ],\n",
       "       [1.        , 0.26315789, 0.6       ],\n",
       "       [0.        , 0.73684211, 0.6       ],\n",
       "       [0.        , 0.84210526, 0.4       ],\n",
       "       [0.        , 0.52631579, 0.6       ],\n",
       "       [0.        , 0.47368421, 0.2       ],\n",
       "       [0.        , 0.52631579, 0.6       ],\n",
       "       [0.        , 1.        , 0.6       ],\n",
       "       [0.        , 0.42105263, 0.        ],\n",
       "       [1.        , 0.73684211, 0.6       ],\n",
       "       [0.        , 0.        , 0.6       ],\n",
       "       [0.        , 0.        , 1.        ],\n",
       "       [0.        , 0.73684211, 0.6       ],\n",
       "       [0.        , 0.31578947, 0.6       ],\n",
       "       [0.        , 0.73684211, 0.4       ],\n",
       "       [0.        , 0.26315789, 0.6       ],\n",
       "       [0.        , 1.        , 0.6       ],\n",
       "       [0.        , 0.        , 0.4       ],\n",
       "       [0.        , 0.52631579, 0.6       ],\n",
       "       [0.        , 0.05263158, 0.4       ],\n",
       "       [0.        , 0.68421053, 0.6       ],\n",
       "       [0.        , 0.10526316, 0.6       ],\n",
       "       [0.83333333, 0.94736842, 0.6       ],\n",
       "       [0.        , 0.78947368, 0.6       ],\n",
       "       [0.        , 0.94736842, 0.8       ],\n",
       "       [0.        , 0.42105263, 0.6       ],\n",
       "       [0.        , 0.05263158, 0.6       ],\n",
       "       [0.        , 0.63157895, 0.6       ],\n",
       "       [0.        , 0.94736842, 0.6       ],\n",
       "       [0.        , 1.        , 0.6       ],\n",
       "       [0.        , 0.15789474, 0.6       ],\n",
       "       [0.        , 0.68421053, 0.8       ],\n",
       "       [0.        , 0.94736842, 0.6       ],\n",
       "       [0.        , 0.10526316, 0.6       ],\n",
       "       [0.        , 0.89473684, 0.8       ],\n",
       "       [0.        , 0.05263158, 0.8       ],\n",
       "       [0.        , 1.        , 0.6       ],\n",
       "       [0.        , 0.        , 0.6       ],\n",
       "       [0.        , 0.68421053, 0.6       ],\n",
       "       [0.        , 0.68421053, 0.6       ],\n",
       "       [0.        , 0.57894737, 0.6       ],\n",
       "       [0.        , 0.31578947, 0.6       ],\n",
       "       [0.        , 0.84210526, 0.4       ],\n",
       "       [0.        , 0.05263158, 0.6       ],\n",
       "       [0.        , 0.78947368, 0.6       ],\n",
       "       [0.        , 0.73684211, 0.6       ],\n",
       "       [0.        , 0.05263158, 0.6       ],\n",
       "       [0.        , 0.31578947, 0.8       ],\n",
       "       [0.        , 0.42105263, 0.6       ],\n",
       "       [0.        , 0.63157895, 0.6       ],\n",
       "       [0.        , 0.57894737, 0.6       ],\n",
       "       [0.        , 0.73684211, 0.6       ],\n",
       "       [0.        , 0.42105263, 0.4       ],\n",
       "       [0.        , 0.68421053, 0.4       ],\n",
       "       [0.        , 0.94736842, 0.4       ],\n",
       "       [0.        , 0.68421053, 1.        ],\n",
       "       [0.        , 0.31578947, 0.6       ],\n",
       "       [0.        , 0.78947368, 0.6       ],\n",
       "       [0.        , 0.52631579, 0.6       ],\n",
       "       [0.        , 0.73684211, 0.6       ],\n",
       "       [0.        , 0.47368421, 0.6       ],\n",
       "       [0.        , 0.05263158, 0.6       ],\n",
       "       [0.        , 0.05263158, 0.6       ],\n",
       "       [0.        , 0.47368421, 0.6       ],\n",
       "       [0.        , 0.73684211, 0.4       ],\n",
       "       [0.        , 0.63157895, 0.6       ],\n",
       "       [0.        , 0.15789474, 0.6       ],\n",
       "       [0.        , 0.73684211, 0.4       ],\n",
       "       [0.        , 0.31578947, 0.6       ],\n",
       "       [0.        , 0.84210526, 0.6       ],\n",
       "       [0.33333333, 0.78947368, 0.8       ],\n",
       "       [0.        , 0.73684211, 0.6       ],\n",
       "       [0.        , 0.05263158, 0.4       ],\n",
       "       [0.        , 0.63157895, 0.6       ],\n",
       "       [0.        , 0.36842105, 0.4       ],\n",
       "       [0.        , 0.47368421, 0.6       ],\n",
       "       [0.        , 0.78947368, 0.6       ],\n",
       "       [0.        , 0.36842105, 1.        ],\n",
       "       [0.        , 0.68421053, 0.6       ],\n",
       "       [0.        , 0.        , 0.6       ],\n",
       "       [0.        , 0.05263158, 0.4       ],\n",
       "       [0.        , 0.15789474, 1.        ],\n",
       "       [0.        , 0.78947368, 0.6       ],\n",
       "       [0.        , 0.47368421, 0.6       ],\n",
       "       [0.        , 0.        , 0.6       ],\n",
       "       [0.        , 0.63157895, 0.6       ],\n",
       "       [0.        , 0.63157895, 0.6       ],\n",
       "       [0.        , 0.42105263, 1.        ],\n",
       "       [0.        , 0.31578947, 0.4       ],\n",
       "       [0.        , 0.57894737, 0.6       ],\n",
       "       [0.        , 0.84210526, 0.6       ],\n",
       "       [0.        , 0.15789474, 0.6       ],\n",
       "       [0.        , 0.36842105, 0.6       ],\n",
       "       [0.        , 0.10526316, 0.6       ],\n",
       "       [0.        , 0.94736842, 0.6       ],\n",
       "       [0.5       , 0.21052632, 0.8       ],\n",
       "       [0.        , 0.94736842, 0.4       ],\n",
       "       [0.        , 0.42105263, 0.4       ],\n",
       "       [0.33333333, 0.21052632, 0.6       ],\n",
       "       [0.        , 0.68421053, 0.6       ],\n",
       "       [0.        , 0.21052632, 0.6       ]])"
      ]
     },
     "execution_count": 33,
     "metadata": {},
     "output_type": "execute_result"
    }
   ],
   "source": [
    "X = df[[\"DaysLateLast30\",\"Absences\",\"Department\"]]\n",
    "\n",
    "X_train, X_test, y_train, y_test = train_test_split(\n",
    "        X\n",
    "       ,y\n",
    "       ,test_size = 0.3\n",
    "       ,random_state = 33\n",
    "       ,stratify = y\n",
    ")\n",
    "\n",
    "scaler = MinMaxScaler()\n",
    "X = scaler.fit_transform(X)\n",
    "\n",
    "X_train, X_test, y_train, y_test = train_test_split(\n",
    "        X\n",
    "       ,y\n",
    "       ,test_size = 0.2\n",
    "       ,random_state = 123\n",
    "       ,stratify = y\n",
    ")\n",
    "\n",
    "X_train"
   ]
  },
  {
   "cell_type": "code",
   "execution_count": 34,
   "metadata": {},
   "outputs": [],
   "source": [
    "logis = LogisticRegression()"
   ]
  },
  {
   "cell_type": "markdown",
   "metadata": {},
   "source": [
    "#### Realizando o treinamento."
   ]
  },
  {
   "cell_type": "code",
   "execution_count": 35,
   "metadata": {},
   "outputs": [
    {
     "data": {
      "text/html": [
       "<style>#sk-container-id-1 {color: black;background-color: white;}#sk-container-id-1 pre{padding: 0;}#sk-container-id-1 div.sk-toggleable {background-color: white;}#sk-container-id-1 label.sk-toggleable__label {cursor: pointer;display: block;width: 100%;margin-bottom: 0;padding: 0.3em;box-sizing: border-box;text-align: center;}#sk-container-id-1 label.sk-toggleable__label-arrow:before {content: \"▸\";float: left;margin-right: 0.25em;color: #696969;}#sk-container-id-1 label.sk-toggleable__label-arrow:hover:before {color: black;}#sk-container-id-1 div.sk-estimator:hover label.sk-toggleable__label-arrow:before {color: black;}#sk-container-id-1 div.sk-toggleable__content {max-height: 0;max-width: 0;overflow: hidden;text-align: left;background-color: #f0f8ff;}#sk-container-id-1 div.sk-toggleable__content pre {margin: 0.2em;color: black;border-radius: 0.25em;background-color: #f0f8ff;}#sk-container-id-1 input.sk-toggleable__control:checked~div.sk-toggleable__content {max-height: 200px;max-width: 100%;overflow: auto;}#sk-container-id-1 input.sk-toggleable__control:checked~label.sk-toggleable__label-arrow:before {content: \"▾\";}#sk-container-id-1 div.sk-estimator input.sk-toggleable__control:checked~label.sk-toggleable__label {background-color: #d4ebff;}#sk-container-id-1 div.sk-label input.sk-toggleable__control:checked~label.sk-toggleable__label {background-color: #d4ebff;}#sk-container-id-1 input.sk-hidden--visually {border: 0;clip: rect(1px 1px 1px 1px);clip: rect(1px, 1px, 1px, 1px);height: 1px;margin: -1px;overflow: hidden;padding: 0;position: absolute;width: 1px;}#sk-container-id-1 div.sk-estimator {font-family: monospace;background-color: #f0f8ff;border: 1px dotted black;border-radius: 0.25em;box-sizing: border-box;margin-bottom: 0.5em;}#sk-container-id-1 div.sk-estimator:hover {background-color: #d4ebff;}#sk-container-id-1 div.sk-parallel-item::after {content: \"\";width: 100%;border-bottom: 1px solid gray;flex-grow: 1;}#sk-container-id-1 div.sk-label:hover label.sk-toggleable__label {background-color: #d4ebff;}#sk-container-id-1 div.sk-serial::before {content: \"\";position: absolute;border-left: 1px solid gray;box-sizing: border-box;top: 0;bottom: 0;left: 50%;z-index: 0;}#sk-container-id-1 div.sk-serial {display: flex;flex-direction: column;align-items: center;background-color: white;padding-right: 0.2em;padding-left: 0.2em;position: relative;}#sk-container-id-1 div.sk-item {position: relative;z-index: 1;}#sk-container-id-1 div.sk-parallel {display: flex;align-items: stretch;justify-content: center;background-color: white;position: relative;}#sk-container-id-1 div.sk-item::before, #sk-container-id-1 div.sk-parallel-item::before {content: \"\";position: absolute;border-left: 1px solid gray;box-sizing: border-box;top: 0;bottom: 0;left: 50%;z-index: -1;}#sk-container-id-1 div.sk-parallel-item {display: flex;flex-direction: column;z-index: 1;position: relative;background-color: white;}#sk-container-id-1 div.sk-parallel-item:first-child::after {align-self: flex-end;width: 50%;}#sk-container-id-1 div.sk-parallel-item:last-child::after {align-self: flex-start;width: 50%;}#sk-container-id-1 div.sk-parallel-item:only-child::after {width: 0;}#sk-container-id-1 div.sk-dashed-wrapped {border: 1px dashed gray;margin: 0 0.4em 0.5em 0.4em;box-sizing: border-box;padding-bottom: 0.4em;background-color: white;}#sk-container-id-1 div.sk-label label {font-family: monospace;font-weight: bold;display: inline-block;line-height: 1.2em;}#sk-container-id-1 div.sk-label-container {text-align: center;}#sk-container-id-1 div.sk-container {/* jupyter's `normalize.less` sets `[hidden] { display: none; }` but bootstrap.min.css set `[hidden] { display: none !important; }` so we also need the `!important` here to be able to override the default hidden behavior on the sphinx rendered scikit-learn.org. See: https://github.com/scikit-learn/scikit-learn/issues/21755 */display: inline-block !important;position: relative;}#sk-container-id-1 div.sk-text-repr-fallback {display: none;}</style><div id=\"sk-container-id-1\" class=\"sk-top-container\"><div class=\"sk-text-repr-fallback\"><pre>LogisticRegression()</pre><b>In a Jupyter environment, please rerun this cell to show the HTML representation or trust the notebook. <br />On GitHub, the HTML representation is unable to render, please try loading this page with nbviewer.org.</b></div><div class=\"sk-container\" hidden><div class=\"sk-item\"><div class=\"sk-estimator sk-toggleable\"><input class=\"sk-toggleable__control sk-hidden--visually\" id=\"sk-estimator-id-1\" type=\"checkbox\" checked><label for=\"sk-estimator-id-1\" class=\"sk-toggleable__label sk-toggleable__label-arrow\">LogisticRegression</label><div class=\"sk-toggleable__content\"><pre>LogisticRegression()</pre></div></div></div></div></div>"
      ],
      "text/plain": [
       "LogisticRegression()"
      ]
     },
     "execution_count": 35,
     "metadata": {},
     "output_type": "execute_result"
    }
   ],
   "source": [
    "logis.fit(X_train, y_train)"
   ]
  },
  {
   "cell_type": "markdown",
   "metadata": {},
   "source": [
    "#### Calculando as predições."
   ]
  },
  {
   "cell_type": "code",
   "execution_count": 36,
   "metadata": {},
   "outputs": [],
   "source": [
    "y_predict = logis.predict(X_test)"
   ]
  },
  {
   "cell_type": "markdown",
   "metadata": {},
   "source": [
    "#### Avaliando o resultado."
   ]
  },
  {
   "cell_type": "code",
   "execution_count": 37,
   "metadata": {},
   "outputs": [
    {
     "name": "stdout",
     "output_type": "stream",
     "text": [
      "Train Result:\n",
      "------------\n",
      "Classification Report: \n",
      "               precision    recall  f1-score   support\n",
      "\n",
      "           0       0.61      0.19      0.29       114\n",
      "           1       0.57      0.90      0.69       134\n",
      "\n",
      "    accuracy                           0.57       248\n",
      "   macro avg       0.59      0.54      0.49       248\n",
      "weighted avg       0.59      0.57      0.51       248\n",
      "\n",
      "\n",
      "Confusion Matrix: \n",
      " [[ 22  92]\n",
      " [ 14 120]]\n",
      "\n",
      "Average Accuracy: \t 0.5683\n",
      "Accuracy SD: \t\t 0.0776\n",
      "----------------------------------------------------------\n"
     ]
    }
   ],
   "source": [
    "print(\"Train Result:\")\n",
    "print(\"------------\")\n",
    "print(\"Classification Report: \\n {}\\n\".format(classification_report(y_train, logis.predict(X_train))))\n",
    "\n",
    "print(\"Confusion Matrix: \\n {}\\n\".format(confusion_matrix(y_train, logis.predict(X_train))))\n",
    "\n",
    "res = cross_val_score(logis, X_train, y_train, cv=10, scoring='accuracy')\n",
    "\n",
    "print(\"Average Accuracy: \\t {0:.4f}\".format(np.mean(res)))\n",
    "print(\"Accuracy SD: \\t\\t {0:.4f}\".format(np.std(res)))\n",
    "print(\"----------------------------------------------------------\")"
   ]
  },
  {
   "cell_type": "markdown",
   "metadata": {},
   "source": [
    "- acuracia superior a do baseline semelhante a Logistic Regression AUC = 0.88\n",
    "- para classe 0 o modelo de regressão logistica acerta 100% enquanto que para classe 1 acerta 83% o que parece ser um bom resultado"
   ]
  },
  {
   "cell_type": "code",
   "execution_count": 38,
   "metadata": {},
   "outputs": [
    {
     "name": "stdout",
     "output_type": "stream",
     "text": [
      "\n",
      "Logistic Regression AUC = 0.539553752535497\n",
      "\n",
      "              precision    recall  f1-score   support\n",
      "\n",
      "           0       0.67      0.14      0.23        29\n",
      "           1       0.56      0.94      0.70        34\n",
      "\n",
      "    accuracy                           0.57        63\n",
      "   macro avg       0.61      0.54      0.47        63\n",
      "weighted avg       0.61      0.57      0.48        63\n",
      "\n"
     ]
    }
   ],
   "source": [
    "rocClassificationReportResults(\"Logistic Regression\", y_test, y_predict)"
   ]
  },
  {
   "cell_type": "code",
   "execution_count": 39,
   "metadata": {},
   "outputs": [
    {
     "name": "stdout",
     "output_type": "stream",
     "text": [
      "Confusion Matrix: \n",
      " [[ 4 25]\n",
      " [ 2 32]]\n",
      "\n",
      "accuracy score: 0.57\n",
      "\n"
     ]
    }
   ],
   "source": [
    "print(\"Confusion Matrix: \\n {}\\n\".format(confusion_matrix(y_test, y_predict)))\n",
    "print(\"accuracy score: {0:.2f}\\n\".format(accuracy_score(y_test, y_predict)))"
   ]
  },
  {
   "cell_type": "markdown",
   "metadata": {},
   "source": [
    "### Modelo de Arvore de decisão."
   ]
  },
  {
   "cell_type": "markdown",
   "metadata": {},
   "source": [
    "#### Instânciando o algoritmo."
   ]
  },
  {
   "cell_type": "code",
   "execution_count": 40,
   "metadata": {},
   "outputs": [],
   "source": [
    "dtree = DecisionTreeClassifier()"
   ]
  },
  {
   "cell_type": "markdown",
   "metadata": {},
   "source": [
    "#### Realizando o treinamento."
   ]
  },
  {
   "cell_type": "code",
   "execution_count": 41,
   "metadata": {},
   "outputs": [],
   "source": [
    "dtree = dtree.fit(X_train,y_train)"
   ]
  },
  {
   "cell_type": "markdown",
   "metadata": {},
   "source": [
    "#### Calculando as predições."
   ]
  },
  {
   "cell_type": "code",
   "execution_count": 42,
   "metadata": {},
   "outputs": [],
   "source": [
    "y_predict = dtree.predict(X_test)"
   ]
  },
  {
   "cell_type": "markdown",
   "metadata": {},
   "source": [
    "#### Avaliando o resultado."
   ]
  },
  {
   "cell_type": "code",
   "execution_count": 43,
   "metadata": {},
   "outputs": [
    {
     "name": "stdout",
     "output_type": "stream",
     "text": [
      "Train Result:\n",
      "------------\n",
      "Classification Report: \n",
      "               precision    recall  f1-score   support\n",
      "\n",
      "           0       0.77      0.67      0.71       114\n",
      "           1       0.74      0.83      0.78       134\n",
      "\n",
      "    accuracy                           0.75       248\n",
      "   macro avg       0.76      0.75      0.75       248\n",
      "weighted avg       0.76      0.75      0.75       248\n",
      "\n",
      "\n",
      "Confusion Matrix: \n",
      " [[ 76  38]\n",
      " [ 23 111]]\n",
      "\n",
      "Average Accuracy: \t 0.5483\n",
      "Accuracy SD: \t\t 0.0939\n",
      "----------------------------------------------------------\n"
     ]
    }
   ],
   "source": [
    "print(\"Train Result:\")\n",
    "print(\"------------\")\n",
    "print(\"Classification Report: \\n {}\\n\".format(classification_report(y_train, dtree.predict(X_train))))\n",
    "\n",
    "print(\"Confusion Matrix: \\n {}\\n\".format(confusion_matrix(y_train, dtree.predict(X_train))))\n",
    "\n",
    "res = cross_val_score(dtree, X_train, y_train, cv=10, scoring='accuracy')\n",
    "\n",
    "print(\"Average Accuracy: \\t {0:.4f}\".format(np.mean(res)))\n",
    "print(\"Accuracy SD: \\t\\t {0:.4f}\".format(np.std(res)))\n",
    "print(\"----------------------------------------------------------\")"
   ]
  },
  {
   "cell_type": "markdown",
   "metadata": {},
   "source": [
    "- A arvore de decisão deu acuracia maior\n",
    "- Decision Tree AUC = 1.00\n",
    "- Aumentou a precisao da classe 1 comparado com os modelos anteriores"
   ]
  },
  {
   "cell_type": "code",
   "execution_count": 44,
   "metadata": {},
   "outputs": [
    {
     "name": "stdout",
     "output_type": "stream",
     "text": [
      "\n",
      "Decision Tree AUC = 0.4787018255578093\n",
      "\n",
      "              precision    recall  f1-score   support\n",
      "\n",
      "           0       0.43      0.31      0.36        29\n",
      "           1       0.52      0.65      0.58        34\n",
      "\n",
      "    accuracy                           0.49        63\n",
      "   macro avg       0.48      0.48      0.47        63\n",
      "weighted avg       0.48      0.49      0.48        63\n",
      "\n"
     ]
    }
   ],
   "source": [
    "rocClassificationReportResults(\"Decision Tree\", y_test, y_predict)"
   ]
  },
  {
   "cell_type": "code",
   "execution_count": 45,
   "metadata": {},
   "outputs": [
    {
     "name": "stdout",
     "output_type": "stream",
     "text": [
      "Confusion Matrix: \n",
      " [[ 9 20]\n",
      " [12 22]]\n",
      "\n",
      "accuracy score: 0.49\n",
      "\n"
     ]
    }
   ],
   "source": [
    "print(\"Confusion Matrix: \\n {}\\n\".format(confusion_matrix(y_test, y_predict)))\n",
    "print(\"accuracy score: {0:.2f}\\n\".format(accuracy_score(y_test, y_predict)))"
   ]
  },
  {
   "cell_type": "markdown",
   "metadata": {},
   "source": [
    "### Modelo de Arvore Aleatória (Random Forest)"
   ]
  },
  {
   "cell_type": "markdown",
   "metadata": {},
   "source": [
    "#### Instânciando o algoritmo."
   ]
  },
  {
   "cell_type": "code",
   "execution_count": 46,
   "metadata": {},
   "outputs": [
    {
     "data": {
      "image/png": "[encoded data removed]",
      "text/plain": [
       "<Figure size 864x288 with 1 Axes>"
      ]
     },
     "metadata": {
      "needs_background": "light"
     },
     "output_type": "display_data"
    }
   ],
   "source": [
    "rf = RandomForestClassifier()\n",
    "rf = rf.fit(X_train,y_train)\n",
    "\n",
    "importances = rf.feature_importances_\n",
    "feat_names = df.drop(['perfScoreSatisfaction'],axis=1).columns\n",
    "\n",
    "indices = np.argsort(importances)[::-1]\n",
    "plt.figure(figsize=(12,4))\n",
    "plt.title(\"Feature importances by LogisticRegression\")\n",
    "plt.bar(range(len(indices)), importances[indices], color='lightblue',  align=\"center\")\n",
    "plt.xticks(range(len(indices)), feat_names[indices], rotation='vertical',fontsize=14)\n",
    "plt.xlim([-1, len(indices)])\n",
    "plt.show()"
   ]
  },
  {
   "cell_type": "code",
   "execution_count": 47,
   "metadata": {},
   "outputs": [
    {
     "data": {
      "text/plain": [
       "Index(['Department', 'DaysLateLast30', 'Absences', 'EmpSatisfaction',\n",
       "       'EngagementSurvey', 'PerformanceScore', 'Termd', 'SalaryLevel',\n",
       "       'TimeInCompany', 'SpecialProjectsCount', 'perfScoreSatisfaction'],\n",
       "      dtype='object')"
      ]
     },
     "execution_count": 47,
     "metadata": {},
     "output_type": "execute_result"
    }
   ],
   "source": [
    "df.columns"
   ]
  },
  {
   "cell_type": "code",
   "execution_count": 48,
   "metadata": {},
   "outputs": [
    {
     "data": {
      "text/plain": [
       "array([[1.        , 0.33333333, 0.87113402, 0.16666667],\n",
       "       [1.        , 0.33333333, 0.89690722, 0.        ],\n",
       "       [0.        , 0.        , 0.84536082, 0.16666667],\n",
       "       [1.        , 0.33333333, 1.        , 0.08333333],\n",
       "       [0.        , 0.33333333, 0.87886598, 0.5       ],\n",
       "       [1.        , 0.33333333, 0.52061856, 0.16666667],\n",
       "       [0.        , 0.33333333, 0.7242268 , 0.58333333],\n",
       "       [1.        , 0.33333333, 1.        , 0.58333333],\n",
       "       [0.        , 0.        , 0.93814433, 0.33333333],\n",
       "       [1.        , 0.33333333, 0.87113402, 0.        ],\n",
       "       [0.        , 0.33333333, 0.95103093, 0.41666667],\n",
       "       [0.        , 0.33333333, 1.        , 0.25      ],\n",
       "       [0.        , 0.33333333, 0.59278351, 0.08333333],\n",
       "       [1.        , 0.66666667, 0.73453608, 0.25      ],\n",
       "       [1.        , 0.33333333, 0.60051546, 0.33333333],\n",
       "       [1.        , 0.33333333, 0.79381443, 0.08333333],\n",
       "       [0.        , 0.33333333, 0.87113402, 0.25      ],\n",
       "       [1.        , 0.66666667, 0.62371134, 0.5       ],\n",
       "       [1.        , 0.33333333, 1.        , 0.41666667],\n",
       "       [0.        , 0.33333333, 0.70103093, 0.58333333],\n",
       "       [0.        , 0.33333333, 0.76804124, 0.41666667],\n",
       "       [1.        , 0.33333333, 0.50515464, 0.41666667],\n",
       "       [0.        , 1.        , 0.        , 0.33333333],\n",
       "       [0.        , 0.33333333, 0.81958763, 0.58333333],\n",
       "       [0.        , 0.33333333, 0.58762887, 0.5       ],\n",
       "       [1.        , 0.33333333, 0.87113402, 0.        ],\n",
       "       [0.        , 0.        , 0.79381443, 0.41666667],\n",
       "       [1.        , 0.33333333, 0.54639175, 0.        ],\n",
       "       [1.        , 0.33333333, 0.7371134 , 0.41666667],\n",
       "       [0.        , 0.33333333, 1.        , 0.33333333],\n",
       "       [1.        , 0.33333333, 0.79381443, 0.        ],\n",
       "       [1.        , 0.33333333, 0.79381443, 0.        ],\n",
       "       [0.        , 0.33333333, 0.53865979, 0.25      ],\n",
       "       [0.        , 0.33333333, 0.5128866 , 0.33333333],\n",
       "       [0.        , 0.        , 0.81958763, 0.33333333],\n",
       "       [1.        , 0.33333333, 0.92268041, 0.08333333],\n",
       "       [0.        , 0.33333333, 0.87886598, 0.33333333],\n",
       "       [1.        , 0.33333333, 0.94329897, 0.33333333],\n",
       "       [1.        , 0.66666667, 0.22680412, 0.41666667],\n",
       "       [0.        , 0.33333333, 0.87113402, 0.25      ],\n",
       "       [0.        , 0.33333333, 0.79381443, 0.58333333],\n",
       "       [0.        , 0.33333333, 0.76804124, 0.41666667],\n",
       "       [0.        , 0.33333333, 0.58762887, 0.5       ],\n",
       "       [0.        , 0.33333333, 0.69072165, 0.41666667],\n",
       "       [0.        , 0.33333333, 0.86597938, 0.25      ],\n",
       "       [0.        , 0.33333333, 0.89690722, 0.33333333],\n",
       "       [0.        , 0.33333333, 0.81958763, 0.        ],\n",
       "       [1.        , 0.33333333, 0.96907216, 0.5       ],\n",
       "       [0.        , 1.        , 0.02061856, 0.25      ],\n",
       "       [0.        , 0.33333333, 0.86082474, 0.33333333],\n",
       "       [0.        , 0.33333333, 0.77319588, 0.16666667],\n",
       "       [0.        , 0.        , 1.        , 0.16666667],\n",
       "       [0.        , 1.        , 0.30412371, 0.5       ],\n",
       "       [1.        , 0.33333333, 0.71391753, 0.16666667],\n",
       "       [0.        , 0.66666667, 0.71134021, 0.41666667],\n",
       "       [1.        , 1.        , 0.48453608, 0.08333333],\n",
       "       [0.        , 0.33333333, 0.87371134, 0.5       ],\n",
       "       [0.        , 0.33333333, 0.56443299, 0.33333333],\n",
       "       [0.        , 0.33333333, 0.58762887, 0.16666667],\n",
       "       [0.        , 0.33333333, 0.81958763, 0.41666667],\n",
       "       [0.        , 0.33333333, 0.94845361, 0.5       ],\n",
       "       [0.        , 0.33333333, 1.        , 0.25      ],\n",
       "       [0.        , 0.33333333, 0.69329897, 0.25      ],\n",
       "       [0.        , 0.        , 0.89690722, 0.58333333],\n",
       "       [0.        , 0.33333333, 1.        , 0.33333333],\n",
       "       [1.        , 0.33333333, 0.74226804, 0.41666667],\n",
       "       [0.        , 1.        , 0.32989691, 0.5       ],\n",
       "       [0.        , 0.33333333, 0.95876289, 0.83333333],\n",
       "       [0.        , 0.33333333, 1.        , 0.41666667],\n",
       "       [0.        , 0.        , 0.89690722, 0.66666667],\n",
       "       [0.        , 0.33333333, 0.87113402, 0.16666667],\n",
       "       [1.        , 0.33333333, 0.84536082, 0.25      ],\n",
       "       [1.        , 0.33333333, 0.63917526, 0.08333333],\n",
       "       [1.        , 0.33333333, 0.69072165, 0.08333333],\n",
       "       [0.        , 0.33333333, 1.        , 0.33333333],\n",
       "       [0.        , 0.33333333, 0.79381443, 0.5       ],\n",
       "       [0.        , 0.33333333, 1.        , 0.25      ],\n",
       "       [0.        , 0.33333333, 0.83505155, 0.25      ],\n",
       "       [1.        , 0.33333333, 0.69072165, 0.5       ],\n",
       "       [0.        , 0.33333333, 0.63917526, 0.33333333],\n",
       "       [0.        , 0.33333333, 0.63402062, 0.58333333],\n",
       "       [0.        , 0.        , 0.81958763, 0.33333333],\n",
       "       [0.        , 0.33333333, 1.        , 0.25      ],\n",
       "       [0.        , 0.33333333, 1.        , 0.33333333],\n",
       "       [1.        , 0.66666667, 0.25257732, 0.16666667],\n",
       "       [0.        , 0.33333333, 0.84536082, 0.41666667],\n",
       "       [1.        , 0.66666667, 0.32989691, 0.33333333],\n",
       "       [1.        , 0.33333333, 1.        , 0.16666667],\n",
       "       [1.        , 1.        , 0.22680412, 0.25      ],\n",
       "       [0.        , 0.        , 0.76804124, 1.        ],\n",
       "       [1.        , 0.33333333, 0.94845361, 0.25      ],\n",
       "       [0.        , 0.33333333, 0.77061856, 0.25      ],\n",
       "       [0.        , 0.33333333, 0.76804124, 0.16666667],\n",
       "       [0.        , 0.33333333, 1.        , 0.25      ],\n",
       "       [1.        , 0.33333333, 0.65463918, 0.08333333],\n",
       "       [0.        , 0.33333333, 0.87113402, 0.25      ],\n",
       "       [1.        , 0.33333333, 0.98969072, 0.08333333],\n",
       "       [0.        , 0.33333333, 0.85309278, 0.33333333],\n",
       "       [0.        , 0.33333333, 0.95618557, 0.5       ],\n",
       "       [0.        , 0.33333333, 0.89690722, 0.5       ],\n",
       "       [1.        , 0.33333333, 0.87113402, 0.08333333],\n",
       "       [1.        , 1.        , 0.31185567, 0.33333333],\n",
       "       [0.        , 0.33333333, 0.84536082, 0.41666667],\n",
       "       [0.        , 0.66666667, 0.3814433 , 0.16666667],\n",
       "       [1.        , 0.66666667, 0.31443299, 0.08333333],\n",
       "       [1.        , 0.33333333, 0.9742268 , 0.08333333],\n",
       "       [0.        , 0.33333333, 0.55412371, 0.16666667],\n",
       "       [0.        , 0.33333333, 0.45876289, 0.66666667],\n",
       "       [0.        , 0.        , 0.63917526, 0.41666667],\n",
       "       [1.        , 0.33333333, 1.        , 0.08333333],\n",
       "       [0.        , 0.33333333, 0.7371134 , 0.33333333],\n",
       "       [0.        , 0.66666667, 0.32731959, 0.5       ],\n",
       "       [0.        , 0.33333333, 1.        , 0.33333333],\n",
       "       [1.        , 0.33333333, 0.52835052, 0.58333333],\n",
       "       [0.        , 0.33333333, 0.53350515, 0.33333333],\n",
       "       [0.        , 0.33333333, 0.90206186, 0.33333333],\n",
       "       [0.        , 0.33333333, 0.48453608, 0.5       ],\n",
       "       [0.        , 0.33333333, 0.49484536, 0.25      ],\n",
       "       [0.        , 0.66666667, 0.22680412, 0.58333333],\n",
       "       [1.        , 0.66666667, 0.3556701 , 0.25      ],\n",
       "       [0.        , 0.33333333, 0.74226804, 0.33333333],\n",
       "       [1.        , 0.33333333, 0.87628866, 0.08333333],\n",
       "       [0.        , 0.33333333, 0.81701031, 0.41666667],\n",
       "       [0.        , 0.33333333, 0.7242268 , 0.41666667],\n",
       "       [0.        , 0.33333333, 0.93041237, 0.25      ],\n",
       "       [0.        , 0.33333333, 0.65206186, 0.58333333],\n",
       "       [0.        , 0.33333333, 0.76804124, 0.16666667],\n",
       "       [0.        , 0.33333333, 0.66237113, 0.33333333],\n",
       "       [0.        , 0.33333333, 0.81958763, 0.41666667],\n",
       "       [0.        , 0.33333333, 1.        , 0.58333333],\n",
       "       [0.        , 1.        , 0.20876289, 0.33333333],\n",
       "       [0.        , 0.33333333, 1.        , 0.25      ],\n",
       "       [0.        , 0.33333333, 0.84536082, 0.33333333],\n",
       "       [0.        , 0.33333333, 1.        , 0.5       ],\n",
       "       [0.        , 0.33333333, 0.84536082, 0.16666667],\n",
       "       [0.        , 0.33333333, 0.89948454, 0.25      ],\n",
       "       [0.        , 0.33333333, 0.81443299, 0.41666667],\n",
       "       [0.        , 0.66666667, 0.34020619, 0.33333333],\n",
       "       [0.        , 0.33333333, 0.81958763, 0.41666667],\n",
       "       [0.        , 0.33333333, 0.56701031, 0.25      ],\n",
       "       [1.        , 0.33333333, 0.79381443, 0.08333333],\n",
       "       [0.        , 0.33333333, 1.        , 0.33333333],\n",
       "       [1.        , 0.33333333, 0.53092784, 0.58333333],\n",
       "       [1.        , 0.33333333, 0.57474227, 0.08333333],\n",
       "       [1.        , 0.33333333, 0.78350515, 0.41666667],\n",
       "       [0.        , 0.33333333, 0.58762887, 0.08333333],\n",
       "       [1.        , 0.33333333, 0.67010309, 0.16666667],\n",
       "       [1.        , 0.        , 1.        , 0.25      ],\n",
       "       [1.        , 1.        , 0.48453608, 0.25      ],\n",
       "       [1.        , 0.33333333, 0.90979381, 0.25      ],\n",
       "       [0.        , 0.33333333, 0.98453608, 0.08333333],\n",
       "       [0.        , 0.33333333, 0.56185567, 0.33333333],\n",
       "       [0.        , 0.33333333, 0.95618557, 0.5       ],\n",
       "       [0.        , 0.        , 0.89690722, 0.58333333],\n",
       "       [1.        , 0.33333333, 1.        , 0.5       ],\n",
       "       [0.        , 0.33333333, 0.71649485, 0.33333333],\n",
       "       [0.        , 1.        , 0.11340206, 0.25      ],\n",
       "       [1.        , 0.33333333, 1.        , 0.33333333],\n",
       "       [0.        , 0.        , 0.87113402, 0.33333333],\n",
       "       [0.        , 0.        , 1.        , 0.5       ],\n",
       "       [0.        , 0.33333333, 0.74226804, 0.41666667],\n",
       "       [0.        , 0.33333333, 0.4871134 , 0.08333333],\n",
       "       [0.        , 0.33333333, 0.73195876, 0.58333333],\n",
       "       [1.        , 0.33333333, 0.93814433, 0.16666667],\n",
       "       [0.        , 0.33333333, 0.92268041, 0.66666667],\n",
       "       [1.        , 0.33333333, 1.        , 0.25      ],\n",
       "       [0.        , 0.33333333, 0.67783505, 0.25      ],\n",
       "       [0.        , 0.33333333, 0.94845361, 0.33333333],\n",
       "       [1.        , 0.33333333, 0.7242268 , 0.5       ],\n",
       "       [1.        , 0.66666667, 0.30412371, 0.33333333],\n",
       "       [1.        , 0.33333333, 0.49226804, 0.        ],\n",
       "       [0.        , 0.33333333, 0.87113402, 0.33333333],\n",
       "       [0.        , 0.33333333, 0.76804124, 0.58333333],\n",
       "       [0.        , 0.33333333, 0.87113402, 0.33333333],\n",
       "       [0.        , 0.33333333, 0.76804124, 0.41666667],\n",
       "       [0.        , 0.33333333, 0.67268041, 0.25      ],\n",
       "       [0.        , 0.33333333, 1.        , 0.41666667],\n",
       "       [0.        , 0.33333333, 0.48453608, 0.16666667],\n",
       "       [0.        , 0.        , 0.94072165, 0.58333333],\n",
       "       [0.        , 0.        , 1.        , 0.33333333],\n",
       "       [1.        , 0.33333333, 0.81958763, 0.33333333],\n",
       "       [0.        , 0.33333333, 0.76804124, 0.66666667],\n",
       "       [0.        , 0.33333333, 1.        , 0.41666667],\n",
       "       [1.        , 0.33333333, 0.91752577, 0.41666667],\n",
       "       [1.        , 0.33333333, 0.90206186, 0.33333333],\n",
       "       [1.        , 0.33333333, 0.58505155, 0.        ],\n",
       "       [0.        , 0.33333333, 0.89690722, 0.33333333],\n",
       "       [1.        , 0.33333333, 0.79381443, 0.5       ],\n",
       "       [1.        , 0.        , 1.        , 0.25      ],\n",
       "       [0.        , 0.33333333, 1.        , 0.08333333],\n",
       "       [0.        , 0.33333333, 1.        , 0.5       ],\n",
       "       [1.        , 0.33333333, 0.51804124, 0.33333333],\n",
       "       [0.        , 0.        , 0.66494845, 0.75      ],\n",
       "       [0.        , 0.33333333, 0.83762887, 0.5       ],\n",
       "       [0.        , 0.33333333, 1.        , 0.33333333],\n",
       "       [1.        , 0.        , 0.92268041, 0.5       ],\n",
       "       [0.        , 0.33333333, 0.76030928, 0.33333333],\n",
       "       [0.        , 0.33333333, 0.67268041, 0.75      ],\n",
       "       [0.        , 0.33333333, 0.54896907, 0.58333333],\n",
       "       [1.        , 0.33333333, 0.82731959, 0.16666667],\n",
       "       [0.        , 0.        , 0.90721649, 0.58333333],\n",
       "       [0.        , 0.33333333, 0.51030928, 0.33333333],\n",
       "       [0.        , 0.33333333, 0.87113402, 0.41666667],\n",
       "       [1.        , 0.33333333, 0.89690722, 0.75      ],\n",
       "       [1.        , 0.33333333, 0.81958763, 0.25      ],\n",
       "       [1.        , 0.33333333, 1.        , 0.33333333],\n",
       "       [0.        , 0.33333333, 0.65463918, 0.91666667],\n",
       "       [0.        , 0.33333333, 0.76804124, 0.5       ],\n",
       "       [1.        , 0.33333333, 1.        , 0.41666667],\n",
       "       [0.        , 0.33333333, 0.79381443, 0.41666667],\n",
       "       [0.        , 0.33333333, 1.        , 0.25      ],\n",
       "       [0.        , 0.33333333, 0.66237113, 0.25      ],\n",
       "       [1.        , 0.33333333, 1.        , 0.08333333],\n",
       "       [0.        , 0.33333333, 0.79639175, 0.41666667],\n",
       "       [0.        , 0.        , 1.        , 0.58333333],\n",
       "       [1.        , 0.33333333, 1.        , 0.5       ],\n",
       "       [1.        , 0.33333333, 0.78865979, 0.33333333],\n",
       "       [0.        , 0.66666667, 0.32989691, 0.33333333],\n",
       "       [1.        , 0.33333333, 0.79381443, 0.33333333],\n",
       "       [1.        , 0.33333333, 0.61340206, 0.16666667],\n",
       "       [0.        , 0.        , 1.        , 0.41666667],\n",
       "       [0.        , 0.33333333, 0.79381443, 0.08333333],\n",
       "       [1.        , 0.33333333, 0.53092784, 0.25      ],\n",
       "       [1.        , 0.        , 0.76804124, 0.16666667],\n",
       "       [0.        , 0.33333333, 0.68814433, 0.5       ],\n",
       "       [0.        , 0.33333333, 0.66494845, 0.58333333],\n",
       "       [0.        , 0.33333333, 0.78608247, 0.5       ],\n",
       "       [0.        , 0.33333333, 0.92268041, 0.5       ],\n",
       "       [1.        , 0.33333333, 0.78092784, 0.33333333],\n",
       "       [0.        , 0.        , 0.83505155, 0.58333333],\n",
       "       [0.        , 0.33333333, 0.50257732, 0.41666667],\n",
       "       [0.        , 0.        , 0.87113402, 0.58333333],\n",
       "       [0.        , 0.33333333, 0.76804124, 0.66666667],\n",
       "       [0.        , 0.33333333, 0.79381443, 0.41666667],\n",
       "       [1.        , 0.33333333, 0.89690722, 0.41666667],\n",
       "       [0.        , 0.33333333, 1.        , 0.16666667],\n",
       "       [0.        , 0.        , 0.74226804, 0.41666667],\n",
       "       [0.        , 0.33333333, 0.58247423, 0.58333333],\n",
       "       [0.        , 0.33333333, 0.92268041, 0.33333333],\n",
       "       [0.        , 0.33333333, 1.        , 0.58333333],\n",
       "       [0.        , 0.33333333, 0.79381443, 0.33333333],\n",
       "       [1.        , 0.33333333, 0.81958763, 0.16666667],\n",
       "       [0.        , 1.        , 0.17783505, 0.33333333],\n",
       "       [0.        , 0.33333333, 0.81958763, 0.58333333],\n",
       "       [0.        , 0.        , 0.81443299, 0.33333333],\n",
       "       [0.        , 1.        , 0.48453608, 0.33333333],\n",
       "       [1.        , 0.33333333, 1.        , 0.41666667],\n",
       "       [0.        , 0.        , 0.76804124, 0.16666667]])"
      ]
     },
     "execution_count": 48,
     "metadata": {},
     "output_type": "execute_result"
    }
   ],
   "source": [
    "X = df[[\"Termd\",\"PerformanceScore\",\"EngagementSurvey\", \"TimeInCompany\" ]]\n",
    "\n",
    "X_train, X_test, y_train, y_test = train_test_split(\n",
    "        X\n",
    "       ,y\n",
    "       ,test_size = 0.3\n",
    "       ,random_state = 33\n",
    "       ,stratify = y\n",
    ")\n",
    "\n",
    "scaler = MinMaxScaler()\n",
    "X = scaler.fit_transform(X)\n",
    "\n",
    "X_train, X_test, y_train, y_test = train_test_split(\n",
    "        X\n",
    "       ,y\n",
    "       ,test_size = 0.2\n",
    "       ,random_state = 123\n",
    "       ,stratify = y\n",
    ")\n",
    "\n",
    "X_train"
   ]
  },
  {
   "cell_type": "code",
   "execution_count": 49,
   "metadata": {},
   "outputs": [],
   "source": [
    "rf = RandomForestClassifier()"
   ]
  },
  {
   "cell_type": "markdown",
   "metadata": {},
   "source": [
    "#### Realizando o treinamento."
   ]
  },
  {
   "cell_type": "code",
   "execution_count": 50,
   "metadata": {},
   "outputs": [],
   "source": [
    "rf = rf.fit(X_train,y_train)"
   ]
  },
  {
   "cell_type": "markdown",
   "metadata": {},
   "source": [
    "#### Calculando as predições."
   ]
  },
  {
   "cell_type": "code",
   "execution_count": 51,
   "metadata": {},
   "outputs": [],
   "source": [
    "y_predict = rf.predict(X_test)"
   ]
  },
  {
   "cell_type": "markdown",
   "metadata": {},
   "source": [
    "#### Avaliando o resultado."
   ]
  },
  {
   "cell_type": "code",
   "execution_count": 52,
   "metadata": {},
   "outputs": [
    {
     "name": "stdout",
     "output_type": "stream",
     "text": [
      "Train Result:\n",
      "------------\n",
      "Classification Report: \n",
      "               precision    recall  f1-score   support\n",
      "\n",
      "           0       1.00      1.00      1.00       114\n",
      "           1       1.00      1.00      1.00       134\n",
      "\n",
      "    accuracy                           1.00       248\n",
      "   macro avg       1.00      1.00      1.00       248\n",
      "weighted avg       1.00      1.00      1.00       248\n",
      "\n",
      "\n",
      "Confusion Matrix: \n",
      " [[114   0]\n",
      " [  0 134]]\n",
      "\n",
      "Average Accuracy: \t 0.9960\n",
      "Accuracy SD: \t\t 0.0120\n",
      "----------------------------------------------------------\n"
     ]
    }
   ],
   "source": [
    "print(\"Train Result:\")\n",
    "print(\"------------\")\n",
    "print(\"Classification Report: \\n {}\\n\".format(classification_report(y_train, rf.predict(X_train))))\n",
    "\n",
    "print(\"Confusion Matrix: \\n {}\\n\".format(confusion_matrix(y_train, rf.predict(X_train))))\n",
    "\n",
    "res = cross_val_score(rf, X_train, y_train, cv=10, scoring='accuracy')\n",
    "\n",
    "print(\"Average Accuracy: \\t {0:.4f}\".format(np.mean(res)))\n",
    "print(\"Accuracy SD: \\t\\t {0:.4f}\".format(np.std(res)))\n",
    "print(\"----------------------------------------------------------\")"
   ]
  },
  {
   "cell_type": "markdown",
   "metadata": {},
   "source": [
    "- O modelo de Floresta aleatória alcançou 100% de acuracia para as duas classes\n"
   ]
  },
  {
   "cell_type": "code",
   "execution_count": 53,
   "metadata": {},
   "outputs": [
    {
     "name": "stdout",
     "output_type": "stream",
     "text": [
      "\n",
      "Random Forest AUC = 0.9655172413793103\n",
      "\n",
      "              precision    recall  f1-score   support\n",
      "\n",
      "           0       1.00      0.93      0.96        29\n",
      "           1       0.94      1.00      0.97        34\n",
      "\n",
      "    accuracy                           0.97        63\n",
      "   macro avg       0.97      0.97      0.97        63\n",
      "weighted avg       0.97      0.97      0.97        63\n",
      "\n"
     ]
    }
   ],
   "source": [
    "rocClassificationReportResults(\"Random Forest\", y_test, y_predict)"
   ]
  },
  {
   "cell_type": "code",
   "execution_count": 54,
   "metadata": {},
   "outputs": [
    {
     "name": "stdout",
     "output_type": "stream",
     "text": [
      "Confusion Matrix: \n",
      " [[27  2]\n",
      " [ 0 34]]\n",
      "\n",
      "accuracy score: 0.97\n",
      "\n"
     ]
    }
   ],
   "source": [
    "print(\"Confusion Matrix: \\n {}\\n\".format(confusion_matrix(y_test, y_predict)))\n",
    "print(\"accuracy score: {0:.2f}\\n\".format(accuracy_score(y_test, y_predict)))"
   ]
  },
  {
   "cell_type": "code",
   "execution_count": 55,
   "metadata": {},
   "outputs": [
    {
     "data": {
      "image/png": "[encoded data removed]",
      "text/plain": [
       "<Figure size 864x288 with 1 Axes>"
      ]
     },
     "metadata": {
      "needs_background": "light"
     },
     "output_type": "display_data"
    }
   ],
   "source": [
    "importances = rf.feature_importances_\n",
    "feat_names = df.drop(['perfScoreSatisfaction'],axis=1).columns\n",
    "indices = np.argsort(importances)[::-1]\n",
    "plt.figure(figsize=(12,4))\n",
    "plt.title(\"Feature importances by Random Forest\")\n",
    "plt.bar(range(len(indices)), importances[indices], color='lightblue',  align=\"center\")\n",
    "plt.xticks(range(len(indices)), feat_names[indices], rotation='vertical',fontsize=14)\n",
    "plt.xlim([-1, len(indices)])\n",
    "plt.show()"
   ]
  },
  {
   "cell_type": "markdown",
   "metadata": {},
   "source": [
    "para fins de experimentação usei a biblioteca pycaret, de forma a simplificar o pipeline de machinelearning do projeto e comparar resultados obtidos"
   ]
  },
  {
   "cell_type": "markdown",
   "metadata": {},
   "source": [
    "### Pycaret"
   ]
  },
  {
   "cell_type": "code",
   "execution_count": 56,
   "metadata": {},
   "outputs": [
    {
     "data": {
      "text/html": [
       "<style type=\"text/css\">\n",
       "#T_fdb4a_row8_col1, #T_fdb4a_row13_col1, #T_fdb4a_row15_col1 {\n",
       "  background-color: lightgreen;\n",
       "}\n",
       "</style>\n",
       "<table id=\"T_fdb4a\">\n",
       "  <thead>\n",
       "    <tr>\n",
       "      <th class=\"blank level0\" >&nbsp;</th>\n",
       "      <th id=\"T_fdb4a_level0_col0\" class=\"col_heading level0 col0\" >Description</th>\n",
       "      <th id=\"T_fdb4a_level0_col1\" class=\"col_heading level0 col1\" >Value</th>\n",
       "    </tr>\n",
       "  </thead>\n",
       "  <tbody>\n",
       "    <tr>\n",
       "      <th id=\"T_fdb4a_level0_row0\" class=\"row_heading level0 row0\" >0</th>\n",
       "      <td id=\"T_fdb4a_row0_col0\" class=\"data row0 col0\" >Session id</td>\n",
       "      <td id=\"T_fdb4a_row0_col1\" class=\"data row0 col1\" >1984</td>\n",
       "    </tr>\n",
       "    <tr>\n",
       "      <th id=\"T_fdb4a_level0_row1\" class=\"row_heading level0 row1\" >1</th>\n",
       "      <td id=\"T_fdb4a_row1_col0\" class=\"data row1 col0\" >Target</td>\n",
       "      <td id=\"T_fdb4a_row1_col1\" class=\"data row1 col1\" >perfScoreSatisfaction</td>\n",
       "    </tr>\n",
       "    <tr>\n",
       "      <th id=\"T_fdb4a_level0_row2\" class=\"row_heading level0 row2\" >2</th>\n",
       "      <td id=\"T_fdb4a_row2_col0\" class=\"data row2 col0\" >Target type</td>\n",
       "      <td id=\"T_fdb4a_row2_col1\" class=\"data row2 col1\" >Binary</td>\n",
       "    </tr>\n",
       "    <tr>\n",
       "      <th id=\"T_fdb4a_level0_row3\" class=\"row_heading level0 row3\" >3</th>\n",
       "      <td id=\"T_fdb4a_row3_col0\" class=\"data row3 col0\" >Original data shape</td>\n",
       "      <td id=\"T_fdb4a_row3_col1\" class=\"data row3 col1\" >(311, 11)</td>\n",
       "    </tr>\n",
       "    <tr>\n",
       "      <th id=\"T_fdb4a_level0_row4\" class=\"row_heading level0 row4\" >4</th>\n",
       "      <td id=\"T_fdb4a_row4_col0\" class=\"data row4 col0\" >Transformed data shape</td>\n",
       "      <td id=\"T_fdb4a_row4_col1\" class=\"data row4 col1\" >(328, 11)</td>\n",
       "    </tr>\n",
       "    <tr>\n",
       "      <th id=\"T_fdb4a_level0_row5\" class=\"row_heading level0 row5\" >5</th>\n",
       "      <td id=\"T_fdb4a_row5_col0\" class=\"data row5 col0\" >Transformed train set shape</td>\n",
       "      <td id=\"T_fdb4a_row5_col1\" class=\"data row5 col1\" >(234, 11)</td>\n",
       "    </tr>\n",
       "    <tr>\n",
       "      <th id=\"T_fdb4a_level0_row6\" class=\"row_heading level0 row6\" >6</th>\n",
       "      <td id=\"T_fdb4a_row6_col0\" class=\"data row6 col0\" >Transformed test set shape</td>\n",
       "      <td id=\"T_fdb4a_row6_col1\" class=\"data row6 col1\" >(94, 11)</td>\n",
       "    </tr>\n",
       "    <tr>\n",
       "      <th id=\"T_fdb4a_level0_row7\" class=\"row_heading level0 row7\" >7</th>\n",
       "      <td id=\"T_fdb4a_row7_col0\" class=\"data row7 col0\" >Numeric features</td>\n",
       "      <td id=\"T_fdb4a_row7_col1\" class=\"data row7 col1\" >7</td>\n",
       "    </tr>\n",
       "    <tr>\n",
       "      <th id=\"T_fdb4a_level0_row8\" class=\"row_heading level0 row8\" >8</th>\n",
       "      <td id=\"T_fdb4a_row8_col0\" class=\"data row8 col0\" >Preprocess</td>\n",
       "      <td id=\"T_fdb4a_row8_col1\" class=\"data row8 col1\" >True</td>\n",
       "    </tr>\n",
       "    <tr>\n",
       "      <th id=\"T_fdb4a_level0_row9\" class=\"row_heading level0 row9\" >9</th>\n",
       "      <td id=\"T_fdb4a_row9_col0\" class=\"data row9 col0\" >Imputation type</td>\n",
       "      <td id=\"T_fdb4a_row9_col1\" class=\"data row9 col1\" >simple</td>\n",
       "    </tr>\n",
       "    <tr>\n",
       "      <th id=\"T_fdb4a_level0_row10\" class=\"row_heading level0 row10\" >10</th>\n",
       "      <td id=\"T_fdb4a_row10_col0\" class=\"data row10 col0\" >Numeric imputation</td>\n",
       "      <td id=\"T_fdb4a_row10_col1\" class=\"data row10 col1\" >mean</td>\n",
       "    </tr>\n",
       "    <tr>\n",
       "      <th id=\"T_fdb4a_level0_row11\" class=\"row_heading level0 row11\" >11</th>\n",
       "      <td id=\"T_fdb4a_row11_col0\" class=\"data row11 col0\" >Categorical imputation</td>\n",
       "      <td id=\"T_fdb4a_row11_col1\" class=\"data row11 col1\" >constant</td>\n",
       "    </tr>\n",
       "    <tr>\n",
       "      <th id=\"T_fdb4a_level0_row12\" class=\"row_heading level0 row12\" >12</th>\n",
       "      <td id=\"T_fdb4a_row12_col0\" class=\"data row12 col0\" >Low variance threshold</td>\n",
       "      <td id=\"T_fdb4a_row12_col1\" class=\"data row12 col1\" >0</td>\n",
       "    </tr>\n",
       "    <tr>\n",
       "      <th id=\"T_fdb4a_level0_row13\" class=\"row_heading level0 row13\" >13</th>\n",
       "      <td id=\"T_fdb4a_row13_col0\" class=\"data row13 col0\" >Fix imbalance</td>\n",
       "      <td id=\"T_fdb4a_row13_col1\" class=\"data row13 col1\" >True</td>\n",
       "    </tr>\n",
       "    <tr>\n",
       "      <th id=\"T_fdb4a_level0_row14\" class=\"row_heading level0 row14\" >14</th>\n",
       "      <td id=\"T_fdb4a_row14_col0\" class=\"data row14 col0\" >Fix imbalance method</td>\n",
       "      <td id=\"T_fdb4a_row14_col1\" class=\"data row14 col1\" >None</td>\n",
       "    </tr>\n",
       "    <tr>\n",
       "      <th id=\"T_fdb4a_level0_row15\" class=\"row_heading level0 row15\" >15</th>\n",
       "      <td id=\"T_fdb4a_row15_col0\" class=\"data row15 col0\" >Normalize</td>\n",
       "      <td id=\"T_fdb4a_row15_col1\" class=\"data row15 col1\" >True</td>\n",
       "    </tr>\n",
       "    <tr>\n",
       "      <th id=\"T_fdb4a_level0_row16\" class=\"row_heading level0 row16\" >16</th>\n",
       "      <td id=\"T_fdb4a_row16_col0\" class=\"data row16 col0\" >Normalize method</td>\n",
       "      <td id=\"T_fdb4a_row16_col1\" class=\"data row16 col1\" >minmax</td>\n",
       "    </tr>\n",
       "    <tr>\n",
       "      <th id=\"T_fdb4a_level0_row17\" class=\"row_heading level0 row17\" >17</th>\n",
       "      <td id=\"T_fdb4a_row17_col0\" class=\"data row17 col0\" >Fold Generator</td>\n",
       "      <td id=\"T_fdb4a_row17_col1\" class=\"data row17 col1\" >StratifiedKFold</td>\n",
       "    </tr>\n",
       "    <tr>\n",
       "      <th id=\"T_fdb4a_level0_row18\" class=\"row_heading level0 row18\" >18</th>\n",
       "      <td id=\"T_fdb4a_row18_col0\" class=\"data row18 col0\" >Fold Number</td>\n",
       "      <td id=\"T_fdb4a_row18_col1\" class=\"data row18 col1\" >10</td>\n",
       "    </tr>\n",
       "    <tr>\n",
       "      <th id=\"T_fdb4a_level0_row19\" class=\"row_heading level0 row19\" >19</th>\n",
       "      <td id=\"T_fdb4a_row19_col0\" class=\"data row19 col0\" >CPU Jobs</td>\n",
       "      <td id=\"T_fdb4a_row19_col1\" class=\"data row19 col1\" >-1</td>\n",
       "    </tr>\n",
       "    <tr>\n",
       "      <th id=\"T_fdb4a_level0_row20\" class=\"row_heading level0 row20\" >20</th>\n",
       "      <td id=\"T_fdb4a_row20_col0\" class=\"data row20 col0\" >Use GPU</td>\n",
       "      <td id=\"T_fdb4a_row20_col1\" class=\"data row20 col1\" >False</td>\n",
       "    </tr>\n",
       "    <tr>\n",
       "      <th id=\"T_fdb4a_level0_row21\" class=\"row_heading level0 row21\" >21</th>\n",
       "      <td id=\"T_fdb4a_row21_col0\" class=\"data row21 col0\" >Log Experiment</td>\n",
       "      <td id=\"T_fdb4a_row21_col1\" class=\"data row21 col1\" >False</td>\n",
       "    </tr>\n",
       "    <tr>\n",
       "      <th id=\"T_fdb4a_level0_row22\" class=\"row_heading level0 row22\" >22</th>\n",
       "      <td id=\"T_fdb4a_row22_col0\" class=\"data row22 col0\" >Experiment Name</td>\n",
       "      <td id=\"T_fdb4a_row22_col1\" class=\"data row22 col1\" >clf-default-name</td>\n",
       "    </tr>\n",
       "    <tr>\n",
       "      <th id=\"T_fdb4a_level0_row23\" class=\"row_heading level0 row23\" >23</th>\n",
       "      <td id=\"T_fdb4a_row23_col0\" class=\"data row23 col0\" >USI</td>\n",
       "      <td id=\"T_fdb4a_row23_col1\" class=\"data row23 col1\" >d5ed</td>\n",
       "    </tr>\n",
       "  </tbody>\n",
       "</table>\n"
      ],
      "text/plain": [
       "<pandas.io.formats.style.Styler at 0x16bde3160>"
      ]
     },
     "metadata": {},
     "output_type": "display_data"
    }
   ],
   "source": [
    "s = setup( df[['Department', 'DaysLateLast30', 'Absences', 'EmpSatisfaction',\n",
    "       'EngagementSurvey', 'PerformanceScore', 'Termd', 'SalaryLevel',\n",
    "       'TimeInCompany', 'SpecialProjectsCount', 'perfScoreSatisfaction']]\n",
    "          ,target = 'perfScoreSatisfaction'\n",
    "          ,numeric_features = ['TimeInCompany', 'DaysLateLast30', 'Absences','EngagementSurvey', 'EmpSatisfaction', 'PerformanceScore', 'SpecialProjectsCount']\n",
    "          ,normalize = True\n",
    "          ,normalize_method = \"minmax\"\n",
    "          ,data_split_stratify = True\n",
    "          ,fix_imbalance = True,\n",
    "         )"
   ]
  },
  {
   "cell_type": "markdown",
   "metadata": {},
   "source": [
    "#### Comparando diferentes modelos."
   ]
  },
  {
   "cell_type": "code",
   "execution_count": 57,
   "metadata": {},
   "outputs": [
    {
     "data": {
      "text/html": [],
      "text/plain": [
       "<IPython.core.display.HTML object>"
      ]
     },
     "metadata": {},
     "output_type": "display_data"
    },
    {
     "data": {
      "text/html": [
       "<style type=\"text/css\">\n",
       "#T_a11c4 th {\n",
       "  text-align: left;\n",
       "}\n",
       "#T_a11c4_row0_col0, #T_a11c4_row1_col0, #T_a11c4_row1_col1, #T_a11c4_row1_col2, #T_a11c4_row1_col3, #T_a11c4_row1_col5, #T_a11c4_row1_col6, #T_a11c4_row1_col7, #T_a11c4_row2_col0, #T_a11c4_row2_col2, #T_a11c4_row3_col0, #T_a11c4_row3_col2, #T_a11c4_row4_col0, #T_a11c4_row4_col2, #T_a11c4_row5_col0, #T_a11c4_row5_col1, #T_a11c4_row5_col2, #T_a11c4_row5_col4, #T_a11c4_row5_col5, #T_a11c4_row5_col6, #T_a11c4_row5_col7, #T_a11c4_row6_col0, #T_a11c4_row6_col1, #T_a11c4_row6_col2, #T_a11c4_row6_col3, #T_a11c4_row6_col4, #T_a11c4_row6_col5, #T_a11c4_row6_col6, #T_a11c4_row6_col7, #T_a11c4_row7_col0, #T_a11c4_row7_col1, #T_a11c4_row7_col2, #T_a11c4_row7_col3, #T_a11c4_row7_col4, #T_a11c4_row7_col5, #T_a11c4_row7_col6, #T_a11c4_row7_col7, #T_a11c4_row8_col0, #T_a11c4_row8_col1, #T_a11c4_row8_col2, #T_a11c4_row8_col3, #T_a11c4_row8_col4, #T_a11c4_row8_col5, #T_a11c4_row8_col6, #T_a11c4_row8_col7, #T_a11c4_row9_col0, #T_a11c4_row9_col1, #T_a11c4_row9_col2, #T_a11c4_row9_col3, #T_a11c4_row9_col4, #T_a11c4_row9_col5, #T_a11c4_row9_col6, #T_a11c4_row9_col7, #T_a11c4_row10_col0, #T_a11c4_row10_col1, #T_a11c4_row10_col2, #T_a11c4_row10_col3, #T_a11c4_row10_col4, #T_a11c4_row10_col5, #T_a11c4_row10_col6, #T_a11c4_row10_col7, #T_a11c4_row11_col0, #T_a11c4_row11_col1, #T_a11c4_row11_col2, #T_a11c4_row11_col3, #T_a11c4_row11_col4, #T_a11c4_row11_col5, #T_a11c4_row11_col6, #T_a11c4_row11_col7, #T_a11c4_row12_col0, #T_a11c4_row12_col1, #T_a11c4_row12_col2, #T_a11c4_row12_col3, #T_a11c4_row12_col4, #T_a11c4_row12_col5, #T_a11c4_row12_col6, #T_a11c4_row12_col7, #T_a11c4_row13_col0, #T_a11c4_row13_col1, #T_a11c4_row13_col2, #T_a11c4_row13_col3, #T_a11c4_row13_col4, #T_a11c4_row13_col5, #T_a11c4_row13_col6, #T_a11c4_row13_col7 {\n",
       "  text-align: left;\n",
       "}\n",
       "#T_a11c4_row0_col1, #T_a11c4_row0_col2, #T_a11c4_row0_col3, #T_a11c4_row0_col4, #T_a11c4_row0_col5, #T_a11c4_row0_col6, #T_a11c4_row0_col7, #T_a11c4_row1_col4, #T_a11c4_row2_col1, #T_a11c4_row2_col3, #T_a11c4_row2_col4, #T_a11c4_row2_col5, #T_a11c4_row2_col6, #T_a11c4_row2_col7, #T_a11c4_row3_col1, #T_a11c4_row3_col3, #T_a11c4_row3_col4, #T_a11c4_row3_col5, #T_a11c4_row3_col6, #T_a11c4_row3_col7, #T_a11c4_row4_col1, #T_a11c4_row4_col3, #T_a11c4_row4_col4, #T_a11c4_row4_col5, #T_a11c4_row4_col6, #T_a11c4_row4_col7, #T_a11c4_row5_col3 {\n",
       "  text-align: left;\n",
       "  background-color: yellow;\n",
       "}\n",
       "#T_a11c4_row0_col8, #T_a11c4_row1_col8, #T_a11c4_row2_col8, #T_a11c4_row4_col8, #T_a11c4_row5_col8, #T_a11c4_row6_col8, #T_a11c4_row7_col8, #T_a11c4_row8_col8, #T_a11c4_row9_col8, #T_a11c4_row11_col8 {\n",
       "  text-align: left;\n",
       "  background-color: lightgrey;\n",
       "}\n",
       "#T_a11c4_row3_col8, #T_a11c4_row10_col8, #T_a11c4_row12_col8, #T_a11c4_row13_col8 {\n",
       "  text-align: left;\n",
       "  background-color: yellow;\n",
       "  background-color: lightgrey;\n",
       "}\n",
       "</style>\n",
       "<table id=\"T_a11c4\">\n",
       "  <thead>\n",
       "    <tr>\n",
       "      <th class=\"blank level0\" >&nbsp;</th>\n",
       "      <th id=\"T_a11c4_level0_col0\" class=\"col_heading level0 col0\" >Model</th>\n",
       "      <th id=\"T_a11c4_level0_col1\" class=\"col_heading level0 col1\" >Accuracy</th>\n",
       "      <th id=\"T_a11c4_level0_col2\" class=\"col_heading level0 col2\" >AUC</th>\n",
       "      <th id=\"T_a11c4_level0_col3\" class=\"col_heading level0 col3\" >Recall</th>\n",
       "      <th id=\"T_a11c4_level0_col4\" class=\"col_heading level0 col4\" >Prec.</th>\n",
       "      <th id=\"T_a11c4_level0_col5\" class=\"col_heading level0 col5\" >F1</th>\n",
       "      <th id=\"T_a11c4_level0_col6\" class=\"col_heading level0 col6\" >Kappa</th>\n",
       "      <th id=\"T_a11c4_level0_col7\" class=\"col_heading level0 col7\" >MCC</th>\n",
       "      <th id=\"T_a11c4_level0_col8\" class=\"col_heading level0 col8\" >TT (Sec)</th>\n",
       "    </tr>\n",
       "  </thead>\n",
       "  <tbody>\n",
       "    <tr>\n",
       "      <th id=\"T_a11c4_level0_row0\" class=\"row_heading level0 row0\" >et</th>\n",
       "      <td id=\"T_a11c4_row0_col0\" class=\"data row0 col0\" >Extra Trees Classifier</td>\n",
       "      <td id=\"T_a11c4_row0_col1\" class=\"data row0 col1\" >0.9955</td>\n",
       "      <td id=\"T_a11c4_row0_col2\" class=\"data row0 col2\" >0.9996</td>\n",
       "      <td id=\"T_a11c4_row0_col3\" class=\"data row0 col3\" >1.0000</td>\n",
       "      <td id=\"T_a11c4_row0_col4\" class=\"data row0 col4\" >0.9920</td>\n",
       "      <td id=\"T_a11c4_row0_col5\" class=\"data row0 col5\" >0.9959</td>\n",
       "      <td id=\"T_a11c4_row0_col6\" class=\"data row0 col6\" >0.9908</td>\n",
       "      <td id=\"T_a11c4_row0_col7\" class=\"data row0 col7\" >0.9910</td>\n",
       "      <td id=\"T_a11c4_row0_col8\" class=\"data row0 col8\" >0.0260</td>\n",
       "    </tr>\n",
       "    <tr>\n",
       "      <th id=\"T_a11c4_level0_row1\" class=\"row_heading level0 row1\" >rf</th>\n",
       "      <td id=\"T_a11c4_row1_col0\" class=\"data row1 col0\" >Random Forest Classifier</td>\n",
       "      <td id=\"T_a11c4_row1_col1\" class=\"data row1 col1\" >0.9909</td>\n",
       "      <td id=\"T_a11c4_row1_col2\" class=\"data row1 col2\" >0.9992</td>\n",
       "      <td id=\"T_a11c4_row1_col3\" class=\"data row1 col3\" >0.9917</td>\n",
       "      <td id=\"T_a11c4_row1_col4\" class=\"data row1 col4\" >0.9920</td>\n",
       "      <td id=\"T_a11c4_row1_col5\" class=\"data row1 col5\" >0.9917</td>\n",
       "      <td id=\"T_a11c4_row1_col6\" class=\"data row1 col6\" >0.9817</td>\n",
       "      <td id=\"T_a11c4_row1_col7\" class=\"data row1 col7\" >0.9821</td>\n",
       "      <td id=\"T_a11c4_row1_col8\" class=\"data row1 col8\" >0.0280</td>\n",
       "    </tr>\n",
       "    <tr>\n",
       "      <th id=\"T_a11c4_level0_row2\" class=\"row_heading level0 row2\" >lightgbm</th>\n",
       "      <td id=\"T_a11c4_row2_col0\" class=\"data row2 col0\" >Light Gradient Boosting Machine</td>\n",
       "      <td id=\"T_a11c4_row2_col1\" class=\"data row2 col1\" >0.9955</td>\n",
       "      <td id=\"T_a11c4_row2_col2\" class=\"data row2 col2\" >0.9967</td>\n",
       "      <td id=\"T_a11c4_row2_col3\" class=\"data row2 col3\" >1.0000</td>\n",
       "      <td id=\"T_a11c4_row2_col4\" class=\"data row2 col4\" >0.9920</td>\n",
       "      <td id=\"T_a11c4_row2_col5\" class=\"data row2 col5\" >0.9959</td>\n",
       "      <td id=\"T_a11c4_row2_col6\" class=\"data row2 col6\" >0.9908</td>\n",
       "      <td id=\"T_a11c4_row2_col7\" class=\"data row2 col7\" >0.9910</td>\n",
       "      <td id=\"T_a11c4_row2_col8\" class=\"data row2 col8\" >0.0120</td>\n",
       "    </tr>\n",
       "    <tr>\n",
       "      <th id=\"T_a11c4_level0_row3\" class=\"row_heading level0 row3\" >dt</th>\n",
       "      <td id=\"T_a11c4_row3_col0\" class=\"data row3 col0\" >Decision Tree Classifier</td>\n",
       "      <td id=\"T_a11c4_row3_col1\" class=\"data row3 col1\" >0.9955</td>\n",
       "      <td id=\"T_a11c4_row3_col2\" class=\"data row3 col2\" >0.9950</td>\n",
       "      <td id=\"T_a11c4_row3_col3\" class=\"data row3 col3\" >1.0000</td>\n",
       "      <td id=\"T_a11c4_row3_col4\" class=\"data row3 col4\" >0.9920</td>\n",
       "      <td id=\"T_a11c4_row3_col5\" class=\"data row3 col5\" >0.9959</td>\n",
       "      <td id=\"T_a11c4_row3_col6\" class=\"data row3 col6\" >0.9908</td>\n",
       "      <td id=\"T_a11c4_row3_col7\" class=\"data row3 col7\" >0.9910</td>\n",
       "      <td id=\"T_a11c4_row3_col8\" class=\"data row3 col8\" >0.0080</td>\n",
       "    </tr>\n",
       "    <tr>\n",
       "      <th id=\"T_a11c4_level0_row4\" class=\"row_heading level0 row4\" >ada</th>\n",
       "      <td id=\"T_a11c4_row4_col0\" class=\"data row4 col0\" >Ada Boost Classifier</td>\n",
       "      <td id=\"T_a11c4_row4_col1\" class=\"data row4 col1\" >0.9955</td>\n",
       "      <td id=\"T_a11c4_row4_col2\" class=\"data row4 col2\" >0.9950</td>\n",
       "      <td id=\"T_a11c4_row4_col3\" class=\"data row4 col3\" >1.0000</td>\n",
       "      <td id=\"T_a11c4_row4_col4\" class=\"data row4 col4\" >0.9920</td>\n",
       "      <td id=\"T_a11c4_row4_col5\" class=\"data row4 col5\" >0.9959</td>\n",
       "      <td id=\"T_a11c4_row4_col6\" class=\"data row4 col6\" >0.9908</td>\n",
       "      <td id=\"T_a11c4_row4_col7\" class=\"data row4 col7\" >0.9910</td>\n",
       "      <td id=\"T_a11c4_row4_col8\" class=\"data row4 col8\" >0.0140</td>\n",
       "    </tr>\n",
       "    <tr>\n",
       "      <th id=\"T_a11c4_level0_row5\" class=\"row_heading level0 row5\" >gbc</th>\n",
       "      <td id=\"T_a11c4_row5_col0\" class=\"data row5 col0\" >Gradient Boosting Classifier</td>\n",
       "      <td id=\"T_a11c4_row5_col1\" class=\"data row5 col1\" >0.9908</td>\n",
       "      <td id=\"T_a11c4_row5_col2\" class=\"data row5 col2\" >0.9950</td>\n",
       "      <td id=\"T_a11c4_row5_col3\" class=\"data row5 col3\" >1.0000</td>\n",
       "      <td id=\"T_a11c4_row5_col4\" class=\"data row5 col4\" >0.9837</td>\n",
       "      <td id=\"T_a11c4_row5_col5\" class=\"data row5 col5\" >0.9917</td>\n",
       "      <td id=\"T_a11c4_row5_col6\" class=\"data row5 col6\" >0.9814</td>\n",
       "      <td id=\"T_a11c4_row5_col7\" class=\"data row5 col7\" >0.9818</td>\n",
       "      <td id=\"T_a11c4_row5_col8\" class=\"data row5 col8\" >0.0120</td>\n",
       "    </tr>\n",
       "    <tr>\n",
       "      <th id=\"T_a11c4_level0_row6\" class=\"row_heading level0 row6\" >nb</th>\n",
       "      <td id=\"T_a11c4_row6_col0\" class=\"data row6 col0\" >Naive Bayes</td>\n",
       "      <td id=\"T_a11c4_row6_col1\" class=\"data row6 col1\" >0.8983</td>\n",
       "      <td id=\"T_a11c4_row6_col2\" class=\"data row6 col2\" >0.9832</td>\n",
       "      <td id=\"T_a11c4_row6_col3\" class=\"data row6 col3\" >0.9659</td>\n",
       "      <td id=\"T_a11c4_row6_col4\" class=\"data row6 col4\" >0.8680</td>\n",
       "      <td id=\"T_a11c4_row6_col5\" class=\"data row6 col5\" >0.9124</td>\n",
       "      <td id=\"T_a11c4_row6_col6\" class=\"data row6 col6\" >0.7928</td>\n",
       "      <td id=\"T_a11c4_row6_col7\" class=\"data row6 col7\" >0.8041</td>\n",
       "      <td id=\"T_a11c4_row6_col8\" class=\"data row6 col8\" >0.1340</td>\n",
       "    </tr>\n",
       "    <tr>\n",
       "      <th id=\"T_a11c4_level0_row7\" class=\"row_heading level0 row7\" >knn</th>\n",
       "      <td id=\"T_a11c4_row7_col0\" class=\"data row7 col0\" >K Neighbors Classifier</td>\n",
       "      <td id=\"T_a11c4_row7_col1\" class=\"data row7 col1\" >0.9172</td>\n",
       "      <td id=\"T_a11c4_row7_col2\" class=\"data row7 col2\" >0.9675</td>\n",
       "      <td id=\"T_a11c4_row7_col3\" class=\"data row7 col3\" >0.9913</td>\n",
       "      <td id=\"T_a11c4_row7_col4\" class=\"data row7 col4\" >0.8765</td>\n",
       "      <td id=\"T_a11c4_row7_col5\" class=\"data row7 col5\" >0.9291</td>\n",
       "      <td id=\"T_a11c4_row7_col6\" class=\"data row7 col6\" >0.8309</td>\n",
       "      <td id=\"T_a11c4_row7_col7\" class=\"data row7 col7\" >0.8435</td>\n",
       "      <td id=\"T_a11c4_row7_col8\" class=\"data row7 col8\" >0.1300</td>\n",
       "    </tr>\n",
       "    <tr>\n",
       "      <th id=\"T_a11c4_level0_row8\" class=\"row_heading level0 row8\" >lr</th>\n",
       "      <td id=\"T_a11c4_row8_col0\" class=\"data row8 col0\" >Logistic Regression</td>\n",
       "      <td id=\"T_a11c4_row8_col1\" class=\"data row8 col1\" >0.8479</td>\n",
       "      <td id=\"T_a11c4_row8_col2\" class=\"data row8 col2\" >0.9590</td>\n",
       "      <td id=\"T_a11c4_row8_col3\" class=\"data row8 col3\" >0.9830</td>\n",
       "      <td id=\"T_a11c4_row8_col4\" class=\"data row8 col4\" >0.7919</td>\n",
       "      <td id=\"T_a11c4_row8_col5\" class=\"data row8 col5\" >0.8755</td>\n",
       "      <td id=\"T_a11c4_row8_col6\" class=\"data row8 col6\" >0.6868</td>\n",
       "      <td id=\"T_a11c4_row8_col7\" class=\"data row8 col7\" >0.7185</td>\n",
       "      <td id=\"T_a11c4_row8_col8\" class=\"data row8 col8\" >0.5240</td>\n",
       "    </tr>\n",
       "    <tr>\n",
       "      <th id=\"T_a11c4_level0_row9\" class=\"row_heading level0 row9\" >lda</th>\n",
       "      <td id=\"T_a11c4_row9_col0\" class=\"data row9 col0\" >Linear Discriminant Analysis</td>\n",
       "      <td id=\"T_a11c4_row9_col1\" class=\"data row9 col1\" >0.9310</td>\n",
       "      <td id=\"T_a11c4_row9_col2\" class=\"data row9 col2\" >0.9551</td>\n",
       "      <td id=\"T_a11c4_row9_col3\" class=\"data row9 col3\" >0.9830</td>\n",
       "      <td id=\"T_a11c4_row9_col4\" class=\"data row9 col4\" >0.8999</td>\n",
       "      <td id=\"T_a11c4_row9_col5\" class=\"data row9 col5\" >0.9390</td>\n",
       "      <td id=\"T_a11c4_row9_col6\" class=\"data row9 col6\" >0.8598</td>\n",
       "      <td id=\"T_a11c4_row9_col7\" class=\"data row9 col7\" >0.8657</td>\n",
       "      <td id=\"T_a11c4_row9_col8\" class=\"data row9 col8\" >0.0100</td>\n",
       "    </tr>\n",
       "    <tr>\n",
       "      <th id=\"T_a11c4_level0_row10\" class=\"row_heading level0 row10\" >qda</th>\n",
       "      <td id=\"T_a11c4_row10_col0\" class=\"data row10 col0\" >Quadratic Discriminant Analysis</td>\n",
       "      <td id=\"T_a11c4_row10_col1\" class=\"data row10 col1\" >0.8584</td>\n",
       "      <td id=\"T_a11c4_row10_col2\" class=\"data row10 col2\" >0.9321</td>\n",
       "      <td id=\"T_a11c4_row10_col3\" class=\"data row10 col3\" >0.8000</td>\n",
       "      <td id=\"T_a11c4_row10_col4\" class=\"data row10 col4\" >0.9533</td>\n",
       "      <td id=\"T_a11c4_row10_col5\" class=\"data row10 col5\" >0.8047</td>\n",
       "      <td id=\"T_a11c4_row10_col6\" class=\"data row10 col6\" >0.7289</td>\n",
       "      <td id=\"T_a11c4_row10_col7\" class=\"data row10 col7\" >0.7650</td>\n",
       "      <td id=\"T_a11c4_row10_col8\" class=\"data row10 col8\" >0.0080</td>\n",
       "    </tr>\n",
       "    <tr>\n",
       "      <th id=\"T_a11c4_level0_row11\" class=\"row_heading level0 row11\" >dummy</th>\n",
       "      <td id=\"T_a11c4_row11_col0\" class=\"data row11 col0\" >Dummy Classifier</td>\n",
       "      <td id=\"T_a11c4_row11_col1\" class=\"data row11 col1\" >0.4609</td>\n",
       "      <td id=\"T_a11c4_row11_col2\" class=\"data row11 col2\" >0.5000</td>\n",
       "      <td id=\"T_a11c4_row11_col3\" class=\"data row11 col3\" >0.0000</td>\n",
       "      <td id=\"T_a11c4_row11_col4\" class=\"data row11 col4\" >0.0000</td>\n",
       "      <td id=\"T_a11c4_row11_col5\" class=\"data row11 col5\" >0.0000</td>\n",
       "      <td id=\"T_a11c4_row11_col6\" class=\"data row11 col6\" >0.0000</td>\n",
       "      <td id=\"T_a11c4_row11_col7\" class=\"data row11 col7\" >0.0000</td>\n",
       "      <td id=\"T_a11c4_row11_col8\" class=\"data row11 col8\" >0.0160</td>\n",
       "    </tr>\n",
       "    <tr>\n",
       "      <th id=\"T_a11c4_level0_row12\" class=\"row_heading level0 row12\" >svm</th>\n",
       "      <td id=\"T_a11c4_row12_col0\" class=\"data row12 col0\" >SVM - Linear Kernel</td>\n",
       "      <td id=\"T_a11c4_row12_col1\" class=\"data row12 col1\" >0.9081</td>\n",
       "      <td id=\"T_a11c4_row12_col2\" class=\"data row12 col2\" >0.0000</td>\n",
       "      <td id=\"T_a11c4_row12_col3\" class=\"data row12 col3\" >0.9746</td>\n",
       "      <td id=\"T_a11c4_row12_col4\" class=\"data row12 col4\" >0.8732</td>\n",
       "      <td id=\"T_a11c4_row12_col5\" class=\"data row12 col5\" >0.9205</td>\n",
       "      <td id=\"T_a11c4_row12_col6\" class=\"data row12 col6\" >0.8127</td>\n",
       "      <td id=\"T_a11c4_row12_col7\" class=\"data row12 col7\" >0.8212</td>\n",
       "      <td id=\"T_a11c4_row12_col8\" class=\"data row12 col8\" >0.0080</td>\n",
       "    </tr>\n",
       "    <tr>\n",
       "      <th id=\"T_a11c4_level0_row13\" class=\"row_heading level0 row13\" >ridge</th>\n",
       "      <td id=\"T_a11c4_row13_col0\" class=\"data row13 col0\" >Ridge Classifier</td>\n",
       "      <td id=\"T_a11c4_row13_col1\" class=\"data row13 col1\" >0.8617</td>\n",
       "      <td id=\"T_a11c4_row13_col2\" class=\"data row13 col2\" >0.0000</td>\n",
       "      <td id=\"T_a11c4_row13_col3\" class=\"data row13 col3\" >0.9913</td>\n",
       "      <td id=\"T_a11c4_row13_col4\" class=\"data row13 col4\" >0.8034</td>\n",
       "      <td id=\"T_a11c4_row13_col5\" class=\"data row13 col5\" >0.8863</td>\n",
       "      <td id=\"T_a11c4_row13_col6\" class=\"data row13 col6\" >0.7155</td>\n",
       "      <td id=\"T_a11c4_row13_col7\" class=\"data row13 col7\" >0.7450</td>\n",
       "      <td id=\"T_a11c4_row13_col8\" class=\"data row13 col8\" >0.0080</td>\n",
       "    </tr>\n",
       "  </tbody>\n",
       "</table>\n"
      ],
      "text/plain": [
       "<pandas.io.formats.style.Styler at 0x15ea51070>"
      ]
     },
     "metadata": {},
     "output_type": "display_data"
    },
    {
     "data": {
      "application/vnd.jupyter.widget-view+json": {
       "model_id": "013b0e6dd6044c3f9cf8c8dbd59d9c60",
       "version_major": 2,
       "version_minor": 0
      },
      "text/plain": [
       "Processing:   0%|          | 0/61 [00:00<?, ?it/s]"
      ]
     },
     "metadata": {},
     "output_type": "display_data"
    }
   ],
   "source": [
    "best = compare_models(fold = 5,sort = 'AUC',)"
   ]
  },
  {
   "cell_type": "markdown",
   "metadata": {},
   "source": [
    "- Ada Boost Classifier e Light Gradient Boosting Machine são capeoes nos resultados das metricas"
   ]
  },
  {
   "cell_type": "markdown",
   "metadata": {},
   "source": [
    "#### Criando o modelo."
   ]
  },
  {
   "cell_type": "code",
   "execution_count": 58,
   "metadata": {},
   "outputs": [
    {
     "data": {
      "text/html": [],
      "text/plain": [
       "<IPython.core.display.HTML object>"
      ]
     },
     "metadata": {},
     "output_type": "display_data"
    },
    {
     "data": {
      "text/html": [
       "<style type=\"text/css\">\n",
       "#T_60f5d_row5_col0, #T_60f5d_row5_col1, #T_60f5d_row5_col2, #T_60f5d_row5_col3, #T_60f5d_row5_col4, #T_60f5d_row5_col5, #T_60f5d_row5_col6 {\n",
       "  background: yellow;\n",
       "}\n",
       "</style>\n",
       "<table id=\"T_60f5d\">\n",
       "  <thead>\n",
       "    <tr>\n",
       "      <th class=\"blank level0\" >&nbsp;</th>\n",
       "      <th id=\"T_60f5d_level0_col0\" class=\"col_heading level0 col0\" >Accuracy</th>\n",
       "      <th id=\"T_60f5d_level0_col1\" class=\"col_heading level0 col1\" >AUC</th>\n",
       "      <th id=\"T_60f5d_level0_col2\" class=\"col_heading level0 col2\" >Recall</th>\n",
       "      <th id=\"T_60f5d_level0_col3\" class=\"col_heading level0 col3\" >Prec.</th>\n",
       "      <th id=\"T_60f5d_level0_col4\" class=\"col_heading level0 col4\" >F1</th>\n",
       "      <th id=\"T_60f5d_level0_col5\" class=\"col_heading level0 col5\" >Kappa</th>\n",
       "      <th id=\"T_60f5d_level0_col6\" class=\"col_heading level0 col6\" >MCC</th>\n",
       "    </tr>\n",
       "    <tr>\n",
       "      <th class=\"index_name level0\" >Fold</th>\n",
       "      <th class=\"blank col0\" >&nbsp;</th>\n",
       "      <th class=\"blank col1\" >&nbsp;</th>\n",
       "      <th class=\"blank col2\" >&nbsp;</th>\n",
       "      <th class=\"blank col3\" >&nbsp;</th>\n",
       "      <th class=\"blank col4\" >&nbsp;</th>\n",
       "      <th class=\"blank col5\" >&nbsp;</th>\n",
       "      <th class=\"blank col6\" >&nbsp;</th>\n",
       "    </tr>\n",
       "  </thead>\n",
       "  <tbody>\n",
       "    <tr>\n",
       "      <th id=\"T_60f5d_level0_row0\" class=\"row_heading level0 row0\" >0</th>\n",
       "      <td id=\"T_60f5d_row0_col0\" class=\"data row0 col0\" >0.9773</td>\n",
       "      <td id=\"T_60f5d_row0_col1\" class=\"data row0 col1\" >0.9833</td>\n",
       "      <td id=\"T_60f5d_row0_col2\" class=\"data row0 col2\" >1.0000</td>\n",
       "      <td id=\"T_60f5d_row0_col3\" class=\"data row0 col3\" >0.9600</td>\n",
       "      <td id=\"T_60f5d_row0_col4\" class=\"data row0 col4\" >0.9796</td>\n",
       "      <td id=\"T_60f5d_row0_col5\" class=\"data row0 col5\" >0.9540</td>\n",
       "      <td id=\"T_60f5d_row0_col6\" class=\"data row0 col6\" >0.9550</td>\n",
       "    </tr>\n",
       "    <tr>\n",
       "      <th id=\"T_60f5d_level0_row1\" class=\"row_heading level0 row1\" >1</th>\n",
       "      <td id=\"T_60f5d_row1_col0\" class=\"data row1 col0\" >1.0000</td>\n",
       "      <td id=\"T_60f5d_row1_col1\" class=\"data row1 col1\" >1.0000</td>\n",
       "      <td id=\"T_60f5d_row1_col2\" class=\"data row1 col2\" >1.0000</td>\n",
       "      <td id=\"T_60f5d_row1_col3\" class=\"data row1 col3\" >1.0000</td>\n",
       "      <td id=\"T_60f5d_row1_col4\" class=\"data row1 col4\" >1.0000</td>\n",
       "      <td id=\"T_60f5d_row1_col5\" class=\"data row1 col5\" >1.0000</td>\n",
       "      <td id=\"T_60f5d_row1_col6\" class=\"data row1 col6\" >1.0000</td>\n",
       "    </tr>\n",
       "    <tr>\n",
       "      <th id=\"T_60f5d_level0_row2\" class=\"row_heading level0 row2\" >2</th>\n",
       "      <td id=\"T_60f5d_row2_col0\" class=\"data row2 col0\" >1.0000</td>\n",
       "      <td id=\"T_60f5d_row2_col1\" class=\"data row2 col1\" >1.0000</td>\n",
       "      <td id=\"T_60f5d_row2_col2\" class=\"data row2 col2\" >1.0000</td>\n",
       "      <td id=\"T_60f5d_row2_col3\" class=\"data row2 col3\" >1.0000</td>\n",
       "      <td id=\"T_60f5d_row2_col4\" class=\"data row2 col4\" >1.0000</td>\n",
       "      <td id=\"T_60f5d_row2_col5\" class=\"data row2 col5\" >1.0000</td>\n",
       "      <td id=\"T_60f5d_row2_col6\" class=\"data row2 col6\" >1.0000</td>\n",
       "    </tr>\n",
       "    <tr>\n",
       "      <th id=\"T_60f5d_level0_row3\" class=\"row_heading level0 row3\" >3</th>\n",
       "      <td id=\"T_60f5d_row3_col0\" class=\"data row3 col0\" >1.0000</td>\n",
       "      <td id=\"T_60f5d_row3_col1\" class=\"data row3 col1\" >1.0000</td>\n",
       "      <td id=\"T_60f5d_row3_col2\" class=\"data row3 col2\" >1.0000</td>\n",
       "      <td id=\"T_60f5d_row3_col3\" class=\"data row3 col3\" >1.0000</td>\n",
       "      <td id=\"T_60f5d_row3_col4\" class=\"data row3 col4\" >1.0000</td>\n",
       "      <td id=\"T_60f5d_row3_col5\" class=\"data row3 col5\" >1.0000</td>\n",
       "      <td id=\"T_60f5d_row3_col6\" class=\"data row3 col6\" >1.0000</td>\n",
       "    </tr>\n",
       "    <tr>\n",
       "      <th id=\"T_60f5d_level0_row4\" class=\"row_heading level0 row4\" >4</th>\n",
       "      <td id=\"T_60f5d_row4_col0\" class=\"data row4 col0\" >1.0000</td>\n",
       "      <td id=\"T_60f5d_row4_col1\" class=\"data row4 col1\" >1.0000</td>\n",
       "      <td id=\"T_60f5d_row4_col2\" class=\"data row4 col2\" >1.0000</td>\n",
       "      <td id=\"T_60f5d_row4_col3\" class=\"data row4 col3\" >1.0000</td>\n",
       "      <td id=\"T_60f5d_row4_col4\" class=\"data row4 col4\" >1.0000</td>\n",
       "      <td id=\"T_60f5d_row4_col5\" class=\"data row4 col5\" >1.0000</td>\n",
       "      <td id=\"T_60f5d_row4_col6\" class=\"data row4 col6\" >1.0000</td>\n",
       "    </tr>\n",
       "    <tr>\n",
       "      <th id=\"T_60f5d_level0_row5\" class=\"row_heading level0 row5\" >Mean</th>\n",
       "      <td id=\"T_60f5d_row5_col0\" class=\"data row5 col0\" >0.9955</td>\n",
       "      <td id=\"T_60f5d_row5_col1\" class=\"data row5 col1\" >0.9967</td>\n",
       "      <td id=\"T_60f5d_row5_col2\" class=\"data row5 col2\" >1.0000</td>\n",
       "      <td id=\"T_60f5d_row5_col3\" class=\"data row5 col3\" >0.9920</td>\n",
       "      <td id=\"T_60f5d_row5_col4\" class=\"data row5 col4\" >0.9959</td>\n",
       "      <td id=\"T_60f5d_row5_col5\" class=\"data row5 col5\" >0.9908</td>\n",
       "      <td id=\"T_60f5d_row5_col6\" class=\"data row5 col6\" >0.9910</td>\n",
       "    </tr>\n",
       "    <tr>\n",
       "      <th id=\"T_60f5d_level0_row6\" class=\"row_heading level0 row6\" >Std</th>\n",
       "      <td id=\"T_60f5d_row6_col0\" class=\"data row6 col0\" >0.0091</td>\n",
       "      <td id=\"T_60f5d_row6_col1\" class=\"data row6 col1\" >0.0067</td>\n",
       "      <td id=\"T_60f5d_row6_col2\" class=\"data row6 col2\" >0.0000</td>\n",
       "      <td id=\"T_60f5d_row6_col3\" class=\"data row6 col3\" >0.0160</td>\n",
       "      <td id=\"T_60f5d_row6_col4\" class=\"data row6 col4\" >0.0082</td>\n",
       "      <td id=\"T_60f5d_row6_col5\" class=\"data row6 col5\" >0.0184</td>\n",
       "      <td id=\"T_60f5d_row6_col6\" class=\"data row6 col6\" >0.0180</td>\n",
       "    </tr>\n",
       "  </tbody>\n",
       "</table>\n"
      ],
      "text/plain": [
       "<pandas.io.formats.style.Styler at 0x15fb396a0>"
      ]
     },
     "metadata": {},
     "output_type": "display_data"
    },
    {
     "data": {
      "application/vnd.jupyter.widget-view+json": {
       "model_id": "cb7a39760e9f4ab3b01498536234a0be",
       "version_major": 2,
       "version_minor": 0
      },
      "text/plain": [
       "Processing:   0%|          | 0/4 [00:00<?, ?it/s]"
      ]
     },
     "metadata": {},
     "output_type": "display_data"
    }
   ],
   "source": [
    "lightgbm = create_model('lightgbm', fold = 5)"
   ]
  },
  {
   "cell_type": "markdown",
   "metadata": {},
   "source": [
    "#### Realizando o tunning do modelo."
   ]
  },
  {
   "cell_type": "code",
   "execution_count": 59,
   "metadata": {},
   "outputs": [
    {
     "data": {
      "text/html": [],
      "text/plain": [
       "<IPython.core.display.HTML object>"
      ]
     },
     "metadata": {},
     "output_type": "display_data"
    },
    {
     "data": {
      "text/html": [
       "<style type=\"text/css\">\n",
       "#T_c67d3_row5_col0, #T_c67d3_row5_col1, #T_c67d3_row5_col2, #T_c67d3_row5_col3, #T_c67d3_row5_col4, #T_c67d3_row5_col5, #T_c67d3_row5_col6 {\n",
       "  background: yellow;\n",
       "}\n",
       "</style>\n",
       "<table id=\"T_c67d3\">\n",
       "  <thead>\n",
       "    <tr>\n",
       "      <th class=\"blank level0\" >&nbsp;</th>\n",
       "      <th id=\"T_c67d3_level0_col0\" class=\"col_heading level0 col0\" >Accuracy</th>\n",
       "      <th id=\"T_c67d3_level0_col1\" class=\"col_heading level0 col1\" >AUC</th>\n",
       "      <th id=\"T_c67d3_level0_col2\" class=\"col_heading level0 col2\" >Recall</th>\n",
       "      <th id=\"T_c67d3_level0_col3\" class=\"col_heading level0 col3\" >Prec.</th>\n",
       "      <th id=\"T_c67d3_level0_col4\" class=\"col_heading level0 col4\" >F1</th>\n",
       "      <th id=\"T_c67d3_level0_col5\" class=\"col_heading level0 col5\" >Kappa</th>\n",
       "      <th id=\"T_c67d3_level0_col6\" class=\"col_heading level0 col6\" >MCC</th>\n",
       "    </tr>\n",
       "    <tr>\n",
       "      <th class=\"index_name level0\" >Fold</th>\n",
       "      <th class=\"blank col0\" >&nbsp;</th>\n",
       "      <th class=\"blank col1\" >&nbsp;</th>\n",
       "      <th class=\"blank col2\" >&nbsp;</th>\n",
       "      <th class=\"blank col3\" >&nbsp;</th>\n",
       "      <th class=\"blank col4\" >&nbsp;</th>\n",
       "      <th class=\"blank col5\" >&nbsp;</th>\n",
       "      <th class=\"blank col6\" >&nbsp;</th>\n",
       "    </tr>\n",
       "  </thead>\n",
       "  <tbody>\n",
       "    <tr>\n",
       "      <th id=\"T_c67d3_level0_row0\" class=\"row_heading level0 row0\" >0</th>\n",
       "      <td id=\"T_c67d3_row0_col0\" class=\"data row0 col0\" >0.9773</td>\n",
       "      <td id=\"T_c67d3_row0_col1\" class=\"data row0 col1\" >0.9927</td>\n",
       "      <td id=\"T_c67d3_row0_col2\" class=\"data row0 col2\" >1.0000</td>\n",
       "      <td id=\"T_c67d3_row0_col3\" class=\"data row0 col3\" >0.9600</td>\n",
       "      <td id=\"T_c67d3_row0_col4\" class=\"data row0 col4\" >0.9796</td>\n",
       "      <td id=\"T_c67d3_row0_col5\" class=\"data row0 col5\" >0.9540</td>\n",
       "      <td id=\"T_c67d3_row0_col6\" class=\"data row0 col6\" >0.9550</td>\n",
       "    </tr>\n",
       "    <tr>\n",
       "      <th id=\"T_c67d3_level0_row1\" class=\"row_heading level0 row1\" >1</th>\n",
       "      <td id=\"T_c67d3_row1_col0\" class=\"data row1 col0\" >1.0000</td>\n",
       "      <td id=\"T_c67d3_row1_col1\" class=\"data row1 col1\" >1.0000</td>\n",
       "      <td id=\"T_c67d3_row1_col2\" class=\"data row1 col2\" >1.0000</td>\n",
       "      <td id=\"T_c67d3_row1_col3\" class=\"data row1 col3\" >1.0000</td>\n",
       "      <td id=\"T_c67d3_row1_col4\" class=\"data row1 col4\" >1.0000</td>\n",
       "      <td id=\"T_c67d3_row1_col5\" class=\"data row1 col5\" >1.0000</td>\n",
       "      <td id=\"T_c67d3_row1_col6\" class=\"data row1 col6\" >1.0000</td>\n",
       "    </tr>\n",
       "    <tr>\n",
       "      <th id=\"T_c67d3_level0_row2\" class=\"row_heading level0 row2\" >2</th>\n",
       "      <td id=\"T_c67d3_row2_col0\" class=\"data row2 col0\" >1.0000</td>\n",
       "      <td id=\"T_c67d3_row2_col1\" class=\"data row2 col1\" >1.0000</td>\n",
       "      <td id=\"T_c67d3_row2_col2\" class=\"data row2 col2\" >1.0000</td>\n",
       "      <td id=\"T_c67d3_row2_col3\" class=\"data row2 col3\" >1.0000</td>\n",
       "      <td id=\"T_c67d3_row2_col4\" class=\"data row2 col4\" >1.0000</td>\n",
       "      <td id=\"T_c67d3_row2_col5\" class=\"data row2 col5\" >1.0000</td>\n",
       "      <td id=\"T_c67d3_row2_col6\" class=\"data row2 col6\" >1.0000</td>\n",
       "    </tr>\n",
       "    <tr>\n",
       "      <th id=\"T_c67d3_level0_row3\" class=\"row_heading level0 row3\" >3</th>\n",
       "      <td id=\"T_c67d3_row3_col0\" class=\"data row3 col0\" >1.0000</td>\n",
       "      <td id=\"T_c67d3_row3_col1\" class=\"data row3 col1\" >1.0000</td>\n",
       "      <td id=\"T_c67d3_row3_col2\" class=\"data row3 col2\" >1.0000</td>\n",
       "      <td id=\"T_c67d3_row3_col3\" class=\"data row3 col3\" >1.0000</td>\n",
       "      <td id=\"T_c67d3_row3_col4\" class=\"data row3 col4\" >1.0000</td>\n",
       "      <td id=\"T_c67d3_row3_col5\" class=\"data row3 col5\" >1.0000</td>\n",
       "      <td id=\"T_c67d3_row3_col6\" class=\"data row3 col6\" >1.0000</td>\n",
       "    </tr>\n",
       "    <tr>\n",
       "      <th id=\"T_c67d3_level0_row4\" class=\"row_heading level0 row4\" >4</th>\n",
       "      <td id=\"T_c67d3_row4_col0\" class=\"data row4 col0\" >1.0000</td>\n",
       "      <td id=\"T_c67d3_row4_col1\" class=\"data row4 col1\" >1.0000</td>\n",
       "      <td id=\"T_c67d3_row4_col2\" class=\"data row4 col2\" >1.0000</td>\n",
       "      <td id=\"T_c67d3_row4_col3\" class=\"data row4 col3\" >1.0000</td>\n",
       "      <td id=\"T_c67d3_row4_col4\" class=\"data row4 col4\" >1.0000</td>\n",
       "      <td id=\"T_c67d3_row4_col5\" class=\"data row4 col5\" >1.0000</td>\n",
       "      <td id=\"T_c67d3_row4_col6\" class=\"data row4 col6\" >1.0000</td>\n",
       "    </tr>\n",
       "    <tr>\n",
       "      <th id=\"T_c67d3_level0_row5\" class=\"row_heading level0 row5\" >Mean</th>\n",
       "      <td id=\"T_c67d3_row5_col0\" class=\"data row5 col0\" >0.9955</td>\n",
       "      <td id=\"T_c67d3_row5_col1\" class=\"data row5 col1\" >0.9985</td>\n",
       "      <td id=\"T_c67d3_row5_col2\" class=\"data row5 col2\" >1.0000</td>\n",
       "      <td id=\"T_c67d3_row5_col3\" class=\"data row5 col3\" >0.9920</td>\n",
       "      <td id=\"T_c67d3_row5_col4\" class=\"data row5 col4\" >0.9959</td>\n",
       "      <td id=\"T_c67d3_row5_col5\" class=\"data row5 col5\" >0.9908</td>\n",
       "      <td id=\"T_c67d3_row5_col6\" class=\"data row5 col6\" >0.9910</td>\n",
       "    </tr>\n",
       "    <tr>\n",
       "      <th id=\"T_c67d3_level0_row6\" class=\"row_heading level0 row6\" >Std</th>\n",
       "      <td id=\"T_c67d3_row6_col0\" class=\"data row6 col0\" >0.0091</td>\n",
       "      <td id=\"T_c67d3_row6_col1\" class=\"data row6 col1\" >0.0029</td>\n",
       "      <td id=\"T_c67d3_row6_col2\" class=\"data row6 col2\" >0.0000</td>\n",
       "      <td id=\"T_c67d3_row6_col3\" class=\"data row6 col3\" >0.0160</td>\n",
       "      <td id=\"T_c67d3_row6_col4\" class=\"data row6 col4\" >0.0082</td>\n",
       "      <td id=\"T_c67d3_row6_col5\" class=\"data row6 col5\" >0.0184</td>\n",
       "      <td id=\"T_c67d3_row6_col6\" class=\"data row6 col6\" >0.0180</td>\n",
       "    </tr>\n",
       "  </tbody>\n",
       "</table>\n"
      ],
      "text/plain": [
       "<pandas.io.formats.style.Styler at 0x16bde3c10>"
      ]
     },
     "metadata": {},
     "output_type": "display_data"
    },
    {
     "data": {
      "application/vnd.jupyter.widget-view+json": {
       "model_id": "46a4bccd182c4adfb715c02a183e7cd8",
       "version_major": 2,
       "version_minor": 0
      },
      "text/plain": [
       "Processing:   0%|          | 0/7 [00:00<?, ?it/s]"
      ]
     },
     "metadata": {},
     "output_type": "display_data"
    },
    {
     "name": "stdout",
     "output_type": "stream",
     "text": [
      "Fitting 5 folds for each of 10 candidates, totalling 50 fits\n",
      "[LightGBM] [Warning] Unknown parameter: min_samples_split\n",
      "[LightGBM] [Warning] Unknown parameter: min_samples_split\n",
      "[LightGBM] [Warning] Unknown parameter: min_samples_split\n",
      "[LightGBM] [Warning] Unknown parameter: min_samples_split\n",
      "[LightGBM] [Warning] Unknown parameter: min_samples_split\n",
      "[LightGBM] [Warning] Unknown parameter: min_samples_split\n",
      "[LightGBM] [Warning] Unknown parameter: min_samples_split\n",
      "[LightGBM] [Warning] Unknown parameter: min_samples_split\n",
      "[LightGBM] [Warning] Unknown parameter: min_samples_split\n",
      "[LightGBM] [Warning] Unknown parameter: min_samples_split\n",
      "[LightGBM] [Warning] Unknown parameter: min_samples_split\n",
      "[LightGBM] [Warning] Unknown parameter: min_samples_split\n",
      "[LightGBM] [Warning] Unknown parameter: min_samples_split\n",
      "[LightGBM] [Warning] Unknown parameter: min_samples_split\n",
      "[LightGBM] [Warning] Unknown parameter: min_samples_split\n",
      "[LightGBM] [Warning] Unknown parameter: min_samples_split\n",
      "[LightGBM] [Warning] Unknown parameter: min_samples_split\n",
      "[LightGBM] [Warning] Unknown parameter: min_samples_split\n",
      "[LightGBM] [Warning] Unknown parameter: min_samples_split\n",
      "[LightGBM] [Warning] Unknown parameter: min_samples_split\n",
      "[LightGBM] [Warning] Unknown parameter: min_samples_split\n",
      "[LightGBM] [Warning] Unknown parameter: min_samples_split\n",
      "[LightGBM] [Warning] Unknown parameter: min_samples_split\n",
      "[LightGBM] [Warning] Unknown parameter: min_samples_split\n",
      "[LightGBM] [Warning] Unknown parameter: min_samples_split\n",
      "[LightGBM] [Warning] Unknown parameter: min_samples_split\n",
      "[LightGBM] [Warning] Unknown parameter: min_samples_split\n",
      "[LightGBM] [Warning] Unknown parameter: min_samples_split\n",
      "[LightGBM] [Warning] Unknown parameter: min_samples_split\n",
      "[LightGBM] [Warning] Unknown parameter: min_samples_split\n",
      "[LightGBM] [Warning] Unknown parameter: min_samples_split\n",
      "[LightGBM] [Warning] Unknown parameter: min_samples_split\n",
      "[LightGBM] [Warning] Unknown parameter: min_samples_split\n",
      "[LightGBM] [Warning] Unknown parameter: min_samples_split\n",
      "[LightGBM] [Warning] Unknown parameter: min_samples_split\n",
      "[LightGBM] [Warning] Unknown parameter: min_samples_split\n",
      "[LightGBM] [Warning] Unknown parameter: min_samples_split\n",
      "[LightGBM] [Warning] Unknown parameter: min_samples_split\n",
      "[LightGBM] [Warning] Unknown parameter: min_samples_split\n",
      "[LightGBM] [Warning] Unknown parameter: min_samples_split\n",
      "[LightGBM] [Warning] Unknown parameter: min_samples_split\n",
      "[LightGBM] [Warning] Unknown parameter: min_samples_split\n",
      "[LightGBM] [Warning] Unknown parameter: min_samples_split\n",
      "[LightGBM] [Warning] Unknown parameter: min_samples_split\n",
      "[LightGBM] [Warning] Unknown parameter: min_samples_split\n",
      "[LightGBM] [Warning] Unknown parameter: min_samples_split\n",
      "[LightGBM] [Warning] Unknown parameter: min_samples_split\n",
      "[LightGBM] [Warning] Unknown parameter: min_samples_split\n",
      "[LightGBM] [Warning] Unknown parameter: min_samples_split\n",
      "[LightGBM] [Warning] Unknown parameter: min_samples_split\n",
      "[LightGBM] [Warning] Unknown parameter: min_samples_split\n",
      "[LightGBM] [Warning] Unknown parameter: min_samples_split\n",
      "[LightGBM] [Warning] Unknown parameter: min_samples_split\n",
      "[LightGBM] [Warning] Unknown parameter: min_samples_split\n",
      "[LightGBM] [Warning] Unknown parameter: min_samples_split\n"
     ]
    }
   ],
   "source": [
    "tunedLightgbm = tune_model(lightgbm \n",
    "                      ,fold = 5\n",
    "                      ,custom_grid = {\"learning_rate\":[0.1,0.2,0.5]\n",
    "                                     ,\"n_estimators\":[100,500,1000]\n",
    "                                     ,\"min_samples_split\":[1,2,5,10]\n",
    "                                     ,\"max_depth\":[1,3,9]\n",
    "                                     }\n",
    "                      ,optimize = 'AUC')"
   ]
  },
  {
   "cell_type": "code",
   "execution_count": 60,
   "metadata": {},
   "outputs": [
    {
     "data": {
      "text/html": [
       "<style type=\"text/css\">\n",
       "</style>\n",
       "<table id=\"T_e792e\">\n",
       "  <thead>\n",
       "    <tr>\n",
       "      <th class=\"blank level0\" >&nbsp;</th>\n",
       "      <th id=\"T_e792e_level0_col0\" class=\"col_heading level0 col0\" >Model</th>\n",
       "      <th id=\"T_e792e_level0_col1\" class=\"col_heading level0 col1\" >Accuracy</th>\n",
       "      <th id=\"T_e792e_level0_col2\" class=\"col_heading level0 col2\" >AUC</th>\n",
       "      <th id=\"T_e792e_level0_col3\" class=\"col_heading level0 col3\" >Recall</th>\n",
       "      <th id=\"T_e792e_level0_col4\" class=\"col_heading level0 col4\" >Prec.</th>\n",
       "      <th id=\"T_e792e_level0_col5\" class=\"col_heading level0 col5\" >F1</th>\n",
       "      <th id=\"T_e792e_level0_col6\" class=\"col_heading level0 col6\" >Kappa</th>\n",
       "      <th id=\"T_e792e_level0_col7\" class=\"col_heading level0 col7\" >MCC</th>\n",
       "    </tr>\n",
       "  </thead>\n",
       "  <tbody>\n",
       "    <tr>\n",
       "      <th id=\"T_e792e_level0_row0\" class=\"row_heading level0 row0\" >0</th>\n",
       "      <td id=\"T_e792e_row0_col0\" class=\"data row0 col0\" >Light Gradient Boosting Machine</td>\n",
       "      <td id=\"T_e792e_row0_col1\" class=\"data row0 col1\" >0.9968</td>\n",
       "      <td id=\"T_e792e_row0_col2\" class=\"data row0 col2\" >1.0000</td>\n",
       "      <td id=\"T_e792e_row0_col3\" class=\"data row0 col3\" >0.9940</td>\n",
       "      <td id=\"T_e792e_row0_col4\" class=\"data row0 col4\" >1.0000</td>\n",
       "      <td id=\"T_e792e_row0_col5\" class=\"data row0 col5\" >0.9970</td>\n",
       "      <td id=\"T_e792e_row0_col6\" class=\"data row0 col6\" >0.9935</td>\n",
       "      <td id=\"T_e792e_row0_col7\" class=\"data row0 col7\" >0.9936</td>\n",
       "    </tr>\n",
       "  </tbody>\n",
       "</table>\n"
      ],
      "text/plain": [
       "<pandas.io.formats.style.Styler at 0x15ffbc670>"
      ]
     },
     "metadata": {},
     "output_type": "display_data"
    },
    {
     "data": {
      "text/html": [
       "<div>\n",
       "<style scoped>\n",
       "    .dataframe tbody tr th:only-of-type {\n",
       "        vertical-align: middle;\n",
       "    }\n",
       "\n",
       "    .dataframe tbody tr th {\n",
       "        vertical-align: top;\n",
       "    }\n",
       "\n",
       "    .dataframe thead th {\n",
       "        text-align: right;\n",
       "    }\n",
       "</style>\n",
       "<table border=\"1\" class=\"dataframe\">\n",
       "  <thead>\n",
       "    <tr style=\"text-align: right;\">\n",
       "      <th></th>\n",
       "      <th>Department</th>\n",
       "      <th>DaysLateLast30</th>\n",
       "      <th>Absences</th>\n",
       "      <th>EmpSatisfaction</th>\n",
       "      <th>EngagementSurvey</th>\n",
       "      <th>PerformanceScore</th>\n",
       "      <th>Termd</th>\n",
       "      <th>SalaryLevel</th>\n",
       "      <th>TimeInCompany</th>\n",
       "      <th>SpecialProjectsCount</th>\n",
       "      <th>perfScoreSatisfaction</th>\n",
       "      <th>Label</th>\n",
       "      <th>Score</th>\n",
       "    </tr>\n",
       "  </thead>\n",
       "  <tbody>\n",
       "    <tr>\n",
       "      <th>0</th>\n",
       "      <td>0.6</td>\n",
       "      <td>0.000000</td>\n",
       "      <td>0.000000</td>\n",
       "      <td>1.00</td>\n",
       "      <td>0.896907</td>\n",
       "      <td>0.000000</td>\n",
       "      <td>0.0</td>\n",
       "      <td>1.0</td>\n",
       "      <td>0.583333</td>\n",
       "      <td>0.000</td>\n",
       "      <td>0</td>\n",
       "      <td>0</td>\n",
       "      <td>1.0000</td>\n",
       "    </tr>\n",
       "    <tr>\n",
       "      <th>1</th>\n",
       "      <td>0.4</td>\n",
       "      <td>0.000000</td>\n",
       "      <td>0.842105</td>\n",
       "      <td>0.50</td>\n",
       "      <td>0.989691</td>\n",
       "      <td>0.333333</td>\n",
       "      <td>1.0</td>\n",
       "      <td>0.0</td>\n",
       "      <td>0.083333</td>\n",
       "      <td>0.750</td>\n",
       "      <td>0</td>\n",
       "      <td>0</td>\n",
       "      <td>1.0000</td>\n",
       "    </tr>\n",
       "    <tr>\n",
       "      <th>2</th>\n",
       "      <td>0.6</td>\n",
       "      <td>0.000000</td>\n",
       "      <td>0.105263</td>\n",
       "      <td>0.50</td>\n",
       "      <td>0.489691</td>\n",
       "      <td>0.333333</td>\n",
       "      <td>1.0</td>\n",
       "      <td>1.0</td>\n",
       "      <td>0.083333</td>\n",
       "      <td>0.000</td>\n",
       "      <td>0</td>\n",
       "      <td>0</td>\n",
       "      <td>1.0000</td>\n",
       "    </tr>\n",
       "    <tr>\n",
       "      <th>3</th>\n",
       "      <td>0.6</td>\n",
       "      <td>0.000000</td>\n",
       "      <td>0.736842</td>\n",
       "      <td>1.00</td>\n",
       "      <td>0.958763</td>\n",
       "      <td>0.333333</td>\n",
       "      <td>0.0</td>\n",
       "      <td>1.0</td>\n",
       "      <td>0.833333</td>\n",
       "      <td>0.000</td>\n",
       "      <td>1</td>\n",
       "      <td>1</td>\n",
       "      <td>0.9999</td>\n",
       "    </tr>\n",
       "    <tr>\n",
       "      <th>4</th>\n",
       "      <td>0.6</td>\n",
       "      <td>0.000000</td>\n",
       "      <td>0.052632</td>\n",
       "      <td>0.75</td>\n",
       "      <td>1.000000</td>\n",
       "      <td>0.333333</td>\n",
       "      <td>1.0</td>\n",
       "      <td>0.5</td>\n",
       "      <td>0.416667</td>\n",
       "      <td>0.000</td>\n",
       "      <td>0</td>\n",
       "      <td>0</td>\n",
       "      <td>1.0000</td>\n",
       "    </tr>\n",
       "    <tr>\n",
       "      <th>...</th>\n",
       "      <td>...</td>\n",
       "      <td>...</td>\n",
       "      <td>...</td>\n",
       "      <td>...</td>\n",
       "      <td>...</td>\n",
       "      <td>...</td>\n",
       "      <td>...</td>\n",
       "      <td>...</td>\n",
       "      <td>...</td>\n",
       "      <td>...</td>\n",
       "      <td>...</td>\n",
       "      <td>...</td>\n",
       "      <td>...</td>\n",
       "    </tr>\n",
       "    <tr>\n",
       "      <th>306</th>\n",
       "      <td>0.6</td>\n",
       "      <td>0.000000</td>\n",
       "      <td>0.631579</td>\n",
       "      <td>0.75</td>\n",
       "      <td>0.760309</td>\n",
       "      <td>0.333333</td>\n",
       "      <td>0.0</td>\n",
       "      <td>1.0</td>\n",
       "      <td>0.333333</td>\n",
       "      <td>0.000</td>\n",
       "      <td>1</td>\n",
       "      <td>1</td>\n",
       "      <td>1.0000</td>\n",
       "    </tr>\n",
       "    <tr>\n",
       "      <th>307</th>\n",
       "      <td>0.6</td>\n",
       "      <td>0.833333</td>\n",
       "      <td>0.157895</td>\n",
       "      <td>0.25</td>\n",
       "      <td>0.536083</td>\n",
       "      <td>1.000000</td>\n",
       "      <td>1.0</td>\n",
       "      <td>0.5</td>\n",
       "      <td>0.583333</td>\n",
       "      <td>0.000</td>\n",
       "      <td>0</td>\n",
       "      <td>0</td>\n",
       "      <td>1.0000</td>\n",
       "    </tr>\n",
       "    <tr>\n",
       "      <th>308</th>\n",
       "      <td>0.4</td>\n",
       "      <td>0.000000</td>\n",
       "      <td>0.789474</td>\n",
       "      <td>1.00</td>\n",
       "      <td>0.896907</td>\n",
       "      <td>0.000000</td>\n",
       "      <td>0.0</td>\n",
       "      <td>0.0</td>\n",
       "      <td>0.666667</td>\n",
       "      <td>0.750</td>\n",
       "      <td>0</td>\n",
       "      <td>0</td>\n",
       "      <td>1.0000</td>\n",
       "    </tr>\n",
       "    <tr>\n",
       "      <th>309</th>\n",
       "      <td>0.4</td>\n",
       "      <td>0.000000</td>\n",
       "      <td>0.526316</td>\n",
       "      <td>0.50</td>\n",
       "      <td>1.000000</td>\n",
       "      <td>0.333333</td>\n",
       "      <td>0.0</td>\n",
       "      <td>0.0</td>\n",
       "      <td>0.250000</td>\n",
       "      <td>0.625</td>\n",
       "      <td>1</td>\n",
       "      <td>1</td>\n",
       "      <td>1.0000</td>\n",
       "    </tr>\n",
       "    <tr>\n",
       "      <th>310</th>\n",
       "      <td>0.6</td>\n",
       "      <td>0.000000</td>\n",
       "      <td>0.052632</td>\n",
       "      <td>1.00</td>\n",
       "      <td>0.871134</td>\n",
       "      <td>0.333333</td>\n",
       "      <td>0.0</td>\n",
       "      <td>0.5</td>\n",
       "      <td>0.333333</td>\n",
       "      <td>0.000</td>\n",
       "      <td>1</td>\n",
       "      <td>1</td>\n",
       "      <td>1.0000</td>\n",
       "    </tr>\n",
       "  </tbody>\n",
       "</table>\n",
       "<p>311 rows × 13 columns</p>\n",
       "</div>"
      ],
      "text/plain": [
       "     Department  DaysLateLast30  Absences  EmpSatisfaction  EngagementSurvey  \\\n",
       "0           0.6        0.000000  0.000000             1.00          0.896907   \n",
       "1           0.4        0.000000  0.842105             0.50          0.989691   \n",
       "2           0.6        0.000000  0.105263             0.50          0.489691   \n",
       "3           0.6        0.000000  0.736842             1.00          0.958763   \n",
       "4           0.6        0.000000  0.052632             0.75          1.000000   \n",
       "..          ...             ...       ...              ...               ...   \n",
       "306         0.6        0.000000  0.631579             0.75          0.760309   \n",
       "307         0.6        0.833333  0.157895             0.25          0.536083   \n",
       "308         0.4        0.000000  0.789474             1.00          0.896907   \n",
       "309         0.4        0.000000  0.526316             0.50          1.000000   \n",
       "310         0.6        0.000000  0.052632             1.00          0.871134   \n",
       "\n",
       "     PerformanceScore  Termd  SalaryLevel  TimeInCompany  \\\n",
       "0            0.000000    0.0          1.0       0.583333   \n",
       "1            0.333333    1.0          0.0       0.083333   \n",
       "2            0.333333    1.0          1.0       0.083333   \n",
       "3            0.333333    0.0          1.0       0.833333   \n",
       "4            0.333333    1.0          0.5       0.416667   \n",
       "..                ...    ...          ...            ...   \n",
       "306          0.333333    0.0          1.0       0.333333   \n",
       "307          1.000000    1.0          0.5       0.583333   \n",
       "308          0.000000    0.0          0.0       0.666667   \n",
       "309          0.333333    0.0          0.0       0.250000   \n",
       "310          0.333333    0.0          0.5       0.333333   \n",
       "\n",
       "     SpecialProjectsCount  perfScoreSatisfaction  Label   Score  \n",
       "0                   0.000                      0      0  1.0000  \n",
       "1                   0.750                      0      0  1.0000  \n",
       "2                   0.000                      0      0  1.0000  \n",
       "3                   0.000                      1      1  0.9999  \n",
       "4                   0.000                      0      0  1.0000  \n",
       "..                    ...                    ...    ...     ...  \n",
       "306                 0.000                      1      1  1.0000  \n",
       "307                 0.000                      0      0  1.0000  \n",
       "308                 0.750                      0      0  1.0000  \n",
       "309                 0.625                      1      1  1.0000  \n",
       "310                 0.000                      1      1  1.0000  \n",
       "\n",
       "[311 rows x 13 columns]"
      ]
     },
     "execution_count": 60,
     "metadata": {},
     "output_type": "execute_result"
    }
   ],
   "source": [
    "predict_model(lightgbm, data=df)"
   ]
  },
  {
   "cell_type": "markdown",
   "metadata": {},
   "source": [
    "#### Finalizando o modelo de predição e disponibilizando para um eventual ambiente de produção."
   ]
  },
  {
   "cell_type": "code",
   "execution_count": 61,
   "metadata": {},
   "outputs": [
    {
     "name": "stdout",
     "output_type": "stream",
     "text": [
      "Transformation Pipeline and Model Successfully Saved\n"
     ]
    },
    {
     "data": {
      "text/plain": [
       "(Pipeline(memory=Memory(location=/var/folders/mj/jgp1syh15f353pj12fcfnzyc0000gn/T/joblib),\n",
       "          steps=[('numerical_imputer',\n",
       "                  TransformerWrapper(exclude=None,\n",
       "                                     include=['TimeInCompany', 'DaysLateLast30',\n",
       "                                              'Absences', 'EngagementSurvey',\n",
       "                                              'EmpSatisfaction',\n",
       "                                              'PerformanceScore',\n",
       "                                              'SpecialProjectsCount'],\n",
       "                                     transformer=SimpleImputer(add_indicator=False,\n",
       "                                                               copy=True,\n",
       "                                                               fill_value=N...\n",
       "                  RandomForestClassifier(bootstrap=True, ccp_alpha=0.0,\n",
       "                                         class_weight=None, criterion='gini',\n",
       "                                         max_depth=None, max_features='sqrt',\n",
       "                                         max_leaf_nodes=None, max_samples=None,\n",
       "                                         min_impurity_decrease=0.0,\n",
       "                                         min_samples_leaf=1, min_samples_split=2,\n",
       "                                         min_weight_fraction_leaf=0.0,\n",
       "                                         n_estimators=100, n_jobs=None,\n",
       "                                         oob_score=False, random_state=None,\n",
       "                                         verbose=0, warm_start=False))],\n",
       "          verbose=False),\n",
       " 'model.pkl')"
      ]
     },
     "execution_count": 61,
     "metadata": {},
     "output_type": "execute_result"
    }
   ],
   "source": [
    "finalModel = finalize_model(rf)\n",
    "save_model(finalModel,'model')"
   ]
  },
  {
   "cell_type": "markdown",
   "metadata": {},
   "source": [
    "#### Transferindo os arquivos para o Data Lake."
   ]
  },
  {
   "cell_type": "markdown",
   "metadata": {},
   "source": [
    "#### Modelo de Classificação."
   ]
  },
  {
   "cell_type": "code",
   "execution_count": 62,
   "metadata": {},
   "outputs": [
    {
     "data": {
      "text/plain": [
       "<minio.helpers.ObjectWriteResult at 0x10a0df580>"
      ]
     },
     "execution_count": 62,
     "metadata": {},
     "output_type": "execute_result"
    }
   ],
   "source": [
    "client.fput_object(\n",
    "    \"curated\",\n",
    "    \"model.pkl\",\n",
    "    \"model.pkl\"\n",
    ")"
   ]
  },
  {
   "cell_type": "markdown",
   "metadata": {},
   "source": [
    "#### Exportando o conjunto de dados para o disco."
   ]
  },
  {
   "cell_type": "code",
   "execution_count": 63,
   "metadata": {},
   "outputs": [],
   "source": [
    "df.to_csv(\"dataset.csv\",index=False)"
   ]
  },
  {
   "cell_type": "code",
   "execution_count": 64,
   "metadata": {},
   "outputs": [
    {
     "data": {
      "text/plain": [
       "<minio.helpers.ObjectWriteResult at 0x15fb20be0>"
      ]
     },
     "execution_count": 64,
     "metadata": {},
     "output_type": "execute_result"
    }
   ],
   "source": [
    "client.fput_object(\n",
    "    \"curated\",\n",
    "    \"dataset.csv\",\n",
    "    \"dataset.csv\"\n",
    ")"
   ]
  },
  {
   "cell_type": "markdown",
   "metadata": {},
   "source": [
    "# Testar modelo"
   ]
  },
  {
   "cell_type": "markdown",
   "metadata": {},
   "source": [
    "#### Modelo de classificacao,dataset e cluster."
   ]
  },
  {
   "cell_type": "code",
   "execution_count": 65,
   "metadata": {},
   "outputs": [],
   "source": [
    "client.fget_object(\"curated\",\"model.pkl\",\"model.pkl\")\n",
    "client.fget_object(\"curated\",\"dataset.csv\",\"dataset.csv\")\n",
    "client.fget_object(\"curated\",\"cluster.joblib\",\"cluster.joblib\")\n",
    "\n",
    "var_model = \"model\"\n",
    "var_model_cluster = \"cluster.joblib\"\n",
    "var_dataset = \"dataset.csv\""
   ]
  },
  {
   "cell_type": "markdown",
   "metadata": {},
   "source": [
    "#### Carregando o modelo treinado."
   ]
  },
  {
   "cell_type": "code",
   "execution_count": 66,
   "metadata": {},
   "outputs": [
    {
     "name": "stdout",
     "output_type": "stream",
     "text": [
      "Transformation Pipeline and Model Successfully Loaded\n"
     ]
    }
   ],
   "source": [
    "model = load_model(var_model)\n",
    "model_cluster = joblib.load(var_model_cluster)"
   ]
  },
  {
   "cell_type": "markdown",
   "metadata": {},
   "source": [
    "#### Carregando o conjunto de dados."
   ]
  },
  {
   "cell_type": "code",
   "execution_count": 67,
   "metadata": {},
   "outputs": [
    {
     "data": {
      "text/html": [
       "<div>\n",
       "<style scoped>\n",
       "    .dataframe tbody tr th:only-of-type {\n",
       "        vertical-align: middle;\n",
       "    }\n",
       "\n",
       "    .dataframe tbody tr th {\n",
       "        vertical-align: top;\n",
       "    }\n",
       "\n",
       "    .dataframe thead th {\n",
       "        text-align: right;\n",
       "    }\n",
       "</style>\n",
       "<table border=\"1\" class=\"dataframe\">\n",
       "  <thead>\n",
       "    <tr style=\"text-align: right;\">\n",
       "      <th></th>\n",
       "      <th>Department</th>\n",
       "      <th>DaysLateLast30</th>\n",
       "      <th>Absences</th>\n",
       "      <th>EmpSatisfaction</th>\n",
       "      <th>EngagementSurvey</th>\n",
       "      <th>PerformanceScore</th>\n",
       "      <th>Termd</th>\n",
       "      <th>SalaryLevel</th>\n",
       "      <th>TimeInCompany</th>\n",
       "      <th>SpecialProjectsCount</th>\n",
       "      <th>perfScoreSatisfaction</th>\n",
       "    </tr>\n",
       "  </thead>\n",
       "  <tbody>\n",
       "    <tr>\n",
       "      <th>0</th>\n",
       "      <td>3</td>\n",
       "      <td>0</td>\n",
       "      <td>1</td>\n",
       "      <td>5</td>\n",
       "      <td>4.60</td>\n",
       "      <td>0</td>\n",
       "      <td>0</td>\n",
       "      <td>2</td>\n",
       "      <td>8</td>\n",
       "      <td>0</td>\n",
       "      <td>0</td>\n",
       "    </tr>\n",
       "    <tr>\n",
       "      <th>1</th>\n",
       "      <td>2</td>\n",
       "      <td>0</td>\n",
       "      <td>17</td>\n",
       "      <td>3</td>\n",
       "      <td>4.96</td>\n",
       "      <td>1</td>\n",
       "      <td>1</td>\n",
       "      <td>0</td>\n",
       "      <td>2</td>\n",
       "      <td>6</td>\n",
       "      <td>0</td>\n",
       "    </tr>\n",
       "    <tr>\n",
       "      <th>2</th>\n",
       "      <td>3</td>\n",
       "      <td>0</td>\n",
       "      <td>3</td>\n",
       "      <td>3</td>\n",
       "      <td>3.02</td>\n",
       "      <td>1</td>\n",
       "      <td>1</td>\n",
       "      <td>2</td>\n",
       "      <td>2</td>\n",
       "      <td>0</td>\n",
       "      <td>0</td>\n",
       "    </tr>\n",
       "    <tr>\n",
       "      <th>3</th>\n",
       "      <td>3</td>\n",
       "      <td>0</td>\n",
       "      <td>15</td>\n",
       "      <td>5</td>\n",
       "      <td>4.84</td>\n",
       "      <td>1</td>\n",
       "      <td>0</td>\n",
       "      <td>2</td>\n",
       "      <td>11</td>\n",
       "      <td>0</td>\n",
       "      <td>1</td>\n",
       "    </tr>\n",
       "    <tr>\n",
       "      <th>4</th>\n",
       "      <td>3</td>\n",
       "      <td>0</td>\n",
       "      <td>2</td>\n",
       "      <td>4</td>\n",
       "      <td>5.00</td>\n",
       "      <td>1</td>\n",
       "      <td>1</td>\n",
       "      <td>1</td>\n",
       "      <td>6</td>\n",
       "      <td>0</td>\n",
       "      <td>0</td>\n",
       "    </tr>\n",
       "  </tbody>\n",
       "</table>\n",
       "</div>"
      ],
      "text/plain": [
       "   Department  DaysLateLast30  Absences  EmpSatisfaction  EngagementSurvey  \\\n",
       "0           3               0         1                5              4.60   \n",
       "1           2               0        17                3              4.96   \n",
       "2           3               0         3                3              3.02   \n",
       "3           3               0        15                5              4.84   \n",
       "4           3               0         2                4              5.00   \n",
       "\n",
       "   PerformanceScore  Termd  SalaryLevel  TimeInCompany  SpecialProjectsCount  \\\n",
       "0                 0      0            2              8                     0   \n",
       "1                 1      1            0              2                     6   \n",
       "2                 1      1            2              2                     0   \n",
       "3                 1      0            2             11                     0   \n",
       "4                 1      1            1              6                     0   \n",
       "\n",
       "   perfScoreSatisfaction  \n",
       "0                      0  \n",
       "1                      0  \n",
       "2                      0  \n",
       "3                      1  \n",
       "4                      0  "
      ]
     },
     "execution_count": 67,
     "metadata": {},
     "output_type": "execute_result"
    }
   ],
   "source": [
    "dataset = pd.read_csv(var_dataset)\n",
    "dataset.head()"
   ]
  },
  {
   "cell_type": "markdown",
   "metadata": {},
   "source": [
    "#### Grupos de funcionarios."
   ]
  },
  {
   "cell_type": "code",
   "execution_count": 68,
   "metadata": {},
   "outputs": [],
   "source": [
    "kmeans_colors = ['red' if c == 0 else 'blue' for c in model_cluster.labels_]"
   ]
  },
  {
   "cell_type": "markdown",
   "metadata": {},
   "source": [
    "#### Mapeando dados do usuário para cada atributo"
   ]
  },
  {
   "cell_type": "code",
   "execution_count": 88,
   "metadata": {},
   "outputs": [],
   "source": [
    "department = 3\n",
    "daysLateLast30 = 10\n",
    "absences = 15\n",
    "empSatisfaction = 2\n",
    "engagementSurvey = 1\n",
    "performanceScore = 2\n",
    "termd = 0\n",
    "salaryLevel = 1\n",
    "timeInCompany = 3\n",
    "specialProjectsCount = 0\n",
    "perfScoreSatisfaction = 2"
   ]
  },
  {
   "cell_type": "code",
   "execution_count": 89,
   "metadata": {},
   "outputs": [],
   "source": [
    "data_teste = pd.DataFrame()\n",
    "data_teste['Department'] = [department]\n",
    "data_teste['DaysLateLast30'] = [daysLateLast30]\n",
    "data_teste['Absences'] = [absences]\n",
    "data_teste['EmpSatisfaction'] = [empSatisfaction]\n",
    "data_teste['EngagementSurvey'] = [engagementSurvey]\n",
    "data_teste['PerformanceScore'] = [performanceScore]\n",
    "data_teste['Termd'] = [termd]\n",
    "data_teste['SalaryLevel'] = [salaryLevel]\n",
    "data_teste['TimeInCompany'] = [timeInCompany]\n",
    "data_teste['SpecialProjectsCount'] = [specialProjectsCount]\n",
    "data_teste['perfScoreSatisfaction'] = [perfScoreSatisfaction]"
   ]
  },
  {
   "cell_type": "markdown",
   "metadata": {},
   "source": [
    "## Realiza a predição do modelo"
   ]
  },
  {
   "cell_type": "code",
   "execution_count": 90,
   "metadata": {},
   "outputs": [
    {
     "data": {
      "text/html": [
       "<style type=\"text/css\">\n",
       "</style>\n",
       "<table id=\"T_b83ab\">\n",
       "  <thead>\n",
       "    <tr>\n",
       "      <th class=\"blank level0\" >&nbsp;</th>\n",
       "      <th id=\"T_b83ab_level0_col0\" class=\"col_heading level0 col0\" >Model</th>\n",
       "      <th id=\"T_b83ab_level0_col1\" class=\"col_heading level0 col1\" >Accuracy</th>\n",
       "      <th id=\"T_b83ab_level0_col2\" class=\"col_heading level0 col2\" >AUC</th>\n",
       "      <th id=\"T_b83ab_level0_col3\" class=\"col_heading level0 col3\" >Recall</th>\n",
       "      <th id=\"T_b83ab_level0_col4\" class=\"col_heading level0 col4\" >Prec.</th>\n",
       "      <th id=\"T_b83ab_level0_col5\" class=\"col_heading level0 col5\" >F1</th>\n",
       "      <th id=\"T_b83ab_level0_col6\" class=\"col_heading level0 col6\" >Kappa</th>\n",
       "      <th id=\"T_b83ab_level0_col7\" class=\"col_heading level0 col7\" >MCC</th>\n",
       "    </tr>\n",
       "  </thead>\n",
       "  <tbody>\n",
       "    <tr>\n",
       "      <th id=\"T_b83ab_level0_row0\" class=\"row_heading level0 row0\" >0</th>\n",
       "      <td id=\"T_b83ab_row0_col0\" class=\"data row0 col0\" >Random Forest Classifier</td>\n",
       "      <td id=\"T_b83ab_row0_col1\" class=\"data row0 col1\" >0.0000</td>\n",
       "      <td id=\"T_b83ab_row0_col2\" class=\"data row0 col2\" >0</td>\n",
       "      <td id=\"T_b83ab_row0_col3\" class=\"data row0 col3\" >0</td>\n",
       "      <td id=\"T_b83ab_row0_col4\" class=\"data row0 col4\" >0</td>\n",
       "      <td id=\"T_b83ab_row0_col5\" class=\"data row0 col5\" >0</td>\n",
       "      <td id=\"T_b83ab_row0_col6\" class=\"data row0 col6\" >0.0000</td>\n",
       "      <td id=\"T_b83ab_row0_col7\" class=\"data row0 col7\" >0.0000</td>\n",
       "    </tr>\n",
       "  </tbody>\n",
       "</table>\n"
      ],
      "text/plain": [
       "<pandas.io.formats.style.Styler at 0x15f5bb400>"
      ]
     },
     "metadata": {},
     "output_type": "display_data"
    },
    {
     "data": {
      "text/html": [
       "<div>\n",
       "<style scoped>\n",
       "    .dataframe tbody tr th:only-of-type {\n",
       "        vertical-align: middle;\n",
       "    }\n",
       "\n",
       "    .dataframe tbody tr th {\n",
       "        vertical-align: top;\n",
       "    }\n",
       "\n",
       "    .dataframe thead th {\n",
       "        text-align: right;\n",
       "    }\n",
       "</style>\n",
       "<table border=\"1\" class=\"dataframe\">\n",
       "  <thead>\n",
       "    <tr style=\"text-align: right;\">\n",
       "      <th></th>\n",
       "      <th>Department</th>\n",
       "      <th>DaysLateLast30</th>\n",
       "      <th>Absences</th>\n",
       "      <th>EmpSatisfaction</th>\n",
       "      <th>EngagementSurvey</th>\n",
       "      <th>PerformanceScore</th>\n",
       "      <th>Termd</th>\n",
       "      <th>SalaryLevel</th>\n",
       "      <th>TimeInCompany</th>\n",
       "      <th>SpecialProjectsCount</th>\n",
       "      <th>perfScoreSatisfaction</th>\n",
       "      <th>Label</th>\n",
       "      <th>Score</th>\n",
       "    </tr>\n",
       "  </thead>\n",
       "  <tbody>\n",
       "    <tr>\n",
       "      <th>0</th>\n",
       "      <td>0.6</td>\n",
       "      <td>1.666667</td>\n",
       "      <td>0.736842</td>\n",
       "      <td>0.25</td>\n",
       "      <td>-0.030928</td>\n",
       "      <td>0.666667</td>\n",
       "      <td>0.0</td>\n",
       "      <td>0.5</td>\n",
       "      <td>0.166667</td>\n",
       "      <td>0.0</td>\n",
       "      <td>2</td>\n",
       "      <td>0</td>\n",
       "      <td>0.69</td>\n",
       "    </tr>\n",
       "  </tbody>\n",
       "</table>\n",
       "</div>"
      ],
      "text/plain": [
       "   Department  DaysLateLast30  Absences  EmpSatisfaction  EngagementSurvey  \\\n",
       "0         0.6        1.666667  0.736842             0.25         -0.030928   \n",
       "\n",
       "   PerformanceScore  Termd  SalaryLevel  TimeInCompany  SpecialProjectsCount  \\\n",
       "0          0.666667    0.0          0.5       0.166667                   0.0   \n",
       "\n",
       "   perfScoreSatisfaction  Label  Score  \n",
       "0                      2      0   0.69  "
      ]
     },
     "execution_count": 90,
     "metadata": {},
     "output_type": "execute_result"
    }
   ],
   "source": [
    "result = predict_model(model, data=data_teste)\n",
    "result"
   ]
  },
  {
   "cell_type": "markdown",
   "metadata": {},
   "source": [
    "#### Resultados"
   ]
  },
  {
   "cell_type": "code",
   "execution_count": 91,
   "metadata": {},
   "outputs": [],
   "source": [
    "classe = result['Label'][0]\n",
    "probabilidade = result['Score'][0]*100"
   ]
  },
  {
   "cell_type": "code",
   "execution_count": 92,
   "metadata": {},
   "outputs": [
    {
     "name": "stdout",
     "output_type": "stream",
     "text": [
      "A predição do modelo para a amostra de teste é de funcionário não satisfeito e não engajado com probabilidade de: 69.00%\n"
     ]
    }
   ],
   "source": [
    "if classe == 1:\n",
    "    print(f'A predição do modelo para a amostra de teste é de funcionário satisfeito e engajado com probabilidade de: {probabilidade:.2f}%')\n",
    "else:\n",
    "    print(f'A predição do modelo para a amostra de teste é de funcionário não satisfeito e não engajado com probabilidade de: {probabilidade:.2f}%')"
   ]
  },
  {
   "cell_type": "code",
   "execution_count": 93,
   "metadata": {},
   "outputs": [
    {
     "data": {
      "image/png": "[encoded data removed]",
      "text/plain": [
       "<Figure size 720x432 with 1 Axes>"
      ]
     },
     "metadata": {
      "needs_background": "light"
     },
     "output_type": "display_data"
    }
   ],
   "source": [
    "fig = plt.figure(figsize=(10, 6))\n",
    "plt.scatter( x=\"EmpSatisfaction\"\n",
    "            ,y=\"EngagementSurvey\"\n",
    "            ,data=dataset[dataset.perfScoreSatisfaction==1],\n",
    "            alpha=0.25,color = kmeans_colors)\n",
    "\n",
    "plt.xlabel(\"Satisfação\")\n",
    "plt.ylabel(\"Engajamento\")\n",
    "\n",
    "plt.scatter( x=model_cluster.cluster_centers_[:,0]\n",
    "            ,y=model_cluster.cluster_centers_[:,1]\n",
    "            ,color=\"black\"\n",
    "            ,marker=\"X\",s=100)\n",
    "\n",
    "plt.scatter( x=[empSatisfaction]\n",
    "            ,y=[engagementSurvey]\n",
    "            ,color=\"yellow\"\n",
    "            ,marker=\"X\",s=300)\n",
    "\n",
    "plt.title(\"Grupos de Funcionários - Satisfação vs Engajamento.\")\n",
    "plt.show()\n"
   ]
  },
  {
   "cell_type": "code",
   "execution_count": null,
   "metadata": {},
   "outputs": [],
   "source": []
  },
  {
   "cell_type": "code",
   "execution_count": null,
   "metadata": {},
   "outputs": [],
   "source": []
  },
  {
   "cell_type": "code",
   "execution_count": null,
   "metadata": {},
   "outputs": [],
   "source": []
  },
  {
   "cell_type": "code",
   "execution_count": 94,
   "metadata": {},
   "outputs": [
    {
     "data": {
      "text/plain": [
       "Index(['Department', 'DaysLateLast30', 'Absences', 'EmpSatisfaction',\n",
       "       'EngagementSurvey', 'PerformanceScore', 'Termd', 'SalaryLevel',\n",
       "       'TimeInCompany', 'SpecialProjectsCount', 'perfScoreSatisfaction'],\n",
       "      dtype='object')"
      ]
     },
     "execution_count": 94,
     "metadata": {},
     "output_type": "execute_result"
    }
   ],
   "source": [
    "dataset.columns"
   ]
  },
  {
   "cell_type": "code",
   "execution_count": 95,
   "metadata": {},
   "outputs": [
    {
     "data": {
      "text/html": [
       "<div>\n",
       "<style scoped>\n",
       "    .dataframe tbody tr th:only-of-type {\n",
       "        vertical-align: middle;\n",
       "    }\n",
       "\n",
       "    .dataframe tbody tr th {\n",
       "        vertical-align: top;\n",
       "    }\n",
       "\n",
       "    .dataframe thead th {\n",
       "        text-align: right;\n",
       "    }\n",
       "</style>\n",
       "<table border=\"1\" class=\"dataframe\">\n",
       "  <thead>\n",
       "    <tr style=\"text-align: right;\">\n",
       "      <th></th>\n",
       "      <th>EmpSatisfaction</th>\n",
       "      <th>EngagementSurvey</th>\n",
       "      <th>SalaryLevel</th>\n",
       "      <th>perfScoreSatisfaction</th>\n",
       "    </tr>\n",
       "  </thead>\n",
       "  <tbody>\n",
       "    <tr>\n",
       "      <th>0</th>\n",
       "      <td>5</td>\n",
       "      <td>4.60</td>\n",
       "      <td>2</td>\n",
       "      <td>0</td>\n",
       "    </tr>\n",
       "    <tr>\n",
       "      <th>1</th>\n",
       "      <td>3</td>\n",
       "      <td>4.96</td>\n",
       "      <td>0</td>\n",
       "      <td>0</td>\n",
       "    </tr>\n",
       "    <tr>\n",
       "      <th>2</th>\n",
       "      <td>3</td>\n",
       "      <td>3.02</td>\n",
       "      <td>2</td>\n",
       "      <td>0</td>\n",
       "    </tr>\n",
       "    <tr>\n",
       "      <th>3</th>\n",
       "      <td>5</td>\n",
       "      <td>4.84</td>\n",
       "      <td>2</td>\n",
       "      <td>1</td>\n",
       "    </tr>\n",
       "    <tr>\n",
       "      <th>4</th>\n",
       "      <td>4</td>\n",
       "      <td>5.00</td>\n",
       "      <td>1</td>\n",
       "      <td>0</td>\n",
       "    </tr>\n",
       "  </tbody>\n",
       "</table>\n",
       "</div>"
      ],
      "text/plain": [
       "   EmpSatisfaction  EngagementSurvey  SalaryLevel  perfScoreSatisfaction\n",
       "0                5              4.60            2                      0\n",
       "1                3              4.96            0                      0\n",
       "2                3              3.02            2                      0\n",
       "3                5              4.84            2                      1\n",
       "4                4              5.00            1                      0"
      ]
     },
     "execution_count": 95,
     "metadata": {},
     "output_type": "execute_result"
    }
   ],
   "source": [
    "dataset[['EmpSatisfaction',\n",
    "       'EngagementSurvey', 'SalaryLevel', 'perfScoreSatisfaction']].head(5)"
   ]
  },
  {
   "cell_type": "code",
   "execution_count": 96,
   "metadata": {},
   "outputs": [
    {
     "data": {
      "text/html": [
       "<div>\n",
       "<style scoped>\n",
       "    .dataframe tbody tr th:only-of-type {\n",
       "        vertical-align: middle;\n",
       "    }\n",
       "\n",
       "    .dataframe tbody tr th {\n",
       "        vertical-align: top;\n",
       "    }\n",
       "\n",
       "    .dataframe thead th {\n",
       "        text-align: right;\n",
       "    }\n",
       "</style>\n",
       "<table border=\"1\" class=\"dataframe\">\n",
       "  <thead>\n",
       "    <tr style=\"text-align: right;\">\n",
       "      <th></th>\n",
       "      <th>EmpSatisfaction</th>\n",
       "      <th>EngagementSurvey</th>\n",
       "      <th>SalaryLevel</th>\n",
       "      <th>perfScoreSatisfaction</th>\n",
       "    </tr>\n",
       "  </thead>\n",
       "  <tbody>\n",
       "    <tr>\n",
       "      <th>0</th>\n",
       "      <td>5</td>\n",
       "      <td>4.60</td>\n",
       "      <td>2</td>\n",
       "      <td>?</td>\n",
       "    </tr>\n",
       "    <tr>\n",
       "      <th>1</th>\n",
       "      <td>3</td>\n",
       "      <td>4.96</td>\n",
       "      <td>0</td>\n",
       "      <td>?</td>\n",
       "    </tr>\n",
       "    <tr>\n",
       "      <th>2</th>\n",
       "      <td>3</td>\n",
       "      <td>3.02</td>\n",
       "      <td>2</td>\n",
       "      <td>?</td>\n",
       "    </tr>\n",
       "    <tr>\n",
       "      <th>3</th>\n",
       "      <td>5</td>\n",
       "      <td>4.84</td>\n",
       "      <td>2</td>\n",
       "      <td>?</td>\n",
       "    </tr>\n",
       "    <tr>\n",
       "      <th>4</th>\n",
       "      <td>4</td>\n",
       "      <td>5.00</td>\n",
       "      <td>1</td>\n",
       "      <td>?</td>\n",
       "    </tr>\n",
       "  </tbody>\n",
       "</table>\n",
       "</div>"
      ],
      "text/plain": [
       "   EmpSatisfaction  EngagementSurvey  SalaryLevel perfScoreSatisfaction\n",
       "0                5              4.60            2                     ?\n",
       "1                3              4.96            0                     ?\n",
       "2                3              3.02            2                     ?\n",
       "3                5              4.84            2                     ?\n",
       "4                4              5.00            1                     ?"
      ]
     },
     "execution_count": 96,
     "metadata": {},
     "output_type": "execute_result"
    }
   ],
   "source": [
    "d2 = dataset[['EmpSatisfaction',\n",
    "       'EngagementSurvey', 'SalaryLevel', 'perfScoreSatisfaction']].head(5)\n",
    "d2['perfScoreSatisfaction'] = '?'\n",
    "d2.tail(5)"
   ]
  }
 ],
 "metadata": {
  "kernelspec": {
   "display_name": "Python 3.10.5 ('venv': venv)",
   "language": "python",
   "name": "python3"
  },
  "language_info": {
   "codemirror_mode": {
    "name": "ipython",
    "version": 3
   },
   "file_extension": ".py",
   "mimetype": "text/x-python",
   "name": "python",
   "nbconvert_exporter": "python",
   "pygments_lexer": "ipython3",
   "version": "3.8.9"
  },
  "orig_nbformat": 4,
  "vscode": {
   "interpreter": {
    "hash": "213dc7abf8916a38e7369365bff7d668a1af186af7030f9ee7c4ea583ab64441"
   }
  }
 },
 "nbformat": 4,
 "nbformat_minor": 2
}
