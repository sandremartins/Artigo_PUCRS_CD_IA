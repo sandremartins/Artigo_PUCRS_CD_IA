{
 "cells": [
  {
   "cell_type": "code",
   "execution_count": 1,
   "metadata": {},
   "outputs": [],
   "source": [
    "import pandas as pd\n",
    "import datetime\n",
    "import glob\n",
    "from minio import Minio\n",
    "import seaborn as sns\n",
    "import matplotlib.pyplot as plt"
   ]
  },
  {
   "cell_type": "code",
   "execution_count": 2,
   "metadata": {},
   "outputs": [],
   "source": [
    "client = Minio(\n",
    "        \"localhost:9000\",\n",
    "        access_key=\"minioadmin\",\n",
    "        secret_key=\"minioadmin\",\n",
    "        secure=False\n",
    "    )"
   ]
  },
  {
   "cell_type": "markdown",
   "metadata": {},
   "source": [
    "### Baixando o Dataset do Data Lake."
   ]
  },
  {
   "cell_type": "code",
   "execution_count": 3,
   "metadata": {},
   "outputs": [
    {
     "data": {
      "text/html": [
       "<div>\n",
       "<style scoped>\n",
       "    .dataframe tbody tr th:only-of-type {\n",
       "        vertical-align: middle;\n",
       "    }\n",
       "\n",
       "    .dataframe tbody tr th {\n",
       "        vertical-align: top;\n",
       "    }\n",
       "\n",
       "    .dataframe thead th {\n",
       "        text-align: right;\n",
       "    }\n",
       "</style>\n",
       "<table border=\"1\" class=\"dataframe\">\n",
       "  <thead>\n",
       "    <tr style=\"text-align: right;\">\n",
       "      <th></th>\n",
       "      <th>Employee_Name</th>\n",
       "      <th>EmpID</th>\n",
       "      <th>MarriedID</th>\n",
       "      <th>MaritalStatusID</th>\n",
       "      <th>GenderID</th>\n",
       "      <th>EmpStatusID</th>\n",
       "      <th>DeptID</th>\n",
       "      <th>PerfScoreID</th>\n",
       "      <th>FromDiversityJobFairID</th>\n",
       "      <th>Salary</th>\n",
       "      <th>...</th>\n",
       "      <th>ManagerName</th>\n",
       "      <th>ManagerID</th>\n",
       "      <th>RecruitmentSource</th>\n",
       "      <th>PerformanceScore</th>\n",
       "      <th>EngagementSurvey</th>\n",
       "      <th>EmpSatisfaction</th>\n",
       "      <th>SpecialProjectsCount</th>\n",
       "      <th>LastPerformanceReview_Date</th>\n",
       "      <th>DaysLateLast30</th>\n",
       "      <th>Absences</th>\n",
       "    </tr>\n",
       "  </thead>\n",
       "  <tbody>\n",
       "    <tr>\n",
       "      <th>0</th>\n",
       "      <td>Adinolfi, Wilson  K</td>\n",
       "      <td>10026</td>\n",
       "      <td>0</td>\n",
       "      <td>0</td>\n",
       "      <td>1</td>\n",
       "      <td>1</td>\n",
       "      <td>5</td>\n",
       "      <td>4</td>\n",
       "      <td>0</td>\n",
       "      <td>62506</td>\n",
       "      <td>...</td>\n",
       "      <td>Michael Albert</td>\n",
       "      <td>22.0</td>\n",
       "      <td>LinkedIn</td>\n",
       "      <td>Exceeds</td>\n",
       "      <td>4.60</td>\n",
       "      <td>5</td>\n",
       "      <td>0</td>\n",
       "      <td>1/17/2019</td>\n",
       "      <td>0</td>\n",
       "      <td>1</td>\n",
       "    </tr>\n",
       "    <tr>\n",
       "      <th>1</th>\n",
       "      <td>Ait Sidi, Karthikeyan</td>\n",
       "      <td>10084</td>\n",
       "      <td>1</td>\n",
       "      <td>1</td>\n",
       "      <td>1</td>\n",
       "      <td>5</td>\n",
       "      <td>3</td>\n",
       "      <td>3</td>\n",
       "      <td>0</td>\n",
       "      <td>104437</td>\n",
       "      <td>...</td>\n",
       "      <td>Simon Roup</td>\n",
       "      <td>4.0</td>\n",
       "      <td>Indeed</td>\n",
       "      <td>Fully Meets</td>\n",
       "      <td>4.96</td>\n",
       "      <td>3</td>\n",
       "      <td>6</td>\n",
       "      <td>2/24/2016</td>\n",
       "      <td>0</td>\n",
       "      <td>17</td>\n",
       "    </tr>\n",
       "    <tr>\n",
       "      <th>2</th>\n",
       "      <td>Akinkuolie, Sarah</td>\n",
       "      <td>10196</td>\n",
       "      <td>1</td>\n",
       "      <td>1</td>\n",
       "      <td>0</td>\n",
       "      <td>5</td>\n",
       "      <td>5</td>\n",
       "      <td>3</td>\n",
       "      <td>0</td>\n",
       "      <td>64955</td>\n",
       "      <td>...</td>\n",
       "      <td>Kissy Sullivan</td>\n",
       "      <td>20.0</td>\n",
       "      <td>LinkedIn</td>\n",
       "      <td>Fully Meets</td>\n",
       "      <td>3.02</td>\n",
       "      <td>3</td>\n",
       "      <td>0</td>\n",
       "      <td>5/15/2012</td>\n",
       "      <td>0</td>\n",
       "      <td>3</td>\n",
       "    </tr>\n",
       "    <tr>\n",
       "      <th>3</th>\n",
       "      <td>Alagbe,Trina</td>\n",
       "      <td>10088</td>\n",
       "      <td>1</td>\n",
       "      <td>1</td>\n",
       "      <td>0</td>\n",
       "      <td>1</td>\n",
       "      <td>5</td>\n",
       "      <td>3</td>\n",
       "      <td>0</td>\n",
       "      <td>64991</td>\n",
       "      <td>...</td>\n",
       "      <td>Elijiah Gray</td>\n",
       "      <td>16.0</td>\n",
       "      <td>Indeed</td>\n",
       "      <td>Fully Meets</td>\n",
       "      <td>4.84</td>\n",
       "      <td>5</td>\n",
       "      <td>0</td>\n",
       "      <td>1/3/2019</td>\n",
       "      <td>0</td>\n",
       "      <td>15</td>\n",
       "    </tr>\n",
       "    <tr>\n",
       "      <th>4</th>\n",
       "      <td>Anderson, Carol</td>\n",
       "      <td>10069</td>\n",
       "      <td>0</td>\n",
       "      <td>2</td>\n",
       "      <td>0</td>\n",
       "      <td>5</td>\n",
       "      <td>5</td>\n",
       "      <td>3</td>\n",
       "      <td>0</td>\n",
       "      <td>50825</td>\n",
       "      <td>...</td>\n",
       "      <td>Webster Butler</td>\n",
       "      <td>39.0</td>\n",
       "      <td>Google Search</td>\n",
       "      <td>Fully Meets</td>\n",
       "      <td>5.00</td>\n",
       "      <td>4</td>\n",
       "      <td>0</td>\n",
       "      <td>2/1/2016</td>\n",
       "      <td>0</td>\n",
       "      <td>2</td>\n",
       "    </tr>\n",
       "  </tbody>\n",
       "</table>\n",
       "<p>5 rows × 36 columns</p>\n",
       "</div>"
      ],
      "text/plain": [
       "              Employee_Name  EmpID  MarriedID  MaritalStatusID  GenderID  \\\n",
       "0       Adinolfi, Wilson  K  10026          0                0         1   \n",
       "1  Ait Sidi, Karthikeyan     10084          1                1         1   \n",
       "2         Akinkuolie, Sarah  10196          1                1         0   \n",
       "3              Alagbe,Trina  10088          1                1         0   \n",
       "4          Anderson, Carol   10069          0                2         0   \n",
       "\n",
       "   EmpStatusID  DeptID  PerfScoreID  FromDiversityJobFairID  Salary  ...  \\\n",
       "0            1       5            4                       0   62506  ...   \n",
       "1            5       3            3                       0  104437  ...   \n",
       "2            5       5            3                       0   64955  ...   \n",
       "3            1       5            3                       0   64991  ...   \n",
       "4            5       5            3                       0   50825  ...   \n",
       "\n",
       "      ManagerName  ManagerID RecruitmentSource PerformanceScore  \\\n",
       "0  Michael Albert       22.0          LinkedIn          Exceeds   \n",
       "1      Simon Roup        4.0            Indeed      Fully Meets   \n",
       "2  Kissy Sullivan       20.0          LinkedIn      Fully Meets   \n",
       "3    Elijiah Gray       16.0            Indeed      Fully Meets   \n",
       "4  Webster Butler       39.0     Google Search      Fully Meets   \n",
       "\n",
       "   EngagementSurvey EmpSatisfaction SpecialProjectsCount  \\\n",
       "0              4.60               5                    0   \n",
       "1              4.96               3                    6   \n",
       "2              3.02               3                    0   \n",
       "3              4.84               5                    0   \n",
       "4              5.00               4                    0   \n",
       "\n",
       "  LastPerformanceReview_Date DaysLateLast30 Absences  \n",
       "0                  1/17/2019              0        1  \n",
       "1                  2/24/2016              0       17  \n",
       "2                  5/15/2012              0        3  \n",
       "3                   1/3/2019              0       15  \n",
       "4                   2/1/2016              0        2  \n",
       "\n",
       "[5 rows x 36 columns]"
      ]
     },
     "execution_count": 3,
     "metadata": {},
     "output_type": "execute_result"
    }
   ],
   "source": [
    "client.fget_object(\n",
    "            \"processing\",\n",
    "            \"employeesDataset.parquet\",\n",
    "            \"temp_.parquet\",\n",
    ")\n",
    "df = pd.read_parquet(\"temp_.parquet\")\n",
    "df.head()"
   ]
  },
  {
   "cell_type": "markdown",
   "metadata": {},
   "source": [
    "Criar um atributo targuet binário para os funcionários com boas peformances e satisfeitos com boa satisfação\n"
   ]
  },
  {
   "cell_type": "code",
   "execution_count": 4,
   "metadata": {},
   "outputs": [],
   "source": [
    "def perfScoreSatisfaction(x):\n",
    "    if (x['PerformanceScore'] == 'Fully Meets' or x['PerformanceScore'] == 'Needs Improvement') and (x['EmpSatisfaction'] == 3 or x['EmpSatisfaction'] == 4 or x['EmpSatisfaction'] == 5) and x['Termd'] == 0:\n",
    "        return True\n",
    "    else:\n",
    "        return False"
   ]
  },
  {
   "cell_type": "code",
   "execution_count": 5,
   "metadata": {},
   "outputs": [
    {
     "data": {
      "text/html": [
       "<div>\n",
       "<style scoped>\n",
       "    .dataframe tbody tr th:only-of-type {\n",
       "        vertical-align: middle;\n",
       "    }\n",
       "\n",
       "    .dataframe tbody tr th {\n",
       "        vertical-align: top;\n",
       "    }\n",
       "\n",
       "    .dataframe thead th {\n",
       "        text-align: right;\n",
       "    }\n",
       "</style>\n",
       "<table border=\"1\" class=\"dataframe\">\n",
       "  <thead>\n",
       "    <tr style=\"text-align: right;\">\n",
       "      <th></th>\n",
       "      <th>Employee_Name</th>\n",
       "      <th>EmpID</th>\n",
       "      <th>MarriedID</th>\n",
       "      <th>MaritalStatusID</th>\n",
       "      <th>GenderID</th>\n",
       "      <th>EmpStatusID</th>\n",
       "      <th>DeptID</th>\n",
       "      <th>PerfScoreID</th>\n",
       "      <th>FromDiversityJobFairID</th>\n",
       "      <th>Salary</th>\n",
       "      <th>...</th>\n",
       "      <th>ManagerID</th>\n",
       "      <th>RecruitmentSource</th>\n",
       "      <th>PerformanceScore</th>\n",
       "      <th>EngagementSurvey</th>\n",
       "      <th>EmpSatisfaction</th>\n",
       "      <th>SpecialProjectsCount</th>\n",
       "      <th>LastPerformanceReview_Date</th>\n",
       "      <th>DaysLateLast30</th>\n",
       "      <th>Absences</th>\n",
       "      <th>PerfScoreSatisfaction</th>\n",
       "    </tr>\n",
       "  </thead>\n",
       "  <tbody>\n",
       "    <tr>\n",
       "      <th>0</th>\n",
       "      <td>Adinolfi, Wilson  K</td>\n",
       "      <td>10026</td>\n",
       "      <td>0</td>\n",
       "      <td>0</td>\n",
       "      <td>1</td>\n",
       "      <td>1</td>\n",
       "      <td>5</td>\n",
       "      <td>4</td>\n",
       "      <td>0</td>\n",
       "      <td>62506</td>\n",
       "      <td>...</td>\n",
       "      <td>22.0</td>\n",
       "      <td>LinkedIn</td>\n",
       "      <td>Exceeds</td>\n",
       "      <td>4.60</td>\n",
       "      <td>5</td>\n",
       "      <td>0</td>\n",
       "      <td>1/17/2019</td>\n",
       "      <td>0</td>\n",
       "      <td>1</td>\n",
       "      <td>False</td>\n",
       "    </tr>\n",
       "    <tr>\n",
       "      <th>1</th>\n",
       "      <td>Ait Sidi, Karthikeyan</td>\n",
       "      <td>10084</td>\n",
       "      <td>1</td>\n",
       "      <td>1</td>\n",
       "      <td>1</td>\n",
       "      <td>5</td>\n",
       "      <td>3</td>\n",
       "      <td>3</td>\n",
       "      <td>0</td>\n",
       "      <td>104437</td>\n",
       "      <td>...</td>\n",
       "      <td>4.0</td>\n",
       "      <td>Indeed</td>\n",
       "      <td>Fully Meets</td>\n",
       "      <td>4.96</td>\n",
       "      <td>3</td>\n",
       "      <td>6</td>\n",
       "      <td>2/24/2016</td>\n",
       "      <td>0</td>\n",
       "      <td>17</td>\n",
       "      <td>False</td>\n",
       "    </tr>\n",
       "    <tr>\n",
       "      <th>2</th>\n",
       "      <td>Akinkuolie, Sarah</td>\n",
       "      <td>10196</td>\n",
       "      <td>1</td>\n",
       "      <td>1</td>\n",
       "      <td>0</td>\n",
       "      <td>5</td>\n",
       "      <td>5</td>\n",
       "      <td>3</td>\n",
       "      <td>0</td>\n",
       "      <td>64955</td>\n",
       "      <td>...</td>\n",
       "      <td>20.0</td>\n",
       "      <td>LinkedIn</td>\n",
       "      <td>Fully Meets</td>\n",
       "      <td>3.02</td>\n",
       "      <td>3</td>\n",
       "      <td>0</td>\n",
       "      <td>5/15/2012</td>\n",
       "      <td>0</td>\n",
       "      <td>3</td>\n",
       "      <td>False</td>\n",
       "    </tr>\n",
       "    <tr>\n",
       "      <th>3</th>\n",
       "      <td>Alagbe,Trina</td>\n",
       "      <td>10088</td>\n",
       "      <td>1</td>\n",
       "      <td>1</td>\n",
       "      <td>0</td>\n",
       "      <td>1</td>\n",
       "      <td>5</td>\n",
       "      <td>3</td>\n",
       "      <td>0</td>\n",
       "      <td>64991</td>\n",
       "      <td>...</td>\n",
       "      <td>16.0</td>\n",
       "      <td>Indeed</td>\n",
       "      <td>Fully Meets</td>\n",
       "      <td>4.84</td>\n",
       "      <td>5</td>\n",
       "      <td>0</td>\n",
       "      <td>1/3/2019</td>\n",
       "      <td>0</td>\n",
       "      <td>15</td>\n",
       "      <td>True</td>\n",
       "    </tr>\n",
       "    <tr>\n",
       "      <th>4</th>\n",
       "      <td>Anderson, Carol</td>\n",
       "      <td>10069</td>\n",
       "      <td>0</td>\n",
       "      <td>2</td>\n",
       "      <td>0</td>\n",
       "      <td>5</td>\n",
       "      <td>5</td>\n",
       "      <td>3</td>\n",
       "      <td>0</td>\n",
       "      <td>50825</td>\n",
       "      <td>...</td>\n",
       "      <td>39.0</td>\n",
       "      <td>Google Search</td>\n",
       "      <td>Fully Meets</td>\n",
       "      <td>5.00</td>\n",
       "      <td>4</td>\n",
       "      <td>0</td>\n",
       "      <td>2/1/2016</td>\n",
       "      <td>0</td>\n",
       "      <td>2</td>\n",
       "      <td>False</td>\n",
       "    </tr>\n",
       "  </tbody>\n",
       "</table>\n",
       "<p>5 rows × 37 columns</p>\n",
       "</div>"
      ],
      "text/plain": [
       "              Employee_Name  EmpID  MarriedID  MaritalStatusID  GenderID  \\\n",
       "0       Adinolfi, Wilson  K  10026          0                0         1   \n",
       "1  Ait Sidi, Karthikeyan     10084          1                1         1   \n",
       "2         Akinkuolie, Sarah  10196          1                1         0   \n",
       "3              Alagbe,Trina  10088          1                1         0   \n",
       "4          Anderson, Carol   10069          0                2         0   \n",
       "\n",
       "   EmpStatusID  DeptID  PerfScoreID  FromDiversityJobFairID  Salary  ...  \\\n",
       "0            1       5            4                       0   62506  ...   \n",
       "1            5       3            3                       0  104437  ...   \n",
       "2            5       5            3                       0   64955  ...   \n",
       "3            1       5            3                       0   64991  ...   \n",
       "4            5       5            3                       0   50825  ...   \n",
       "\n",
       "   ManagerID  RecruitmentSource PerformanceScore EngagementSurvey  \\\n",
       "0       22.0           LinkedIn          Exceeds             4.60   \n",
       "1        4.0             Indeed      Fully Meets             4.96   \n",
       "2       20.0           LinkedIn      Fully Meets             3.02   \n",
       "3       16.0             Indeed      Fully Meets             4.84   \n",
       "4       39.0      Google Search      Fully Meets             5.00   \n",
       "\n",
       "   EmpSatisfaction SpecialProjectsCount LastPerformanceReview_Date  \\\n",
       "0                5                    0                  1/17/2019   \n",
       "1                3                    6                  2/24/2016   \n",
       "2                3                    0                  5/15/2012   \n",
       "3                5                    0                   1/3/2019   \n",
       "4                4                    0                   2/1/2016   \n",
       "\n",
       "  DaysLateLast30 Absences PerfScoreSatisfaction  \n",
       "0              0        1                 False  \n",
       "1              0       17                 False  \n",
       "2              0        3                 False  \n",
       "3              0       15                  True  \n",
       "4              0        2                 False  \n",
       "\n",
       "[5 rows x 37 columns]"
      ]
     },
     "execution_count": 5,
     "metadata": {},
     "output_type": "execute_result"
    }
   ],
   "source": [
    "df['PerfScoreSatisfaction'] = df[['PerformanceScore', 'EmpSatisfaction', 'Termd']].apply(lambda x: perfScoreSatisfaction(x), axis=1)\n",
    "df.head()"
   ]
  },
  {
   "cell_type": "markdown",
   "metadata": {},
   "source": [
    "#### separando features"
   ]
  },
  {
   "cell_type": "code",
   "execution_count": 6,
   "metadata": {},
   "outputs": [
    {
     "data": {
      "text/html": [
       "<div>\n",
       "<style scoped>\n",
       "    .dataframe tbody tr th:only-of-type {\n",
       "        vertical-align: middle;\n",
       "    }\n",
       "\n",
       "    .dataframe tbody tr th {\n",
       "        vertical-align: top;\n",
       "    }\n",
       "\n",
       "    .dataframe thead th {\n",
       "        text-align: right;\n",
       "    }\n",
       "</style>\n",
       "<table border=\"1\" class=\"dataframe\">\n",
       "  <thead>\n",
       "    <tr style=\"text-align: right;\">\n",
       "      <th></th>\n",
       "      <th>Department</th>\n",
       "      <th>Salary</th>\n",
       "      <th>DaysLateLast30</th>\n",
       "      <th>SpecialProjectsCount</th>\n",
       "      <th>EmpSatisfaction</th>\n",
       "      <th>PerformanceScore</th>\n",
       "      <th>EngagementSurvey</th>\n",
       "      <th>Absences</th>\n",
       "      <th>Termd</th>\n",
       "      <th>FromDiversityJobFairID</th>\n",
       "      <th>...</th>\n",
       "      <th>Sex</th>\n",
       "      <th>MaritalDesc</th>\n",
       "      <th>CitizenDesc</th>\n",
       "      <th>HispanicLatino</th>\n",
       "      <th>RaceDesc</th>\n",
       "      <th>TermReason</th>\n",
       "      <th>EmploymentStatus</th>\n",
       "      <th>RecruitmentSource</th>\n",
       "      <th>PerfScoreID</th>\n",
       "      <th>PerfScoreSatisfaction</th>\n",
       "    </tr>\n",
       "  </thead>\n",
       "  <tbody>\n",
       "    <tr>\n",
       "      <th>0</th>\n",
       "      <td>Production</td>\n",
       "      <td>62506</td>\n",
       "      <td>0</td>\n",
       "      <td>0</td>\n",
       "      <td>5</td>\n",
       "      <td>Exceeds</td>\n",
       "      <td>4.60</td>\n",
       "      <td>1</td>\n",
       "      <td>0</td>\n",
       "      <td>0</td>\n",
       "      <td>...</td>\n",
       "      <td>M</td>\n",
       "      <td>Single</td>\n",
       "      <td>US Citizen</td>\n",
       "      <td>No</td>\n",
       "      <td>White</td>\n",
       "      <td>N/A-StillEmployed</td>\n",
       "      <td>Active</td>\n",
       "      <td>LinkedIn</td>\n",
       "      <td>4</td>\n",
       "      <td>False</td>\n",
       "    </tr>\n",
       "    <tr>\n",
       "      <th>1</th>\n",
       "      <td>IT/IS</td>\n",
       "      <td>104437</td>\n",
       "      <td>0</td>\n",
       "      <td>6</td>\n",
       "      <td>3</td>\n",
       "      <td>Fully Meets</td>\n",
       "      <td>4.96</td>\n",
       "      <td>17</td>\n",
       "      <td>1</td>\n",
       "      <td>0</td>\n",
       "      <td>...</td>\n",
       "      <td>M</td>\n",
       "      <td>Married</td>\n",
       "      <td>US Citizen</td>\n",
       "      <td>No</td>\n",
       "      <td>White</td>\n",
       "      <td>career change</td>\n",
       "      <td>Voluntarily Terminated</td>\n",
       "      <td>Indeed</td>\n",
       "      <td>3</td>\n",
       "      <td>False</td>\n",
       "    </tr>\n",
       "    <tr>\n",
       "      <th>2</th>\n",
       "      <td>Production</td>\n",
       "      <td>64955</td>\n",
       "      <td>0</td>\n",
       "      <td>0</td>\n",
       "      <td>3</td>\n",
       "      <td>Fully Meets</td>\n",
       "      <td>3.02</td>\n",
       "      <td>3</td>\n",
       "      <td>1</td>\n",
       "      <td>0</td>\n",
       "      <td>...</td>\n",
       "      <td>F</td>\n",
       "      <td>Married</td>\n",
       "      <td>US Citizen</td>\n",
       "      <td>No</td>\n",
       "      <td>White</td>\n",
       "      <td>hours</td>\n",
       "      <td>Voluntarily Terminated</td>\n",
       "      <td>LinkedIn</td>\n",
       "      <td>3</td>\n",
       "      <td>False</td>\n",
       "    </tr>\n",
       "    <tr>\n",
       "      <th>3</th>\n",
       "      <td>Production</td>\n",
       "      <td>64991</td>\n",
       "      <td>0</td>\n",
       "      <td>0</td>\n",
       "      <td>5</td>\n",
       "      <td>Fully Meets</td>\n",
       "      <td>4.84</td>\n",
       "      <td>15</td>\n",
       "      <td>0</td>\n",
       "      <td>0</td>\n",
       "      <td>...</td>\n",
       "      <td>F</td>\n",
       "      <td>Married</td>\n",
       "      <td>US Citizen</td>\n",
       "      <td>No</td>\n",
       "      <td>White</td>\n",
       "      <td>N/A-StillEmployed</td>\n",
       "      <td>Active</td>\n",
       "      <td>Indeed</td>\n",
       "      <td>3</td>\n",
       "      <td>True</td>\n",
       "    </tr>\n",
       "    <tr>\n",
       "      <th>4</th>\n",
       "      <td>Production</td>\n",
       "      <td>50825</td>\n",
       "      <td>0</td>\n",
       "      <td>0</td>\n",
       "      <td>4</td>\n",
       "      <td>Fully Meets</td>\n",
       "      <td>5.00</td>\n",
       "      <td>2</td>\n",
       "      <td>1</td>\n",
       "      <td>0</td>\n",
       "      <td>...</td>\n",
       "      <td>F</td>\n",
       "      <td>Divorced</td>\n",
       "      <td>US Citizen</td>\n",
       "      <td>No</td>\n",
       "      <td>White</td>\n",
       "      <td>return to school</td>\n",
       "      <td>Voluntarily Terminated</td>\n",
       "      <td>Google Search</td>\n",
       "      <td>3</td>\n",
       "      <td>False</td>\n",
       "    </tr>\n",
       "  </tbody>\n",
       "</table>\n",
       "<p>5 rows × 21 columns</p>\n",
       "</div>"
      ],
      "text/plain": [
       "          Department  Salary  DaysLateLast30  SpecialProjectsCount  \\\n",
       "0  Production          62506               0                     0   \n",
       "1              IT/IS  104437               0                     6   \n",
       "2  Production          64955               0                     0   \n",
       "3  Production          64991               0                     0   \n",
       "4  Production          50825               0                     0   \n",
       "\n",
       "   EmpSatisfaction PerformanceScore  EngagementSurvey  Absences  Termd  \\\n",
       "0                5          Exceeds              4.60         1      0   \n",
       "1                3      Fully Meets              4.96        17      1   \n",
       "2                3      Fully Meets              3.02         3      1   \n",
       "3                5      Fully Meets              4.84        15      0   \n",
       "4                4      Fully Meets              5.00         2      1   \n",
       "\n",
       "   FromDiversityJobFairID  ... Sex MaritalDesc CitizenDesc HispanicLatino  \\\n",
       "0                       0  ...  M       Single  US Citizen             No   \n",
       "1                       0  ...  M      Married  US Citizen             No   \n",
       "2                       0  ...   F     Married  US Citizen             No   \n",
       "3                       0  ...   F     Married  US Citizen             No   \n",
       "4                       0  ...   F    Divorced  US Citizen             No   \n",
       "\n",
       "  RaceDesc         TermReason        EmploymentStatus RecruitmentSource  \\\n",
       "0    White  N/A-StillEmployed                  Active          LinkedIn   \n",
       "1    White      career change  Voluntarily Terminated            Indeed   \n",
       "2    White              hours  Voluntarily Terminated          LinkedIn   \n",
       "3    White  N/A-StillEmployed                  Active            Indeed   \n",
       "4    White   return to school  Voluntarily Terminated     Google Search   \n",
       "\n",
       "  PerfScoreID  PerfScoreSatisfaction  \n",
       "0           4                  False  \n",
       "1           3                  False  \n",
       "2           3                  False  \n",
       "3           3                   True  \n",
       "4           3                  False  \n",
       "\n",
       "[5 rows x 21 columns]"
      ]
     },
     "execution_count": 6,
     "metadata": {},
     "output_type": "execute_result"
    }
   ],
   "source": [
    "df = df[['Department', 'Salary', 'DaysLateLast30',\n",
    "       'SpecialProjectsCount', 'EmpSatisfaction', 'PerformanceScore',\n",
    "       'EngagementSurvey', 'Absences','Termd', 'FromDiversityJobFairID', \n",
    "       'Position', 'Sex', 'MaritalDesc', 'CitizenDesc', 'HispanicLatino', 'RaceDesc', \n",
    "       'TermReason', 'EmploymentStatus',\n",
    "       'RecruitmentSource', 'PerfScoreID', 'PerfScoreSatisfaction']]\n",
    "\n",
    "df.head()"
   ]
  },
  {
   "cell_type": "markdown",
   "metadata": {},
   "source": [
    "#### Verificando os registros missing."
   ]
  },
  {
   "cell_type": "code",
   "execution_count": 7,
   "metadata": {},
   "outputs": [
    {
     "data": {
      "text/plain": [
       "Department                0\n",
       "Salary                    0\n",
       "DaysLateLast30            0\n",
       "SpecialProjectsCount      0\n",
       "EmpSatisfaction           0\n",
       "PerformanceScore          0\n",
       "EngagementSurvey          0\n",
       "Absences                  0\n",
       "Termd                     0\n",
       "FromDiversityJobFairID    0\n",
       "Position                  0\n",
       "Sex                       0\n",
       "MaritalDesc               0\n",
       "CitizenDesc               0\n",
       "HispanicLatino            0\n",
       "RaceDesc                  0\n",
       "TermReason                0\n",
       "EmploymentStatus          0\n",
       "RecruitmentSource         0\n",
       "PerfScoreID               0\n",
       "PerfScoreSatisfaction     0\n",
       "dtype: int64"
      ]
     },
     "execution_count": 7,
     "metadata": {},
     "output_type": "execute_result"
    }
   ],
   "source": [
    "df.isnull().sum()"
   ]
  },
  {
   "cell_type": "code",
   "execution_count": 8,
   "metadata": {},
   "outputs": [
    {
     "data": {
      "text/html": [
       "<div>\n",
       "<style scoped>\n",
       "    .dataframe tbody tr th:only-of-type {\n",
       "        vertical-align: middle;\n",
       "    }\n",
       "\n",
       "    .dataframe tbody tr th {\n",
       "        vertical-align: top;\n",
       "    }\n",
       "\n",
       "    .dataframe thead th {\n",
       "        text-align: right;\n",
       "    }\n",
       "</style>\n",
       "<table border=\"1\" class=\"dataframe\">\n",
       "  <thead>\n",
       "    <tr style=\"text-align: right;\">\n",
       "      <th></th>\n",
       "      <th>Department</th>\n",
       "      <th>Salary</th>\n",
       "      <th>DaysLateLast30</th>\n",
       "      <th>SpecialProjectsCount</th>\n",
       "      <th>EmpSatisfaction</th>\n",
       "      <th>PerformanceScore</th>\n",
       "      <th>EngagementSurvey</th>\n",
       "      <th>Absences</th>\n",
       "      <th>Termd</th>\n",
       "      <th>FromDiversityJobFairID</th>\n",
       "      <th>...</th>\n",
       "      <th>Sex</th>\n",
       "      <th>MaritalDesc</th>\n",
       "      <th>CitizenDesc</th>\n",
       "      <th>HispanicLatino</th>\n",
       "      <th>RaceDesc</th>\n",
       "      <th>TermReason</th>\n",
       "      <th>EmploymentStatus</th>\n",
       "      <th>RecruitmentSource</th>\n",
       "      <th>PerfScoreID</th>\n",
       "      <th>PerfScoreSatisfaction</th>\n",
       "    </tr>\n",
       "  </thead>\n",
       "  <tbody>\n",
       "    <tr>\n",
       "      <th>0</th>\n",
       "      <td>Production</td>\n",
       "      <td>62506</td>\n",
       "      <td>0</td>\n",
       "      <td>0</td>\n",
       "      <td>5</td>\n",
       "      <td>Exceeds</td>\n",
       "      <td>4.60</td>\n",
       "      <td>1</td>\n",
       "      <td>0</td>\n",
       "      <td>0</td>\n",
       "      <td>...</td>\n",
       "      <td>M</td>\n",
       "      <td>Single</td>\n",
       "      <td>US Citizen</td>\n",
       "      <td>No</td>\n",
       "      <td>White</td>\n",
       "      <td>N/A-StillEmployed</td>\n",
       "      <td>Active</td>\n",
       "      <td>LinkedIn</td>\n",
       "      <td>4</td>\n",
       "      <td>False</td>\n",
       "    </tr>\n",
       "    <tr>\n",
       "      <th>1</th>\n",
       "      <td>IT/IS</td>\n",
       "      <td>104437</td>\n",
       "      <td>0</td>\n",
       "      <td>6</td>\n",
       "      <td>3</td>\n",
       "      <td>Fully Meets</td>\n",
       "      <td>4.96</td>\n",
       "      <td>17</td>\n",
       "      <td>1</td>\n",
       "      <td>0</td>\n",
       "      <td>...</td>\n",
       "      <td>M</td>\n",
       "      <td>Married</td>\n",
       "      <td>US Citizen</td>\n",
       "      <td>No</td>\n",
       "      <td>White</td>\n",
       "      <td>career change</td>\n",
       "      <td>Voluntarily Terminated</td>\n",
       "      <td>Indeed</td>\n",
       "      <td>3</td>\n",
       "      <td>False</td>\n",
       "    </tr>\n",
       "    <tr>\n",
       "      <th>2</th>\n",
       "      <td>Production</td>\n",
       "      <td>64955</td>\n",
       "      <td>0</td>\n",
       "      <td>0</td>\n",
       "      <td>3</td>\n",
       "      <td>Fully Meets</td>\n",
       "      <td>3.02</td>\n",
       "      <td>3</td>\n",
       "      <td>1</td>\n",
       "      <td>0</td>\n",
       "      <td>...</td>\n",
       "      <td>F</td>\n",
       "      <td>Married</td>\n",
       "      <td>US Citizen</td>\n",
       "      <td>No</td>\n",
       "      <td>White</td>\n",
       "      <td>hours</td>\n",
       "      <td>Voluntarily Terminated</td>\n",
       "      <td>LinkedIn</td>\n",
       "      <td>3</td>\n",
       "      <td>False</td>\n",
       "    </tr>\n",
       "    <tr>\n",
       "      <th>3</th>\n",
       "      <td>Production</td>\n",
       "      <td>64991</td>\n",
       "      <td>0</td>\n",
       "      <td>0</td>\n",
       "      <td>5</td>\n",
       "      <td>Fully Meets</td>\n",
       "      <td>4.84</td>\n",
       "      <td>15</td>\n",
       "      <td>0</td>\n",
       "      <td>0</td>\n",
       "      <td>...</td>\n",
       "      <td>F</td>\n",
       "      <td>Married</td>\n",
       "      <td>US Citizen</td>\n",
       "      <td>No</td>\n",
       "      <td>White</td>\n",
       "      <td>N/A-StillEmployed</td>\n",
       "      <td>Active</td>\n",
       "      <td>Indeed</td>\n",
       "      <td>3</td>\n",
       "      <td>True</td>\n",
       "    </tr>\n",
       "    <tr>\n",
       "      <th>4</th>\n",
       "      <td>Production</td>\n",
       "      <td>50825</td>\n",
       "      <td>0</td>\n",
       "      <td>0</td>\n",
       "      <td>4</td>\n",
       "      <td>Fully Meets</td>\n",
       "      <td>5.00</td>\n",
       "      <td>2</td>\n",
       "      <td>1</td>\n",
       "      <td>0</td>\n",
       "      <td>...</td>\n",
       "      <td>F</td>\n",
       "      <td>Divorced</td>\n",
       "      <td>US Citizen</td>\n",
       "      <td>No</td>\n",
       "      <td>White</td>\n",
       "      <td>return to school</td>\n",
       "      <td>Voluntarily Terminated</td>\n",
       "      <td>Google Search</td>\n",
       "      <td>3</td>\n",
       "      <td>False</td>\n",
       "    </tr>\n",
       "    <tr>\n",
       "      <th>...</th>\n",
       "      <td>...</td>\n",
       "      <td>...</td>\n",
       "      <td>...</td>\n",
       "      <td>...</td>\n",
       "      <td>...</td>\n",
       "      <td>...</td>\n",
       "      <td>...</td>\n",
       "      <td>...</td>\n",
       "      <td>...</td>\n",
       "      <td>...</td>\n",
       "      <td>...</td>\n",
       "      <td>...</td>\n",
       "      <td>...</td>\n",
       "      <td>...</td>\n",
       "      <td>...</td>\n",
       "      <td>...</td>\n",
       "      <td>...</td>\n",
       "      <td>...</td>\n",
       "      <td>...</td>\n",
       "      <td>...</td>\n",
       "      <td>...</td>\n",
       "    </tr>\n",
       "    <tr>\n",
       "      <th>306</th>\n",
       "      <td>Production</td>\n",
       "      <td>65893</td>\n",
       "      <td>0</td>\n",
       "      <td>0</td>\n",
       "      <td>4</td>\n",
       "      <td>Fully Meets</td>\n",
       "      <td>4.07</td>\n",
       "      <td>13</td>\n",
       "      <td>0</td>\n",
       "      <td>0</td>\n",
       "      <td>...</td>\n",
       "      <td>M</td>\n",
       "      <td>Single</td>\n",
       "      <td>US Citizen</td>\n",
       "      <td>No</td>\n",
       "      <td>White</td>\n",
       "      <td>N/A-StillEmployed</td>\n",
       "      <td>Active</td>\n",
       "      <td>LinkedIn</td>\n",
       "      <td>3</td>\n",
       "      <td>True</td>\n",
       "    </tr>\n",
       "    <tr>\n",
       "      <th>307</th>\n",
       "      <td>Production</td>\n",
       "      <td>48513</td>\n",
       "      <td>5</td>\n",
       "      <td>0</td>\n",
       "      <td>2</td>\n",
       "      <td>PIP</td>\n",
       "      <td>3.20</td>\n",
       "      <td>4</td>\n",
       "      <td>1</td>\n",
       "      <td>0</td>\n",
       "      <td>...</td>\n",
       "      <td>F</td>\n",
       "      <td>Single</td>\n",
       "      <td>US Citizen</td>\n",
       "      <td>No</td>\n",
       "      <td>Asian</td>\n",
       "      <td>Another position</td>\n",
       "      <td>Voluntarily Terminated</td>\n",
       "      <td>Google Search</td>\n",
       "      <td>1</td>\n",
       "      <td>False</td>\n",
       "    </tr>\n",
       "    <tr>\n",
       "      <th>308</th>\n",
       "      <td>IT/IS</td>\n",
       "      <td>220450</td>\n",
       "      <td>0</td>\n",
       "      <td>6</td>\n",
       "      <td>5</td>\n",
       "      <td>Exceeds</td>\n",
       "      <td>4.60</td>\n",
       "      <td>16</td>\n",
       "      <td>0</td>\n",
       "      <td>0</td>\n",
       "      <td>...</td>\n",
       "      <td>F</td>\n",
       "      <td>Single</td>\n",
       "      <td>US Citizen</td>\n",
       "      <td>No</td>\n",
       "      <td>White</td>\n",
       "      <td>N/A-StillEmployed</td>\n",
       "      <td>Active</td>\n",
       "      <td>Employee Referral</td>\n",
       "      <td>4</td>\n",
       "      <td>False</td>\n",
       "    </tr>\n",
       "    <tr>\n",
       "      <th>309</th>\n",
       "      <td>IT/IS</td>\n",
       "      <td>89292</td>\n",
       "      <td>0</td>\n",
       "      <td>5</td>\n",
       "      <td>3</td>\n",
       "      <td>Fully Meets</td>\n",
       "      <td>5.00</td>\n",
       "      <td>11</td>\n",
       "      <td>0</td>\n",
       "      <td>0</td>\n",
       "      <td>...</td>\n",
       "      <td>F</td>\n",
       "      <td>Single</td>\n",
       "      <td>US Citizen</td>\n",
       "      <td>No</td>\n",
       "      <td>White</td>\n",
       "      <td>N/A-StillEmployed</td>\n",
       "      <td>Active</td>\n",
       "      <td>Employee Referral</td>\n",
       "      <td>3</td>\n",
       "      <td>True</td>\n",
       "    </tr>\n",
       "    <tr>\n",
       "      <th>310</th>\n",
       "      <td>Production</td>\n",
       "      <td>45046</td>\n",
       "      <td>0</td>\n",
       "      <td>0</td>\n",
       "      <td>5</td>\n",
       "      <td>Fully Meets</td>\n",
       "      <td>4.50</td>\n",
       "      <td>2</td>\n",
       "      <td>0</td>\n",
       "      <td>0</td>\n",
       "      <td>...</td>\n",
       "      <td>F</td>\n",
       "      <td>Widowed</td>\n",
       "      <td>US Citizen</td>\n",
       "      <td>No</td>\n",
       "      <td>Asian</td>\n",
       "      <td>N/A-StillEmployed</td>\n",
       "      <td>Active</td>\n",
       "      <td>LinkedIn</td>\n",
       "      <td>3</td>\n",
       "      <td>True</td>\n",
       "    </tr>\n",
       "  </tbody>\n",
       "</table>\n",
       "<p>311 rows × 21 columns</p>\n",
       "</div>"
      ],
      "text/plain": [
       "            Department  Salary  DaysLateLast30  SpecialProjectsCount  \\\n",
       "0    Production          62506               0                     0   \n",
       "1                IT/IS  104437               0                     6   \n",
       "2    Production          64955               0                     0   \n",
       "3    Production          64991               0                     0   \n",
       "4    Production          50825               0                     0   \n",
       "..                 ...     ...             ...                   ...   \n",
       "306  Production          65893               0                     0   \n",
       "307  Production          48513               5                     0   \n",
       "308              IT/IS  220450               0                     6   \n",
       "309              IT/IS   89292               0                     5   \n",
       "310  Production          45046               0                     0   \n",
       "\n",
       "     EmpSatisfaction PerformanceScore  EngagementSurvey  Absences  Termd  \\\n",
       "0                  5          Exceeds              4.60         1      0   \n",
       "1                  3      Fully Meets              4.96        17      1   \n",
       "2                  3      Fully Meets              3.02         3      1   \n",
       "3                  5      Fully Meets              4.84        15      0   \n",
       "4                  4      Fully Meets              5.00         2      1   \n",
       "..               ...              ...               ...       ...    ...   \n",
       "306                4      Fully Meets              4.07        13      0   \n",
       "307                2              PIP              3.20         4      1   \n",
       "308                5          Exceeds              4.60        16      0   \n",
       "309                3      Fully Meets              5.00        11      0   \n",
       "310                5      Fully Meets              4.50         2      0   \n",
       "\n",
       "     FromDiversityJobFairID  ... Sex MaritalDesc CitizenDesc HispanicLatino  \\\n",
       "0                         0  ...  M       Single  US Citizen             No   \n",
       "1                         0  ...  M      Married  US Citizen             No   \n",
       "2                         0  ...   F     Married  US Citizen             No   \n",
       "3                         0  ...   F     Married  US Citizen             No   \n",
       "4                         0  ...   F    Divorced  US Citizen             No   \n",
       "..                      ...  ...  ..         ...         ...            ...   \n",
       "306                       0  ...  M       Single  US Citizen             No   \n",
       "307                       0  ...   F      Single  US Citizen             No   \n",
       "308                       0  ...   F      Single  US Citizen             No   \n",
       "309                       0  ...   F      Single  US Citizen             No   \n",
       "310                       0  ...   F     Widowed  US Citizen             No   \n",
       "\n",
       "    RaceDesc         TermReason        EmploymentStatus  RecruitmentSource  \\\n",
       "0      White  N/A-StillEmployed                  Active           LinkedIn   \n",
       "1      White      career change  Voluntarily Terminated             Indeed   \n",
       "2      White              hours  Voluntarily Terminated           LinkedIn   \n",
       "3      White  N/A-StillEmployed                  Active             Indeed   \n",
       "4      White   return to school  Voluntarily Terminated      Google Search   \n",
       "..       ...                ...                     ...                ...   \n",
       "306    White  N/A-StillEmployed                  Active           LinkedIn   \n",
       "307    Asian   Another position  Voluntarily Terminated      Google Search   \n",
       "308    White  N/A-StillEmployed                  Active  Employee Referral   \n",
       "309    White  N/A-StillEmployed                  Active  Employee Referral   \n",
       "310    Asian  N/A-StillEmployed                  Active           LinkedIn   \n",
       "\n",
       "    PerfScoreID  PerfScoreSatisfaction  \n",
       "0             4                  False  \n",
       "1             3                  False  \n",
       "2             3                  False  \n",
       "3             3                   True  \n",
       "4             3                  False  \n",
       "..          ...                    ...  \n",
       "306           3                   True  \n",
       "307           1                  False  \n",
       "308           4                  False  \n",
       "309           3                   True  \n",
       "310           3                   True  \n",
       "\n",
       "[311 rows x 21 columns]"
      ]
     },
     "execution_count": 8,
     "metadata": {},
     "output_type": "execute_result"
    }
   ],
   "source": [
    "df[df.notnull()]"
   ]
  },
  {
   "cell_type": "code",
   "execution_count": 9,
   "metadata": {},
   "outputs": [
    {
     "name": "stdout",
     "output_type": "stream",
     "text": [
      "<class 'pandas.core.frame.DataFrame'>\n",
      "RangeIndex: 311 entries, 0 to 310\n",
      "Data columns (total 21 columns):\n",
      " #   Column                  Non-Null Count  Dtype  \n",
      "---  ------                  --------------  -----  \n",
      " 0   Department              311 non-null    object \n",
      " 1   Salary                  311 non-null    int64  \n",
      " 2   DaysLateLast30          311 non-null    int64  \n",
      " 3   SpecialProjectsCount    311 non-null    int64  \n",
      " 4   EmpSatisfaction         311 non-null    int64  \n",
      " 5   PerformanceScore        311 non-null    object \n",
      " 6   EngagementSurvey        311 non-null    float64\n",
      " 7   Absences                311 non-null    int64  \n",
      " 8   Termd                   311 non-null    int64  \n",
      " 9   FromDiversityJobFairID  311 non-null    int64  \n",
      " 10  Position                311 non-null    object \n",
      " 11  Sex                     311 non-null    object \n",
      " 12  MaritalDesc             311 non-null    object \n",
      " 13  CitizenDesc             311 non-null    object \n",
      " 14  HispanicLatino          311 non-null    object \n",
      " 15  RaceDesc                311 non-null    object \n",
      " 16  TermReason              311 non-null    object \n",
      " 17  EmploymentStatus        311 non-null    object \n",
      " 18  RecruitmentSource       311 non-null    object \n",
      " 19  PerfScoreID             311 non-null    int64  \n",
      " 20  PerfScoreSatisfaction   311 non-null    bool   \n",
      "dtypes: bool(1), float64(1), int64(8), object(11)\n",
      "memory usage: 49.0+ KB\n"
     ]
    }
   ],
   "source": [
    "df.info()"
   ]
  },
  {
   "cell_type": "markdown",
   "metadata": {},
   "source": [
    "##  Análise Estatística"
   ]
  },
  {
   "cell_type": "markdown",
   "metadata": {},
   "source": [
    "#### Verificando o número de registros."
   ]
  },
  {
   "cell_type": "code",
   "execution_count": 10,
   "metadata": {},
   "outputs": [
    {
     "data": {
      "text/plain": [
       "(311, 21)"
      ]
     },
     "execution_count": 10,
     "metadata": {},
     "output_type": "execute_result"
    }
   ],
   "source": [
    "df.shape"
   ]
  },
  {
   "cell_type": "code",
   "execution_count": 11,
   "metadata": {},
   "outputs": [
    {
     "data": {
      "text/html": [
       "<div>\n",
       "<style scoped>\n",
       "    .dataframe tbody tr th:only-of-type {\n",
       "        vertical-align: middle;\n",
       "    }\n",
       "\n",
       "    .dataframe tbody tr th {\n",
       "        vertical-align: top;\n",
       "    }\n",
       "\n",
       "    .dataframe thead th {\n",
       "        text-align: right;\n",
       "    }\n",
       "</style>\n",
       "<table border=\"1\" class=\"dataframe\">\n",
       "  <thead>\n",
       "    <tr style=\"text-align: right;\">\n",
       "      <th></th>\n",
       "      <th>Department</th>\n",
       "      <th>Salary</th>\n",
       "      <th>DaysLateLast30</th>\n",
       "      <th>SpecialProjectsCount</th>\n",
       "      <th>EmpSatisfaction</th>\n",
       "      <th>PerformanceScore</th>\n",
       "      <th>EngagementSurvey</th>\n",
       "      <th>Absences</th>\n",
       "      <th>Termd</th>\n",
       "      <th>FromDiversityJobFairID</th>\n",
       "      <th>...</th>\n",
       "      <th>Sex</th>\n",
       "      <th>MaritalDesc</th>\n",
       "      <th>CitizenDesc</th>\n",
       "      <th>HispanicLatino</th>\n",
       "      <th>RaceDesc</th>\n",
       "      <th>TermReason</th>\n",
       "      <th>EmploymentStatus</th>\n",
       "      <th>RecruitmentSource</th>\n",
       "      <th>PerfScoreID</th>\n",
       "      <th>PerfScoreSatisfaction</th>\n",
       "    </tr>\n",
       "  </thead>\n",
       "  <tbody>\n",
       "    <tr>\n",
       "      <th>0</th>\n",
       "      <td>Production</td>\n",
       "      <td>62506</td>\n",
       "      <td>0</td>\n",
       "      <td>0</td>\n",
       "      <td>5</td>\n",
       "      <td>Exceeds</td>\n",
       "      <td>4.60</td>\n",
       "      <td>1</td>\n",
       "      <td>0</td>\n",
       "      <td>0</td>\n",
       "      <td>...</td>\n",
       "      <td>M</td>\n",
       "      <td>Single</td>\n",
       "      <td>US Citizen</td>\n",
       "      <td>No</td>\n",
       "      <td>White</td>\n",
       "      <td>N/A-StillEmployed</td>\n",
       "      <td>Active</td>\n",
       "      <td>LinkedIn</td>\n",
       "      <td>4</td>\n",
       "      <td>False</td>\n",
       "    </tr>\n",
       "    <tr>\n",
       "      <th>1</th>\n",
       "      <td>IT/IS</td>\n",
       "      <td>104437</td>\n",
       "      <td>0</td>\n",
       "      <td>6</td>\n",
       "      <td>3</td>\n",
       "      <td>Fully Meets</td>\n",
       "      <td>4.96</td>\n",
       "      <td>17</td>\n",
       "      <td>1</td>\n",
       "      <td>0</td>\n",
       "      <td>...</td>\n",
       "      <td>M</td>\n",
       "      <td>Married</td>\n",
       "      <td>US Citizen</td>\n",
       "      <td>No</td>\n",
       "      <td>White</td>\n",
       "      <td>career change</td>\n",
       "      <td>Voluntarily Terminated</td>\n",
       "      <td>Indeed</td>\n",
       "      <td>3</td>\n",
       "      <td>False</td>\n",
       "    </tr>\n",
       "    <tr>\n",
       "      <th>2</th>\n",
       "      <td>Production</td>\n",
       "      <td>64955</td>\n",
       "      <td>0</td>\n",
       "      <td>0</td>\n",
       "      <td>3</td>\n",
       "      <td>Fully Meets</td>\n",
       "      <td>3.02</td>\n",
       "      <td>3</td>\n",
       "      <td>1</td>\n",
       "      <td>0</td>\n",
       "      <td>...</td>\n",
       "      <td>F</td>\n",
       "      <td>Married</td>\n",
       "      <td>US Citizen</td>\n",
       "      <td>No</td>\n",
       "      <td>White</td>\n",
       "      <td>hours</td>\n",
       "      <td>Voluntarily Terminated</td>\n",
       "      <td>LinkedIn</td>\n",
       "      <td>3</td>\n",
       "      <td>False</td>\n",
       "    </tr>\n",
       "    <tr>\n",
       "      <th>3</th>\n",
       "      <td>Production</td>\n",
       "      <td>64991</td>\n",
       "      <td>0</td>\n",
       "      <td>0</td>\n",
       "      <td>5</td>\n",
       "      <td>Fully Meets</td>\n",
       "      <td>4.84</td>\n",
       "      <td>15</td>\n",
       "      <td>0</td>\n",
       "      <td>0</td>\n",
       "      <td>...</td>\n",
       "      <td>F</td>\n",
       "      <td>Married</td>\n",
       "      <td>US Citizen</td>\n",
       "      <td>No</td>\n",
       "      <td>White</td>\n",
       "      <td>N/A-StillEmployed</td>\n",
       "      <td>Active</td>\n",
       "      <td>Indeed</td>\n",
       "      <td>3</td>\n",
       "      <td>True</td>\n",
       "    </tr>\n",
       "    <tr>\n",
       "      <th>4</th>\n",
       "      <td>Production</td>\n",
       "      <td>50825</td>\n",
       "      <td>0</td>\n",
       "      <td>0</td>\n",
       "      <td>4</td>\n",
       "      <td>Fully Meets</td>\n",
       "      <td>5.00</td>\n",
       "      <td>2</td>\n",
       "      <td>1</td>\n",
       "      <td>0</td>\n",
       "      <td>...</td>\n",
       "      <td>F</td>\n",
       "      <td>Divorced</td>\n",
       "      <td>US Citizen</td>\n",
       "      <td>No</td>\n",
       "      <td>White</td>\n",
       "      <td>return to school</td>\n",
       "      <td>Voluntarily Terminated</td>\n",
       "      <td>Google Search</td>\n",
       "      <td>3</td>\n",
       "      <td>False</td>\n",
       "    </tr>\n",
       "  </tbody>\n",
       "</table>\n",
       "<p>5 rows × 21 columns</p>\n",
       "</div>"
      ],
      "text/plain": [
       "          Department  Salary  DaysLateLast30  SpecialProjectsCount  \\\n",
       "0  Production          62506               0                     0   \n",
       "1              IT/IS  104437               0                     6   \n",
       "2  Production          64955               0                     0   \n",
       "3  Production          64991               0                     0   \n",
       "4  Production          50825               0                     0   \n",
       "\n",
       "   EmpSatisfaction PerformanceScore  EngagementSurvey  Absences  Termd  \\\n",
       "0                5          Exceeds              4.60         1      0   \n",
       "1                3      Fully Meets              4.96        17      1   \n",
       "2                3      Fully Meets              3.02         3      1   \n",
       "3                5      Fully Meets              4.84        15      0   \n",
       "4                4      Fully Meets              5.00         2      1   \n",
       "\n",
       "   FromDiversityJobFairID  ... Sex MaritalDesc CitizenDesc HispanicLatino  \\\n",
       "0                       0  ...  M       Single  US Citizen             No   \n",
       "1                       0  ...  M      Married  US Citizen             No   \n",
       "2                       0  ...   F     Married  US Citizen             No   \n",
       "3                       0  ...   F     Married  US Citizen             No   \n",
       "4                       0  ...   F    Divorced  US Citizen             No   \n",
       "\n",
       "  RaceDesc         TermReason        EmploymentStatus RecruitmentSource  \\\n",
       "0    White  N/A-StillEmployed                  Active          LinkedIn   \n",
       "1    White      career change  Voluntarily Terminated            Indeed   \n",
       "2    White              hours  Voluntarily Terminated          LinkedIn   \n",
       "3    White  N/A-StillEmployed                  Active            Indeed   \n",
       "4    White   return to school  Voluntarily Terminated     Google Search   \n",
       "\n",
       "  PerfScoreID  PerfScoreSatisfaction  \n",
       "0           4                  False  \n",
       "1           3                  False  \n",
       "2           3                  False  \n",
       "3           3                   True  \n",
       "4           3                  False  \n",
       "\n",
       "[5 rows x 21 columns]"
      ]
     },
     "execution_count": 11,
     "metadata": {},
     "output_type": "execute_result"
    }
   ],
   "source": [
    "df.head()"
   ]
  },
  {
   "cell_type": "markdown",
   "metadata": {},
   "source": [
    "#### Calculando a taxas"
   ]
  },
  {
   "cell_type": "code",
   "execution_count": 12,
   "metadata": {},
   "outputs": [
    {
     "data": {
      "text/plain": [
       "True     0.540193\n",
       "False    0.459807\n",
       "Name: PerfScoreSatisfaction, dtype: float64"
      ]
     },
     "execution_count": 12,
     "metadata": {},
     "output_type": "execute_result"
    }
   ],
   "source": [
    "# taxa de PerfScoreSatisfaction\n",
    "perfScoreSatisfactionRate = df.PerfScoreSatisfaction.value_counts() / len(df)\n",
    "perfScoreSatisfactionRate"
   ]
  },
  {
   "cell_type": "code",
   "execution_count": 13,
   "metadata": {},
   "outputs": [
    {
     "data": {
      "text/plain": [
       "0    0.665595\n",
       "1    0.334405\n",
       "Name: Termd, dtype: float64"
      ]
     },
     "execution_count": 13,
     "metadata": {},
     "output_type": "execute_result"
    }
   ],
   "source": [
    "# taxa de turnover\n",
    "turnoverRate = df.Termd.value_counts() / len(df)\n",
    "turnoverRate"
   ]
  },
  {
   "cell_type": "markdown",
   "metadata": {},
   "source": [
    "OBS: os dados estão desnalenceados para Termd"
   ]
  },
  {
   "cell_type": "code",
   "execution_count": 14,
   "metadata": {},
   "outputs": [
    {
     "data": {
      "text/plain": [
       "F     0.565916\n",
       "M     0.434084\n",
       "Name: Sex, dtype: float64"
      ]
     },
     "execution_count": 14,
     "metadata": {},
     "output_type": "execute_result"
    }
   ],
   "source": [
    "# taxa de Sex\n",
    "sexrRate = df.Sex.value_counts() / len(df)\n",
    "sexrRate"
   ]
  },
  {
   "cell_type": "code",
   "execution_count": 15,
   "metadata": {},
   "outputs": [
    {
     "data": {
      "text/plain": [
       "Single       0.440514\n",
       "Married      0.398714\n",
       "Divorced     0.096463\n",
       "Separated    0.038585\n",
       "Widowed      0.025723\n",
       "Name: MaritalDesc, dtype: float64"
      ]
     },
     "execution_count": 15,
     "metadata": {},
     "output_type": "execute_result"
    }
   ],
   "source": [
    "# taxa de MaritalDesc\n",
    "maritalDescRate = df.MaritalDesc.value_counts() / len(df)\n",
    "maritalDescRate"
   ]
  },
  {
   "cell_type": "code",
   "execution_count": 16,
   "metadata": {},
   "outputs": [
    {
     "data": {
      "text/plain": [
       "Fully Meets          0.781350\n",
       "Exceeds              0.118971\n",
       "Needs Improvement    0.057878\n",
       "PIP                  0.041801\n",
       "Name: PerformanceScore, dtype: float64"
      ]
     },
     "execution_count": 16,
     "metadata": {},
     "output_type": "execute_result"
    }
   ],
   "source": [
    "# taxa de PerformanceScore\n",
    "performanceScoreRate = df.PerformanceScore.value_counts() / len(df)\n",
    "performanceScoreRate"
   ]
  },
  {
   "cell_type": "markdown",
   "metadata": {},
   "source": [
    "performance desbalanceada"
   ]
  },
  {
   "cell_type": "code",
   "execution_count": 17,
   "metadata": {},
   "outputs": [
    {
     "data": {
      "text/plain": [
       "3    0.347267\n",
       "5    0.315113\n",
       "4    0.302251\n",
       "2    0.028939\n",
       "1    0.006431\n",
       "Name: EmpSatisfaction, dtype: float64"
      ]
     },
     "execution_count": 17,
     "metadata": {},
     "output_type": "execute_result"
    }
   ],
   "source": [
    "# taxa de EmpSatisfaction\n",
    "empSatisfaction = df.EmpSatisfaction.value_counts() / len(df)\n",
    "empSatisfaction"
   ]
  },
  {
   "cell_type": "markdown",
   "metadata": {},
   "source": [
    "nemos um leve balanceamento para EmpSatisfaction entre 3, 4, 5"
   ]
  },
  {
   "cell_type": "code",
   "execution_count": 18,
   "metadata": {},
   "outputs": [
    {
     "data": {
      "text/plain": [
       "Active                    0.665595\n",
       "Voluntarily Terminated    0.282958\n",
       "Terminated for Cause      0.051447\n",
       "Name: EmploymentStatus, dtype: float64"
      ]
     },
     "execution_count": 18,
     "metadata": {},
     "output_type": "execute_result"
    }
   ],
   "source": [
    "# taxa de EmploymentStatus\n",
    "employmentStatusRate = df.EmploymentStatus.value_counts() / len(df)\n",
    "employmentStatusRate"
   ]
  },
  {
   "cell_type": "markdown",
   "metadata": {},
   "source": []
  },
  {
   "cell_type": "markdown",
   "metadata": {},
   "source": [
    "#### Overview estatistico dos dados."
   ]
  },
  {
   "cell_type": "code",
   "execution_count": 19,
   "metadata": {},
   "outputs": [
    {
     "data": {
      "text/html": [
       "<div>\n",
       "<style scoped>\n",
       "    .dataframe tbody tr th:only-of-type {\n",
       "        vertical-align: middle;\n",
       "    }\n",
       "\n",
       "    .dataframe tbody tr th {\n",
       "        vertical-align: top;\n",
       "    }\n",
       "\n",
       "    .dataframe thead th {\n",
       "        text-align: right;\n",
       "    }\n",
       "</style>\n",
       "<table border=\"1\" class=\"dataframe\">\n",
       "  <thead>\n",
       "    <tr style=\"text-align: right;\">\n",
       "      <th></th>\n",
       "      <th>Salary</th>\n",
       "      <th>DaysLateLast30</th>\n",
       "      <th>SpecialProjectsCount</th>\n",
       "      <th>EmpSatisfaction</th>\n",
       "      <th>EngagementSurvey</th>\n",
       "      <th>Absences</th>\n",
       "      <th>Termd</th>\n",
       "      <th>FromDiversityJobFairID</th>\n",
       "      <th>PerfScoreID</th>\n",
       "    </tr>\n",
       "  </thead>\n",
       "  <tbody>\n",
       "    <tr>\n",
       "      <th>count</th>\n",
       "      <td>311.000000</td>\n",
       "      <td>311.000000</td>\n",
       "      <td>311.000000</td>\n",
       "      <td>311.000000</td>\n",
       "      <td>311.000000</td>\n",
       "      <td>311.000000</td>\n",
       "      <td>311.000000</td>\n",
       "      <td>311.000000</td>\n",
       "      <td>311.000000</td>\n",
       "    </tr>\n",
       "    <tr>\n",
       "      <th>mean</th>\n",
       "      <td>69020.684887</td>\n",
       "      <td>0.414791</td>\n",
       "      <td>1.218650</td>\n",
       "      <td>3.890675</td>\n",
       "      <td>4.110000</td>\n",
       "      <td>10.237942</td>\n",
       "      <td>0.334405</td>\n",
       "      <td>0.093248</td>\n",
       "      <td>2.977492</td>\n",
       "    </tr>\n",
       "    <tr>\n",
       "      <th>std</th>\n",
       "      <td>25156.636930</td>\n",
       "      <td>1.294519</td>\n",
       "      <td>2.349421</td>\n",
       "      <td>0.909241</td>\n",
       "      <td>0.789938</td>\n",
       "      <td>5.852596</td>\n",
       "      <td>0.472542</td>\n",
       "      <td>0.291248</td>\n",
       "      <td>0.587072</td>\n",
       "    </tr>\n",
       "    <tr>\n",
       "      <th>min</th>\n",
       "      <td>45046.000000</td>\n",
       "      <td>0.000000</td>\n",
       "      <td>0.000000</td>\n",
       "      <td>1.000000</td>\n",
       "      <td>1.120000</td>\n",
       "      <td>1.000000</td>\n",
       "      <td>0.000000</td>\n",
       "      <td>0.000000</td>\n",
       "      <td>1.000000</td>\n",
       "    </tr>\n",
       "    <tr>\n",
       "      <th>25%</th>\n",
       "      <td>55501.500000</td>\n",
       "      <td>0.000000</td>\n",
       "      <td>0.000000</td>\n",
       "      <td>3.000000</td>\n",
       "      <td>3.690000</td>\n",
       "      <td>5.000000</td>\n",
       "      <td>0.000000</td>\n",
       "      <td>0.000000</td>\n",
       "      <td>3.000000</td>\n",
       "    </tr>\n",
       "    <tr>\n",
       "      <th>50%</th>\n",
       "      <td>62810.000000</td>\n",
       "      <td>0.000000</td>\n",
       "      <td>0.000000</td>\n",
       "      <td>4.000000</td>\n",
       "      <td>4.280000</td>\n",
       "      <td>10.000000</td>\n",
       "      <td>0.000000</td>\n",
       "      <td>0.000000</td>\n",
       "      <td>3.000000</td>\n",
       "    </tr>\n",
       "    <tr>\n",
       "      <th>75%</th>\n",
       "      <td>72036.000000</td>\n",
       "      <td>0.000000</td>\n",
       "      <td>0.000000</td>\n",
       "      <td>5.000000</td>\n",
       "      <td>4.700000</td>\n",
       "      <td>15.000000</td>\n",
       "      <td>1.000000</td>\n",
       "      <td>0.000000</td>\n",
       "      <td>3.000000</td>\n",
       "    </tr>\n",
       "    <tr>\n",
       "      <th>max</th>\n",
       "      <td>250000.000000</td>\n",
       "      <td>6.000000</td>\n",
       "      <td>8.000000</td>\n",
       "      <td>5.000000</td>\n",
       "      <td>5.000000</td>\n",
       "      <td>20.000000</td>\n",
       "      <td>1.000000</td>\n",
       "      <td>1.000000</td>\n",
       "      <td>4.000000</td>\n",
       "    </tr>\n",
       "  </tbody>\n",
       "</table>\n",
       "</div>"
      ],
      "text/plain": [
       "              Salary  DaysLateLast30  SpecialProjectsCount  EmpSatisfaction  \\\n",
       "count     311.000000      311.000000            311.000000       311.000000   \n",
       "mean    69020.684887        0.414791              1.218650         3.890675   \n",
       "std     25156.636930        1.294519              2.349421         0.909241   \n",
       "min     45046.000000        0.000000              0.000000         1.000000   \n",
       "25%     55501.500000        0.000000              0.000000         3.000000   \n",
       "50%     62810.000000        0.000000              0.000000         4.000000   \n",
       "75%     72036.000000        0.000000              0.000000         5.000000   \n",
       "max    250000.000000        6.000000              8.000000         5.000000   \n",
       "\n",
       "       EngagementSurvey    Absences       Termd  FromDiversityJobFairID  \\\n",
       "count        311.000000  311.000000  311.000000              311.000000   \n",
       "mean           4.110000   10.237942    0.334405                0.093248   \n",
       "std            0.789938    5.852596    0.472542                0.291248   \n",
       "min            1.120000    1.000000    0.000000                0.000000   \n",
       "25%            3.690000    5.000000    0.000000                0.000000   \n",
       "50%            4.280000   10.000000    0.000000                0.000000   \n",
       "75%            4.700000   15.000000    1.000000                0.000000   \n",
       "max            5.000000   20.000000    1.000000                1.000000   \n",
       "\n",
       "       PerfScoreID  \n",
       "count   311.000000  \n",
       "mean      2.977492  \n",
       "std       0.587072  \n",
       "min       1.000000  \n",
       "25%       3.000000  \n",
       "50%       3.000000  \n",
       "75%       3.000000  \n",
       "max       4.000000  "
      ]
     },
     "execution_count": 19,
     "metadata": {},
     "output_type": "execute_result"
    }
   ],
   "source": [
    "df.describe()"
   ]
  },
  {
   "cell_type": "code",
   "execution_count": 20,
   "metadata": {},
   "outputs": [
    {
     "data": {
      "text/plain": [
       "(311, 21)"
      ]
     },
     "execution_count": 20,
     "metadata": {},
     "output_type": "execute_result"
    }
   ],
   "source": [
    "df.shape"
   ]
  },
  {
   "cell_type": "markdown",
   "metadata": {},
   "source": [
    "Medias \n",
    "- salario médio de 69.020 por ano\n",
    "- satisfação média 3.8 com desvio de 0.9, minimo de 1, escala de 0 à 4\n",
    "- engajamento médio 4.1 com desvio de 0.7 minimo de 1.1. escala de 0 á 5.\n",
    "- taxa de 54% com performance satisfeitos.\n",
    "é uma empresa que avalia bem seus funcionarios e tem uma avaliação de satisfação um pouco maior\n",
    "\n"
   ]
  },
  {
   "cell_type": "markdown",
   "metadata": {},
   "source": [
    "#### Overview statistico por PerformanceScore."
   ]
  },
  {
   "cell_type": "code",
   "execution_count": 21,
   "metadata": {},
   "outputs": [
    {
     "data": {
      "text/html": [
       "<div>\n",
       "<style scoped>\n",
       "    .dataframe tbody tr th:only-of-type {\n",
       "        vertical-align: middle;\n",
       "    }\n",
       "\n",
       "    .dataframe tbody tr th {\n",
       "        vertical-align: top;\n",
       "    }\n",
       "\n",
       "    .dataframe thead th {\n",
       "        text-align: right;\n",
       "    }\n",
       "</style>\n",
       "<table border=\"1\" class=\"dataframe\">\n",
       "  <thead>\n",
       "    <tr style=\"text-align: right;\">\n",
       "      <th></th>\n",
       "      <th>Salary</th>\n",
       "      <th>DaysLateLast30</th>\n",
       "      <th>SpecialProjectsCount</th>\n",
       "      <th>EmpSatisfaction</th>\n",
       "      <th>EngagementSurvey</th>\n",
       "      <th>Absences</th>\n",
       "      <th>Termd</th>\n",
       "      <th>FromDiversityJobFairID</th>\n",
       "      <th>PerfScoreID</th>\n",
       "    </tr>\n",
       "    <tr>\n",
       "      <th>PerfScoreSatisfaction</th>\n",
       "      <th></th>\n",
       "      <th></th>\n",
       "      <th></th>\n",
       "      <th></th>\n",
       "      <th></th>\n",
       "      <th></th>\n",
       "      <th></th>\n",
       "      <th></th>\n",
       "      <th></th>\n",
       "    </tr>\n",
       "  </thead>\n",
       "  <tbody>\n",
       "    <tr>\n",
       "      <th>False</th>\n",
       "      <td>68428.608392</td>\n",
       "      <td>0.727273</td>\n",
       "      <td>0.888112</td>\n",
       "      <td>3.804196</td>\n",
       "      <td>4.043846</td>\n",
       "      <td>10.664336</td>\n",
       "      <td>0.727273</td>\n",
       "      <td>0.146853</td>\n",
       "      <td>3.013986</td>\n",
       "    </tr>\n",
       "    <tr>\n",
       "      <th>True</th>\n",
       "      <td>69524.654762</td>\n",
       "      <td>0.148810</td>\n",
       "      <td>1.500000</td>\n",
       "      <td>3.964286</td>\n",
       "      <td>4.166310</td>\n",
       "      <td>9.875000</td>\n",
       "      <td>0.000000</td>\n",
       "      <td>0.047619</td>\n",
       "      <td>2.946429</td>\n",
       "    </tr>\n",
       "  </tbody>\n",
       "</table>\n",
       "</div>"
      ],
      "text/plain": [
       "                             Salary  DaysLateLast30  SpecialProjectsCount  \\\n",
       "PerfScoreSatisfaction                                                       \n",
       "False                  68428.608392        0.727273              0.888112   \n",
       "True                   69524.654762        0.148810              1.500000   \n",
       "\n",
       "                       EmpSatisfaction  EngagementSurvey   Absences     Termd  \\\n",
       "PerfScoreSatisfaction                                                           \n",
       "False                         3.804196          4.043846  10.664336  0.727273   \n",
       "True                          3.964286          4.166310   9.875000  0.000000   \n",
       "\n",
       "                       FromDiversityJobFairID  PerfScoreID  \n",
       "PerfScoreSatisfaction                                       \n",
       "False                                0.146853     3.013986  \n",
       "True                                 0.047619     2.946429  "
      ]
     },
     "execution_count": 21,
     "metadata": {},
     "output_type": "execute_result"
    }
   ],
   "source": [
    "performanceScoreSummary = df.groupby('PerfScoreSatisfaction')\n",
    "performanceScoreSummary.mean()"
   ]
  },
  {
   "cell_type": "markdown",
   "metadata": {},
   "source": [
    "O dataset tem:\n",
    "\n",
    "- 311 observações de funcionários e 21 atributos.\n",
    "- A empresa tem uma rotatividade de 33%.\n",
    "- A satisfação média dos funcionários que deixaram a empresa é 3,8 equiparada aos que ficaram\n",
    "- o atraso fez mais diferença entre os funcionários mais engajados e que avaliaram bem a empresa"
   ]
  },
  {
   "cell_type": "markdown",
   "metadata": {},
   "source": [
    "#### Calculando a matriz de correlação."
   ]
  },
  {
   "cell_type": "code",
   "execution_count": 22,
   "metadata": {},
   "outputs": [
    {
     "data": {
      "text/html": [
       "<div>\n",
       "<style scoped>\n",
       "    .dataframe tbody tr th:only-of-type {\n",
       "        vertical-align: middle;\n",
       "    }\n",
       "\n",
       "    .dataframe tbody tr th {\n",
       "        vertical-align: top;\n",
       "    }\n",
       "\n",
       "    .dataframe thead th {\n",
       "        text-align: right;\n",
       "    }\n",
       "</style>\n",
       "<table border=\"1\" class=\"dataframe\">\n",
       "  <thead>\n",
       "    <tr style=\"text-align: right;\">\n",
       "      <th></th>\n",
       "      <th>Salary</th>\n",
       "      <th>DaysLateLast30</th>\n",
       "      <th>SpecialProjectsCount</th>\n",
       "      <th>EmpSatisfaction</th>\n",
       "      <th>EngagementSurvey</th>\n",
       "      <th>Absences</th>\n",
       "      <th>Termd</th>\n",
       "      <th>FromDiversityJobFairID</th>\n",
       "      <th>PerfScoreID</th>\n",
       "      <th>PerfScoreSatisfaction</th>\n",
       "    </tr>\n",
       "  </thead>\n",
       "  <tbody>\n",
       "    <tr>\n",
       "      <th>Salary</th>\n",
       "      <td>1.000000</td>\n",
       "      <td>-0.069443</td>\n",
       "      <td>0.508333</td>\n",
       "      <td>0.062718</td>\n",
       "      <td>0.064966</td>\n",
       "      <td>0.082382</td>\n",
       "      <td>-0.093994</td>\n",
       "      <td>0.041248</td>\n",
       "      <td>0.130903</td>\n",
       "      <td>0.021749</td>\n",
       "    </tr>\n",
       "    <tr>\n",
       "      <th>DaysLateLast30</th>\n",
       "      <td>-0.069443</td>\n",
       "      <td>1.000000</td>\n",
       "      <td>-0.092494</td>\n",
       "      <td>-0.235412</td>\n",
       "      <td>-0.585232</td>\n",
       "      <td>0.001833</td>\n",
       "      <td>0.136379</td>\n",
       "      <td>0.042532</td>\n",
       "      <td>-0.734728</td>\n",
       "      <td>-0.223064</td>\n",
       "    </tr>\n",
       "    <tr>\n",
       "      <th>SpecialProjectsCount</th>\n",
       "      <td>0.508333</td>\n",
       "      <td>-0.092494</td>\n",
       "      <td>1.000000</td>\n",
       "      <td>0.033877</td>\n",
       "      <td>0.013227</td>\n",
       "      <td>-0.020452</td>\n",
       "      <td>-0.147429</td>\n",
       "      <td>0.031393</td>\n",
       "      <td>0.045677</td>\n",
       "      <td>0.130009</td>\n",
       "    </tr>\n",
       "    <tr>\n",
       "      <th>EmpSatisfaction</th>\n",
       "      <td>0.062718</td>\n",
       "      <td>-0.235412</td>\n",
       "      <td>0.033877</td>\n",
       "      <td>1.000000</td>\n",
       "      <td>0.187105</td>\n",
       "      <td>0.075222</td>\n",
       "      <td>-0.004732</td>\n",
       "      <td>-0.034468</td>\n",
       "      <td>0.303579</td>\n",
       "      <td>0.087891</td>\n",
       "    </tr>\n",
       "    <tr>\n",
       "      <th>EngagementSurvey</th>\n",
       "      <td>0.064966</td>\n",
       "      <td>-0.585232</td>\n",
       "      <td>0.013227</td>\n",
       "      <td>0.187105</td>\n",
       "      <td>1.000000</td>\n",
       "      <td>-0.008771</td>\n",
       "      <td>-0.017543</td>\n",
       "      <td>-0.013040</td>\n",
       "      <td>0.544927</td>\n",
       "      <td>0.077388</td>\n",
       "    </tr>\n",
       "    <tr>\n",
       "      <th>Absences</th>\n",
       "      <td>0.082382</td>\n",
       "      <td>0.001833</td>\n",
       "      <td>-0.020452</td>\n",
       "      <td>0.075222</td>\n",
       "      <td>-0.008771</td>\n",
       "      <td>1.000000</td>\n",
       "      <td>0.098274</td>\n",
       "      <td>0.062640</td>\n",
       "      <td>0.046629</td>\n",
       "      <td>-0.067325</td>\n",
       "    </tr>\n",
       "    <tr>\n",
       "      <th>Termd</th>\n",
       "      <td>-0.093994</td>\n",
       "      <td>0.136379</td>\n",
       "      <td>-0.147429</td>\n",
       "      <td>-0.004732</td>\n",
       "      <td>-0.017543</td>\n",
       "      <td>0.098274</td>\n",
       "      <td>1.000000</td>\n",
       "      <td>0.147717</td>\n",
       "      <td>-0.089061</td>\n",
       "      <td>-0.768278</td>\n",
       "    </tr>\n",
       "    <tr>\n",
       "      <th>FromDiversityJobFairID</th>\n",
       "      <td>0.041248</td>\n",
       "      <td>0.042532</td>\n",
       "      <td>0.031393</td>\n",
       "      <td>-0.034468</td>\n",
       "      <td>-0.013040</td>\n",
       "      <td>0.062640</td>\n",
       "      <td>0.147717</td>\n",
       "      <td>1.000000</td>\n",
       "      <td>0.012315</td>\n",
       "      <td>-0.170083</td>\n",
       "    </tr>\n",
       "    <tr>\n",
       "      <th>PerfScoreID</th>\n",
       "      <td>0.130903</td>\n",
       "      <td>-0.734728</td>\n",
       "      <td>0.045677</td>\n",
       "      <td>0.303579</td>\n",
       "      <td>0.544927</td>\n",
       "      <td>0.046629</td>\n",
       "      <td>-0.089061</td>\n",
       "      <td>0.012315</td>\n",
       "      <td>1.000000</td>\n",
       "      <td>-0.057444</td>\n",
       "    </tr>\n",
       "    <tr>\n",
       "      <th>PerfScoreSatisfaction</th>\n",
       "      <td>0.021749</td>\n",
       "      <td>-0.223064</td>\n",
       "      <td>0.130009</td>\n",
       "      <td>0.087891</td>\n",
       "      <td>0.077388</td>\n",
       "      <td>-0.067325</td>\n",
       "      <td>-0.768278</td>\n",
       "      <td>-0.170083</td>\n",
       "      <td>-0.057444</td>\n",
       "      <td>1.000000</td>\n",
       "    </tr>\n",
       "  </tbody>\n",
       "</table>\n",
       "</div>"
      ],
      "text/plain": [
       "                          Salary  DaysLateLast30  SpecialProjectsCount  \\\n",
       "Salary                  1.000000       -0.069443              0.508333   \n",
       "DaysLateLast30         -0.069443        1.000000             -0.092494   \n",
       "SpecialProjectsCount    0.508333       -0.092494              1.000000   \n",
       "EmpSatisfaction         0.062718       -0.235412              0.033877   \n",
       "EngagementSurvey        0.064966       -0.585232              0.013227   \n",
       "Absences                0.082382        0.001833             -0.020452   \n",
       "Termd                  -0.093994        0.136379             -0.147429   \n",
       "FromDiversityJobFairID  0.041248        0.042532              0.031393   \n",
       "PerfScoreID             0.130903       -0.734728              0.045677   \n",
       "PerfScoreSatisfaction   0.021749       -0.223064              0.130009   \n",
       "\n",
       "                        EmpSatisfaction  EngagementSurvey  Absences     Termd  \\\n",
       "Salary                         0.062718          0.064966  0.082382 -0.093994   \n",
       "DaysLateLast30                -0.235412         -0.585232  0.001833  0.136379   \n",
       "SpecialProjectsCount           0.033877          0.013227 -0.020452 -0.147429   \n",
       "EmpSatisfaction                1.000000          0.187105  0.075222 -0.004732   \n",
       "EngagementSurvey               0.187105          1.000000 -0.008771 -0.017543   \n",
       "Absences                       0.075222         -0.008771  1.000000  0.098274   \n",
       "Termd                         -0.004732         -0.017543  0.098274  1.000000   \n",
       "FromDiversityJobFairID        -0.034468         -0.013040  0.062640  0.147717   \n",
       "PerfScoreID                    0.303579          0.544927  0.046629 -0.089061   \n",
       "PerfScoreSatisfaction          0.087891          0.077388 -0.067325 -0.768278   \n",
       "\n",
       "                        FromDiversityJobFairID  PerfScoreID  \\\n",
       "Salary                                0.041248     0.130903   \n",
       "DaysLateLast30                        0.042532    -0.734728   \n",
       "SpecialProjectsCount                  0.031393     0.045677   \n",
       "EmpSatisfaction                      -0.034468     0.303579   \n",
       "EngagementSurvey                     -0.013040     0.544927   \n",
       "Absences                              0.062640     0.046629   \n",
       "Termd                                 0.147717    -0.089061   \n",
       "FromDiversityJobFairID                1.000000     0.012315   \n",
       "PerfScoreID                           0.012315     1.000000   \n",
       "PerfScoreSatisfaction                -0.170083    -0.057444   \n",
       "\n",
       "                        PerfScoreSatisfaction  \n",
       "Salary                               0.021749  \n",
       "DaysLateLast30                      -0.223064  \n",
       "SpecialProjectsCount                 0.130009  \n",
       "EmpSatisfaction                      0.087891  \n",
       "EngagementSurvey                     0.077388  \n",
       "Absences                            -0.067325  \n",
       "Termd                               -0.768278  \n",
       "FromDiversityJobFairID              -0.170083  \n",
       "PerfScoreID                         -0.057444  \n",
       "PerfScoreSatisfaction                1.000000  "
      ]
     },
     "execution_count": 22,
     "metadata": {},
     "output_type": "execute_result"
    },
    {
     "data": {
      "image/png": "[encoded data removed]",
      "text/plain": [
       "<Figure size 432x288 with 2 Axes>"
      ]
     },
     "metadata": {
      "needs_background": "light"
     },
     "output_type": "display_data"
    }
   ],
   "source": [
    "corr = df.corr()\n",
    "corr = (corr)\n",
    "sns.heatmap(corr, \n",
    "            xticklabels=corr.columns.values,\n",
    "            yticklabels=corr.columns.values)\n",
    "\n",
    "corr"
   ]
  },
  {
   "cell_type": "markdown",
   "metadata": {},
   "source": [
    "###  Correlation Matrix & Heatmap\n",
    "***\n",
    "**Atributos com uma correlação moderada positiva:** \n",
    "- SpecialProjectsCount vs Salary: 0.50\n",
    "- EngagementSurvey vs PerfScoreID: 0.54\n",
    "- PerfScoreID vs EmpSatisfaction: 0.30\n",
    "\n",
    "**Atributos com uma correlação moderada negativa:**\n",
    " - DaysLateLast30 vs PerfScoreID:  -0.73\n",
    " - EngagementSurvey vs DaysLateLast30: -0.58\n",
    " - DaysLateLast30 vs PerfScoreSatisfaction: -0.22\n",
    " - PerfScoreSatisfaction vs Termd: -0.76\n",
    "\n",
    "**Questões:**\n",
    "- Quais atributos afetam nossa variável alvo (PerfScoreSatisfaction)?\n",
    "- Existem atributos com alta correlação entre eles?\n",
    "- Como podemos aprofundar para entender as correlações?\n",
    "\n",
    "**Resumo:**\n",
    "\n",
    "Existe uma **correlação positiva** entre os atributos SpecialProjectsCount e Salary.\n",
    "\n",
    "Faz sentido que funionários que estão envolvidos em mais projetos, tem maiores ganhos.\n",
    "\n",
    "A correlação de PerfScoreID vs EmpSatisfaction é menor mas represantativa para sugerir que os mais satisfeitos são bem avaliados.\n",
    "\n",
    "Outra **correlação positiva** é entre EngagementSurvey e PerfScoreID, o que indica que os funcionários mais bem avaliados na empresa são mais engajados.\n",
    "\n",
    "Existe uma **correlação negativa** entre os atributos DaysLateLast30 e PerfScoreID.\n",
    "\n",
    "Outra **correlação negativa** forte é entre EngagementSurvey e DaysLateLast30\n",
    "\n",
    "outra **correlação negativa** muito forte é PerfScoreSatisfaction vs Termd com uma relativa DaysLateLast30 vs PerfScoreSatisfaction.\n",
    "Os atrasos nos ultimos 30 dias podem ser um idicativo de insadisfação e consequente termino de contrato. Vale a pena uma intervenção nesse momento.\n",
    "\n",
    "Podemos assumir que funcionários que mais atrazaram dos ultimos 30 dias estão com o score baixo e consequentemente são fracamente engajados"
   ]
  },
  {
   "cell_type": "markdown",
   "metadata": {},
   "source": [
    "#### Calculando distribuições dos atributos."
   ]
  },
  {
   "cell_type": "code",
   "execution_count": 23,
   "metadata": {},
   "outputs": [
    {
     "data": {
      "text/html": [
       "<div>\n",
       "<style scoped>\n",
       "    .dataframe tbody tr th:only-of-type {\n",
       "        vertical-align: middle;\n",
       "    }\n",
       "\n",
       "    .dataframe tbody tr th {\n",
       "        vertical-align: top;\n",
       "    }\n",
       "\n",
       "    .dataframe thead th {\n",
       "        text-align: right;\n",
       "    }\n",
       "</style>\n",
       "<table border=\"1\" class=\"dataframe\">\n",
       "  <thead>\n",
       "    <tr style=\"text-align: right;\">\n",
       "      <th></th>\n",
       "      <th>EmpID</th>\n",
       "      <th>EmpSatisfaction</th>\n",
       "      <th>PerfScoreID</th>\n",
       "      <th>PerformanceScore</th>\n",
       "      <th>EngagementSurvey</th>\n",
       "      <th>perfScoreSatisfaction</th>\n",
       "    </tr>\n",
       "  </thead>\n",
       "  <tbody>\n",
       "    <tr>\n",
       "      <th>0</th>\n",
       "      <td>10026</td>\n",
       "      <td>5</td>\n",
       "      <td>4</td>\n",
       "      <td>Exceeds</td>\n",
       "      <td>4.60</td>\n",
       "      <td>False</td>\n",
       "    </tr>\n",
       "    <tr>\n",
       "      <th>1</th>\n",
       "      <td>10084</td>\n",
       "      <td>3</td>\n",
       "      <td>3</td>\n",
       "      <td>Fully Meets</td>\n",
       "      <td>4.96</td>\n",
       "      <td>False</td>\n",
       "    </tr>\n",
       "    <tr>\n",
       "      <th>2</th>\n",
       "      <td>10196</td>\n",
       "      <td>3</td>\n",
       "      <td>3</td>\n",
       "      <td>Fully Meets</td>\n",
       "      <td>3.02</td>\n",
       "      <td>False</td>\n",
       "    </tr>\n",
       "    <tr>\n",
       "      <th>3</th>\n",
       "      <td>10088</td>\n",
       "      <td>5</td>\n",
       "      <td>3</td>\n",
       "      <td>Fully Meets</td>\n",
       "      <td>4.84</td>\n",
       "      <td>True</td>\n",
       "    </tr>\n",
       "    <tr>\n",
       "      <th>4</th>\n",
       "      <td>10069</td>\n",
       "      <td>4</td>\n",
       "      <td>3</td>\n",
       "      <td>Fully Meets</td>\n",
       "      <td>5.00</td>\n",
       "      <td>False</td>\n",
       "    </tr>\n",
       "  </tbody>\n",
       "</table>\n",
       "</div>"
      ],
      "text/plain": [
       "   EmpID  EmpSatisfaction  PerfScoreID PerformanceScore  EngagementSurvey  \\\n",
       "0  10026                5            4          Exceeds              4.60   \n",
       "1  10084                3            3      Fully Meets              4.96   \n",
       "2  10196                3            3      Fully Meets              3.02   \n",
       "3  10088                5            3      Fully Meets              4.84   \n",
       "4  10069                4            3      Fully Meets              5.00   \n",
       "\n",
       "   perfScoreSatisfaction  \n",
       "0                  False  \n",
       "1                  False  \n",
       "2                  False  \n",
       "3                   True  \n",
       "4                  False  "
      ]
     },
     "execution_count": 23,
     "metadata": {},
     "output_type": "execute_result"
    }
   ],
   "source": [
    "client.fget_object(\n",
    "            \"processing\",\n",
    "            \"employeePerformanceEvaluation.parquet\",\n",
    "            \"temp_.parquet\",\n",
    ")\n",
    "dfemployeePerformanceEvaluation = pd.read_parquet(\"temp_.parquet\")\n",
    "dfemployeePerformanceEvaluation.head()"
   ]
  },
  {
   "cell_type": "code",
   "execution_count": 24,
   "metadata": {},
   "outputs": [
    {
     "name": "stderr",
     "output_type": "stream",
     "text": [
      "/Users/san/Documents/GitHub/Artigo_PUCRS_CD_IA/venv/lib/python3.8/site-packages/seaborn/distributions.py:2619: FutureWarning: `distplot` is a deprecated function and will be removed in a future version. Please adapt your code to use either `displot` (a figure-level function with similar flexibility) or `histplot` (an axes-level function for histograms).\n",
      "  warnings.warn(msg, FutureWarning)\n"
     ]
    },
    {
     "data": {
      "image/png": "[encoded data removed]",
      "text/plain": [
       "<Figure size 1080x360 with 3 Axes>"
      ]
     },
     "metadata": {
      "needs_background": "light"
     },
     "output_type": "display_data"
    }
   ],
   "source": [
    "f, axes = plt.subplots(ncols=3, figsize=(15, 5))\n",
    "\n",
    "sns.distplot(dfemployeePerformanceEvaluation.EmpSatisfaction, kde=False, color=\"g\", ax=axes[0]).set_title('Employee Satisfaction')\n",
    "axes[0].set_ylabel('Employee Count')\n",
    "\n",
    "sns.distplot(dfemployeePerformanceEvaluation.PerfScoreID, kde=False, color=\"r\", ax=axes[1]).set_title('Employee Performance Score')\n",
    "axes[1].set_ylabel('Employee Count')\n",
    "\n",
    "sns.distplot(dfemployeePerformanceEvaluation.EngagementSurvey, kde=False, color=\"b\", ax=axes[2]).set_title('Employee Engagement Survey')\n",
    "axes[2].set_ylabel('Employee Count')\n",
    "\n",
    "plt.show()"
   ]
  },
  {
   "cell_type": "code",
   "execution_count": 25,
   "metadata": {},
   "outputs": [
    {
     "data": {
      "text/html": [
       "<div>\n",
       "<style scoped>\n",
       "    .dataframe tbody tr th:only-of-type {\n",
       "        vertical-align: middle;\n",
       "    }\n",
       "\n",
       "    .dataframe tbody tr th {\n",
       "        vertical-align: top;\n",
       "    }\n",
       "\n",
       "    .dataframe thead th {\n",
       "        text-align: right;\n",
       "    }\n",
       "</style>\n",
       "<table border=\"1\" class=\"dataframe\">\n",
       "  <thead>\n",
       "    <tr style=\"text-align: right;\">\n",
       "      <th></th>\n",
       "      <th>EmpID</th>\n",
       "      <th>EmpSatisfaction</th>\n",
       "      <th>PerfScoreID</th>\n",
       "      <th>EngagementSurvey</th>\n",
       "    </tr>\n",
       "  </thead>\n",
       "  <tbody>\n",
       "    <tr>\n",
       "      <th>count</th>\n",
       "      <td>311.000000</td>\n",
       "      <td>311.000000</td>\n",
       "      <td>311.000000</td>\n",
       "      <td>311.000000</td>\n",
       "    </tr>\n",
       "    <tr>\n",
       "      <th>mean</th>\n",
       "      <td>10156.000000</td>\n",
       "      <td>3.890675</td>\n",
       "      <td>2.977492</td>\n",
       "      <td>4.110000</td>\n",
       "    </tr>\n",
       "    <tr>\n",
       "      <th>std</th>\n",
       "      <td>89.922189</td>\n",
       "      <td>0.909241</td>\n",
       "      <td>0.587072</td>\n",
       "      <td>0.789938</td>\n",
       "    </tr>\n",
       "    <tr>\n",
       "      <th>min</th>\n",
       "      <td>10001.000000</td>\n",
       "      <td>1.000000</td>\n",
       "      <td>1.000000</td>\n",
       "      <td>1.120000</td>\n",
       "    </tr>\n",
       "    <tr>\n",
       "      <th>25%</th>\n",
       "      <td>10078.500000</td>\n",
       "      <td>3.000000</td>\n",
       "      <td>3.000000</td>\n",
       "      <td>3.690000</td>\n",
       "    </tr>\n",
       "    <tr>\n",
       "      <th>50%</th>\n",
       "      <td>10156.000000</td>\n",
       "      <td>4.000000</td>\n",
       "      <td>3.000000</td>\n",
       "      <td>4.280000</td>\n",
       "    </tr>\n",
       "    <tr>\n",
       "      <th>75%</th>\n",
       "      <td>10233.500000</td>\n",
       "      <td>5.000000</td>\n",
       "      <td>3.000000</td>\n",
       "      <td>4.700000</td>\n",
       "    </tr>\n",
       "    <tr>\n",
       "      <th>max</th>\n",
       "      <td>10311.000000</td>\n",
       "      <td>5.000000</td>\n",
       "      <td>4.000000</td>\n",
       "      <td>5.000000</td>\n",
       "    </tr>\n",
       "  </tbody>\n",
       "</table>\n",
       "</div>"
      ],
      "text/plain": [
       "              EmpID  EmpSatisfaction  PerfScoreID  EngagementSurvey\n",
       "count    311.000000       311.000000   311.000000        311.000000\n",
       "mean   10156.000000         3.890675     2.977492          4.110000\n",
       "std       89.922189         0.909241     0.587072          0.789938\n",
       "min    10001.000000         1.000000     1.000000          1.120000\n",
       "25%    10078.500000         3.000000     3.000000          3.690000\n",
       "50%    10156.000000         4.000000     3.000000          4.280000\n",
       "75%    10233.500000         5.000000     3.000000          4.700000\n",
       "max    10311.000000         5.000000     4.000000          5.000000"
      ]
     },
     "execution_count": 25,
     "metadata": {},
     "output_type": "execute_result"
    }
   ],
   "source": [
    "dfemployeePerformanceEvaluation.describe()\n"
   ]
  },
  {
   "cell_type": "markdown",
   "metadata": {},
   "source": [
    "## Distribuições (EmpSatisfaction - PerfScoreID - EngagementSurvey)\n",
    "***\n",
    "**Summary:** Examinando a distribuição de alguns atributos do conjunto de dados:\n",
    " - **EmpSatisfaction** - Com base na Escala Likert, existe um pico de funcionários satisfeitos com a empresa. Porem, a maioria que avaliou estar muito satisfeito entre 4 a 5.\n",
    " - **PerfScoreID** - Temos uma concentração da avaliação dos funcionários em 3.0 bem proximo da média, poucos funcionários abaixo de 3.\n",
    " - **EngagementSurvey** - A concentração de funcionários é acima de 4. Sendo distribuição assimétrica à direita\n",
    " \n",
    "**Questões:** \n",
    " - Existe uma razão para um cenário otimista para a empresa e os funcionários?"
   ]
  },
  {
   "cell_type": "markdown",
   "metadata": {},
   "source": [
    "#### Relação entre PerfScoreID e Salary"
   ]
  },
  {
   "cell_type": "code",
   "execution_count": 26,
   "metadata": {},
   "outputs": [
    {
     "data": {
      "text/html": [
       "<div>\n",
       "<style scoped>\n",
       "    .dataframe tbody tr th:only-of-type {\n",
       "        vertical-align: middle;\n",
       "    }\n",
       "\n",
       "    .dataframe tbody tr th {\n",
       "        vertical-align: top;\n",
       "    }\n",
       "\n",
       "    .dataframe thead th {\n",
       "        text-align: right;\n",
       "    }\n",
       "</style>\n",
       "<table border=\"1\" class=\"dataframe\">\n",
       "  <thead>\n",
       "    <tr style=\"text-align: right;\">\n",
       "      <th></th>\n",
       "      <th>EmpID</th>\n",
       "      <th>Department</th>\n",
       "      <th>Salary</th>\n",
       "      <th>Termd</th>\n",
       "      <th>SalaryLevel</th>\n",
       "    </tr>\n",
       "  </thead>\n",
       "  <tbody>\n",
       "    <tr>\n",
       "      <th>0</th>\n",
       "      <td>10026</td>\n",
       "      <td>Production</td>\n",
       "      <td>62506</td>\n",
       "      <td>0</td>\n",
       "      <td>medium</td>\n",
       "    </tr>\n",
       "    <tr>\n",
       "      <th>1</th>\n",
       "      <td>10084</td>\n",
       "      <td>IT/IS</td>\n",
       "      <td>104437</td>\n",
       "      <td>1</td>\n",
       "      <td>high</td>\n",
       "    </tr>\n",
       "    <tr>\n",
       "      <th>2</th>\n",
       "      <td>10196</td>\n",
       "      <td>Production</td>\n",
       "      <td>64955</td>\n",
       "      <td>1</td>\n",
       "      <td>medium</td>\n",
       "    </tr>\n",
       "    <tr>\n",
       "      <th>3</th>\n",
       "      <td>10088</td>\n",
       "      <td>Production</td>\n",
       "      <td>64991</td>\n",
       "      <td>0</td>\n",
       "      <td>medium</td>\n",
       "    </tr>\n",
       "    <tr>\n",
       "      <th>4</th>\n",
       "      <td>10069</td>\n",
       "      <td>Production</td>\n",
       "      <td>50825</td>\n",
       "      <td>1</td>\n",
       "      <td>low</td>\n",
       "    </tr>\n",
       "  </tbody>\n",
       "</table>\n",
       "</div>"
      ],
      "text/plain": [
       "   EmpID         Department  Salary  Termd SalaryLevel\n",
       "0  10026  Production          62506      0      medium\n",
       "1  10084              IT/IS  104437      1        high\n",
       "2  10196  Production          64955      1      medium\n",
       "3  10088  Production          64991      0      medium\n",
       "4  10069  Production          50825      1         low"
      ]
     },
     "execution_count": 26,
     "metadata": {},
     "output_type": "execute_result"
    }
   ],
   "source": [
    "client.fget_object(\n",
    "            \"processing\",\n",
    "            \"departmentSalaryTermd.parquet\",\n",
    "            \"temp_.parquet\",\n",
    ")\n",
    "dfSalary = pd.read_parquet(\"temp_.parquet\")\n",
    "dfSalary.head()"
   ]
  },
  {
   "cell_type": "code",
   "execution_count": 27,
   "metadata": {},
   "outputs": [
    {
     "data": {
      "text/plain": [
       "SalaryLevel  PerfScoreID\n",
       "high         2                4\n",
       "             3               61\n",
       "             4               13\n",
       "low          1                4\n",
       "             2                5\n",
       "             3               61\n",
       "             4                8\n",
       "medium       1                9\n",
       "             2                9\n",
       "             3              121\n",
       "             4               16\n",
       "Name: PerfScoreID, dtype: int64"
      ]
     },
     "execution_count": 27,
     "metadata": {},
     "output_type": "execute_result"
    }
   ],
   "source": [
    "dfEmployeeSalaryPerfScore = pd.concat([dfSalary[[\"SalaryLevel\"]],dfemployeePerformanceEvaluation[[\"PerfScoreID\"]]], axis=1, join=\"inner\")\n",
    "employeeSalaryPerfScore = dfEmployeeSalaryPerfScore.groupby([\"SalaryLevel\", \"PerfScoreID\"])[\"PerfScoreID\"].count()\n",
    "employeeSalaryPerfScore"
   ]
  },
  {
   "cell_type": "code",
   "execution_count": 28,
   "metadata": {},
   "outputs": [
    {
     "data": {
      "text/plain": [
       "SalaryLevel\n",
       "high       78\n",
       "low        78\n",
       "medium    155\n",
       "Name: PerfScoreID, dtype: int64"
      ]
     },
     "execution_count": 28,
     "metadata": {},
     "output_type": "execute_result"
    }
   ],
   "source": [
    "dfEmployeeSalaryPerfScore = pd.concat([dfSalary[[\"SalaryLevel\"]],dfemployeePerformanceEvaluation[[\"PerfScoreID\"]]], axis=1, join=\"inner\")\n",
    "employeeSalaryPerfScoreResume = dfEmployeeSalaryPerfScore.groupby([\"SalaryLevel\"])[\"PerfScoreID\"].count()\n",
    "employeeSalaryPerfScoreResume"
   ]
  },
  {
   "cell_type": "code",
   "execution_count": 29,
   "metadata": {},
   "outputs": [
    {
     "data": {
      "text/plain": [
       "0.4983922829581994"
      ]
     },
     "execution_count": 29,
     "metadata": {},
     "output_type": "execute_result"
    }
   ],
   "source": [
    "mediumRatePerfScore = 155 / len(df)\n",
    "mediumRatePerfScore"
   ]
  },
  {
   "cell_type": "code",
   "execution_count": 30,
   "metadata": {},
   "outputs": [
    {
     "data": {
      "text/plain": [
       "0.2508038585209003"
      ]
     },
     "execution_count": 30,
     "metadata": {},
     "output_type": "execute_result"
    }
   ],
   "source": [
    "highRatePerfScore = 78 / len(df)\n",
    "highRatePerfScore"
   ]
  },
  {
   "cell_type": "code",
   "execution_count": 31,
   "metadata": {},
   "outputs": [
    {
     "data": {
      "text/plain": [
       "<matplotlib.legend.Legend at 0x17dd0a580>"
      ]
     },
     "execution_count": 31,
     "metadata": {},
     "output_type": "execute_result"
    },
    {
     "data": {
      "image/png": "[encoded data removed]",
      "text/plain": [
       "<Figure size 720x288 with 1 Axes>"
      ]
     },
     "metadata": {
      "needs_background": "light"
     },
     "output_type": "display_data"
    }
   ],
   "source": [
    "f, ax = plt.subplots(figsize=(10, 4))\n",
    "sns.countplot(y='SalaryLevel', hue='PerfScoreID', data=dfEmployeeSalaryPerfScore).set_title('Employee Salary PerfScore')\n",
    "plt.legend(loc = 2, bbox_to_anchor = (1,1), title = 'PerfScoreID')"
   ]
  },
  {
   "cell_type": "code",
   "execution_count": 32,
   "metadata": {},
   "outputs": [
    {
     "data": {
      "text/html": [
       "<div>\n",
       "<style scoped>\n",
       "    .dataframe tbody tr th:only-of-type {\n",
       "        vertical-align: middle;\n",
       "    }\n",
       "\n",
       "    .dataframe tbody tr th {\n",
       "        vertical-align: top;\n",
       "    }\n",
       "\n",
       "    .dataframe thead th {\n",
       "        text-align: right;\n",
       "    }\n",
       "</style>\n",
       "<table border=\"1\" class=\"dataframe\">\n",
       "  <thead>\n",
       "    <tr style=\"text-align: right;\">\n",
       "      <th></th>\n",
       "      <th>Department</th>\n",
       "      <th>Salary</th>\n",
       "      <th>DaysLateLast30</th>\n",
       "      <th>SpecialProjectsCount</th>\n",
       "      <th>EmpSatisfaction</th>\n",
       "      <th>PerformanceScore</th>\n",
       "      <th>EngagementSurvey</th>\n",
       "      <th>Absences</th>\n",
       "      <th>Termd</th>\n",
       "      <th>FromDiversityJobFairID</th>\n",
       "      <th>...</th>\n",
       "      <th>MaritalDesc</th>\n",
       "      <th>CitizenDesc</th>\n",
       "      <th>HispanicLatino</th>\n",
       "      <th>RaceDesc</th>\n",
       "      <th>TermReason</th>\n",
       "      <th>EmploymentStatus</th>\n",
       "      <th>RecruitmentSource</th>\n",
       "      <th>PerfScoreID</th>\n",
       "      <th>PerfScoreSatisfaction</th>\n",
       "      <th>SalaryLevel</th>\n",
       "    </tr>\n",
       "  </thead>\n",
       "  <tbody>\n",
       "    <tr>\n",
       "      <th>0</th>\n",
       "      <td>Production</td>\n",
       "      <td>62506</td>\n",
       "      <td>0</td>\n",
       "      <td>0</td>\n",
       "      <td>5</td>\n",
       "      <td>Exceeds</td>\n",
       "      <td>4.60</td>\n",
       "      <td>1</td>\n",
       "      <td>0</td>\n",
       "      <td>0</td>\n",
       "      <td>...</td>\n",
       "      <td>Single</td>\n",
       "      <td>US Citizen</td>\n",
       "      <td>No</td>\n",
       "      <td>White</td>\n",
       "      <td>N/A-StillEmployed</td>\n",
       "      <td>Active</td>\n",
       "      <td>LinkedIn</td>\n",
       "      <td>4</td>\n",
       "      <td>False</td>\n",
       "      <td>medium</td>\n",
       "    </tr>\n",
       "    <tr>\n",
       "      <th>1</th>\n",
       "      <td>IT/IS</td>\n",
       "      <td>104437</td>\n",
       "      <td>0</td>\n",
       "      <td>6</td>\n",
       "      <td>3</td>\n",
       "      <td>Fully Meets</td>\n",
       "      <td>4.96</td>\n",
       "      <td>17</td>\n",
       "      <td>1</td>\n",
       "      <td>0</td>\n",
       "      <td>...</td>\n",
       "      <td>Married</td>\n",
       "      <td>US Citizen</td>\n",
       "      <td>No</td>\n",
       "      <td>White</td>\n",
       "      <td>career change</td>\n",
       "      <td>Voluntarily Terminated</td>\n",
       "      <td>Indeed</td>\n",
       "      <td>3</td>\n",
       "      <td>False</td>\n",
       "      <td>high</td>\n",
       "    </tr>\n",
       "    <tr>\n",
       "      <th>2</th>\n",
       "      <td>Production</td>\n",
       "      <td>64955</td>\n",
       "      <td>0</td>\n",
       "      <td>0</td>\n",
       "      <td>3</td>\n",
       "      <td>Fully Meets</td>\n",
       "      <td>3.02</td>\n",
       "      <td>3</td>\n",
       "      <td>1</td>\n",
       "      <td>0</td>\n",
       "      <td>...</td>\n",
       "      <td>Married</td>\n",
       "      <td>US Citizen</td>\n",
       "      <td>No</td>\n",
       "      <td>White</td>\n",
       "      <td>hours</td>\n",
       "      <td>Voluntarily Terminated</td>\n",
       "      <td>LinkedIn</td>\n",
       "      <td>3</td>\n",
       "      <td>False</td>\n",
       "      <td>medium</td>\n",
       "    </tr>\n",
       "    <tr>\n",
       "      <th>3</th>\n",
       "      <td>Production</td>\n",
       "      <td>64991</td>\n",
       "      <td>0</td>\n",
       "      <td>0</td>\n",
       "      <td>5</td>\n",
       "      <td>Fully Meets</td>\n",
       "      <td>4.84</td>\n",
       "      <td>15</td>\n",
       "      <td>0</td>\n",
       "      <td>0</td>\n",
       "      <td>...</td>\n",
       "      <td>Married</td>\n",
       "      <td>US Citizen</td>\n",
       "      <td>No</td>\n",
       "      <td>White</td>\n",
       "      <td>N/A-StillEmployed</td>\n",
       "      <td>Active</td>\n",
       "      <td>Indeed</td>\n",
       "      <td>3</td>\n",
       "      <td>True</td>\n",
       "      <td>medium</td>\n",
       "    </tr>\n",
       "    <tr>\n",
       "      <th>4</th>\n",
       "      <td>Production</td>\n",
       "      <td>50825</td>\n",
       "      <td>0</td>\n",
       "      <td>0</td>\n",
       "      <td>4</td>\n",
       "      <td>Fully Meets</td>\n",
       "      <td>5.00</td>\n",
       "      <td>2</td>\n",
       "      <td>1</td>\n",
       "      <td>0</td>\n",
       "      <td>...</td>\n",
       "      <td>Divorced</td>\n",
       "      <td>US Citizen</td>\n",
       "      <td>No</td>\n",
       "      <td>White</td>\n",
       "      <td>return to school</td>\n",
       "      <td>Voluntarily Terminated</td>\n",
       "      <td>Google Search</td>\n",
       "      <td>3</td>\n",
       "      <td>False</td>\n",
       "      <td>low</td>\n",
       "    </tr>\n",
       "  </tbody>\n",
       "</table>\n",
       "<p>5 rows × 22 columns</p>\n",
       "</div>"
      ],
      "text/plain": [
       "          Department  Salary  DaysLateLast30  SpecialProjectsCount  \\\n",
       "0  Production          62506               0                     0   \n",
       "1              IT/IS  104437               0                     6   \n",
       "2  Production          64955               0                     0   \n",
       "3  Production          64991               0                     0   \n",
       "4  Production          50825               0                     0   \n",
       "\n",
       "   EmpSatisfaction PerformanceScore  EngagementSurvey  Absences  Termd  \\\n",
       "0                5          Exceeds              4.60         1      0   \n",
       "1                3      Fully Meets              4.96        17      1   \n",
       "2                3      Fully Meets              3.02         3      1   \n",
       "3                5      Fully Meets              4.84        15      0   \n",
       "4                4      Fully Meets              5.00         2      1   \n",
       "\n",
       "   FromDiversityJobFairID  ... MaritalDesc CitizenDesc HispanicLatino  \\\n",
       "0                       0  ...      Single  US Citizen             No   \n",
       "1                       0  ...     Married  US Citizen             No   \n",
       "2                       0  ...     Married  US Citizen             No   \n",
       "3                       0  ...     Married  US Citizen             No   \n",
       "4                       0  ...    Divorced  US Citizen             No   \n",
       "\n",
       "  RaceDesc         TermReason        EmploymentStatus RecruitmentSource  \\\n",
       "0    White  N/A-StillEmployed                  Active          LinkedIn   \n",
       "1    White      career change  Voluntarily Terminated            Indeed   \n",
       "2    White              hours  Voluntarily Terminated          LinkedIn   \n",
       "3    White  N/A-StillEmployed                  Active            Indeed   \n",
       "4    White   return to school  Voluntarily Terminated     Google Search   \n",
       "\n",
       "  PerfScoreID PerfScoreSatisfaction  SalaryLevel  \n",
       "0           4                 False       medium  \n",
       "1           3                 False         high  \n",
       "2           3                 False       medium  \n",
       "3           3                  True       medium  \n",
       "4           3                 False          low  \n",
       "\n",
       "[5 rows x 22 columns]"
      ]
     },
     "execution_count": 32,
     "metadata": {},
     "output_type": "execute_result"
    }
   ],
   "source": [
    "dfEngagementSurvey = pd.concat([df, dfSalary[['SalaryLevel']]], axis=1, join=\"inner\")\n",
    "dfEngagementSurvey.head()"
   ]
  },
  {
   "cell_type": "code",
   "execution_count": 33,
   "metadata": {},
   "outputs": [
    {
     "data": {
      "text/plain": [
       "SalaryLevel  PerfScoreID\n",
       "high         2                4\n",
       "             3               61\n",
       "             4               13\n",
       "low          1                4\n",
       "             2                5\n",
       "             3               61\n",
       "             4                8\n",
       "medium       1                9\n",
       "             2                9\n",
       "             3              121\n",
       "             4               16\n",
       "Name: PerfScoreID, dtype: int64"
      ]
     },
     "execution_count": 33,
     "metadata": {},
     "output_type": "execute_result"
    }
   ],
   "source": [
    "employeeSalaryPerfScore"
   ]
  },
  {
   "cell_type": "markdown",
   "metadata": {},
   "source": [
    "##  Salary V.S. PerformanceScore\n",
    "***\n",
    "**Summary:** This is not unusual. Here's what I found:\n",
    " - A maioria dos funcionários que saíram tinha salário **médio**.\n",
    " - Poucos funcionários com alto salário deixaram a empresa.\n",
    " \n",
    "**Questões:** \n",
    " - Como é o ambiente de trabalho? Isso se difere por salário?\n",
    " - O que faz 7% dos funcionários com alto salário sairem da empresa?"
   ]
  },
  {
   "cell_type": "code",
   "execution_count": 34,
   "metadata": {},
   "outputs": [
    {
     "data": {
      "text/plain": [
       "<matplotlib.legend.Legend at 0x17dda6970>"
      ]
     },
     "execution_count": 34,
     "metadata": {},
     "output_type": "execute_result"
    },
    {
     "data": {
      "image/png": "[encoded data removed]",
      "text/plain": [
       "<Figure size 720x288 with 1 Axes>"
      ]
     },
     "metadata": {
      "needs_background": "light"
     },
     "output_type": "display_data"
    }
   ],
   "source": [
    "f, ax = plt.subplots(figsize=(10, 4))\n",
    "sns.countplot(y=\"SalaryLevel\", hue='PerformanceScore', data=dfEngagementSurvey).set_title('Employee Salary PerformanceScore');\n",
    "plt.legend(loc = 2, bbox_to_anchor = (1,1), title = 'PerformanceScore')"
   ]
  },
  {
   "cell_type": "code",
   "execution_count": 35,
   "metadata": {},
   "outputs": [
    {
     "data": {
      "text/plain": [
       "SalaryLevel  PerformanceScore \n",
       "high         Exceeds               13\n",
       "             Fully Meets           61\n",
       "             Needs Improvement      4\n",
       "low          Exceeds                8\n",
       "             Fully Meets           61\n",
       "             Needs Improvement      5\n",
       "             PIP                    4\n",
       "medium       Exceeds               16\n",
       "             Fully Meets          121\n",
       "             Needs Improvement      9\n",
       "             PIP                    9\n",
       "Name: PerformanceScore, dtype: int64"
      ]
     },
     "execution_count": 35,
     "metadata": {},
     "output_type": "execute_result"
    }
   ],
   "source": [
    "salaryLevelPerformanceScore = dfEngagementSurvey.groupby([\"SalaryLevel\", \"PerformanceScore\"])[\"PerformanceScore\"].count()\n",
    "salaryLevelPerformanceScore"
   ]
  },
  {
   "cell_type": "code",
   "execution_count": 36,
   "metadata": {},
   "outputs": [
    {
     "data": {
      "text/plain": [
       "SalaryLevel\n",
       "high       78\n",
       "low        78\n",
       "medium    155\n",
       "Name: PerformanceScore, dtype: int64"
      ]
     },
     "execution_count": 36,
     "metadata": {},
     "output_type": "execute_result"
    }
   ],
   "source": [
    "salaryLevelPerformanceScoreResume = dfEngagementSurvey.groupby([\"SalaryLevel\"])[\"PerformanceScore\"].count()\n",
    "salaryLevelPerformanceScoreResume"
   ]
  },
  {
   "cell_type": "markdown",
   "metadata": {},
   "source": [
    "Obs: \n",
    "\n",
    "- o maior número de funcionários, 121 funcionários foram avaliados que atendem totalmente como engajados e tem salário mediano. \n",
    "- 61 funcionários com altos salários foram declarados que atendem totalmente como engajados\n",
    "- Os mais engajados foram 13 funcionários com salario alto, 16 com salário médio e 8 com salário baixo.\n",
    "- Importante salientar os que tinha salario baixo, 4 funcionários foram avaliados com engajameno abaixo das expectativas.\n",
    "- O nivel de salário médio é predominante na empresa, sendo 155 funcionarios, 50%\n"
   ]
  },
  {
   "cell_type": "markdown",
   "metadata": {},
   "source": [
    "#### Verificando o PerformanceScore em relação departamento."
   ]
  },
  {
   "cell_type": "code",
   "execution_count": 37,
   "metadata": {},
   "outputs": [
    {
     "data": {
      "text/plain": [
       "<matplotlib.legend.Legend at 0x17df77fa0>"
      ]
     },
     "execution_count": 37,
     "metadata": {},
     "output_type": "execute_result"
    },
    {
     "data": {
      "image/png": "[encoded data removed]",
      "text/plain": [
       "<Figure size 720x720 with 1 Axes>"
      ]
     },
     "metadata": {
      "needs_background": "light"
     },
     "output_type": "display_data"
    }
   ],
   "source": [
    "f, ax = plt.subplots(figsize=(10, 10))\n",
    "color_types = ['#78C850','#F08030','#6890F0','#A8B820','#A8A878','#A040A0','#F8D030',  \n",
    "                '#E0C068','#EE99AC','#C03028','#F85888','#B8A038','#705898','#98D8D8','#7038F8']\n",
    "plt.xticks(rotation=-45)\n",
    "\n",
    "sns.countplot(x='Department', hue='PerformanceScore', data=dfEngagementSurvey, palette=color_types).set_title('Distribuição de Departamentos')\n",
    "plt.legend(loc = 2, bbox_to_anchor = (1,1), title = 'PerformanceScore')"
   ]
  },
  {
   "cell_type": "code",
   "execution_count": 38,
   "metadata": {},
   "outputs": [
    {
     "data": {
      "text/plain": [
       "<matplotlib.legend.Legend at 0x17dff8ca0>"
      ]
     },
     "execution_count": 38,
     "metadata": {},
     "output_type": "execute_result"
    },
    {
     "data": {
      "image/png": "[encoded data removed]",
      "text/plain": [
       "<Figure size 720x360 with 1 Axes>"
      ]
     },
     "metadata": {
      "needs_background": "light"
     },
     "output_type": "display_data"
    }
   ],
   "source": [
    "f, ax = plt.subplots(figsize=(10, 5))\n",
    "sns.countplot(y=\"Department\", hue='PerformanceScore', data=df).set_title('Departamento vs PerformanceScore');\n",
    "plt.legend(loc = 2, bbox_to_anchor = (1,1), title = 'PerformanceScore')"
   ]
  },
  {
   "cell_type": "code",
   "execution_count": 39,
   "metadata": {},
   "outputs": [
    {
     "data": {
      "text/plain": [
       "<matplotlib.legend.Legend at 0x17e8c5790>"
      ]
     },
     "execution_count": 39,
     "metadata": {},
     "output_type": "execute_result"
    },
    {
     "data": {
      "image/png": "[encoded data removed]",
      "text/plain": [
       "<Figure size 360x360 with 1 Axes>"
      ]
     },
     "metadata": {
      "needs_background": "light"
     },
     "output_type": "display_data"
    }
   ],
   "source": [
    "f, ax = plt.subplots(figsize=(5, 5))\n",
    "plt.xticks(rotation=-45)\n",
    "\n",
    "sns.countplot(x='Department', hue='PerfScoreSatisfaction', data=df).set_title('Distribuição de Departamentos')\n",
    "plt.legend(loc = 2, bbox_to_anchor = (1,1), title = 'PerfScoreSatisfaction')"
   ]
  },
  {
   "cell_type": "code",
   "execution_count": 40,
   "metadata": {},
   "outputs": [
    {
     "data": {
      "text/plain": [
       "<matplotlib.legend.Legend at 0x17e91c190>"
      ]
     },
     "execution_count": 40,
     "metadata": {},
     "output_type": "execute_result"
    },
    {
     "data": {
      "image/png": "[encoded data removed]",
      "text/plain": [
       "<Figure size 720x360 with 1 Axes>"
      ]
     },
     "metadata": {
      "needs_background": "light"
     },
     "output_type": "display_data"
    }
   ],
   "source": [
    "f, ax = plt.subplots(figsize=(10, 5))\n",
    "sns.countplot(y=\"Department\", hue='PerfScoreSatisfaction', data=df).set_title('Departamento vs PerfScoreSatisfaction');\n",
    "plt.legend(loc = 2, bbox_to_anchor = (1,1), title = 'PerfScoreSatisfaction')"
   ]
  },
  {
   "cell_type": "markdown",
   "metadata": {},
   "source": [
    "## Department V.S. PerfScoreSatisfaction \n",
    "***\n",
    "**Resumo:** Vamos ver mais informações sobre os departamentos da empresa.\n",
    " - Os departamentos de Produção, Técnico/Suporte e vendas são top 3 departamentos com maior quantidade de funcionários satisfação e performance.\n",
    " - O departamento de Produção é o mais representativo, e tem a taxa menor de satisfação e performance\n",
    "\n",
    "**Questões:** \n",
    " - Será que examinar em profundidade os departamentos que tem maior taxa de satisfação e performance e o menor pode nos revelar mais informações importantes?\n",
    " - Qual o salário nestes departamentos?"
   ]
  },
  {
   "cell_type": "code",
   "execution_count": 41,
   "metadata": {},
   "outputs": [
    {
     "data": {
      "text/html": [
       "<div>\n",
       "<style scoped>\n",
       "    .dataframe tbody tr th:only-of-type {\n",
       "        vertical-align: middle;\n",
       "    }\n",
       "\n",
       "    .dataframe tbody tr th {\n",
       "        vertical-align: top;\n",
       "    }\n",
       "\n",
       "    .dataframe thead th {\n",
       "        text-align: right;\n",
       "    }\n",
       "</style>\n",
       "<table border=\"1\" class=\"dataframe\">\n",
       "  <thead>\n",
       "    <tr style=\"text-align: right;\">\n",
       "      <th></th>\n",
       "      <th>Department</th>\n",
       "      <th>PerfScoreSatisfaction</th>\n",
       "      <th>Percent</th>\n",
       "    </tr>\n",
       "  </thead>\n",
       "  <tbody>\n",
       "    <tr>\n",
       "      <th>0</th>\n",
       "      <td>Admin Offices</td>\n",
       "      <td>False</td>\n",
       "      <td>0.333333</td>\n",
       "    </tr>\n",
       "    <tr>\n",
       "      <th>1</th>\n",
       "      <td>Admin Offices</td>\n",
       "      <td>True</td>\n",
       "      <td>0.666667</td>\n",
       "    </tr>\n",
       "    <tr>\n",
       "      <th>2</th>\n",
       "      <td>Executive Office</td>\n",
       "      <td>True</td>\n",
       "      <td>1.000000</td>\n",
       "    </tr>\n",
       "    <tr>\n",
       "      <th>3</th>\n",
       "      <td>IT/IS</td>\n",
       "      <td>False</td>\n",
       "      <td>0.340000</td>\n",
       "    </tr>\n",
       "    <tr>\n",
       "      <th>4</th>\n",
       "      <td>IT/IS</td>\n",
       "      <td>True</td>\n",
       "      <td>0.660000</td>\n",
       "    </tr>\n",
       "    <tr>\n",
       "      <th>5</th>\n",
       "      <td>Production</td>\n",
       "      <td>False</td>\n",
       "      <td>0.516746</td>\n",
       "    </tr>\n",
       "    <tr>\n",
       "      <th>6</th>\n",
       "      <td>Production</td>\n",
       "      <td>True</td>\n",
       "      <td>0.483254</td>\n",
       "    </tr>\n",
       "    <tr>\n",
       "      <th>7</th>\n",
       "      <td>Sales</td>\n",
       "      <td>False</td>\n",
       "      <td>0.322581</td>\n",
       "    </tr>\n",
       "    <tr>\n",
       "      <th>8</th>\n",
       "      <td>Sales</td>\n",
       "      <td>True</td>\n",
       "      <td>0.677419</td>\n",
       "    </tr>\n",
       "    <tr>\n",
       "      <th>9</th>\n",
       "      <td>Software Engineering</td>\n",
       "      <td>False</td>\n",
       "      <td>0.454545</td>\n",
       "    </tr>\n",
       "    <tr>\n",
       "      <th>10</th>\n",
       "      <td>Software Engineering</td>\n",
       "      <td>True</td>\n",
       "      <td>0.545455</td>\n",
       "    </tr>\n",
       "  </tbody>\n",
       "</table>\n",
       "</div>"
      ],
      "text/plain": [
       "              Department  PerfScoreSatisfaction   Percent\n",
       "0          Admin Offices                  False  0.333333\n",
       "1          Admin Offices                   True  0.666667\n",
       "2       Executive Office                   True  1.000000\n",
       "3                  IT/IS                  False  0.340000\n",
       "4                  IT/IS                   True  0.660000\n",
       "5      Production                         False  0.516746\n",
       "6      Production                          True  0.483254\n",
       "7                  Sales                  False  0.322581\n",
       "8                  Sales                   True  0.677419\n",
       "9   Software Engineering                  False  0.454545\n",
       "10  Software Engineering                   True  0.545455"
      ]
     },
     "execution_count": 41,
     "metadata": {},
     "output_type": "execute_result"
    }
   ],
   "source": [
    "percentDepartmentPerfScoreSatisfaction = df.groupby(['Department', 'PerfScoreSatisfaction'])['PerfScoreSatisfaction'].count()\n",
    "percentDepartmentPerfScoreSatisfaction = percentDepartmentPerfScoreSatisfaction / percentDepartmentPerfScoreSatisfaction.groupby(level=0).sum()\n",
    "percentDepartmentPerfScoreSatisfaction\n",
    "dfPercentDepartmentPerfScoreSatisfaction = pd.DataFrame()\n",
    "for index, value in percentDepartmentPerfScoreSatisfaction.items():\n",
    "    x = pd.DataFrame([[index[0], index[1], value]], columns=list(['Department', 'PerfScoreSatisfaction', 'Percent']))\n",
    "    dfPercentDepartmentPerfScoreSatisfaction = pd.concat([dfPercentDepartmentPerfScoreSatisfaction, x], ignore_index=True)\n",
    "dfPercentDepartmentPerfScoreSatisfaction"
   ]
  },
  {
   "cell_type": "code",
   "execution_count": 42,
   "metadata": {},
   "outputs": [
    {
     "data": {
      "text/plain": [
       "<matplotlib.legend.Legend at 0x17da8b670>"
      ]
     },
     "execution_count": 42,
     "metadata": {},
     "output_type": "execute_result"
    },
    {
     "data": {
      "image/png": "[encoded data removed]",
      "text/plain": [
       "<Figure size 720x720 with 1 Axes>"
      ]
     },
     "metadata": {
      "needs_background": "light"
     },
     "output_type": "display_data"
    }
   ],
   "source": [
    "f, ax = plt.subplots(figsize=(10, 10))\n",
    "plt.xticks(rotation=-45)\n",
    "\n",
    "sns.barplot(x = 'Department', y = 'Percent', hue = 'PerfScoreSatisfaction', data = dfPercentDepartmentPerfScoreSatisfaction).set_title('Distribuição de Departamentos por percentual de avaliação e satisfação')\n",
    "plt.legend(loc = 2, bbox_to_anchor = (1,1), title = 'PerfScoreSatisfaction')"
   ]
  },
  {
   "cell_type": "markdown",
   "metadata": {},
   "source": [
    "## Department V.S. porcentagem de avaliação e satisfação \n",
    "***\n",
    "**Resumo:** Vamos ver mais informações sobre os departamentos da empresa.\n",
    " - O departamento de Prodição é o mais representativos, mas tem o menor indice dos mais satisfeitos e performance.\n",
    " - Os departamentos de Vendas, IT/IS e Administrativo são muito parecidos nas avaliações\n",
    " "
   ]
  },
  {
   "cell_type": "code",
   "execution_count": null,
   "metadata": {},
   "outputs": [],
   "source": []
  },
  {
   "cell_type": "code",
   "execution_count": null,
   "metadata": {},
   "outputs": [],
   "source": []
  },
  {
   "cell_type": "markdown",
   "metadata": {},
   "source": [
    "#### Verificando o PerformanceScore em relação ao número de projetos."
   ]
  },
  {
   "cell_type": "code",
   "execution_count": 43,
   "metadata": {},
   "outputs": [
    {
     "data": {
      "text/plain": [
       "[]"
      ]
     },
     "execution_count": 43,
     "metadata": {},
     "output_type": "execute_result"
    },
    {
     "data": {
      "image/png": "[encoded data removed]",
      "text/plain": [
       "<Figure size 576x288 with 1 Axes>"
      ]
     },
     "metadata": {
      "needs_background": "light"
     },
     "output_type": "display_data"
    }
   ],
   "source": [
    "fig = plt.figure(figsize=(8,4),)\n",
    "ax = sns.barplot(x=\"SpecialProjectsCount\", y=\"SpecialProjectsCount\", hue=\"PerfScoreSatisfaction\", data=df, estimator=lambda x: len(x) / len(df) * 100)\n",
    "ax.set(ylabel=\"Percent\")\n",
    "plt.title('PerformanceScore vs número de projetos especiais')\n",
    "plt.legend(loc = 2, bbox_to_anchor = (1,1), title = 'PerfScoreSatisfaction')\n",
    "plt.plot()"
   ]
  },
  {
   "cell_type": "code",
   "execution_count": 44,
   "metadata": {},
   "outputs": [
    {
     "data": {
      "text/plain": [
       "0.77491961414791"
      ]
     },
     "execution_count": 44,
     "metadata": {},
     "output_type": "execute_result"
    }
   ],
   "source": [
    "countNoProjects = df[df.SpecialProjectsCount == 0].shape[0]\n",
    "rateProjects = countNoProjects / len(df)\n",
    "rateProjects"
   ]
  },
  {
   "cell_type": "code",
   "execution_count": 45,
   "metadata": {},
   "outputs": [
    {
     "data": {
      "text/plain": [
       "SpecialProjectsCount  PerfScoreSatisfaction\n",
       "0                     False                    118\n",
       "                      True                     123\n",
       "1                     False                      1\n",
       "2                     True                       1\n",
       "3                     False                      1\n",
       "                      True                       2\n",
       "4                     False                      5\n",
       "                      True                       4\n",
       "5                     False                      9\n",
       "                      True                      12\n",
       "6                     False                      5\n",
       "                      True                      16\n",
       "7                     False                      4\n",
       "                      True                       8\n",
       "8                     True                       2\n",
       "Name: PerfScoreSatisfaction, dtype: int64"
      ]
     },
     "execution_count": 45,
     "metadata": {},
     "output_type": "execute_result"
    }
   ],
   "source": [
    "employeeProjects = df.groupby([\"SpecialProjectsCount\", \"PerfScoreSatisfaction\"])[\"PerfScoreSatisfaction\"].count()\n",
    "employeeProjects"
   ]
  },
  {
   "cell_type": "markdown",
   "metadata": {},
   "source": [
    "##  PerformanceScore V.S. ProjectCount \n",
    "***\n",
    "**Resumo:** Insights interessantes que encontramos aqui:\n",
    " - 70% dos funcionários não participam de projetos especiais.\n",
    " - Dos que participam de projetos, 16 funcionários participam de 6 projetos especiais.\n",
    " - Existe uma pequena **tendência de crescimento no índice de satisfação e performace** em relação à quantidade de projetos. \n",
    " \n",
    "**Questões:**\n",
    " - Porque os funcionários ficam mais satisfeitos em relação a quantidade de projetos especiais?\n",
    " - Será que faz sentido pensar que funcionários envolvidos poucos projetos especiais estão desmotivados e por isso avaliam ruim a empresa?\n",
    " - Será que empregados envolvidos em mais projetos se sintam mais motivados?"
   ]
  },
  {
   "cell_type": "markdown",
   "metadata": {},
   "source": [
    "#### Verificando o EngagementSurvey em relação a PerformanceScore."
   ]
  },
  {
   "cell_type": "code",
   "execution_count": 46,
   "metadata": {},
   "outputs": [
    {
     "data": {
      "text/plain": [
       "PerformanceScore\n",
       "Exceeds               37\n",
       "Fully Meets          243\n",
       "Needs Improvement     18\n",
       "PIP                   13\n",
       "Name: PerformanceScore, dtype: int64"
      ]
     },
     "execution_count": 46,
     "metadata": {},
     "output_type": "execute_result"
    }
   ],
   "source": [
    "df.groupby([\"PerformanceScore\"])[\"PerformanceScore\"].count()"
   ]
  },
  {
   "cell_type": "code",
   "execution_count": 47,
   "metadata": {},
   "outputs": [
    {
     "data": {
      "text/plain": [
       "[]"
      ]
     },
     "execution_count": 47,
     "metadata": {},
     "output_type": "execute_result"
    },
    {
     "data": {
      "image/png": "[encoded data removed]",
      "text/plain": [
       "<Figure size 1152x648 with 1 Axes>"
      ]
     },
     "metadata": {
      "needs_background": "light"
     },
     "output_type": "display_data"
    }
   ],
   "source": [
    "fig = plt.figure(figsize=(16,9))\n",
    "ax=sns.kdeplot(df.loc[(df['PerformanceScore'] == 'Exceeds'),'EngagementSurvey'] , color='b',shade=True,label='Exceeds')\n",
    "ax=sns.kdeplot(df.loc[(df['PerformanceScore'] == 'Fully Meets'),'EngagementSurvey'] , color='r',shade=True, label='Fully Meets')\n",
    "ax=sns.kdeplot(df.loc[(df['PerformanceScore'] == 'Needs Improvement'),'EngagementSurvey'] , color='y',shade=True,label='Needs Improvement')\n",
    "ax=sns.kdeplot(df.loc[(df['PerformanceScore'] == 'PIP'),'EngagementSurvey'] , color='g',shade=True, label='PIP')\n",
    "ax.set(xlabel='Nota de desempenho do funcionário', ylabel='Frequency')\n",
    "plt.title('Distribuição da Nota de desempenho do funcionário por PerformanceScore')\n",
    "plt.legend(title = \"PerformanceScore\")\n",
    "plt.plot()"
   ]
  },
  {
   "cell_type": "markdown",
   "metadata": {},
   "source": [
    "## Performace V.S. Engajamento \n",
    "***\n",
    "**Resumo:** \n",
    " - temos uma distribuição dos peformace score baixa para os que são pouco engajados e alta para os que são engajados.\n",
    " - Funcionários com **baixa performance** tendem a ser menos engajados.\n",
    " - Funcionários com **alta performance** tendem a ser mais engajados.\n",
    " - O **ponto ideal** para os funcionários que foram mais engajados está dentro da performace acima de 4."
   ]
  },
  {
   "cell_type": "code",
   "execution_count": 48,
   "metadata": {},
   "outputs": [
    {
     "data": {
      "text/plain": [
       "PerfScoreSatisfaction  Termd\n",
       "False                  0         39\n",
       "                       1        104\n",
       "True                   0        168\n",
       "Name: Termd, dtype: int64"
      ]
     },
     "execution_count": 48,
     "metadata": {},
     "output_type": "execute_result"
    }
   ],
   "source": [
    "df.groupby([\"PerfScoreSatisfaction\", \"Termd\"])[\"Termd\"].count()"
   ]
  },
  {
   "cell_type": "code",
   "execution_count": 49,
   "metadata": {},
   "outputs": [
    {
     "data": {
      "text/plain": [
       "[]"
      ]
     },
     "execution_count": 49,
     "metadata": {},
     "output_type": "execute_result"
    },
    {
     "data": {
      "image/png": "[encoded data removed]",
      "text/plain": [
       "<Figure size 1152x648 with 1 Axes>"
      ]
     },
     "metadata": {
      "needs_background": "light"
     },
     "output_type": "display_data"
    }
   ],
   "source": [
    "fig = plt.figure(figsize=(16,9))\n",
    "ax=sns.kdeplot(df.loc[(df['PerfScoreSatisfaction'] == True),'EmpSatisfaction'] , color='b',shade=True,label='True')\n",
    "ax=sns.kdeplot(df.loc[(df['PerfScoreSatisfaction'] == False),'EmpSatisfaction'] , color='r',shade=True, label='False')\n",
    "ax.set(xlabel='Nota de desempenho e satisfação do funcionário', ylabel='Frequency')\n",
    "plt.title('Distribuição de satisfação do funcionário por EmpSatisfaction')\n",
    "plt.legend(title = \"PerfScoreSatisfaction\")\n",
    "plt.plot() "
   ]
  },
  {
   "cell_type": "markdown",
   "metadata": {},
   "source": [
    "## PerfScoreSatisfaction V.S. EmpSatisfaction \n",
    "***\n",
    "**Resumo:** \n",
    " - Temos uma distribuição multimodal para o conjunto dos que possuem boa peformace e são engajados vs os de baixa performace e baixo engajamento.\n",
    " - Poucos estão abaixo do PerfScoreSatisfaction 3 e as distribuições são similares.\n",
    " - Há uma alta do PerfScoreSatisfaction em 3 e 5, sendo é igual para os dois grupos quando 4."
   ]
  },
  {
   "cell_type": "markdown",
   "metadata": {},
   "source": [
    "#### Verificando o PerformanceScore em relação a EmpSatisfaction do empregado."
   ]
  },
  {
   "cell_type": "code",
   "execution_count": 51,
   "metadata": {},
   "outputs": [
    {
     "data": {
      "text/plain": [
       "EmpSatisfaction\n",
       "1      2\n",
       "2      9\n",
       "3    108\n",
       "4     94\n",
       "5     98\n",
       "Name: EmpSatisfaction, dtype: int64"
      ]
     },
     "execution_count": 51,
     "metadata": {},
     "output_type": "execute_result"
    }
   ],
   "source": [
    "df.groupby([\"EmpSatisfaction\"])[\"EmpSatisfaction\"].count()"
   ]
  },
  {
   "cell_type": "code",
   "execution_count": 52,
   "metadata": {},
   "outputs": [
    {
     "data": {
      "text/plain": [
       "[]"
      ]
     },
     "execution_count": 52,
     "metadata": {},
     "output_type": "execute_result"
    },
    {
     "data": {
      "image/png": "[encoded data removed]",
      "text/plain": [
       "<Figure size 1152x648 with 1 Axes>"
      ]
     },
     "metadata": {
      "needs_background": "light"
     },
     "output_type": "display_data"
    }
   ],
   "source": [
    "fig = plt.figure(figsize=(16,9))\n",
    "ax=sns.kdeplot(df.loc[(df['PerformanceScore'] == 'Exceeds'),'EmpSatisfaction'] , color='b',shade=True, label='Exceeds')\n",
    "ax=sns.kdeplot(df.loc[(df['PerformanceScore'] == 'Fully Meets'),'EmpSatisfaction'] , color='r',shade=True, label='Fully Meets')\n",
    "ax=sns.kdeplot(df.loc[(df['PerformanceScore'] == 'Needs Improvement'),'EmpSatisfaction'] , color='y',shade=True, label='Needs Improvement')\n",
    "ax=sns.kdeplot(df.loc[(df['PerformanceScore'] == 'PIP'),'EmpSatisfaction'] , color='g',shade=True, label='PIP')\n",
    "plt.title('Distribuição da Satisfação de funcionário por PerformanceScore')\n",
    "plt.legend(title = \"PerformanceScore\")\n",
    "plt.plot()"
   ]
  },
  {
   "cell_type": "markdown",
   "metadata": {},
   "source": [
    "##  PerformanceScore V.S. EmpSatisfaction \n",
    "***\n",
    "**Resumo:** \n",
    " - Funcionários com o nível de satisfação em 2 ou menos tendem a ter menos peformace.\n",
    " -  - Funcionários com o nível de satisfação acima de 3 tendem a ter mais peformace.\n",
    " com o nível de satisfação em 3 tem maior probabilidade de peformace."
   ]
  },
  {
   "cell_type": "markdown",
   "metadata": {},
   "source": [
    "#### Verificando a relação entre número de projetos especiais e a nota de avaliação do funcionário."
   ]
  },
  {
   "cell_type": "code",
   "execution_count": 67,
   "metadata": {},
   "outputs": [
    {
     "data": {
      "text/plain": [
       "PerformanceScore   SpecialProjectsCount\n",
       "Exceeds            0                        29\n",
       "                   3                         1\n",
       "                   5                         5\n",
       "                   6                         1\n",
       "                   7                         1\n",
       "Fully Meets        0                       185\n",
       "                   2                         1\n",
       "                   3                         2\n",
       "                   4                         8\n",
       "                   5                        16\n",
       "                   6                        18\n",
       "                   7                        11\n",
       "                   8                         2\n",
       "Needs Improvement  0                        16\n",
       "                   4                         1\n",
       "                   6                         1\n",
       "PIP                0                        11\n",
       "                   1                         1\n",
       "                   6                         1\n",
       "Name: EmpSatisfaction, dtype: int64"
      ]
     },
     "execution_count": 67,
     "metadata": {},
     "output_type": "execute_result"
    }
   ],
   "source": [
    "df.groupby([\"PerformanceScore\", \"SpecialProjectsCount\"])[\"EmpSatisfaction\"].count()"
   ]
  },
  {
   "cell_type": "code",
   "execution_count": 65,
   "metadata": {},
   "outputs": [
    {
     "data": {
      "image/png": "[encoded data removed]",
      "text/plain": [
       "<Figure size 864x576 with 1 Axes>"
      ]
     },
     "metadata": {
      "needs_background": "light"
     },
     "output_type": "display_data"
    }
   ],
   "source": [
    "fig = plt.figure(figsize=(12, 8))\n",
    "sns.boxplot(x=\"SpecialProjectsCount\", y=\"PerformanceScore\", hue=\"EmpSatisfaction\", data=df)\n",
    "plt.title(\"Número de projetos e Nota de Avaliação\")\n",
    "plt.legend(loc = 2, bbox_to_anchor = (1,1), title = 'EmpSatisfaction')\n",
    "plt.show()"
   ]
  },
  {
   "cell_type": "markdown",
   "metadata": {},
   "source": [
    "##  SpecialProjectsCount VS PerformanceScore\n",
    "***\n",
    "**Resumo:** \n",
    "- Há um **aumento na satisfação** para os funcionários que realizaram mais projetos especiais dentro do grupo de quem foi avaliado como Exceeds. \n",
    "- Para o grupo de funcionários com satisfação mediana, tiveram uma **pontuação de peformace semelhante**, apesar do aumento da quantidade de projetos especiais.\n",
    "- funcionários que tinham **dois projetos e uma péssima avaliação** saíram.\n",
    "- funcionários com **menos de 3 projetos e avaliações baixas** não se consideravam insatisfeitos.\n",
    "- nao tem uma tendencia forte\n",
    "- tem outliers com peformace Fully meets com muitos projetos e satisfação media\n",
    "- um valor pequeno de projetos para os de peformace Needs Improvement, porem com satisfação alta\n",
    "- Os de peformace PIP com satisfacao média\n",
    "\n",
    "**Questões:**\n",
    "  - Por que os funcionários com peformace baixa estavam satisfeitos?\n",
    "  - Da totalidade de funcionários, poucos os que participaram de projetos especiais, qual seria o motivo?"
   ]
  },
  {
   "cell_type": "markdown",
   "metadata": {},
   "source": [
    "#### Verificando a relação entre a satisfação do empregado e a sua avaliação."
   ]
  },
  {
   "cell_type": "code",
   "execution_count": 72,
   "metadata": {},
   "outputs": [
    {
     "name": "stderr",
     "output_type": "stream",
     "text": [
      "/Users/san/Documents/GitHub/Artigo_PUCRS_CD_IA/venv/lib/python3.8/site-packages/seaborn/regression.py:581: UserWarning: The `size` parameter has been renamed to `height`; please update your code.\n",
      "  warnings.warn(msg, UserWarning)\n"
     ]
    },
    {
     "data": {
      "text/plain": [
       "<matplotlib.legend.Legend at 0x288aa3e80>"
      ]
     },
     "execution_count": 72,
     "metadata": {},
     "output_type": "execute_result"
    },
    {
     "data": {
      "image/png": "[encoded data removed]",
      "text/plain": [
       "<Figure size 720x720 with 1 Axes>"
      ]
     },
     "metadata": {
      "needs_background": "light"
     },
     "output_type": "display_data"
    }
   ],
   "source": [
    "sns.lmplot(x = 'EmpSatisfaction', \n",
    "           y = 'EngagementSurvey', \n",
    "           data = df,\n",
    "           hue='PerfScoreSatisfaction',\n",
    "           legend=False,size=10)\n",
    "plt.legend(loc = 2, bbox_to_anchor = (1,1), title = 'PerfScoreSatisfaction')"
   ]
  },
  {
   "cell_type": "markdown",
   "metadata": {},
   "source": [
    "##  Satisfaction VS Engajamento\n",
    "*** \n",
    "**Resumo:**: Temos aqui 2 grupos sutis de funcionários.\n",
    " \n",
    "**Cluster 1 (funcionários com performace e satisfação baixa):** A satisfação abaixo de 3 e o engajamento inferior a 4 tendem a não satisfazer os requisitos de PerfScoreSatisfaction. O contrario tambem acontece nesse grupo, tem funcionários engajados e satisfeitos que não se encaixaram em PerfScoreSatisfaction.\n",
    "\n",
    "Questões: \n",
    " - Qual poderia ser o motivo de se sentir bem e ser altamente engajado e ter baixa peformace? \n",
    " - Será que está trabalhando muito e está sobrecarregado? \n",
    " \n",
    "**Cluster 2 (funcionários bons e satisfeitos):** Satisfação acima de 3 e as suas avaliações acima de 3. \n",
    "\n",
    "Questões:\n",
    "- Isso pode ser visto como funcionários que foram bem avaliados e se sentiram bem no trabalho.\n",
    "- Podemos chamar esse grupo de alto desempenho?\n",
    "- O que poderia significar que os funcionários neste grupo eram \"ideais\". \n",
    "- Eles gostam muito do seu trabalho e são altamente avaliados por seu desempenho.\n"
   ]
  },
  {
   "cell_type": "markdown",
   "metadata": {},
   "source": [
    "#### Computando os clusters"
   ]
  },
  {
   "cell_type": "markdown",
   "metadata": {},
   "source": [
    "#### Importando a biblioteca Scikit-learn"
   ]
  },
  {
   "cell_type": "code",
   "execution_count": 73,
   "metadata": {},
   "outputs": [],
   "source": [
    "from sklearn.cluster import KMeans"
   ]
  },
  {
   "cell_type": "markdown",
   "metadata": {},
   "source": [
    "#### Inicializando os clusters."
   ]
  },
  {
   "cell_type": "code",
   "execution_count": 88,
   "metadata": {},
   "outputs": [],
   "source": [
    "kmeans = KMeans(n_clusters=2,random_state=2)"
   ]
  },
  {
   "cell_type": "markdown",
   "metadata": {},
   "source": [
    "#### Definindo o conjunto de dados."
   ]
  },
  {
   "cell_type": "markdown",
   "metadata": {},
   "source": [
    "vamos gerar um conjunto de dados apenas com o grupo de funcionarios com PerfScoreSatisfaction = True"
   ]
  },
  {
   "cell_type": "code",
   "execution_count": 110,
   "metadata": {},
   "outputs": [],
   "source": [
    "dfPerfScoreSatisfaction = df[df.PerfScoreSatisfaction == True][[\"EmpSatisfaction\",\"EngagementSurvey\"]]"
   ]
  },
  {
   "cell_type": "markdown",
   "metadata": {},
   "source": [
    "#### Computando os clusters."
   ]
  },
  {
   "cell_type": "code",
   "execution_count": 111,
   "metadata": {},
   "outputs": [
    {
     "data": {
      "text/html": [
       "<style>#sk-container-id-5 {color: black;background-color: white;}#sk-container-id-5 pre{padding: 0;}#sk-container-id-5 div.sk-toggleable {background-color: white;}#sk-container-id-5 label.sk-toggleable__label {cursor: pointer;display: block;width: 100%;margin-bottom: 0;padding: 0.3em;box-sizing: border-box;text-align: center;}#sk-container-id-5 label.sk-toggleable__label-arrow:before {content: \"▸\";float: left;margin-right: 0.25em;color: #696969;}#sk-container-id-5 label.sk-toggleable__label-arrow:hover:before {color: black;}#sk-container-id-5 div.sk-estimator:hover label.sk-toggleable__label-arrow:before {color: black;}#sk-container-id-5 div.sk-toggleable__content {max-height: 0;max-width: 0;overflow: hidden;text-align: left;background-color: #f0f8ff;}#sk-container-id-5 div.sk-toggleable__content pre {margin: 0.2em;color: black;border-radius: 0.25em;background-color: #f0f8ff;}#sk-container-id-5 input.sk-toggleable__control:checked~div.sk-toggleable__content {max-height: 200px;max-width: 100%;overflow: auto;}#sk-container-id-5 input.sk-toggleable__control:checked~label.sk-toggleable__label-arrow:before {content: \"▾\";}#sk-container-id-5 div.sk-estimator input.sk-toggleable__control:checked~label.sk-toggleable__label {background-color: #d4ebff;}#sk-container-id-5 div.sk-label input.sk-toggleable__control:checked~label.sk-toggleable__label {background-color: #d4ebff;}#sk-container-id-5 input.sk-hidden--visually {border: 0;clip: rect(1px 1px 1px 1px);clip: rect(1px, 1px, 1px, 1px);height: 1px;margin: -1px;overflow: hidden;padding: 0;position: absolute;width: 1px;}#sk-container-id-5 div.sk-estimator {font-family: monospace;background-color: #f0f8ff;border: 1px dotted black;border-radius: 0.25em;box-sizing: border-box;margin-bottom: 0.5em;}#sk-container-id-5 div.sk-estimator:hover {background-color: #d4ebff;}#sk-container-id-5 div.sk-parallel-item::after {content: \"\";width: 100%;border-bottom: 1px solid gray;flex-grow: 1;}#sk-container-id-5 div.sk-label:hover label.sk-toggleable__label {background-color: #d4ebff;}#sk-container-id-5 div.sk-serial::before {content: \"\";position: absolute;border-left: 1px solid gray;box-sizing: border-box;top: 0;bottom: 0;left: 50%;z-index: 0;}#sk-container-id-5 div.sk-serial {display: flex;flex-direction: column;align-items: center;background-color: white;padding-right: 0.2em;padding-left: 0.2em;position: relative;}#sk-container-id-5 div.sk-item {position: relative;z-index: 1;}#sk-container-id-5 div.sk-parallel {display: flex;align-items: stretch;justify-content: center;background-color: white;position: relative;}#sk-container-id-5 div.sk-item::before, #sk-container-id-5 div.sk-parallel-item::before {content: \"\";position: absolute;border-left: 1px solid gray;box-sizing: border-box;top: 0;bottom: 0;left: 50%;z-index: -1;}#sk-container-id-5 div.sk-parallel-item {display: flex;flex-direction: column;z-index: 1;position: relative;background-color: white;}#sk-container-id-5 div.sk-parallel-item:first-child::after {align-self: flex-end;width: 50%;}#sk-container-id-5 div.sk-parallel-item:last-child::after {align-self: flex-start;width: 50%;}#sk-container-id-5 div.sk-parallel-item:only-child::after {width: 0;}#sk-container-id-5 div.sk-dashed-wrapped {border: 1px dashed gray;margin: 0 0.4em 0.5em 0.4em;box-sizing: border-box;padding-bottom: 0.4em;background-color: white;}#sk-container-id-5 div.sk-label label {font-family: monospace;font-weight: bold;display: inline-block;line-height: 1.2em;}#sk-container-id-5 div.sk-label-container {text-align: center;}#sk-container-id-5 div.sk-container {/* jupyter's `normalize.less` sets `[hidden] { display: none; }` but bootstrap.min.css set `[hidden] { display: none !important; }` so we also need the `!important` here to be able to override the default hidden behavior on the sphinx rendered scikit-learn.org. See: https://github.com/scikit-learn/scikit-learn/issues/21755 */display: inline-block !important;position: relative;}#sk-container-id-5 div.sk-text-repr-fallback {display: none;}</style><div id=\"sk-container-id-5\" class=\"sk-top-container\"><div class=\"sk-text-repr-fallback\"><pre>KMeans(n_clusters=2, random_state=2)</pre><b>In a Jupyter environment, please rerun this cell to show the HTML representation or trust the notebook. <br />On GitHub, the HTML representation is unable to render, please try loading this page with nbviewer.org.</b></div><div class=\"sk-container\" hidden><div class=\"sk-item\"><div class=\"sk-estimator sk-toggleable\"><input class=\"sk-toggleable__control sk-hidden--visually\" id=\"sk-estimator-id-5\" type=\"checkbox\" checked><label for=\"sk-estimator-id-5\" class=\"sk-toggleable__label sk-toggleable__label-arrow\">KMeans</label><div class=\"sk-toggleable__content\"><pre>KMeans(n_clusters=2, random_state=2)</pre></div></div></div></div></div>"
      ],
      "text/plain": [
       "KMeans(n_clusters=2, random_state=2)"
      ]
     },
     "execution_count": 111,
     "metadata": {},
     "output_type": "execute_result"
    }
   ],
   "source": [
    "kmeans.fit(dfPerfScoreSatisfaction)"
   ]
  },
  {
   "cell_type": "code",
   "execution_count": 112,
   "metadata": {},
   "outputs": [],
   "source": [
    "kmeans_colors = ['red' if c == 0 else 'blue' for c in kmeans.labels_]"
   ]
  },
  {
   "cell_type": "code",
   "execution_count": 113,
   "metadata": {},
   "outputs": [
    {
     "data": {
      "image/png": "[encoded data removed]",
      "text/plain": [
       "<Figure size 720x432 with 1 Axes>"
      ]
     },
     "metadata": {
      "needs_background": "light"
     },
     "output_type": "display_data"
    }
   ],
   "source": [
    "fig = plt.figure(figsize=(10, 6))\n",
    "plt.scatter( x=\"EmpSatisfaction\"\n",
    "            ,y=\"EngagementSurvey\"\n",
    "            ,data=dfPerfScoreSatisfaction,\n",
    "            alpha=0.25,color = kmeans_colors)\n",
    "\n",
    "plt.xlabel(\"Satisfaction\")\n",
    "plt.ylabel(\"Engajamento\")\n",
    "\n",
    "plt.scatter( x=kmeans.cluster_centers_[:,0]\n",
    "            ,y=kmeans.cluster_centers_[:,1]\n",
    "            ,color=\"black\"\n",
    "            ,marker=\"X\",s=100)\n",
    "\n",
    "plt.title(\"Grupos de Funcionários - Satisfação vs Engajamento.\")\n",
    "plt.show()\n"
   ]
  },
  {
   "cell_type": "markdown",
   "metadata": {},
   "source": [
    "## K-Means Grupos\n",
    "***\n",
    "**Cluster 0 (Azul):** Funcionários engajados e muito satisfeitos.\n",
    "\n",
    "**Cluster 1 (Vermelho):** Funcionários que atendem as demandas e rasoavelmente insatisfeitos. "
   ]
  },
  {
   "cell_type": "markdown",
   "metadata": {},
   "source": [
    "#### Verificando a relação entre o tempo de empresa e o PerfScoreSatisfaction."
   ]
  },
  {
   "cell_type": "code",
   "execution_count": 114,
   "metadata": {},
   "outputs": [
    {
     "data": {
      "text/html": [
       "<div>\n",
       "<style scoped>\n",
       "    .dataframe tbody tr th:only-of-type {\n",
       "        vertical-align: middle;\n",
       "    }\n",
       "\n",
       "    .dataframe tbody tr th {\n",
       "        vertical-align: top;\n",
       "    }\n",
       "\n",
       "    .dataframe thead th {\n",
       "        text-align: right;\n",
       "    }\n",
       "</style>\n",
       "<table border=\"1\" class=\"dataframe\">\n",
       "  <thead>\n",
       "    <tr style=\"text-align: right;\">\n",
       "      <th></th>\n",
       "      <th>DateofHire</th>\n",
       "      <th>Termd</th>\n",
       "      <th>DateofTermination</th>\n",
       "      <th>TimeInCompany</th>\n",
       "    </tr>\n",
       "  </thead>\n",
       "  <tbody>\n",
       "    <tr>\n",
       "      <th>0</th>\n",
       "      <td>7/5/2011</td>\n",
       "      <td>0</td>\n",
       "      <td>None</td>\n",
       "      <td>8</td>\n",
       "    </tr>\n",
       "    <tr>\n",
       "      <th>1</th>\n",
       "      <td>3/30/2015</td>\n",
       "      <td>1</td>\n",
       "      <td>6/16/2016</td>\n",
       "      <td>2</td>\n",
       "    </tr>\n",
       "    <tr>\n",
       "      <th>2</th>\n",
       "      <td>7/5/2011</td>\n",
       "      <td>1</td>\n",
       "      <td>9/24/2012</td>\n",
       "      <td>2</td>\n",
       "    </tr>\n",
       "    <tr>\n",
       "      <th>3</th>\n",
       "      <td>1/7/2008</td>\n",
       "      <td>0</td>\n",
       "      <td>None</td>\n",
       "      <td>11</td>\n",
       "    </tr>\n",
       "    <tr>\n",
       "      <th>4</th>\n",
       "      <td>7/11/2011</td>\n",
       "      <td>1</td>\n",
       "      <td>9/6/2016</td>\n",
       "      <td>6</td>\n",
       "    </tr>\n",
       "  </tbody>\n",
       "</table>\n",
       "</div>"
      ],
      "text/plain": [
       "  DateofHire  Termd DateofTermination  TimeInCompany\n",
       "0   7/5/2011      0              None              8\n",
       "1  3/30/2015      1         6/16/2016              2\n",
       "2   7/5/2011      1         9/24/2012              2\n",
       "3   1/7/2008      0              None             11\n",
       "4  7/11/2011      1          9/6/2016              6"
      ]
     },
     "execution_count": 114,
     "metadata": {},
     "output_type": "execute_result"
    }
   ],
   "source": [
    "client.fget_object(\n",
    "            \"processing\",\n",
    "            \"timeInCompany.parquet\",\n",
    "            \"temp_.parquet\",\n",
    ")\n",
    "dftimeInCompany = pd.read_parquet(\"temp_.parquet\")\n",
    "dftimeInCompany.head()"
   ]
  },
  {
   "cell_type": "code",
   "execution_count": 117,
   "metadata": {},
   "outputs": [
    {
     "data": {
      "text/html": [
       "<div>\n",
       "<style scoped>\n",
       "    .dataframe tbody tr th:only-of-type {\n",
       "        vertical-align: middle;\n",
       "    }\n",
       "\n",
       "    .dataframe tbody tr th {\n",
       "        vertical-align: top;\n",
       "    }\n",
       "\n",
       "    .dataframe thead th {\n",
       "        text-align: right;\n",
       "    }\n",
       "</style>\n",
       "<table border=\"1\" class=\"dataframe\">\n",
       "  <thead>\n",
       "    <tr style=\"text-align: right;\">\n",
       "      <th></th>\n",
       "      <th>DateofHire</th>\n",
       "      <th>Termd</th>\n",
       "      <th>DateofTermination</th>\n",
       "      <th>TimeInCompany</th>\n",
       "      <th>PerformanceScore</th>\n",
       "      <th>PerfScoreSatisfaction</th>\n",
       "    </tr>\n",
       "  </thead>\n",
       "  <tbody>\n",
       "    <tr>\n",
       "      <th>0</th>\n",
       "      <td>7/5/2011</td>\n",
       "      <td>0</td>\n",
       "      <td>None</td>\n",
       "      <td>8</td>\n",
       "      <td>Exceeds</td>\n",
       "      <td>False</td>\n",
       "    </tr>\n",
       "    <tr>\n",
       "      <th>1</th>\n",
       "      <td>3/30/2015</td>\n",
       "      <td>1</td>\n",
       "      <td>6/16/2016</td>\n",
       "      <td>2</td>\n",
       "      <td>Fully Meets</td>\n",
       "      <td>False</td>\n",
       "    </tr>\n",
       "    <tr>\n",
       "      <th>2</th>\n",
       "      <td>7/5/2011</td>\n",
       "      <td>1</td>\n",
       "      <td>9/24/2012</td>\n",
       "      <td>2</td>\n",
       "      <td>Fully Meets</td>\n",
       "      <td>False</td>\n",
       "    </tr>\n",
       "    <tr>\n",
       "      <th>3</th>\n",
       "      <td>1/7/2008</td>\n",
       "      <td>0</td>\n",
       "      <td>None</td>\n",
       "      <td>11</td>\n",
       "      <td>Fully Meets</td>\n",
       "      <td>True</td>\n",
       "    </tr>\n",
       "    <tr>\n",
       "      <th>4</th>\n",
       "      <td>7/11/2011</td>\n",
       "      <td>1</td>\n",
       "      <td>9/6/2016</td>\n",
       "      <td>6</td>\n",
       "      <td>Fully Meets</td>\n",
       "      <td>False</td>\n",
       "    </tr>\n",
       "  </tbody>\n",
       "</table>\n",
       "</div>"
      ],
      "text/plain": [
       "  DateofHire  Termd DateofTermination  TimeInCompany PerformanceScore  \\\n",
       "0   7/5/2011      0              None              8          Exceeds   \n",
       "1  3/30/2015      1         6/16/2016              2      Fully Meets   \n",
       "2   7/5/2011      1         9/24/2012              2      Fully Meets   \n",
       "3   1/7/2008      0              None             11      Fully Meets   \n",
       "4  7/11/2011      1          9/6/2016              6      Fully Meets   \n",
       "\n",
       "   PerfScoreSatisfaction  \n",
       "0                  False  \n",
       "1                  False  \n",
       "2                  False  \n",
       "3                   True  \n",
       "4                  False  "
      ]
     },
     "execution_count": 117,
     "metadata": {},
     "output_type": "execute_result"
    }
   ],
   "source": [
    "dftimeInCompany['PerfScoreSatisfaction'] = df[['PerfScoreSatisfaction']]\n",
    "dftimeInCompany.head()"
   ]
  },
  {
   "cell_type": "code",
   "execution_count": 118,
   "metadata": {},
   "outputs": [
    {
     "data": {
      "image/png": "[encoded data removed]",
      "text/plain": [
       "<Figure size 720x432 with 1 Axes>"
      ]
     },
     "metadata": {
      "needs_background": "light"
     },
     "output_type": "display_data"
    }
   ],
   "source": [
    "fig = plt.figure(figsize=(10, 6))\n",
    "ax = sns.barplot(x=\"TimeInCompany\", y=\"TimeInCompany\", hue=\"PerfScoreSatisfaction\", data=dftimeInCompany, estimator=lambda x: len(x) / len(dftimeInCompany) * 100)\n",
    "ax.set(ylabel=\"Percent\")\n",
    "plt.title(\"PerfScoreSatisfaction V.S. YearsAtCompany\")\n",
    "plt.show()"
   ]
  },
  {
   "cell_type": "markdown",
   "metadata": {},
   "source": [
    "##  PerfScoreSatisfaction V.S. YearsAtCompany \n",
    "***\n",
    "**Resumo:** Vamos ver mais alguns pontos para entender o porque os funcionários serem satisfeitos e engajados.\n",
    " - funcionários com **5-8 anos de empresa** são mais engajados e satisfeitos.\n",
    " - nos 3 primeiros anos a maioria não consegue ter um grau de satisfação e engajamento satisfatório, após 4 anos o quadro inverte e aparecem como maioria os mais enganjados e satisfeitos chegando ao topo com 5 anos e a diferença se mantem até 7 anos, quando começa a se igualar entre os dois grupos.\n",
    " - funcionários abaixo de **4 anos e acima de 9 anos de empresa** devem ser analisados.\n",
    " \n",
    "**Questões:**\n",
    "  - Por que os funcionários não estão em um nivel bom de satisfação e engajamento no tempo de empresa de 1-4 e de 8-13 anos de empresa?\n",
    "  - Quem são esses funcionários que não conseguem satisfação e engajamento?"
   ]
  },
  {
   "cell_type": "markdown",
   "metadata": {},
   "source": [
    "### Carrega os artefatos para o Data Lake."
   ]
  },
  {
   "cell_type": "code",
   "execution_count": 119,
   "metadata": {},
   "outputs": [],
   "source": [
    "import joblib"
   ]
  },
  {
   "cell_type": "markdown",
   "metadata": {},
   "source": [
    "#### Persistindo o objeto cluster para o disco."
   ]
  },
  {
   "cell_type": "code",
   "execution_count": 120,
   "metadata": {},
   "outputs": [
    {
     "data": {
      "text/plain": [
       "['cluster.joblib']"
      ]
     },
     "execution_count": 120,
     "metadata": {},
     "output_type": "execute_result"
    }
   ],
   "source": [
    "joblib.dump(kmeans, \"cluster.joblib\")"
   ]
  },
  {
   "cell_type": "markdown",
   "metadata": {},
   "source": [
    "#### Transferindo o arquivo para o Data Lake."
   ]
  },
  {
   "cell_type": "code",
   "execution_count": 121,
   "metadata": {},
   "outputs": [
    {
     "data": {
      "text/plain": [
       "<minio.helpers.ObjectWriteResult at 0x28f7a8be0>"
      ]
     },
     "execution_count": 121,
     "metadata": {},
     "output_type": "execute_result"
    }
   ],
   "source": [
    "client.fput_object(\n",
    "    \"curated\",\n",
    "    \"cluster.joblib\",\n",
    "    \"cluster.joblib\"\n",
    ")"
   ]
  },
  {
   "cell_type": "markdown",
   "metadata": {},
   "source": [
    "# Sweetviz"
   ]
  },
  {
   "cell_type": "code",
   "execution_count": 122,
   "metadata": {},
   "outputs": [
    {
     "data": {
      "application/vnd.jupyter.widget-view+json": {
       "model_id": "f849f2c874cc4905812146695ae78339",
       "version_major": 2,
       "version_minor": 0
      },
      "text/plain": [
       "                                             |          | [  0%]   00:00 -> (? left)"
      ]
     },
     "metadata": {},
     "output_type": "display_data"
    },
    {
     "name": "stdout",
     "output_type": "stream",
     "text": [
      "Report SWEETVIZ_REPORT.html was generated! NOTEBOOK/COLAB USERS: the web browser MAY not pop up, regardless, the report IS saved in your notebook/colab files.\n"
     ]
    }
   ],
   "source": [
    "import sweetviz as sv\n",
    "\n",
    "my_report = sv.analyze(df,\"PerfScoreSatisfaction\")\n",
    "my_report.show_html()"
   ]
  }
 ],
 "metadata": {
  "kernelspec": {
   "display_name": "Python 3.10.5 ('venv': venv)",
   "language": "python",
   "name": "python3"
  },
  "language_info": {
   "codemirror_mode": {
    "name": "ipython",
    "version": 3
   },
   "file_extension": ".py",
   "mimetype": "text/x-python",
   "name": "python",
   "nbconvert_exporter": "python",
   "pygments_lexer": "ipython3",
   "version": "3.8.9"
  },
  "orig_nbformat": 4,
  "vscode": {
   "interpreter": {
    "hash": "213dc7abf8916a38e7369365bff7d668a1af186af7030f9ee7c4ea583ab64441"
   }
  }
 },
 "nbformat": 4,
 "nbformat_minor": 2
}
